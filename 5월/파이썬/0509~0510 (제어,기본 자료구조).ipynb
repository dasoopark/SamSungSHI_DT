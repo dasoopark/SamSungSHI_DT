{
 "cells": [
  {
   "cell_type": "code",
   "execution_count": 13,
   "id": "6ddca267",
   "metadata": {},
   "outputs": [
    {
     "name": "stdout",
     "output_type": "stream",
     "text": [
      "1시 4분 10초\n"
     ]
    }
   ],
   "source": [
    "sec = 3850\n",
    "분 = sec % (60*60) // 60\n",
    "초 = sec %  60\n",
    "시 = sec // (60*60)\n",
    "print( f'{시}시 {분}분 {초}초')"
   ]
  },
  {
   "cell_type": "code",
   "execution_count": 44,
   "id": "08a5934a",
   "metadata": {},
   "outputs": [
    {
     "data": {
      "text/plain": [
       "datetime.timedelta(days=27, seconds=52004, microseconds=717211)"
      ]
     },
     "execution_count": 44,
     "metadata": {},
     "output_type": "execute_result"
    }
   ],
   "source": [
    "# 현재 시각 알아내기 - 도구 datetime\n",
    "import datetime\n",
    "현재시각 = datetime.datetime.now()\n",
    "현충일 = datetime.datetime(2023,6,6)\n",
    "현충일 - 현재시각"
   ]
  },
  {
   "cell_type": "code",
   "execution_count": 47,
   "id": "c50735f4",
   "metadata": {},
   "outputs": [],
   "source": [
    "b = True\n"
   ]
  },
  {
   "cell_type": "code",
   "execution_count": 59,
   "id": "30d4d6aa",
   "metadata": {},
   "outputs": [
    {
     "data": {
      "text/plain": [
       "(5, 5)"
      ]
     },
     "execution_count": 59,
     "metadata": {},
     "output_type": "execute_result"
    }
   ],
   "source": [
    "list2 = [1, 2, 3, 4, 5]\n",
    "list2[-1], list2[5-1]\n"
   ]
  },
  {
   "cell_type": "code",
   "execution_count": 61,
   "id": "80a5f88f",
   "metadata": {},
   "outputs": [
    {
     "data": {
      "text/plain": [
       "5"
      ]
     },
     "execution_count": 61,
     "metadata": {},
     "output_type": "execute_result"
    }
   ],
   "source": [
    "len(list2)"
   ]
  },
  {
   "cell_type": "code",
   "execution_count": 69,
   "id": "92f40f83",
   "metadata": {},
   "outputs": [],
   "source": [
    "list2 = [1,2,3]\n",
    "list2 = list2 + ['a','b']\n"
   ]
  },
  {
   "cell_type": "code",
   "execution_count": 71,
   "id": "a41dd8ef",
   "metadata": {},
   "outputs": [
    {
     "name": "stdout",
     "output_type": "stream",
     "text": [
      "[1, 2, 3, 'a', 'b']\n"
     ]
    }
   ],
   "source": [
    "print(list2)"
   ]
  },
  {
   "cell_type": "code",
   "execution_count": 87,
   "id": "8dbb9d9f",
   "metadata": {},
   "outputs": [
    {
     "data": {
      "text/plain": [
       "'Hello Python'"
      ]
     },
     "execution_count": 87,
     "metadata": {},
     "output_type": "execute_result"
    }
   ],
   "source": [
    "# text -> List\n",
    "list(text)\n",
    "#List -> Text\n",
    "str(items) #xxx\n",
    "''.join(items)"
   ]
  },
  {
   "cell_type": "code",
   "execution_count": 88,
   "id": "a34ee189",
   "metadata": {},
   "outputs": [
    {
     "data": {
      "text/plain": [
       "('n', 'n', 'P', 'P')"
      ]
     },
     "execution_count": 88,
     "metadata": {},
     "output_type": "execute_result"
    }
   ],
   "source": [
    "items = ['H', 'e', 'l', 'l', 'o', ' ', 'P', 'y', 't', 'h', 'o', 'n']\n",
    "text = 'Hello Python'\n",
    "items[-1], text[-1],items[6], text[6]"
   ]
  },
  {
   "cell_type": "code",
   "execution_count": 92,
   "id": "7f125142",
   "metadata": {},
   "outputs": [
    {
     "data": {
      "text/plain": [
       "3"
      ]
     },
     "execution_count": 92,
     "metadata": {},
     "output_type": "execute_result"
    }
   ],
   "source": [
    "items = ['a', 'b', 'c', [1,2,3],'가','나','다']\n",
    "items[3][2]"
   ]
  },
  {
   "cell_type": "code",
   "execution_count": 95,
   "id": "321c1306",
   "metadata": {},
   "outputs": [
    {
     "name": "stdout",
     "output_type": "stream",
     "text": [
      "[1, 2, ['Life', 'is', 'too', 'short']]\n",
      "2\n",
      "['Life', 'is', 'too', 'short']\n",
      "too\n"
     ]
    }
   ],
   "source": [
    "items = ['a', [1, 2, ['Life', 'is', 'too', 'short']], '가']\n",
    "print(items[1])\n",
    "print(items[1][1])\n",
    "print(items[1][2])\n",
    "print(items[1][2][2])"
   ]
  },
  {
   "cell_type": "code",
   "execution_count": 99,
   "id": "339285ae",
   "metadata": {},
   "outputs": [
    {
     "name": "stdout",
     "output_type": "stream",
     "text": [
      "25\n"
     ]
    }
   ],
   "source": [
    "num = [2,1,5,1,7,9]\n",
    "total = 0\n",
    "for i in num:\n",
    "    total += i\n",
    "print(total)"
   ]
  },
  {
   "cell_type": "code",
   "execution_count": 107,
   "id": "9b557c5b",
   "metadata": {},
   "outputs": [
    {
     "name": "stdout",
     "output_type": "stream",
     "text": [
      "5\n",
      "[4, 4, 4, 3, 3, 2, 1, 1]\n"
     ]
    }
   ],
   "source": [
    "items = [1, 1, 2, 3, 3, 4, 4, 4]\n",
    "print(items.index(4))\n",
    "items.reverse()\n",
    "print(items)"
   ]
  },
  {
   "cell_type": "code",
   "execution_count": 111,
   "id": "fd5ca95b",
   "metadata": {},
   "outputs": [
    {
     "name": "stdout",
     "output_type": "stream",
     "text": [
      "[3, 4, 2, 5, 1]\n",
      "[1, 2, 3, 4, 5]\n",
      "[5, 4, 3, 2, 1]\n"
     ]
    }
   ],
   "source": [
    "items = [3,4,2,5,1]\n",
    "print(items)\n",
    "items.sort()\n",
    "print(items)\n",
    "items.reverse()\n",
    "print(items)"
   ]
  },
  {
   "cell_type": "code",
   "execution_count": 123,
   "id": "5ca2ac4c",
   "metadata": {},
   "outputs": [
    {
     "name": "stdout",
     "output_type": "stream",
     "text": [
      "['1', '2', '3', '4', '5']\n"
     ]
    }
   ],
   "source": [
    "items = ['3','4','2','5','1']\n",
    "items.sort()\n",
    "print(items)"
   ]
  },
  {
   "cell_type": "code",
   "execution_count": 124,
   "id": "27128738",
   "metadata": {},
   "outputs": [
    {
     "name": "stdout",
     "output_type": "stream",
     "text": [
      "49\n",
      "50\n",
      "65\n",
      "44032\n"
     ]
    }
   ],
   "source": [
    "# ord()  입력된 문자의 아스키코드 확인\n",
    "print(ord('1'))\n",
    "print(ord('2'))\n",
    "print(ord('A'))\n",
    "print(ord('가'))"
   ]
  },
  {
   "cell_type": "code",
   "execution_count": 127,
   "id": "3c3feb74",
   "metadata": {
    "scrolled": false
   },
   "outputs": [
    {
     "data": {
      "text/plain": [
       "(str,\n",
       " ['__add__',\n",
       "  '__class__',\n",
       "  '__contains__',\n",
       "  '__delattr__',\n",
       "  '__dir__',\n",
       "  '__doc__',\n",
       "  '__eq__',\n",
       "  '__format__',\n",
       "  '__ge__',\n",
       "  '__getattribute__',\n",
       "  '__getitem__',\n",
       "  '__getnewargs__',\n",
       "  '__gt__',\n",
       "  '__hash__',\n",
       "  '__init__',\n",
       "  '__init_subclass__',\n",
       "  '__iter__',\n",
       "  '__le__',\n",
       "  '__len__',\n",
       "  '__lt__',\n",
       "  '__mod__',\n",
       "  '__mul__',\n",
       "  '__ne__',\n",
       "  '__new__',\n",
       "  '__reduce__',\n",
       "  '__reduce_ex__',\n",
       "  '__repr__',\n",
       "  '__rmod__',\n",
       "  '__rmul__',\n",
       "  '__setattr__',\n",
       "  '__sizeof__',\n",
       "  '__str__',\n",
       "  '__subclasshook__',\n",
       "  'capitalize',\n",
       "  'casefold',\n",
       "  'center',\n",
       "  'count',\n",
       "  'encode',\n",
       "  'endswith',\n",
       "  'expandtabs',\n",
       "  'find',\n",
       "  'format',\n",
       "  'format_map',\n",
       "  'index',\n",
       "  'isalnum',\n",
       "  'isalpha',\n",
       "  'isascii',\n",
       "  'isdecimal',\n",
       "  'isdigit',\n",
       "  'isidentifier',\n",
       "  'islower',\n",
       "  'isnumeric',\n",
       "  'isprintable',\n",
       "  'isspace',\n",
       "  'istitle',\n",
       "  'isupper',\n",
       "  'join',\n",
       "  'ljust',\n",
       "  'lower',\n",
       "  'lstrip',\n",
       "  'maketrans',\n",
       "  'partition',\n",
       "  'removeprefix',\n",
       "  'removesuffix',\n",
       "  'replace',\n",
       "  'rfind',\n",
       "  'rindex',\n",
       "  'rjust',\n",
       "  'rpartition',\n",
       "  'rsplit',\n",
       "  'rstrip',\n",
       "  'split',\n",
       "  'splitlines',\n",
       "  'startswith',\n",
       "  'strip',\n",
       "  'swapcase',\n",
       "  'title',\n",
       "  'translate',\n",
       "  'upper',\n",
       "  'zfill'])"
      ]
     },
     "execution_count": 127,
     "metadata": {},
     "output_type": "execute_result"
    }
   ],
   "source": [
    "s = ''\n",
    "type(s), dir(s)"
   ]
  },
  {
   "cell_type": "code",
   "execution_count": 130,
   "id": "2c57b7e5",
   "metadata": {},
   "outputs": [
    {
     "data": {
      "text/plain": [
       "['__add__',\n",
       " '__class__',\n",
       " '__class_getitem__',\n",
       " '__contains__',\n",
       " '__delattr__',\n",
       " '__delitem__',\n",
       " '__dir__',\n",
       " '__doc__',\n",
       " '__eq__',\n",
       " '__format__',\n",
       " '__ge__',\n",
       " '__getattribute__',\n",
       " '__getitem__',\n",
       " '__gt__',\n",
       " '__hash__',\n",
       " '__iadd__',\n",
       " '__imul__',\n",
       " '__init__',\n",
       " '__init_subclass__',\n",
       " '__iter__',\n",
       " '__le__',\n",
       " '__len__',\n",
       " '__lt__',\n",
       " '__mul__',\n",
       " '__ne__',\n",
       " '__new__',\n",
       " '__reduce__',\n",
       " '__reduce_ex__',\n",
       " '__repr__',\n",
       " '__reversed__',\n",
       " '__rmul__',\n",
       " '__setattr__',\n",
       " '__setitem__',\n",
       " '__sizeof__',\n",
       " '__str__',\n",
       " '__subclasshook__',\n",
       " 'append',\n",
       " 'clear',\n",
       " 'copy',\n",
       " 'count',\n",
       " 'extend',\n",
       " 'index',\n",
       " 'insert',\n",
       " 'pop',\n",
       " 'remove',\n",
       " 'reverse',\n",
       " 'sort']"
      ]
     },
     "execution_count": 130,
     "metadata": {},
     "output_type": "execute_result"
    }
   ],
   "source": [
    "dir(items)"
   ]
  },
  {
   "cell_type": "code",
   "execution_count": 135,
   "id": "cc0f56c0",
   "metadata": {},
   "outputs": [
    {
     "name": "stdout",
     "output_type": "stream",
     "text": [
      "[ggoreb]신림동/둔산동\n"
     ]
    }
   ],
   "source": [
    "person = [\n",
    "'ggoreb',\n",
    "20,\n",
    "['서울', '관악구', '신림동'],\n",
    "['대전', '서구', '둔산동']\n",
    "]\n",
    "a = person[0]\n",
    "b = person[2][2]\n",
    "c = person[3][2]\n",
    "\n",
    "print(f'[{a}]{b}/{c}')"
   ]
  },
  {
   "cell_type": "code",
   "execution_count": 142,
   "id": "e8613f7e",
   "metadata": {},
   "outputs": [
    {
     "name": "stdout",
     "output_type": "stream",
     "text": [
      "['h', 'n', 'o', 'p', 't', 'y']\n",
      "['y', 't', 'p', 'o', 'n', 'h']\n"
     ]
    }
   ],
   "source": [
    "ch_list = ['p', 'y', 't', 'h', 'o', 'n']\n",
    "ch_list.sort()\n",
    "print(ch_list)\n",
    "ch_list.reverse()\n",
    "print(ch_list)"
   ]
  },
  {
   "cell_type": "code",
   "execution_count": 143,
   "id": "eb4a44ea",
   "metadata": {},
   "outputs": [
    {
     "data": {
      "text/plain": [
       "[[[[['a', 'b'], ['b', 'c']], [['c', 'd'], ['d', 'e']]],\n",
       "  [[['e', 'f'], ['f', 'g']], [['g', 'h'], ['h', 'i']]]],\n",
       " [[[['i', 'j'], ['j', 'k']], [['k', 'l'], ['l', 'm']]],\n",
       "  [[['m', 'n'], ['n', 'o']], [['o', 'p'], ['p', 'q']]]]]"
      ]
     },
     "execution_count": 143,
     "metadata": {},
     "output_type": "execute_result"
    }
   ],
   "source": [
    "[[[[[\"a\", \"b\"], [\"b\", \"c\"]], [[\"c\", \"d\"], [\"d\", \"e\"]]],\n",
    "[[[\"e\", \"f\"], [\"f\", \"g\"]], [[\"g\", \"h\"], [\"h\", \"i\"]]]],\n",
    "[[[[\"i\", \"j\"], [\"j\", \"k\"]], [[\"k\", \"l\"], [\"l\", \"m\"]]],\n",
    "[[[\"m\", \"n\"], [\"n\", \"o\"]], [[\"o\", \"p\"], [\"p\", \"q\"]]]]]"
   ]
  },
  {
   "cell_type": "code",
   "execution_count": 150,
   "id": "e3d51817",
   "metadata": {},
   "outputs": [],
   "source": [
    "data = [\n",
    "[\n",
    "[\n",
    "[\n",
    "[\n",
    "\"a\",\n",
    "\"b\"\n",
    "],\n",
    "[\n",
    "\"b\",\n",
    "\"c\"\n",
    "]\n",
    "],\n",
    "[\n",
    "[\n",
    "\"c\",\n",
    "\"d\"\n",
    "],\n",
    "[\n",
    "\"d\",\n",
    "\"e\"\n",
    "]\n",
    "]\n",
    "],\n",
    "[\n",
    "[\n",
    "[\n",
    "\"e\",\n",
    "\"f\"\n",
    "],\n",
    "[\n",
    "\"f\",\n",
    "\"g\"\n",
    "]\n",
    "],\n",
    "[\n",
    "[\n",
    "\"g\",\n",
    "\"h\"\n",
    "],\n",
    "[\n",
    "\"h\",\n",
    "\"i\"\n",
    "]\n",
    "]\n",
    "]\n",
    "],\n",
    "[\n",
    "[\n",
    "[\n",
    "[\n",
    "\"i\",\n",
    "\"j\"\n",
    "],\n",
    "[\n",
    "\"j\",\n",
    "\"k\"\n",
    "]\n",
    "],\n",
    "[\n",
    "[\n",
    "\"k\",\n",
    "\"l\"\n",
    "],\n",
    "[\n",
    "\"l\",\n",
    "\"m\"\n",
    "]\n",
    "]\n",
    "],\n",
    "[\n",
    "[\n",
    "[\n",
    "\"m\",\n",
    "\"n\"\n",
    "],\n",
    "[\n",
    "\"n\",\n",
    "\"o\"\n",
    "]\n",
    "],\n",
    "[\n",
    "[\n",
    "\"o\",\n",
    "\"p\"\n",
    "],\n",
    "[\n",
    "\"p\",\n",
    "\"q\"\n",
    "]\n",
    "]\n",
    "]\n",
    "]\n",
    "]\n"
   ]
  },
  {
   "cell_type": "code",
   "execution_count": 164,
   "id": "0cb1429e",
   "metadata": {},
   "outputs": [
    {
     "name": "stdout",
     "output_type": "stream",
     "text": [
      "[[['i', 'j'], ['j', 'k']], [['k', 'l'], ['l', 'm']]]\n",
      "[['i', 'j'], ['j', 'k']]\n",
      "['i', 'j']\n",
      "i j\n"
     ]
    }
   ],
   "source": [
    "e1 = data[1]\n",
    "e2 = e1[0]\n",
    "print(e2)\n",
    "e3 = e2[0]\n",
    "print(e3)\n",
    "e4 = e3[0]\n",
    "print(e4)\n",
    "i = e4[0]\n",
    "j = e4[1]\n",
    "print(i,j)"
   ]
  },
  {
   "cell_type": "code",
   "execution_count": 167,
   "id": "5c5eff75",
   "metadata": {},
   "outputs": [
    {
     "name": "stdout",
     "output_type": "stream",
     "text": [
      "{'a': 1, 'b': 2, 'c': 3, 'd': '추가'}\n",
      "{'a': 1, 'b': 2, 'c': 3, 'd': '추가', 'e': ('가', '나')}\n",
      "{'a': 1, 'b': 2, 'c': 3, 'd': '추가', 'e': ('가', '나'), 3: 4}\n",
      "{'a': 1, 'b': 2, 'c': 3, 'd': '추가', 'e': ('가', '나'), 3: 4, (4,): 5}\n",
      "{'a': 1, 'b': 2, 'c': 3, 'd': '추가', 'e': ('가', '나'), 3: 4, (4,): 5, True: 6}\n"
     ]
    }
   ],
   "source": [
    "dic = { 'a' : 1, 'b' : 2, 'c' : 3 }\n",
    "dic['d'] = '추가'\n",
    "print(dic)\n",
    "dic['e'] = ('가', '나')\n",
    "print(dic)\n",
    "dic[3] = 4 # 숫자 key\n",
    "print(dic)\n",
    "dic[(4, )] = 5 # Tuple key\n",
    "print(dic)\n",
    "dic[True] = 6 # Bool key\n",
    "print(dic)"
   ]
  },
  {
   "cell_type": "code",
   "execution_count": null,
   "id": "454593f6",
   "metadata": {},
   "outputs": [],
   "source": [
    "dic = { 'a' : 1, 'b' : 2, 'c' : 3 }\n",
    "dic['a'] = '100'\n",
    "print(dic)\n",
    "dic['b'] = dic['b']*2\n",
    "print(dic)\n",
    "\n",
    "dic.clear()\n",
    "print(dic)"
   ]
  },
  {
   "cell_type": "code",
   "execution_count": 175,
   "id": "704dc034",
   "metadata": {},
   "outputs": [
    {
     "name": "stdout",
     "output_type": "stream",
     "text": [
      "{'a': '100', 'b': 2, 'c': 3}\n",
      "{'a': '100', 'b': 4, 'c': 3}\n",
      "{}\n"
     ]
    }
   ],
   "source": [
    "dic = { 'a' : 1, 'b' : 2, 'c' : 3 }\n",
    "dic['a'] = '100'\n",
    "print(dic)\n",
    "dic['b'] = dic['b']*2\n",
    "print(dic)\n",
    "\n",
    "dic.clear()\n",
    "print(dic)"
   ]
  },
  {
   "cell_type": "code",
   "execution_count": 182,
   "id": "426ffd17",
   "metadata": {},
   "outputs": [
    {
     "name": "stdout",
     "output_type": "stream",
     "text": [
      "dict_keys(['a', 'b', 'c', 'd', 'e'])\n",
      "a 1\n",
      "b 2\n",
      "c 3\n",
      "d 4\n",
      "e 5\n",
      "dict_values([1, 2, 3, 4, 5])\n",
      "1\n",
      "2\n",
      "3\n",
      "4\n",
      "5\n"
     ]
    }
   ],
   "source": [
    "dic = { 'a': 1, 'b': 2, 'c': 3, 'd': 4, 'e': 5 }\n",
    "print( dic.keys())\n",
    "\n",
    "keys = list(dic.keys())\n",
    "for key in keys :\n",
    "    print(key, dic[key])\n",
    "\n",
    "print(dic.values())\n",
    "items = list(dic.values())\n",
    "for value in items:\n",
    "    print(value)"
   ]
  },
  {
   "cell_type": "code",
   "execution_count": 196,
   "id": "7adea5c7",
   "metadata": {},
   "outputs": [
    {
     "name": "stdout",
     "output_type": "stream",
     "text": [
      "True\n"
     ]
    }
   ],
   "source": [
    "print('a' in dic)"
   ]
  },
  {
   "cell_type": "code",
   "execution_count": 204,
   "id": "9b581e1e",
   "metadata": {},
   "outputs": [
    {
     "name": "stdout",
     "output_type": "stream",
     "text": [
      "051\n",
      "False\n",
      "['서울', '대전', '부산', '광주', '제주']\n",
      "['02', '042', '051', '062', '064']\n"
     ]
    }
   ],
   "source": [
    "number = {\n",
    "'서울': '02', '대전': '042', '부산': '051',\n",
    "'광주': '062', '제주': '064'\n",
    "}\n",
    "부산 = number.get('부산')\n",
    "print(부산)\n",
    "print('천안'in number)\n",
    "keys = list(number.keys())\n",
    "print(keys)\n",
    "values = list(number.values())\n",
    "print(values)"
   ]
  },
  {
   "cell_type": "code",
   "execution_count": 216,
   "id": "c80d96ca",
   "metadata": {},
   "outputs": [],
   "source": [
    "year = {\n",
    "    0: '시끄러운 또는 말 많은',\n",
    "    1: '푸른',\n",
    "    2: '어두운 -> 적색',\n",
    "    3: '조용한',\n",
    "    4: '웅크린',\n",
    "    5: '백색',\n",
    "    6: '지혜로운',\n",
    "    7: '용감한',\n",
    "    8: '날카로운',\n",
    "    9: '욕심많은'\n",
    "}\n",
    "\n",
    "month = {\n",
    "    1: '늑대', 2: '태양', 3: '양', 4: '매', \n",
    "    5: '황소', 6: '불꽃', 7: '나무', 8: '달빛', \n",
    "    9: '말', 10: '돼지', 11: '하늘', 12: '바람'\n",
    "}\n",
    "\n",
    "day = {\n",
    "    1: '와(과) 함께 춤을',\n",
    "    2: '의 기상',\n",
    "    3: '은(는) 그림자속에',\n",
    "    4: '',\n",
    "    5: '',\n",
    "    6: '',\n",
    "    7: '의 환생',\n",
    "    8: '의 죽음',\n",
    "    9: '의 아래에서',\n",
    "    10: '을(를) 보라',\n",
    "    11: '이(가) 노래하다',\n",
    "    12: '의 그늘 -> 그림자',\n",
    "    13: '의 일격',\n",
    "    14: '에게 쫓기는 남자',\n",
    "    15: '의 행진',\n",
    "    16: '의 왕',\n",
    "    17: '의 유령',\n",
    "    18: '을 죽인자',\n",
    "    19: '은(는) 맨날 잠 잔다',\n",
    "    20: '처럼',\n",
    "    21: '의 고향',\n",
    "    22: '의 전사',\n",
    "    23: '은(는) 나의 친구',\n",
    "    24: '의 노래',\n",
    "    25: '의 정령',\n",
    "    26: '의 파수꾼',\n",
    "    27: '의 악마',\n",
    "    28: '와(과) 같은 사나이',\n",
    "    29: '의 심판자 -> 을(를) 쓰러트린 자',\n",
    "    30: '의 혼',\n",
    "    31: '은(는) 말이 없다',\n",
    "}"
   ]
  },
  {
   "cell_type": "code",
   "execution_count": 239,
   "id": "16c0a876",
   "metadata": {},
   "outputs": [
    {
     "name": "stdout",
     "output_type": "stream",
     "text": [
      "푸른 달빛의 환생\n"
     ]
    }
   ],
   "source": [
    "birthday = '1971-08-07'\n",
    "y = int(birthday[3])\n",
    "m = int(birthday[5:7])\n",
    "d =  int(birthday[8:10])\n",
    "\n",
    "year_text = year.get(y)\n",
    "month_text = month.get(m)\n",
    "day_text = day.get(d)\n",
    "\n",
    "print(f'{year_text} {month_text}{day_text}')"
   ]
  },
  {
   "cell_type": "code",
   "execution_count": 241,
   "id": "4b7d1b89",
   "metadata": {},
   "outputs": [],
   "source": [
    "import requests\n",
    "res = requests.get('http://ggoreb.com/api/youtube.jsp')\n",
    "#res.encoding = None\n",
    "#text = res.text \n",
    "data = res.json()  #json 형식 받기\n"
   ]
  },
  {
   "cell_type": "code",
   "execution_count": 243,
   "id": "7b7c7f6e",
   "metadata": {
    "scrolled": true
   },
   "outputs": [
    {
     "data": {
      "text/plain": [
       "{'kind': 'youtube#searchListResponse',\n",
       " 'etag': 'X8QsMU-0MDQx2Garh-lAjCUcCDw',\n",
       " 'nextPageToken': 'CAoQAA',\n",
       " 'regionCode': 'KR',\n",
       " 'pageInfo': {'totalResults': 1000000, 'resultsPerPage': 10},\n",
       " 'items': [{'kind': 'youtube#searchResult',\n",
       "   'etag': 'y8C0r-uNSdlU1LJ8JwO8WlJUDKo',\n",
       "   'id': {'kind': 'youtube#video', 'videoId': 'sMqaGX9UyYI'},\n",
       "   'snippet': {'publishedAt': '2023-04-20T07:20:25Z',\n",
       "    'channelId': 'UCJ6pJrYbbNy_6LPWHYhAS-Q',\n",
       "    'title': '서울 마포구 월드컵북로 성산동, 내부순환도로, 성산유치원 인근 고화질 드론 영상소스  DJI 0030',\n",
       "    'description': '시네마틱스탁 기본안내 구매 가능한 시네마틱 스탁 사이트 - www.cinematic-stock.com 시네마틱아카이브 ...',\n",
       "    'thumbnails': {'default': {'url': 'https://i.ytimg.com/vi/sMqaGX9UyYI/default.jpg',\n",
       "      'width': 120,\n",
       "      'height': 90},\n",
       "     'medium': {'url': 'https://i.ytimg.com/vi/sMqaGX9UyYI/mqdefault.jpg',\n",
       "      'width': 320,\n",
       "      'height': 180},\n",
       "     'high': {'url': 'https://i.ytimg.com/vi/sMqaGX9UyYI/hqdefault.jpg',\n",
       "      'width': 480,\n",
       "      'height': 360}},\n",
       "    'channelTitle': '시네마틱스톡 CINEMATIC STOCK',\n",
       "    'liveBroadcastContent': 'none',\n",
       "    'publishTime': '2023-04-20T07:20:25Z'}},\n",
       "  {'kind': 'youtube#searchResult',\n",
       "   'etag': 'o_lFPdTttCZnmPNEgdgZb4mH744',\n",
       "   'id': {'kind': 'youtube#video', 'videoId': 'waLwPvMLtic'},\n",
       "   'snippet': {'publishedAt': '2023-04-20T07:00:23Z',\n",
       "    'channelId': 'UCSSPlgcyDA5eoN3hrkXpvHg',\n",
       "    'title': '세구가 가장 갖고 싶은 궁극기는?!  -고세구 궁극기 월드컵 64강',\n",
       "    'description': '이세돌 #이세계아이돌 #고세구 궁극기 발사!! 클립퍼 - 드득 영상 속 내용 문의나 더 재미있는 클립 추천은 이곳으로 연락 부탁 ...',\n",
       "    'thumbnails': {'default': {'url': 'https://i.ytimg.com/vi/waLwPvMLtic/default.jpg',\n",
       "      'width': 120,\n",
       "      'height': 90},\n",
       "     'medium': {'url': 'https://i.ytimg.com/vi/waLwPvMLtic/mqdefault.jpg',\n",
       "      'width': 320,\n",
       "      'height': 180},\n",
       "     'high': {'url': 'https://i.ytimg.com/vi/waLwPvMLtic/hqdefault.jpg',\n",
       "      'width': 480,\n",
       "      'height': 360}},\n",
       "    'channelTitle': '고세구의 좀 더',\n",
       "    'liveBroadcastContent': 'none',\n",
       "    'publishTime': '2023-04-20T07:00:23Z'}},\n",
       "  {'kind': 'youtube#searchResult',\n",
       "   'etag': 'XZiwgDpHNx6CvRUEMBdkN0d-pCg',\n",
       "   'id': {'kind': 'youtube#video', 'videoId': '3iQm4otO7-Y'},\n",
       "   'snippet': {'publishedAt': '2023-04-20T06:44:39Z',\n",
       "    'channelId': 'UCDIB1DOwPPe58M2fHPyVVDA',\n",
       "    'title': '대한민국9번누구야 #조규성 #카타르월드컵 #가나전 #멀티골',\n",
       "    'description': '2022카타르월드컵 #남자축구 #대한민국 #가나.',\n",
       "    'thumbnails': {'default': {'url': 'https://i.ytimg.com/vi/3iQm4otO7-Y/default.jpg',\n",
       "      'width': 120,\n",
       "      'height': 90},\n",
       "     'medium': {'url': 'https://i.ytimg.com/vi/3iQm4otO7-Y/mqdefault.jpg',\n",
       "      'width': 320,\n",
       "      'height': 180},\n",
       "     'high': {'url': 'https://i.ytimg.com/vi/3iQm4otO7-Y/hqdefault.jpg',\n",
       "      'width': 480,\n",
       "      'height': 360}},\n",
       "    'channelTitle': 'KBS 스포츠',\n",
       "    'liveBroadcastContent': 'none',\n",
       "    'publishTime': '2023-04-20T06:44:39Z'}},\n",
       "  {'kind': 'youtube#searchResult',\n",
       "   'etag': 'bLL6CxVXmjY91LjU8HeTpsDoyOM',\n",
       "   'id': {'kind': 'youtube#video', 'videoId': 'j8V_YYwIjPY'},\n",
       "   'snippet': {'publishedAt': '2023-04-20T06:23:31Z',\n",
       "    'channelId': 'UCDIB1DOwPPe58M2fHPyVVDA',\n",
       "    'title': '9번!!!! 전 세계가 나를 주목해☆ / 2022 FIFA 카타르 월드컵 H조 대한민국vs가나',\n",
       "    'description': '2022 FIFA 카타르 월드컵 조별리그 H조 2차전 대한민국 vs 가나 2022년 11월 28일 (월) 에듀케이션 시티 스타디움 대한민국 축구 ...',\n",
       "    'thumbnails': {'default': {'url': 'https://i.ytimg.com/vi/j8V_YYwIjPY/default.jpg',\n",
       "      'width': 120,\n",
       "      'height': 90},\n",
       "     'medium': {'url': 'https://i.ytimg.com/vi/j8V_YYwIjPY/mqdefault.jpg',\n",
       "      'width': 320,\n",
       "      'height': 180},\n",
       "     'high': {'url': 'https://i.ytimg.com/vi/j8V_YYwIjPY/hqdefault.jpg',\n",
       "      'width': 480,\n",
       "      'height': 360}},\n",
       "    'channelTitle': 'KBS 스포츠',\n",
       "    'liveBroadcastContent': 'none',\n",
       "    'publishTime': '2023-04-20T06:23:31Z'}},\n",
       "  {'kind': 'youtube#searchResult',\n",
       "   'etag': 'm2rmMhZTMwqJZHBl3aOdYnI10tA',\n",
       "   'id': {'kind': 'youtube#video', 'videoId': 'u5kgwpIE3K8'},\n",
       "   'snippet': {'publishedAt': '2023-04-20T06:18:15Z',\n",
       "    'channelId': 'UCE5WqAarLhntt1p9D85Pcqg',\n",
       "    'title': '최고의 미드필더는 우승을 원한다. 자신의 마지막 월드컵을 위한 피날래. 루카 모드리치의 카타르 월드컵(2/3)',\n",
       "    'description': '이 영상은 루카 모드리치의 어린 시절과 카타르 월드컵 예선전 시기를 집중적으로 다루면서 크로아디아의 주장으로써 짊어진 그의 ...',\n",
       "    'thumbnails': {'default': {'url': 'https://i.ytimg.com/vi/u5kgwpIE3K8/default.jpg',\n",
       "      'width': 120,\n",
       "      'height': 90},\n",
       "     'medium': {'url': 'https://i.ytimg.com/vi/u5kgwpIE3K8/mqdefault.jpg',\n",
       "      'width': 320,\n",
       "      'height': 180},\n",
       "     'high': {'url': 'https://i.ytimg.com/vi/u5kgwpIE3K8/hqdefault.jpg',\n",
       "      'width': 480,\n",
       "      'height': 360}},\n",
       "    'channelTitle': '축큐멘터리',\n",
       "    'liveBroadcastContent': 'none',\n",
       "    'publishTime': '2023-04-20T06:18:15Z'}},\n",
       "  {'kind': 'youtube#searchResult',\n",
       "   'etag': 'dNyxqr0W-xP_yOcppssqK5XDaW0',\n",
       "   'id': {'kind': 'youtube#video', 'videoId': 'mQiLf8_ZqWw'},\n",
       "   'snippet': {'publishedAt': '2023-04-20T05:45:17Z',\n",
       "    'channelId': 'UCsor198ZZ0tY3NisvWnhyzQ',\n",
       "    'title': '#대한민국 #축구선수 들 늦었지만 카타르월드컵 16강 감사합니다',\n",
       "    'description': '',\n",
       "    'thumbnails': {'default': {'url': 'https://i.ytimg.com/vi/mQiLf8_ZqWw/default.jpg',\n",
       "      'width': 120,\n",
       "      'height': 90},\n",
       "     'medium': {'url': 'https://i.ytimg.com/vi/mQiLf8_ZqWw/mqdefault.jpg',\n",
       "      'width': 320,\n",
       "      'height': 180},\n",
       "     'high': {'url': 'https://i.ytimg.com/vi/mQiLf8_ZqWw/hqdefault.jpg',\n",
       "      'width': 480,\n",
       "      'height': 360}},\n",
       "    'channelTitle': '로블록스 쏘니 빙무비',\n",
       "    'liveBroadcastContent': 'none',\n",
       "    'publishTime': '2023-04-20T05:45:17Z'}},\n",
       "  {'kind': 'youtube#searchResult',\n",
       "   'etag': 'G0M9w0r2qtD0GazCTm8sv5zdB1c',\n",
       "   'id': {'kind': 'youtube#video', 'videoId': 'ZetbQG0delg'},\n",
       "   'snippet': {'publishedAt': '2023-04-20T05:00:11Z',\n",
       "    'channelId': 'UC6JFiRoa_rxyk3aSPfKIMBA',\n",
       "    'title': '[윤치 다시보기] 원신 캐릭터 ost 월드컵',\n",
       "    'description': '시청해주셔서 감사합니다 윤치의 트위치 : https://www.twitch.tv/yuncy 윤치 구독하기 : https://goo.gl/UTcYaU 윤치 Full ver 구독하기 ...',\n",
       "    'thumbnails': {'default': {'url': 'https://i.ytimg.com/vi/ZetbQG0delg/default.jpg',\n",
       "      'width': 120,\n",
       "      'height': 90},\n",
       "     'medium': {'url': 'https://i.ytimg.com/vi/ZetbQG0delg/mqdefault.jpg',\n",
       "      'width': 320,\n",
       "      'height': 180},\n",
       "     'high': {'url': 'https://i.ytimg.com/vi/ZetbQG0delg/hqdefault.jpg',\n",
       "      'width': 480,\n",
       "      'height': 360}},\n",
       "    'channelTitle': '윤치Full version',\n",
       "    'liveBroadcastContent': 'none',\n",
       "    'publishTime': '2023-04-20T05:00:11Z'}},\n",
       "  {'kind': 'youtube#searchResult',\n",
       "   'etag': 'gMCb5Aw1t7TMPNqbtO8ovZWQaFo',\n",
       "   'id': {'kind': 'youtube#video', 'videoId': 'iQcEYKTRMoE'},\n",
       "   'snippet': {'publishedAt': '2023-04-20T04:29:09Z',\n",
       "    'channelId': 'UCJU1GuXgp8Og-_md6KKcJWw',\n",
       "    'title': '강원래 월드컵송',\n",
       "    'description': '',\n",
       "    'thumbnails': {'default': {'url': 'https://i.ytimg.com/vi/iQcEYKTRMoE/default.jpg',\n",
       "      'width': 120,\n",
       "      'height': 90},\n",
       "     'medium': {'url': 'https://i.ytimg.com/vi/iQcEYKTRMoE/mqdefault.jpg',\n",
       "      'width': 320,\n",
       "      'height': 180},\n",
       "     'high': {'url': 'https://i.ytimg.com/vi/iQcEYKTRMoE/hqdefault.jpg',\n",
       "      'width': 480,\n",
       "      'height': 360}},\n",
       "    'channelTitle': 'crevizu studio',\n",
       "    'liveBroadcastContent': 'none',\n",
       "    'publishTime': '2023-04-20T04:29:09Z'}},\n",
       "  {'kind': 'youtube#searchResult',\n",
       "   'etag': '_5L29bTCD6WCPbao00c7T1uqVVI',\n",
       "   'id': {'kind': 'youtube#video', 'videoId': 'dokqQtrBre0'},\n",
       "   'snippet': {'publishedAt': '2023-04-20T01:06:18Z',\n",
       "    'channelId': 'UC3sN-rBz2K19h6TqhGE7Z2Q',\n",
       "    'title': '쿠키런 킹덤 복귀 유저 뽑기 대잔치 bts 여기 있네 월드컵에서 보고 게임 업데이트 새로운 쿠키 뽑기',\n",
       "    'description': '쿠키런#뽑기#게임.',\n",
       "    'thumbnails': {'default': {'url': 'https://i.ytimg.com/vi/dokqQtrBre0/default.jpg',\n",
       "      'width': 120,\n",
       "      'height': 90},\n",
       "     'medium': {'url': 'https://i.ytimg.com/vi/dokqQtrBre0/mqdefault.jpg',\n",
       "      'width': 320,\n",
       "      'height': 180},\n",
       "     'high': {'url': 'https://i.ytimg.com/vi/dokqQtrBre0/hqdefault.jpg',\n",
       "      'width': 480,\n",
       "      'height': 360}},\n",
       "    'channelTitle': '이고에고 egoego',\n",
       "    'liveBroadcastContent': 'none',\n",
       "    'publishTime': '2023-04-20T01:06:18Z'}},\n",
       "  {'kind': 'youtube#searchResult',\n",
       "   'etag': 'J_nWHG4rBa4R1lH-DPrkvLcbtvA',\n",
       "   'id': {'kind': 'youtube#video', 'videoId': 'HwznFiWAMe8'},\n",
       "   'snippet': {'publishedAt': '2023-04-20T00:19:57Z',\n",
       "    'channelId': 'UC9M8YWPvXEKUx_Gfub6dJgQ',\n",
       "    'title': '포켓몬 유나이트 하기 전 이상형 월드컵 가즈아',\n",
       "    'description': '',\n",
       "    'thumbnails': {'default': {'url': 'https://i.ytimg.com/vi/HwznFiWAMe8/default.jpg',\n",
       "      'width': 120,\n",
       "      'height': 90},\n",
       "     'medium': {'url': 'https://i.ytimg.com/vi/HwznFiWAMe8/mqdefault.jpg',\n",
       "      'width': 320,\n",
       "      'height': 180},\n",
       "     'high': {'url': 'https://i.ytimg.com/vi/HwznFiWAMe8/hqdefault.jpg',\n",
       "      'width': 480,\n",
       "      'height': 360}},\n",
       "    'channelTitle': '류트리 & R.T.',\n",
       "    'liveBroadcastContent': 'none',\n",
       "    'publishTime': '2023-04-20T00:19:57Z'}}]}"
      ]
     },
     "execution_count": 243,
     "metadata": {},
     "output_type": "execute_result"
    }
   ],
   "source": [
    "data #dictionary"
   ]
  },
  {
   "cell_type": "code",
   "execution_count": 245,
   "id": "6e1d0362",
   "metadata": {},
   "outputs": [],
   "source": [
    "items = data.get('items')"
   ]
  },
  {
   "cell_type": "code",
   "execution_count": 255,
   "id": "2cb1dad4",
   "metadata": {
    "scrolled": false
   },
   "outputs": [
    {
     "name": "stdout",
     "output_type": "stream",
     "text": [
      "서울 마포구 월드컵북로 성산동, 내부순환도로, 성산유치원 인근 고화질 드론 영상소스  DJI 0030\n",
      "sMqaGX9UyYI\n",
      "세구가 가장 갖고 싶은 궁극기는?!  -고세구 궁극기 월드컵 64강\n",
      "waLwPvMLtic\n",
      "대한민국9번누구야 #조규성 #카타르월드컵 #가나전 #멀티골\n",
      "3iQm4otO7-Y\n",
      "9번!!!! 전 세계가 나를 주목해☆ / 2022 FIFA 카타르 월드컵 H조 대한민국vs가나\n",
      "j8V_YYwIjPY\n",
      "최고의 미드필더는 우승을 원한다. 자신의 마지막 월드컵을 위한 피날래. 루카 모드리치의 카타르 월드컵(2/3)\n",
      "u5kgwpIE3K8\n",
      "#대한민국 #축구선수 들 늦었지만 카타르월드컵 16강 감사합니다\n",
      "mQiLf8_ZqWw\n",
      "[윤치 다시보기] 원신 캐릭터 ost 월드컵\n",
      "ZetbQG0delg\n",
      "강원래 월드컵송\n",
      "iQcEYKTRMoE\n",
      "쿠키런 킹덤 복귀 유저 뽑기 대잔치 bts 여기 있네 월드컵에서 보고 게임 업데이트 새로운 쿠키 뽑기\n",
      "dokqQtrBre0\n",
      "포켓몬 유나이트 하기 전 이상형 월드컵 가즈아\n",
      "HwznFiWAMe8\n"
     ]
    }
   ],
   "source": [
    "for item in items:\n",
    "    snippet = item.get('snippet') #dictionary\n",
    "    title = snippet.get('title')\n",
    "    print(title)\n",
    "    \n",
    "    id = item.get('id')\n",
    "    videoId = id.get('videoId')\n",
    "    print(videoId)"
   ]
  },
  {
   "cell_type": "code",
   "execution_count": 264,
   "id": "df70f42f",
   "metadata": {},
   "outputs": [
    {
     "data": {
      "text/plain": [
       "{'status': 'ok',\n",
       " 'totalResults': 32,\n",
       " 'articles': [{'source': {'id': 'google-news', 'name': 'Google News'},\n",
       "   'author': 'EPJ',\n",
       "   'title': \"한전, 국가 에너지 안보 확립 위한 '제10차 장기 송변전설비계획' 수립 - EPJ\",\n",
       "   'description': None,\n",
       "   'url': 'https://news.google.com/rss/articles/CBMiNmh0dHA6Ly93d3cuZXBqLmNvLmtyL25ld3MvYXJ0aWNsZVZpZXcuaHRtbD9pZHhubz0zMjQyNNIBOWh0dHA6Ly93d3cuZXBqLmNvLmtyL25ld3MvYXJ0aWNsZVZpZXdBbXAuaHRtbD9pZHhubz0zMjQyNA?oc=5',\n",
       "   'urlToImage': None,\n",
       "   'publishedAt': '2023-05-08T06:33:00Z',\n",
       "   'content': None},\n",
       "  {'source': {'id': 'google-news', 'name': 'Google News'},\n",
       "   'author': '서울경제신문',\n",
       "   'title': '에스파 지젤, 애리의 하트 [SE★포토] - 서울경제 - 서울경제신문',\n",
       "   'description': None,\n",
       "   'url': 'https://news.google.com/rss/articles/CBMiK2h0dHBzOi8vd3d3LnNlZGFpbHkuY29tL05ld3NWaWV3LzI5UEkwUzI5TkPSASxodHRwczovL20uc2VkYWlseS5jb20vTmV3c1ZpZXdBbXAvMjlQSTBTMjlOQw?oc=5',\n",
       "   'urlToImage': None,\n",
       "   'publishedAt': '2023-05-08T05:59:29Z',\n",
       "   'content': None},\n",
       "  {'source': {'id': 'google-news', 'name': 'Google News'},\n",
       "   'author': 'Investing.com',\n",
       "   'title': 'SG증권發 주가 폭락 후폭풍… 키움·교보, CFD 계좌 개설 중단 By MoneyS - Investing.com',\n",
       "   'description': None,\n",
       "   'url': 'https://news.google.com/rss/articles/CBMiPmh0dHBzOi8va3IuaW52ZXN0aW5nLmNvbS9uZXdzL3N0b2NrLW1hcmtldC1uZXdzL2FydGljbGUtOTA3NDAx0gEA?oc=5',\n",
       "   'urlToImage': None,\n",
       "   'publishedAt': '2023-05-08T05:53:15Z',\n",
       "   'content': None},\n",
       "  {'source': {'id': 'google-news', 'name': 'Google News'},\n",
       "   'author': '경향게임스',\n",
       "   'title': '해리포터 게임의 신기원! ... ‘호그와트 레거시’, 1,500만 장 판매 돌파 - 경향게임스',\n",
       "   'description': None,\n",
       "   'url': 'https://news.google.com/rss/articles/CBMiPGh0dHBzOi8vd3d3LmtoZ2FtZXMuY28ua3IvbmV3cy9hcnRpY2xlVmlldy5odG1sP2lkeG5vPTIxMjkzONIBP2h0dHBzOi8vd3d3LmtoZ2FtZXMuY28ua3IvbmV3cy9hcnRpY2xlVmlld0FtcC5odG1sP2lkeG5vPTIxMjkzOA?oc=5',\n",
       "   'urlToImage': None,\n",
       "   'publishedAt': '2023-05-08T05:42:50Z',\n",
       "   'content': None},\n",
       "  {'source': {'id': 'google-news', 'name': 'Google News'},\n",
       "   'author': '인더스트리뉴스',\n",
       "   'title': \"중기부, 국내 최초 전면적 네거티브 규제 '글로벌 혁신 특구' 조성방안 발표 - 인더스트리뉴스\",\n",
       "   'description': None,\n",
       "   'url': 'https://news.google.com/rss/articles/CBMiQGh0dHBzOi8vd3d3LmluZHVzdHJ5bmV3cy5jby5rci9uZXdzL2FydGljbGVWaWV3Lmh0bWw_aWR4bm89NDk3MznSAQA?oc=5',\n",
       "   'urlToImage': None,\n",
       "   'publishedAt': '2023-05-08T05:29:05Z',\n",
       "   'content': None},\n",
       "  {'source': {'id': 'google-news', 'name': 'Google News'},\n",
       "   'author': '한겨레',\n",
       "   'title': '국내 원폭피해자들 “버림받은 존재였는데…한일 정상 참배 뜻깊어” - 한겨레',\n",
       "   'description': None,\n",
       "   'url': 'https://news.google.com/rss/articles/CBMiQGh0dHBzOi8vd3d3LmhhbmkuY28ua3IvYXJ0aS9zb2NpZXR5L3NvY2lldHlfZ2VuZXJhbC8xMDkwODc0Lmh0bWzSAQA?oc=5',\n",
       "   'urlToImage': None,\n",
       "   'publishedAt': '2023-05-08T05:16:54Z',\n",
       "   'content': None},\n",
       "  {'source': {'id': 'google-news', 'name': 'Google News'},\n",
       "   'author': 'YTN',\n",
       "   'title': '안영미, 美 출산 갑론을박...\"개인의 자유\" VS \"혜택 노린 원정\" - YTN',\n",
       "   'description': None,\n",
       "   'url': 'https://news.google.com/rss/articles/CBMiMWh0dHBzOi8vd3d3Lnl0bi5jby5rci9fbG4vMDEwM18yMDIzMDUwODE0MDYwODI1NDjSAUNodHRwczovL20ueXRuLmNvLmtyL25ld3Nfdmlldy5hbXAucGhwP3BhcmFtPTAxMDNfMjAyMzA1MDgxNDA2MDgyNTQ4?oc=5',\n",
       "   'urlToImage': None,\n",
       "   'publishedAt': '2023-05-08T05:06:00Z',\n",
       "   'content': None},\n",
       "  {'source': {'id': 'google-news', 'name': 'Google News'},\n",
       "   'author': '비디오머그 - VIDEOMUG',\n",
       "   'title': '중국 계획 \\'원천 봉쇄\\'…미국 \"게임체인저\" 뜬다 / 비머pick / 비디오머그 - 비디오머그 - VIDEOMUG',\n",
       "   'description': None,\n",
       "   'url': 'https://news.google.com/rss/articles/CCAiC0pDRXA3dkZ1bjZFmAEB?oc=5',\n",
       "   'urlToImage': None,\n",
       "   'publishedAt': '2023-05-08T05:00:10Z',\n",
       "   'content': None},\n",
       "  {'source': {'id': 'google-news', 'name': 'Google News'},\n",
       "   'author': '한겨레',\n",
       "   'title': '천주교정의구현사제단 춘천 시국미사 “침묵 깨고 행동하라” - 한겨레',\n",
       "   'description': None,\n",
       "   'url': 'https://news.google.com/rss/articles/CBMiOmh0dHBzOi8vd3d3LmhhbmkuY28ua3IvYXJ0aS9zb2NpZXR5L3JlbGlnaW91cy8xMDkwODcwLmh0bWzSAQA?oc=5',\n",
       "   'urlToImage': None,\n",
       "   'publishedAt': '2023-05-08T04:59:04Z',\n",
       "   'content': None},\n",
       "  {'source': {'id': 'google-news', 'name': 'Google News'},\n",
       "   'author': '한겨레',\n",
       "   'title': '“부모님 폐렴구균 백신 챙겨주세요”…65살 이상 무료접종 - 한겨레',\n",
       "   'description': None,\n",
       "   'url': 'https://news.google.com/rss/articles/CBMiN2h0dHBzOi8vd3d3LmhhbmkuY28ua3IvYXJ0aS9zb2NpZXR5L2hlYWx0aC8xMDkwODY5Lmh0bWzSAQA?oc=5',\n",
       "   'urlToImage': None,\n",
       "   'publishedAt': '2023-05-08T04:54:56Z',\n",
       "   'content': None},\n",
       "  {'source': {'id': 'google-news', 'name': 'Google News'},\n",
       "   'author': '케이벤치 (KBench)',\n",
       "   'title': \"[영상] 구글 '픽셀 7a' 출시 앞서 핸즈온 영상 공개 - 케이벤치 (KBench)\",\n",
       "   'description': None,\n",
       "   'url': 'https://news.google.com/rss/articles/CBMiIWh0dHBzOi8va2JlbmNoLmNvbS8_cT1ub2RlLzI0MzQxOdIBAA?oc=5',\n",
       "   'urlToImage': None,\n",
       "   'publishedAt': '2023-05-08T04:54:41Z',\n",
       "   'content': None},\n",
       "  {'source': {'id': 'google-news', 'name': 'Google News'},\n",
       "   'author': 'KBS News',\n",
       "   'title': '러시아, 전승절 하루 앞…바흐무트 전투 치열·자포리자 대피 / KBS 2023.05.08. - KBS News',\n",
       "   'description': None,\n",
       "   'url': 'https://news.google.com/rss/articles/CCAiC1RrSmpzWS1JeDJnmAEB?oc=5',\n",
       "   'urlToImage': None,\n",
       "   'publishedAt': '2023-05-08T03:31:44Z',\n",
       "   'content': None},\n",
       "  {'source': {'id': 'google-news', 'name': 'Google News'},\n",
       "   'author': 'medicaltimes.com',\n",
       "   'title': '헬리코박터 치료해야 하는 이유? 위암 절반 감소 - medicaltimes.com',\n",
       "   'description': None,\n",
       "   'url': 'https://news.google.com/rss/articles/CBMiP2h0dHBzOi8vd3d3Lm1lZGljYWx0aW1lcy5jb20vTWFpbi9OZXdzL05ld3NWaWV3Lmh0bWw_SUQ9MTE1MzQ3NNIBAA?oc=5',\n",
       "   'urlToImage': None,\n",
       "   'publishedAt': '2023-05-08T03:29:26Z',\n",
       "   'content': None},\n",
       "  {'source': {'id': 'google-news', 'name': 'Google News'},\n",
       "   'author': '서울신문',\n",
       "   'title': '[속보] 美텍사스 총기난사에 한인 부부·3세 아이 숨져 - 서울신문',\n",
       "   'description': None,\n",
       "   'url': 'https://news.google.com/rss/articles/CBMiO2h0dHBzOi8vd3d3LnNlb3VsLmNvLmtyL25ld3MvbmV3c1ZpZXcucGhwP2lkPTIwMjMwNTA4NTAwMDgw0gEsaHR0cHM6Ly9hbXAuc2VvdWwuY28ua3Ivc2VvdWwvMjAyMzA1MDg1MDAwODA?oc=5',\n",
       "   'urlToImage': None,\n",
       "   'publishedAt': '2023-05-08T03:17:48Z',\n",
       "   'content': None},\n",
       "  {'source': {'id': 'google-news', 'name': 'Google News'},\n",
       "   'author': 'MBC뉴스',\n",
       "   'title': '윤 대통령 \"한일회담 후속 조치에 철저히 임해달라\" - MBC뉴스',\n",
       "   'description': None,\n",
       "   'url': 'https://news.google.com/rss/articles/CBMiRWh0dHBzOi8vaW1uZXdzLmltYmMuY29tL25ld3MvMjAyMy9wb2xpdGljcy9hcnRpY2xlLzY0ODE0MzJfMzYxMTkuaHRtbNIBRWh0dHBzOi8vaW1uZXdzLmltYmMuY29tL25ld3MvMjAyMy9wb2xpdGljcy9hcnRpY2xlLzY0ODE0MzJfMzYxMjAuaHRtbA?oc=5',\n",
       "   'urlToImage': None,\n",
       "   'publishedAt': '2023-05-08T02:55:38Z',\n",
       "   'content': None},\n",
       "  {'source': {'id': 'google-news', 'name': 'Google News'},\n",
       "   'author': '머니투데이',\n",
       "   'title': \"'멀티히트' 김하성, 커쇼 이어 우리아스도 끌어내렸다... SD는 LAD에 2-5 역전패 [SD 리뷰] - 머니투데이\",\n",
       "   'description': None,\n",
       "   'url': 'https://news.google.com/rss/articles/CBMiN2h0dHBzOi8vbmV3cy5tdC5jby5rci9tdHZpZXcucGhwP25vPTIwMjMwNTA4MDczNTA2OTQyNjfSAT1odHRwczovL20ubXQuY28ua3IvcmVuZXcvdmlld19hbXAuaHRtbD9ubz0yMDIzMDUwODA3MzUwNjk0MjY3?oc=5',\n",
       "   'urlToImage': None,\n",
       "   'publishedAt': '2023-05-08T02:44:40Z',\n",
       "   'content': None},\n",
       "  {'source': {'id': 'google-news', 'name': 'Google News'},\n",
       "   'author': '노컷뉴스',\n",
       "   'title': '윤리위 앞둔 태영호 \"이진복 공천 언급 없어…모든 것 건다\" - 노컷뉴스',\n",
       "   'description': None,\n",
       "   'url': 'https://news.google.com/rss/articles/CBMiKGh0dHBzOi8vd3d3Lm5vY3V0bmV3cy5jby5rci9uZXdzLzU5Mzk0ODbSAQA?oc=5',\n",
       "   'urlToImage': None,\n",
       "   'publishedAt': '2023-05-08T02:26:00Z',\n",
       "   'content': None},\n",
       "  {'source': {'id': 'google-news', 'name': 'Google News'},\n",
       "   'author': '연합뉴스TV',\n",
       "   'title': '셀틱 오현규, 시즌 4호골로 프리미어십 우승 쐐기 - 연합뉴스TV',\n",
       "   'description': None,\n",
       "   'url': 'https://news.google.com/rss/articles/CBMiNmh0dHBzOi8vbS55b25oYXBuZXdzdHYuY28ua3IvbmV3cy9NWUgyMDIzMDUwODAwNjMwMDY0MdIBAA?oc=5',\n",
       "   'urlToImage': None,\n",
       "   'publishedAt': '2023-05-08T02:24:02Z',\n",
       "   'content': None},\n",
       "  {'source': {'id': 'google-news', 'name': 'Google News'},\n",
       "   'author': '디지털투데이',\n",
       "   'title': '아이폰15 프로 맥스, 아이폰 역대 가장 얇은 베젤 선보일까 - 디지털투데이',\n",
       "   'description': None,\n",
       "   'url': 'https://news.google.com/rss/articles/CBMiQWh0dHBzOi8vd3d3LmRpZ2l0YWx0b2RheS5jby5rci9uZXdzL2FydGljbGVWaWV3Lmh0bWw_aWR4bm89NDc1Nzk10gEA?oc=5',\n",
       "   'urlToImage': None,\n",
       "   'publishedAt': '2023-05-08T02:21:13Z',\n",
       "   'content': None},\n",
       "  {'source': {'id': 'google-news', 'name': 'Google News'},\n",
       "   'author': '한겨레',\n",
       "   'title': \"'거리 텅텅' 베트남 44도 사상 최고 폭염…기후위기 덮친 동남아 - 한겨레\",\n",
       "   'description': None,\n",
       "   'url': 'https://news.google.com/rss/articles/CBMiTGh0dHBzOi8vd3d3LmhhbmkuY28ua3IvYXJ0aS9pbnRlcm5hdGlvbmFsL2ludGVybmF0aW9uYWxfZ2VuZXJhbC8xMDkwODQ2Lmh0bWzSAQA?oc=5',\n",
       "   'urlToImage': None,\n",
       "   'publishedAt': '2023-05-08T01:57:30Z',\n",
       "   'content': None}]}"
      ]
     },
     "execution_count": 264,
     "metadata": {},
     "output_type": "execute_result"
    }
   ],
   "source": [
    "import requests\n",
    "res = requests.get('https://newsapi.org/v2/top-headlines?country=kr&apiKey=9f5baf7d9f3f42879a20d7d19d9886e4')\n",
    "data = res.json()\n",
    "data"
   ]
  },
  {
   "cell_type": "code",
   "execution_count": 267,
   "id": "35c13a7d",
   "metadata": {
    "scrolled": true
   },
   "outputs": [
    {
     "data": {
      "text/plain": [
       "[{'source': {'id': 'google-news', 'name': 'Google News'},\n",
       "  'author': 'EPJ',\n",
       "  'title': \"한전, 국가 에너지 안보 확립 위한 '제10차 장기 송변전설비계획' 수립 - EPJ\",\n",
       "  'description': None,\n",
       "  'url': 'https://news.google.com/rss/articles/CBMiNmh0dHA6Ly93d3cuZXBqLmNvLmtyL25ld3MvYXJ0aWNsZVZpZXcuaHRtbD9pZHhubz0zMjQyNNIBOWh0dHA6Ly93d3cuZXBqLmNvLmtyL25ld3MvYXJ0aWNsZVZpZXdBbXAuaHRtbD9pZHhubz0zMjQyNA?oc=5',\n",
       "  'urlToImage': None,\n",
       "  'publishedAt': '2023-05-08T06:33:00Z',\n",
       "  'content': None},\n",
       " {'source': {'id': 'google-news', 'name': 'Google News'},\n",
       "  'author': '서울경제신문',\n",
       "  'title': '에스파 지젤, 애리의 하트 [SE★포토] - 서울경제 - 서울경제신문',\n",
       "  'description': None,\n",
       "  'url': 'https://news.google.com/rss/articles/CBMiK2h0dHBzOi8vd3d3LnNlZGFpbHkuY29tL05ld3NWaWV3LzI5UEkwUzI5TkPSASxodHRwczovL20uc2VkYWlseS5jb20vTmV3c1ZpZXdBbXAvMjlQSTBTMjlOQw?oc=5',\n",
       "  'urlToImage': None,\n",
       "  'publishedAt': '2023-05-08T05:59:29Z',\n",
       "  'content': None},\n",
       " {'source': {'id': 'google-news', 'name': 'Google News'},\n",
       "  'author': 'Investing.com',\n",
       "  'title': 'SG증권發 주가 폭락 후폭풍… 키움·교보, CFD 계좌 개설 중단 By MoneyS - Investing.com',\n",
       "  'description': None,\n",
       "  'url': 'https://news.google.com/rss/articles/CBMiPmh0dHBzOi8va3IuaW52ZXN0aW5nLmNvbS9uZXdzL3N0b2NrLW1hcmtldC1uZXdzL2FydGljbGUtOTA3NDAx0gEA?oc=5',\n",
       "  'urlToImage': None,\n",
       "  'publishedAt': '2023-05-08T05:53:15Z',\n",
       "  'content': None},\n",
       " {'source': {'id': 'google-news', 'name': 'Google News'},\n",
       "  'author': '경향게임스',\n",
       "  'title': '해리포터 게임의 신기원! ... ‘호그와트 레거시’, 1,500만 장 판매 돌파 - 경향게임스',\n",
       "  'description': None,\n",
       "  'url': 'https://news.google.com/rss/articles/CBMiPGh0dHBzOi8vd3d3LmtoZ2FtZXMuY28ua3IvbmV3cy9hcnRpY2xlVmlldy5odG1sP2lkeG5vPTIxMjkzONIBP2h0dHBzOi8vd3d3LmtoZ2FtZXMuY28ua3IvbmV3cy9hcnRpY2xlVmlld0FtcC5odG1sP2lkeG5vPTIxMjkzOA?oc=5',\n",
       "  'urlToImage': None,\n",
       "  'publishedAt': '2023-05-08T05:42:50Z',\n",
       "  'content': None},\n",
       " {'source': {'id': 'google-news', 'name': 'Google News'},\n",
       "  'author': '인더스트리뉴스',\n",
       "  'title': \"중기부, 국내 최초 전면적 네거티브 규제 '글로벌 혁신 특구' 조성방안 발표 - 인더스트리뉴스\",\n",
       "  'description': None,\n",
       "  'url': 'https://news.google.com/rss/articles/CBMiQGh0dHBzOi8vd3d3LmluZHVzdHJ5bmV3cy5jby5rci9uZXdzL2FydGljbGVWaWV3Lmh0bWw_aWR4bm89NDk3MznSAQA?oc=5',\n",
       "  'urlToImage': None,\n",
       "  'publishedAt': '2023-05-08T05:29:05Z',\n",
       "  'content': None},\n",
       " {'source': {'id': 'google-news', 'name': 'Google News'},\n",
       "  'author': '한겨레',\n",
       "  'title': '국내 원폭피해자들 “버림받은 존재였는데…한일 정상 참배 뜻깊어” - 한겨레',\n",
       "  'description': None,\n",
       "  'url': 'https://news.google.com/rss/articles/CBMiQGh0dHBzOi8vd3d3LmhhbmkuY28ua3IvYXJ0aS9zb2NpZXR5L3NvY2lldHlfZ2VuZXJhbC8xMDkwODc0Lmh0bWzSAQA?oc=5',\n",
       "  'urlToImage': None,\n",
       "  'publishedAt': '2023-05-08T05:16:54Z',\n",
       "  'content': None},\n",
       " {'source': {'id': 'google-news', 'name': 'Google News'},\n",
       "  'author': 'YTN',\n",
       "  'title': '안영미, 美 출산 갑론을박...\"개인의 자유\" VS \"혜택 노린 원정\" - YTN',\n",
       "  'description': None,\n",
       "  'url': 'https://news.google.com/rss/articles/CBMiMWh0dHBzOi8vd3d3Lnl0bi5jby5rci9fbG4vMDEwM18yMDIzMDUwODE0MDYwODI1NDjSAUNodHRwczovL20ueXRuLmNvLmtyL25ld3Nfdmlldy5hbXAucGhwP3BhcmFtPTAxMDNfMjAyMzA1MDgxNDA2MDgyNTQ4?oc=5',\n",
       "  'urlToImage': None,\n",
       "  'publishedAt': '2023-05-08T05:06:00Z',\n",
       "  'content': None},\n",
       " {'source': {'id': 'google-news', 'name': 'Google News'},\n",
       "  'author': '비디오머그 - VIDEOMUG',\n",
       "  'title': '중국 계획 \\'원천 봉쇄\\'…미국 \"게임체인저\" 뜬다 / 비머pick / 비디오머그 - 비디오머그 - VIDEOMUG',\n",
       "  'description': None,\n",
       "  'url': 'https://news.google.com/rss/articles/CCAiC0pDRXA3dkZ1bjZFmAEB?oc=5',\n",
       "  'urlToImage': None,\n",
       "  'publishedAt': '2023-05-08T05:00:10Z',\n",
       "  'content': None},\n",
       " {'source': {'id': 'google-news', 'name': 'Google News'},\n",
       "  'author': '한겨레',\n",
       "  'title': '천주교정의구현사제단 춘천 시국미사 “침묵 깨고 행동하라” - 한겨레',\n",
       "  'description': None,\n",
       "  'url': 'https://news.google.com/rss/articles/CBMiOmh0dHBzOi8vd3d3LmhhbmkuY28ua3IvYXJ0aS9zb2NpZXR5L3JlbGlnaW91cy8xMDkwODcwLmh0bWzSAQA?oc=5',\n",
       "  'urlToImage': None,\n",
       "  'publishedAt': '2023-05-08T04:59:04Z',\n",
       "  'content': None},\n",
       " {'source': {'id': 'google-news', 'name': 'Google News'},\n",
       "  'author': '한겨레',\n",
       "  'title': '“부모님 폐렴구균 백신 챙겨주세요”…65살 이상 무료접종 - 한겨레',\n",
       "  'description': None,\n",
       "  'url': 'https://news.google.com/rss/articles/CBMiN2h0dHBzOi8vd3d3LmhhbmkuY28ua3IvYXJ0aS9zb2NpZXR5L2hlYWx0aC8xMDkwODY5Lmh0bWzSAQA?oc=5',\n",
       "  'urlToImage': None,\n",
       "  'publishedAt': '2023-05-08T04:54:56Z',\n",
       "  'content': None},\n",
       " {'source': {'id': 'google-news', 'name': 'Google News'},\n",
       "  'author': '케이벤치 (KBench)',\n",
       "  'title': \"[영상] 구글 '픽셀 7a' 출시 앞서 핸즈온 영상 공개 - 케이벤치 (KBench)\",\n",
       "  'description': None,\n",
       "  'url': 'https://news.google.com/rss/articles/CBMiIWh0dHBzOi8va2JlbmNoLmNvbS8_cT1ub2RlLzI0MzQxOdIBAA?oc=5',\n",
       "  'urlToImage': None,\n",
       "  'publishedAt': '2023-05-08T04:54:41Z',\n",
       "  'content': None},\n",
       " {'source': {'id': 'google-news', 'name': 'Google News'},\n",
       "  'author': 'KBS News',\n",
       "  'title': '러시아, 전승절 하루 앞…바흐무트 전투 치열·자포리자 대피 / KBS 2023.05.08. - KBS News',\n",
       "  'description': None,\n",
       "  'url': 'https://news.google.com/rss/articles/CCAiC1RrSmpzWS1JeDJnmAEB?oc=5',\n",
       "  'urlToImage': None,\n",
       "  'publishedAt': '2023-05-08T03:31:44Z',\n",
       "  'content': None},\n",
       " {'source': {'id': 'google-news', 'name': 'Google News'},\n",
       "  'author': 'medicaltimes.com',\n",
       "  'title': '헬리코박터 치료해야 하는 이유? 위암 절반 감소 - medicaltimes.com',\n",
       "  'description': None,\n",
       "  'url': 'https://news.google.com/rss/articles/CBMiP2h0dHBzOi8vd3d3Lm1lZGljYWx0aW1lcy5jb20vTWFpbi9OZXdzL05ld3NWaWV3Lmh0bWw_SUQ9MTE1MzQ3NNIBAA?oc=5',\n",
       "  'urlToImage': None,\n",
       "  'publishedAt': '2023-05-08T03:29:26Z',\n",
       "  'content': None},\n",
       " {'source': {'id': 'google-news', 'name': 'Google News'},\n",
       "  'author': '서울신문',\n",
       "  'title': '[속보] 美텍사스 총기난사에 한인 부부·3세 아이 숨져 - 서울신문',\n",
       "  'description': None,\n",
       "  'url': 'https://news.google.com/rss/articles/CBMiO2h0dHBzOi8vd3d3LnNlb3VsLmNvLmtyL25ld3MvbmV3c1ZpZXcucGhwP2lkPTIwMjMwNTA4NTAwMDgw0gEsaHR0cHM6Ly9hbXAuc2VvdWwuY28ua3Ivc2VvdWwvMjAyMzA1MDg1MDAwODA?oc=5',\n",
       "  'urlToImage': None,\n",
       "  'publishedAt': '2023-05-08T03:17:48Z',\n",
       "  'content': None},\n",
       " {'source': {'id': 'google-news', 'name': 'Google News'},\n",
       "  'author': 'MBC뉴스',\n",
       "  'title': '윤 대통령 \"한일회담 후속 조치에 철저히 임해달라\" - MBC뉴스',\n",
       "  'description': None,\n",
       "  'url': 'https://news.google.com/rss/articles/CBMiRWh0dHBzOi8vaW1uZXdzLmltYmMuY29tL25ld3MvMjAyMy9wb2xpdGljcy9hcnRpY2xlLzY0ODE0MzJfMzYxMTkuaHRtbNIBRWh0dHBzOi8vaW1uZXdzLmltYmMuY29tL25ld3MvMjAyMy9wb2xpdGljcy9hcnRpY2xlLzY0ODE0MzJfMzYxMjAuaHRtbA?oc=5',\n",
       "  'urlToImage': None,\n",
       "  'publishedAt': '2023-05-08T02:55:38Z',\n",
       "  'content': None},\n",
       " {'source': {'id': 'google-news', 'name': 'Google News'},\n",
       "  'author': '머니투데이',\n",
       "  'title': \"'멀티히트' 김하성, 커쇼 이어 우리아스도 끌어내렸다... SD는 LAD에 2-5 역전패 [SD 리뷰] - 머니투데이\",\n",
       "  'description': None,\n",
       "  'url': 'https://news.google.com/rss/articles/CBMiN2h0dHBzOi8vbmV3cy5tdC5jby5rci9tdHZpZXcucGhwP25vPTIwMjMwNTA4MDczNTA2OTQyNjfSAT1odHRwczovL20ubXQuY28ua3IvcmVuZXcvdmlld19hbXAuaHRtbD9ubz0yMDIzMDUwODA3MzUwNjk0MjY3?oc=5',\n",
       "  'urlToImage': None,\n",
       "  'publishedAt': '2023-05-08T02:44:40Z',\n",
       "  'content': None},\n",
       " {'source': {'id': 'google-news', 'name': 'Google News'},\n",
       "  'author': '노컷뉴스',\n",
       "  'title': '윤리위 앞둔 태영호 \"이진복 공천 언급 없어…모든 것 건다\" - 노컷뉴스',\n",
       "  'description': None,\n",
       "  'url': 'https://news.google.com/rss/articles/CBMiKGh0dHBzOi8vd3d3Lm5vY3V0bmV3cy5jby5rci9uZXdzLzU5Mzk0ODbSAQA?oc=5',\n",
       "  'urlToImage': None,\n",
       "  'publishedAt': '2023-05-08T02:26:00Z',\n",
       "  'content': None},\n",
       " {'source': {'id': 'google-news', 'name': 'Google News'},\n",
       "  'author': '연합뉴스TV',\n",
       "  'title': '셀틱 오현규, 시즌 4호골로 프리미어십 우승 쐐기 - 연합뉴스TV',\n",
       "  'description': None,\n",
       "  'url': 'https://news.google.com/rss/articles/CBMiNmh0dHBzOi8vbS55b25oYXBuZXdzdHYuY28ua3IvbmV3cy9NWUgyMDIzMDUwODAwNjMwMDY0MdIBAA?oc=5',\n",
       "  'urlToImage': None,\n",
       "  'publishedAt': '2023-05-08T02:24:02Z',\n",
       "  'content': None},\n",
       " {'source': {'id': 'google-news', 'name': 'Google News'},\n",
       "  'author': '디지털투데이',\n",
       "  'title': '아이폰15 프로 맥스, 아이폰 역대 가장 얇은 베젤 선보일까 - 디지털투데이',\n",
       "  'description': None,\n",
       "  'url': 'https://news.google.com/rss/articles/CBMiQWh0dHBzOi8vd3d3LmRpZ2l0YWx0b2RheS5jby5rci9uZXdzL2FydGljbGVWaWV3Lmh0bWw_aWR4bm89NDc1Nzk10gEA?oc=5',\n",
       "  'urlToImage': None,\n",
       "  'publishedAt': '2023-05-08T02:21:13Z',\n",
       "  'content': None},\n",
       " {'source': {'id': 'google-news', 'name': 'Google News'},\n",
       "  'author': '한겨레',\n",
       "  'title': \"'거리 텅텅' 베트남 44도 사상 최고 폭염…기후위기 덮친 동남아 - 한겨레\",\n",
       "  'description': None,\n",
       "  'url': 'https://news.google.com/rss/articles/CBMiTGh0dHBzOi8vd3d3LmhhbmkuY28ua3IvYXJ0aS9pbnRlcm5hdGlvbmFsL2ludGVybmF0aW9uYWxfZ2VuZXJhbC8xMDkwODQ2Lmh0bWzSAQA?oc=5',\n",
       "  'urlToImage': None,\n",
       "  'publishedAt': '2023-05-08T01:57:30Z',\n",
       "  'content': None}]"
      ]
     },
     "execution_count": 267,
     "metadata": {},
     "output_type": "execute_result"
    }
   ],
   "source": [
    "items = data.get('articles')\n",
    "items"
   ]
  },
  {
   "cell_type": "code",
   "execution_count": 272,
   "id": "290cdcd7",
   "metadata": {},
   "outputs": [
    {
     "name": "stdout",
     "output_type": "stream",
     "text": [
      "한전, 국가 에너지 안보 확립 위한 '제10차 장기 송변전설비계획' 수립 - EPJ https://news.google.com/rss/articles/CBMiNmh0dHA6Ly93d3cuZXBqLmNvLmtyL25ld3MvYXJ0aWNsZVZpZXcuaHRtbD9pZHhubz0zMjQyNNIBOWh0dHA6Ly93d3cuZXBqLmNvLmtyL25ld3MvYXJ0aWNsZVZpZXdBbXAuaHRtbD9pZHhubz0zMjQyNA?oc=5\n",
      "에스파 지젤, 애리의 하트 [SE★포토] - 서울경제 - 서울경제신문 https://news.google.com/rss/articles/CBMiK2h0dHBzOi8vd3d3LnNlZGFpbHkuY29tL05ld3NWaWV3LzI5UEkwUzI5TkPSASxodHRwczovL20uc2VkYWlseS5jb20vTmV3c1ZpZXdBbXAvMjlQSTBTMjlOQw?oc=5\n",
      "SG증권發 주가 폭락 후폭풍… 키움·교보, CFD 계좌 개설 중단 By MoneyS - Investing.com https://news.google.com/rss/articles/CBMiPmh0dHBzOi8va3IuaW52ZXN0aW5nLmNvbS9uZXdzL3N0b2NrLW1hcmtldC1uZXdzL2FydGljbGUtOTA3NDAx0gEA?oc=5\n",
      "해리포터 게임의 신기원! ... ‘호그와트 레거시’, 1,500만 장 판매 돌파 - 경향게임스 https://news.google.com/rss/articles/CBMiPGh0dHBzOi8vd3d3LmtoZ2FtZXMuY28ua3IvbmV3cy9hcnRpY2xlVmlldy5odG1sP2lkeG5vPTIxMjkzONIBP2h0dHBzOi8vd3d3LmtoZ2FtZXMuY28ua3IvbmV3cy9hcnRpY2xlVmlld0FtcC5odG1sP2lkeG5vPTIxMjkzOA?oc=5\n",
      "중기부, 국내 최초 전면적 네거티브 규제 '글로벌 혁신 특구' 조성방안 발표 - 인더스트리뉴스 https://news.google.com/rss/articles/CBMiQGh0dHBzOi8vd3d3LmluZHVzdHJ5bmV3cy5jby5rci9uZXdzL2FydGljbGVWaWV3Lmh0bWw_aWR4bm89NDk3MznSAQA?oc=5\n",
      "국내 원폭피해자들 “버림받은 존재였는데…한일 정상 참배 뜻깊어” - 한겨레 https://news.google.com/rss/articles/CBMiQGh0dHBzOi8vd3d3LmhhbmkuY28ua3IvYXJ0aS9zb2NpZXR5L3NvY2lldHlfZ2VuZXJhbC8xMDkwODc0Lmh0bWzSAQA?oc=5\n",
      "안영미, 美 출산 갑론을박...\"개인의 자유\" VS \"혜택 노린 원정\" - YTN https://news.google.com/rss/articles/CBMiMWh0dHBzOi8vd3d3Lnl0bi5jby5rci9fbG4vMDEwM18yMDIzMDUwODE0MDYwODI1NDjSAUNodHRwczovL20ueXRuLmNvLmtyL25ld3Nfdmlldy5hbXAucGhwP3BhcmFtPTAxMDNfMjAyMzA1MDgxNDA2MDgyNTQ4?oc=5\n",
      "중국 계획 '원천 봉쇄'…미국 \"게임체인저\" 뜬다 / 비머pick / 비디오머그 - 비디오머그 - VIDEOMUG https://news.google.com/rss/articles/CCAiC0pDRXA3dkZ1bjZFmAEB?oc=5\n",
      "천주교정의구현사제단 춘천 시국미사 “침묵 깨고 행동하라” - 한겨레 https://news.google.com/rss/articles/CBMiOmh0dHBzOi8vd3d3LmhhbmkuY28ua3IvYXJ0aS9zb2NpZXR5L3JlbGlnaW91cy8xMDkwODcwLmh0bWzSAQA?oc=5\n",
      "“부모님 폐렴구균 백신 챙겨주세요”…65살 이상 무료접종 - 한겨레 https://news.google.com/rss/articles/CBMiN2h0dHBzOi8vd3d3LmhhbmkuY28ua3IvYXJ0aS9zb2NpZXR5L2hlYWx0aC8xMDkwODY5Lmh0bWzSAQA?oc=5\n",
      "[영상] 구글 '픽셀 7a' 출시 앞서 핸즈온 영상 공개 - 케이벤치 (KBench) https://news.google.com/rss/articles/CBMiIWh0dHBzOi8va2JlbmNoLmNvbS8_cT1ub2RlLzI0MzQxOdIBAA?oc=5\n",
      "러시아, 전승절 하루 앞…바흐무트 전투 치열·자포리자 대피 / KBS 2023.05.08. - KBS News https://news.google.com/rss/articles/CCAiC1RrSmpzWS1JeDJnmAEB?oc=5\n",
      "헬리코박터 치료해야 하는 이유? 위암 절반 감소 - medicaltimes.com https://news.google.com/rss/articles/CBMiP2h0dHBzOi8vd3d3Lm1lZGljYWx0aW1lcy5jb20vTWFpbi9OZXdzL05ld3NWaWV3Lmh0bWw_SUQ9MTE1MzQ3NNIBAA?oc=5\n",
      "[속보] 美텍사스 총기난사에 한인 부부·3세 아이 숨져 - 서울신문 https://news.google.com/rss/articles/CBMiO2h0dHBzOi8vd3d3LnNlb3VsLmNvLmtyL25ld3MvbmV3c1ZpZXcucGhwP2lkPTIwMjMwNTA4NTAwMDgw0gEsaHR0cHM6Ly9hbXAuc2VvdWwuY28ua3Ivc2VvdWwvMjAyMzA1MDg1MDAwODA?oc=5\n",
      "윤 대통령 \"한일회담 후속 조치에 철저히 임해달라\" - MBC뉴스 https://news.google.com/rss/articles/CBMiRWh0dHBzOi8vaW1uZXdzLmltYmMuY29tL25ld3MvMjAyMy9wb2xpdGljcy9hcnRpY2xlLzY0ODE0MzJfMzYxMTkuaHRtbNIBRWh0dHBzOi8vaW1uZXdzLmltYmMuY29tL25ld3MvMjAyMy9wb2xpdGljcy9hcnRpY2xlLzY0ODE0MzJfMzYxMjAuaHRtbA?oc=5\n",
      "'멀티히트' 김하성, 커쇼 이어 우리아스도 끌어내렸다... SD는 LAD에 2-5 역전패 [SD 리뷰] - 머니투데이 https://news.google.com/rss/articles/CBMiN2h0dHBzOi8vbmV3cy5tdC5jby5rci9tdHZpZXcucGhwP25vPTIwMjMwNTA4MDczNTA2OTQyNjfSAT1odHRwczovL20ubXQuY28ua3IvcmVuZXcvdmlld19hbXAuaHRtbD9ubz0yMDIzMDUwODA3MzUwNjk0MjY3?oc=5\n",
      "윤리위 앞둔 태영호 \"이진복 공천 언급 없어…모든 것 건다\" - 노컷뉴스 https://news.google.com/rss/articles/CBMiKGh0dHBzOi8vd3d3Lm5vY3V0bmV3cy5jby5rci9uZXdzLzU5Mzk0ODbSAQA?oc=5\n",
      "셀틱 오현규, 시즌 4호골로 프리미어십 우승 쐐기 - 연합뉴스TV https://news.google.com/rss/articles/CBMiNmh0dHBzOi8vbS55b25oYXBuZXdzdHYuY28ua3IvbmV3cy9NWUgyMDIzMDUwODAwNjMwMDY0MdIBAA?oc=5\n",
      "아이폰15 프로 맥스, 아이폰 역대 가장 얇은 베젤 선보일까 - 디지털투데이 https://news.google.com/rss/articles/CBMiQWh0dHBzOi8vd3d3LmRpZ2l0YWx0b2RheS5jby5rci9uZXdzL2FydGljbGVWaWV3Lmh0bWw_aWR4bm89NDc1Nzk10gEA?oc=5\n",
      "'거리 텅텅' 베트남 44도 사상 최고 폭염…기후위기 덮친 동남아 - 한겨레 https://news.google.com/rss/articles/CBMiTGh0dHBzOi8vd3d3LmhhbmkuY28ua3IvYXJ0aS9pbnRlcm5hdGlvbmFsL2ludGVybmF0aW9uYWxfZ2VuZXJhbC8xMDkwODQ2Lmh0bWzSAQA?oc=5\n"
     ]
    }
   ],
   "source": [
    "for item in items:\n",
    "    title = item.get('title')\n",
    "    url = item.get('url')\n",
    "    print(title,url)"
   ]
  },
  {
   "cell_type": "code",
   "execution_count": null,
   "id": "aafb8811",
   "metadata": {},
   "outputs": [],
   "source": [
    "num_list = [9, 7, 11, 26, 15, 9, 15, 26]\n",
    "duplist = set(num_list)\n",
    "\n",
    "duplist2 = list(duplist)\n",
    "print(duplist2)"
   ]
  },
  {
   "cell_type": "code",
   "execution_count": 284,
   "id": "f3f52324",
   "metadata": {},
   "outputs": [
    {
     "data": {
      "text/plain": [
       "False"
      ]
     },
     "execution_count": 284,
     "metadata": {},
     "output_type": "execute_result"
    }
   ],
   "source": [
    "#경력이 3년 이상이거나\n",
    "#자격증을 보유하고 있는 사람\n",
    "#그리고 거주지가 거제인 사람\n",
    "경력 = 3\n",
    "자격증 = True\n",
    "거주지 = '부산'\n",
    "\n",
    "(경력>=3 or 자격증==True) and 거주지 =='거제' #우선순위 때문에 or 괄호 쳐줘야함"
   ]
  },
  {
   "cell_type": "code",
   "execution_count": 28,
   "id": "9fbd1ab8",
   "metadata": {},
   "outputs": [
    {
     "name": "stdout",
     "output_type": "stream",
     "text": [
      "점수를 입력해주세요.60\n",
      "Pass\n"
     ]
    }
   ],
   "source": [
    "score = int(input('점수를 입력해주세요.'))\n",
    "if score >= 60:\n",
    "    print('Pass')\n",
    "else:\n",
    "    print('Fail')"
   ]
  },
  {
   "cell_type": "code",
   "execution_count": 35,
   "id": "7353bfea",
   "metadata": {},
   "outputs": [
    {
     "name": "stdout",
     "output_type": "stream",
     "text": [
      "Pass\n"
     ]
    }
   ],
   "source": [
    "score = 60\n",
    "if score >= 60:\n",
    "    print('Pass')\n",
    "elif score >= 70:\n",
    "    print('Retake')\n",
    "else:\n",
    "    print('Fail')"
   ]
  },
  {
   "cell_type": "code",
   "execution_count": null,
   "id": "f1b81aa2",
   "metadata": {},
   "outputs": [],
   "source": [
    "hasPC = True\n",
    "hasPhone = False\n",
    "if hasPC or hasPhone:\n",
    "print('인터넷 검색 가능')\n",
    "else:\n",
    "print('인터넷 검색 불가')\n"
   ]
  },
  {
   "cell_type": "code",
   "execution_count": 47,
   "id": "e8f6b797",
   "metadata": {},
   "outputs": [
    {
     "name": "stdout",
     "output_type": "stream",
     "text": [
      "인터넷 검색 불가\n"
     ]
    }
   ],
   "source": [
    "hasPC = True\n",
    "hasPhone = False\n",
    "hasCrime = True\n",
    "if (hasPC or hasPhone) and hasCrime==False :\n",
    "    print('인터넷 검색 가능')\n",
    "else:\n",
    "    print('인터넷 검색 불가')\n"
   ]
  },
  {
   "cell_type": "code",
   "execution_count": 52,
   "id": "f62fa74c",
   "metadata": {},
   "outputs": [
    {
     "ename": "FileExistsError",
     "evalue": "[WinError 183] 파일이 이미 있으므로 만들 수 없습니다: 'data'",
     "output_type": "error",
     "traceback": [
      "\u001b[1;31m---------------------------------------------------------------------------\u001b[0m",
      "\u001b[1;31mFileExistsError\u001b[0m                           Traceback (most recent call last)",
      "Cell \u001b[1;32mIn[52], line 3\u001b[0m\n\u001b[0;32m      1\u001b[0m \u001b[38;5;66;03m# 풀더가 존재하지 않으면 풀더 생성하기\u001b[39;00m\n\u001b[0;32m      2\u001b[0m \u001b[38;5;28;01mimport\u001b[39;00m \u001b[38;5;21;01mos\u001b[39;00m\n\u001b[1;32m----> 3\u001b[0m \u001b[43mos\u001b[49m\u001b[38;5;241;43m.\u001b[39;49m\u001b[43mmkdir\u001b[49m\u001b[43m(\u001b[49m\u001b[38;5;124;43m'\u001b[39;49m\u001b[38;5;124;43mdata\u001b[39;49m\u001b[38;5;124;43m'\u001b[39;49m\u001b[43m)\u001b[49m\n",
      "\u001b[1;31mFileExistsError\u001b[0m: [WinError 183] 파일이 이미 있으므로 만들 수 없습니다: 'data'"
     ]
    }
   ],
   "source": [
    "# 풀더가 존재하지 않으면 풀더 생성하기\n",
    "import os\n",
    "os.mkdir('data')"
   ]
  },
  {
   "cell_type": "code",
   "execution_count": 55,
   "id": "cdfde953",
   "metadata": {},
   "outputs": [
    {
     "data": {
      "text/plain": [
       "True"
      ]
     },
     "execution_count": 55,
     "metadata": {},
     "output_type": "execute_result"
    }
   ],
   "source": [
    "os.path.isdir('data')"
   ]
  },
  {
   "cell_type": "code",
   "execution_count": 61,
   "id": "515df31d",
   "metadata": {},
   "outputs": [
    {
     "name": "stdout",
     "output_type": "stream",
     "text": [
      "파일 이미 있습니다~\n"
     ]
    }
   ],
   "source": [
    "if os.path.isdir('data'):\n",
    "    print(\"파일 이미 있습니다~\")\n",
    "else:\n",
    "    os.mkdir('data')"
   ]
  },
  {
   "cell_type": "code",
   "execution_count": 65,
   "id": "57589470",
   "metadata": {},
   "outputs": [],
   "source": [
    "if not os.path.isdir('data'):\n",
    "    os.mkdir('data')"
   ]
  },
  {
   "cell_type": "code",
   "execution_count": 3,
   "id": "60d10dd0",
   "metadata": {},
   "outputs": [
    {
     "name": "stdout",
     "output_type": "stream",
     "text": [
      "216\n"
     ]
    }
   ],
   "source": [
    "#숫자야구 http://ggoreb.com/dt/python/practice/0509_%EC%95%BC%EA%B5%AC%EA%B2%8C%EC%9E%84.pdf \n",
    "import requests as req\n",
    "res = req.get('http://ggoreb.com/quiz/baseball.txt')\n",
    "text = res.text\n",
    "print(text)"
   ]
  },
  {
   "cell_type": "code",
   "execution_count": 39,
   "id": "7556d0cb",
   "metadata": {},
   "outputs": [
    {
     "name": "stdout",
     "output_type": "stream",
     "text": [
      "['2', '1', '6']\n"
     ]
    },
    {
     "ename": "KeyboardInterrupt",
     "evalue": "Interrupted by user",
     "output_type": "error",
     "traceback": [
      "\u001b[1;31m---------------------------------------------------------------------------\u001b[0m",
      "\u001b[1;31mKeyboardInterrupt\u001b[0m                         Traceback (most recent call last)",
      "Cell \u001b[1;32mIn[39], line 7\u001b[0m\n\u001b[0;32m      5\u001b[0m sol \u001b[38;5;241m=\u001b[39m \u001b[38;5;28mlist\u001b[39m(text) \n\u001b[0;32m      6\u001b[0m \u001b[38;5;28mprint\u001b[39m(sol)\n\u001b[1;32m----> 7\u001b[0m gogo \u001b[38;5;241m=\u001b[39m \u001b[38;5;28mlist\u001b[39m(\u001b[38;5;28;43minput\u001b[39;49m\u001b[43m(\u001b[49m\u001b[38;5;124;43m'\u001b[39;49m\u001b[38;5;124;43m숫자를 입력해주세요.\u001b[39;49m\u001b[38;5;124;43m'\u001b[39;49m\u001b[43m)\u001b[49m)\n\u001b[0;32m      8\u001b[0m \u001b[38;5;28mprint\u001b[39m(gogo)\n\u001b[0;32m     10\u001b[0m \u001b[38;5;28;01mfor\u001b[39;00m i \u001b[38;5;129;01min\u001b[39;00m sol:\n",
      "File \u001b[1;32m~\\anaconda3\\lib\\site-packages\\ipykernel\\kernelbase.py:1175\u001b[0m, in \u001b[0;36mKernel.raw_input\u001b[1;34m(self, prompt)\u001b[0m\n\u001b[0;32m   1171\u001b[0m \u001b[38;5;28;01mif\u001b[39;00m \u001b[38;5;129;01mnot\u001b[39;00m \u001b[38;5;28mself\u001b[39m\u001b[38;5;241m.\u001b[39m_allow_stdin:\n\u001b[0;32m   1172\u001b[0m     \u001b[38;5;28;01mraise\u001b[39;00m StdinNotImplementedError(\n\u001b[0;32m   1173\u001b[0m         \u001b[38;5;124m\"\u001b[39m\u001b[38;5;124mraw_input was called, but this frontend does not support input requests.\u001b[39m\u001b[38;5;124m\"\u001b[39m\n\u001b[0;32m   1174\u001b[0m     )\n\u001b[1;32m-> 1175\u001b[0m \u001b[38;5;28;01mreturn\u001b[39;00m \u001b[38;5;28;43mself\u001b[39;49m\u001b[38;5;241;43m.\u001b[39;49m\u001b[43m_input_request\u001b[49m\u001b[43m(\u001b[49m\n\u001b[0;32m   1176\u001b[0m \u001b[43m    \u001b[49m\u001b[38;5;28;43mstr\u001b[39;49m\u001b[43m(\u001b[49m\u001b[43mprompt\u001b[49m\u001b[43m)\u001b[49m\u001b[43m,\u001b[49m\n\u001b[0;32m   1177\u001b[0m \u001b[43m    \u001b[49m\u001b[38;5;28;43mself\u001b[39;49m\u001b[38;5;241;43m.\u001b[39;49m\u001b[43m_parent_ident\u001b[49m\u001b[43m[\u001b[49m\u001b[38;5;124;43m\"\u001b[39;49m\u001b[38;5;124;43mshell\u001b[39;49m\u001b[38;5;124;43m\"\u001b[39;49m\u001b[43m]\u001b[49m\u001b[43m,\u001b[49m\n\u001b[0;32m   1178\u001b[0m \u001b[43m    \u001b[49m\u001b[38;5;28;43mself\u001b[39;49m\u001b[38;5;241;43m.\u001b[39;49m\u001b[43mget_parent\u001b[49m\u001b[43m(\u001b[49m\u001b[38;5;124;43m\"\u001b[39;49m\u001b[38;5;124;43mshell\u001b[39;49m\u001b[38;5;124;43m\"\u001b[39;49m\u001b[43m)\u001b[49m\u001b[43m,\u001b[49m\n\u001b[0;32m   1179\u001b[0m \u001b[43m    \u001b[49m\u001b[43mpassword\u001b[49m\u001b[38;5;241;43m=\u001b[39;49m\u001b[38;5;28;43;01mFalse\u001b[39;49;00m\u001b[43m,\u001b[49m\n\u001b[0;32m   1180\u001b[0m \u001b[43m\u001b[49m\u001b[43m)\u001b[49m\n",
      "File \u001b[1;32m~\\anaconda3\\lib\\site-packages\\ipykernel\\kernelbase.py:1217\u001b[0m, in \u001b[0;36mKernel._input_request\u001b[1;34m(self, prompt, ident, parent, password)\u001b[0m\n\u001b[0;32m   1214\u001b[0m             \u001b[38;5;28;01mbreak\u001b[39;00m\n\u001b[0;32m   1215\u001b[0m \u001b[38;5;28;01mexcept\u001b[39;00m \u001b[38;5;167;01mKeyboardInterrupt\u001b[39;00m:\n\u001b[0;32m   1216\u001b[0m     \u001b[38;5;66;03m# re-raise KeyboardInterrupt, to truncate traceback\u001b[39;00m\n\u001b[1;32m-> 1217\u001b[0m     \u001b[38;5;28;01mraise\u001b[39;00m \u001b[38;5;167;01mKeyboardInterrupt\u001b[39;00m(\u001b[38;5;124m\"\u001b[39m\u001b[38;5;124mInterrupted by user\u001b[39m\u001b[38;5;124m\"\u001b[39m) \u001b[38;5;28;01mfrom\u001b[39;00m \u001b[38;5;28mNone\u001b[39m\n\u001b[0;32m   1218\u001b[0m \u001b[38;5;28;01mexcept\u001b[39;00m \u001b[38;5;167;01mException\u001b[39;00m:\n\u001b[0;32m   1219\u001b[0m     \u001b[38;5;28mself\u001b[39m\u001b[38;5;241m.\u001b[39mlog\u001b[38;5;241m.\u001b[39mwarning(\u001b[38;5;124m\"\u001b[39m\u001b[38;5;124mInvalid Message:\u001b[39m\u001b[38;5;124m\"\u001b[39m, exc_info\u001b[38;5;241m=\u001b[39m\u001b[38;5;28;01mTrue\u001b[39;00m)\n",
      "\u001b[1;31mKeyboardInterrupt\u001b[0m: Interrupted by user"
     ]
    }
   ],
   "source": [
    "cnt = 0\n",
    "ball = 0\n",
    "out = 0\n",
    "strike = 0\n",
    "sol = list(text) \n",
    "print(sol)\n",
    "gogo = list(input('숫자를 입력해주세요.'))\n",
    "print(gogo)\n",
    "\n",
    "for i in sol:\n",
    "    if gogo[cnt] == text[cnt]:\n",
    "        print('스트라이크')\n",
    "        strike+=1\n",
    "    elif gogo[cnt] in text:\n",
    "        print('볼')\n",
    "        ball+=1\n",
    "    else:\n",
    "        print('아웃')\n",
    "        out+=1\n",
    "    cnt+=1\n",
    "\n",
    "if out < 3:\n",
    "    print(f'{strike}스트라이크 {ball}볼')\n",
    "else:\n",
    "    print('아웃입니다.')\n",
    "    \n",
    "if strike == 3:\n",
    "    print('정답입니다')\n",
    " \n",
    "         \n",
    "\n",
    "\n",
    "       "
   ]
  },
  {
   "cell_type": "code",
   "execution_count": 56,
   "id": "5a08c7b5",
   "metadata": {
    "scrolled": true
   },
   "outputs": [
    {
     "name": "stdout",
     "output_type": "stream",
     "text": [
      "윤년\n"
     ]
    }
   ],
   "source": [
    "#윤년 검사기\n",
    "year = 2000\n",
    "if year % 400 == 0:\n",
    "    print('윤년')\n",
    "elif year % 100 == 0:\n",
    "    print('평년')\n",
    "elif year % 4 == 0:\n",
    "    print('윤년')\n",
    "else:\n",
    "    print('평년')\n"
   ]
  },
  {
   "cell_type": "code",
   "execution_count": 69,
   "id": "5d78d392",
   "metadata": {},
   "outputs": [
    {
     "name": "stdout",
     "output_type": "stream",
     "text": [
      "[2, 5]\n",
      "25\n",
      "13254\n",
      "124\n",
      "45231\n"
     ]
    }
   ],
   "source": [
    "리스트 = [1,3,2,5,4]\n",
    "문자 = '13254'\n",
    "print(리스트[2:4])\n",
    "print(문자[2:4])\n",
    "\n",
    "print(문자[:])\n",
    "print(문자[::2]) # 2칸씩 건너뜀\n",
    "print(문자[::-1]) # 거꾸로 뒤집어서 출력\n"
   ]
  },
  {
   "cell_type": "code",
   "execution_count": 75,
   "id": "78dcd13e",
   "metadata": {
    "scrolled": true
   },
   "outputs": [
    {
     "name": "stdout",
     "output_type": "stream",
     "text": [
      "홀수입니다\n"
     ]
    }
   ],
   "source": [
    "num = 123\n",
    "if num % 2 == 0:\n",
    "    print('짝수입니다')\n",
    "else:\n",
    "    print('홀수입니다')"
   ]
  },
  {
   "cell_type": "code",
   "execution_count": 83,
   "id": "eb08514a",
   "metadata": {},
   "outputs": [
    {
     "name": "stdout",
     "output_type": "stream",
     "text": [
      "이수 완료\n",
      "이수 완료\n"
     ]
    }
   ],
   "source": [
    "subject = { '자료구조': 80, '알고리즘': 60, '네트워크': 90 }\n",
    "if subject.get('자료구조') >= 60 :\n",
    "    print('이수 완료')\n",
    "else:\n",
    "    print('재수강')\n",
    "    \n",
    "if '자료구조' in subject:\n",
    "    if subject.get('자료구조') >= 60:\n",
    "        print('이수 완료')\n",
    "    else:\n",
    "        print('재수강')\n",
    "else:\n",
    "    print('재수강')"
   ]
  },
  {
   "cell_type": "code",
   "execution_count": 87,
   "id": "965d845b",
   "metadata": {},
   "outputs": [
    {
     "name": "stdout",
     "output_type": "stream",
     "text": [
      "1번 반복\n",
      "2번 반복\n",
      "3번 반복\n",
      "4번 반복\n",
      "5번 반복\n",
      "6번 반복\n",
      "7번 반복\n",
      "8번 반복\n",
      "9번 반복\n",
      "10번 반복\n",
      "10번 반복 후 종료 \n",
      "55 총합\n"
     ]
    }
   ],
   "source": [
    "count = 0\n",
    "total = 0\n",
    "while count < 10:\n",
    "    count += 1\n",
    "    total += count\n",
    "    print('%d번 반복' % count)\n",
    "    \n",
    "print('%d번 반복 후 종료 ' % count)\n",
    "print('%d 총합' % total)"
   ]
  },
  {
   "cell_type": "code",
   "execution_count": 89,
   "id": "0c7809cd",
   "metadata": {},
   "outputs": [
    {
     "name": "stdout",
     "output_type": "stream",
     "text": [
      "합=5050\n"
     ]
    }
   ],
   "source": [
    "num = 0\n",
    "total = 0\n",
    "\n",
    "while num < 100:\n",
    "    num += 1\n",
    "    total += num\n",
    "print(f'합={total}')"
   ]
  },
  {
   "cell_type": "code",
   "execution_count": 106,
   "id": "82ce4656",
   "metadata": {
    "scrolled": true
   },
   "outputs": [
    {
     "name": "stdout",
     "output_type": "stream",
     "text": [
      "추출된 숫자:3\n",
      "추출된 숫자:3\n",
      "추출된 숫자:7\n",
      "추출된 숫자:2\n",
      "추출된 숫자:6\n",
      "추출된 숫자:10\n",
      "추출된 숫자:7\n",
      "추출된 숫자:8\n",
      "추출된 숫자:5\n"
     ]
    }
   ],
   "source": [
    "import random\n",
    "while True:\n",
    "    number = random.randint(1,10)\n",
    "    print('추출된 숫자:%d' % number)\n",
    "    if number==5:\n",
    "        break"
   ]
  },
  {
   "cell_type": "code",
   "execution_count": 249,
   "id": "3177a1f7",
   "metadata": {
    "scrolled": true
   },
   "outputs": [
    {
     "ename": "KeyboardInterrupt",
     "evalue": "Interrupted by user",
     "output_type": "error",
     "traceback": [
      "\u001b[1;31m---------------------------------------------------------------------------\u001b[0m",
      "\u001b[1;31mKeyboardInterrupt\u001b[0m                         Traceback (most recent call last)",
      "Cell \u001b[1;32mIn[249], line 11\u001b[0m\n\u001b[0;32m      9\u001b[0m \u001b[38;5;28;01mwhile\u001b[39;00m \u001b[38;5;28;01mTrue\u001b[39;00m:\n\u001b[0;32m     10\u001b[0m     com \u001b[38;5;241m=\u001b[39m random\u001b[38;5;241m.\u001b[39mrandint(\u001b[38;5;241m0\u001b[39m,\u001b[38;5;241m2\u001b[39m)\n\u001b[1;32m---> 11\u001b[0m     player \u001b[38;5;241m=\u001b[39m \u001b[38;5;28mint\u001b[39m(\u001b[38;5;28;43minput\u001b[39;49m\u001b[43m(\u001b[49m\u001b[38;5;124;43m'\u001b[39;49m\u001b[38;5;124;43m가위 0 바위 1 보 2 선택하세요\u001b[39;49m\u001b[38;5;124;43m'\u001b[39;49m\u001b[43m)\u001b[49m)\n\u001b[0;32m     12\u001b[0m     \u001b[38;5;28;01mif\u001b[39;00m(player \u001b[38;5;241m+\u001b[39m\u001b[38;5;241m1\u001b[39m) \u001b[38;5;241m%\u001b[39m \u001b[38;5;241m3\u001b[39m \u001b[38;5;241m==\u001b[39m com:\n\u001b[0;32m     13\u001b[0m         \u001b[38;5;28mprint\u001b[39m(\u001b[38;5;124mf\u001b[39m\u001b[38;5;124m'\u001b[39m\u001b[38;5;124m컴퓨터:\u001b[39m\u001b[38;5;132;01m{\u001b[39;00mbook\u001b[38;5;241m.\u001b[39mget(\u001b[38;5;28mstr\u001b[39m(com))\u001b[38;5;132;01m}\u001b[39;00m\u001b[38;5;124m:, 플레이어:\u001b[39m\u001b[38;5;132;01m{\u001b[39;00mbook\u001b[38;5;241m.\u001b[39mget(\u001b[38;5;28mstr\u001b[39m(player))\u001b[38;5;132;01m}\u001b[39;00m\u001b[38;5;124m: com 승\u001b[39m\u001b[38;5;124m'\u001b[39m)\n",
      "File \u001b[1;32m~\\anaconda3\\lib\\site-packages\\ipykernel\\kernelbase.py:1175\u001b[0m, in \u001b[0;36mKernel.raw_input\u001b[1;34m(self, prompt)\u001b[0m\n\u001b[0;32m   1171\u001b[0m \u001b[38;5;28;01mif\u001b[39;00m \u001b[38;5;129;01mnot\u001b[39;00m \u001b[38;5;28mself\u001b[39m\u001b[38;5;241m.\u001b[39m_allow_stdin:\n\u001b[0;32m   1172\u001b[0m     \u001b[38;5;28;01mraise\u001b[39;00m StdinNotImplementedError(\n\u001b[0;32m   1173\u001b[0m         \u001b[38;5;124m\"\u001b[39m\u001b[38;5;124mraw_input was called, but this frontend does not support input requests.\u001b[39m\u001b[38;5;124m\"\u001b[39m\n\u001b[0;32m   1174\u001b[0m     )\n\u001b[1;32m-> 1175\u001b[0m \u001b[38;5;28;01mreturn\u001b[39;00m \u001b[38;5;28;43mself\u001b[39;49m\u001b[38;5;241;43m.\u001b[39;49m\u001b[43m_input_request\u001b[49m\u001b[43m(\u001b[49m\n\u001b[0;32m   1176\u001b[0m \u001b[43m    \u001b[49m\u001b[38;5;28;43mstr\u001b[39;49m\u001b[43m(\u001b[49m\u001b[43mprompt\u001b[49m\u001b[43m)\u001b[49m\u001b[43m,\u001b[49m\n\u001b[0;32m   1177\u001b[0m \u001b[43m    \u001b[49m\u001b[38;5;28;43mself\u001b[39;49m\u001b[38;5;241;43m.\u001b[39;49m\u001b[43m_parent_ident\u001b[49m\u001b[43m[\u001b[49m\u001b[38;5;124;43m\"\u001b[39;49m\u001b[38;5;124;43mshell\u001b[39;49m\u001b[38;5;124;43m\"\u001b[39;49m\u001b[43m]\u001b[49m\u001b[43m,\u001b[49m\n\u001b[0;32m   1178\u001b[0m \u001b[43m    \u001b[49m\u001b[38;5;28;43mself\u001b[39;49m\u001b[38;5;241;43m.\u001b[39;49m\u001b[43mget_parent\u001b[49m\u001b[43m(\u001b[49m\u001b[38;5;124;43m\"\u001b[39;49m\u001b[38;5;124;43mshell\u001b[39;49m\u001b[38;5;124;43m\"\u001b[39;49m\u001b[43m)\u001b[49m\u001b[43m,\u001b[49m\n\u001b[0;32m   1179\u001b[0m \u001b[43m    \u001b[49m\u001b[43mpassword\u001b[49m\u001b[38;5;241;43m=\u001b[39;49m\u001b[38;5;28;43;01mFalse\u001b[39;49;00m\u001b[43m,\u001b[49m\n\u001b[0;32m   1180\u001b[0m \u001b[43m\u001b[49m\u001b[43m)\u001b[49m\n",
      "File \u001b[1;32m~\\anaconda3\\lib\\site-packages\\ipykernel\\kernelbase.py:1217\u001b[0m, in \u001b[0;36mKernel._input_request\u001b[1;34m(self, prompt, ident, parent, password)\u001b[0m\n\u001b[0;32m   1214\u001b[0m             \u001b[38;5;28;01mbreak\u001b[39;00m\n\u001b[0;32m   1215\u001b[0m \u001b[38;5;28;01mexcept\u001b[39;00m \u001b[38;5;167;01mKeyboardInterrupt\u001b[39;00m:\n\u001b[0;32m   1216\u001b[0m     \u001b[38;5;66;03m# re-raise KeyboardInterrupt, to truncate traceback\u001b[39;00m\n\u001b[1;32m-> 1217\u001b[0m     \u001b[38;5;28;01mraise\u001b[39;00m \u001b[38;5;167;01mKeyboardInterrupt\u001b[39;00m(\u001b[38;5;124m\"\u001b[39m\u001b[38;5;124mInterrupted by user\u001b[39m\u001b[38;5;124m\"\u001b[39m) \u001b[38;5;28;01mfrom\u001b[39;00m \u001b[38;5;28mNone\u001b[39m\n\u001b[0;32m   1218\u001b[0m \u001b[38;5;28;01mexcept\u001b[39;00m \u001b[38;5;167;01mException\u001b[39;00m:\n\u001b[0;32m   1219\u001b[0m     \u001b[38;5;28mself\u001b[39m\u001b[38;5;241m.\u001b[39mlog\u001b[38;5;241m.\u001b[39mwarning(\u001b[38;5;124m\"\u001b[39m\u001b[38;5;124mInvalid Message:\u001b[39m\u001b[38;5;124m\"\u001b[39m, exc_info\u001b[38;5;241m=\u001b[39m\u001b[38;5;28;01mTrue\u001b[39;00m)\n",
      "\u001b[1;31mKeyboardInterrupt\u001b[0m: Interrupted by user"
     ]
    }
   ],
   "source": [
    "# 가위바위보 게임 만들기\n",
    "#가위0 바위1 보2\n",
    "#  player 0      1       2         \n",
    "#  com     1      2         0\n",
    "#        com 승    com승    com승\n",
    "import random\n",
    "book = {'0':'가위', '1':'바위', '2':'보'}\n",
    "\n",
    "while True:\n",
    "    com = random.randint(0,2)\n",
    "    player = int(input('가위 0 바위 1 보 2 선택하세요'))\n",
    "    if(player +1) % 3 == com:\n",
    "        print(f'컴퓨터:{book.get(str(com))}:, 플레이어:{book.get(str(player))}: com 승')\n",
    "        print('\\n')\n",
    "    elif player == com:\n",
    "        print(f'컴퓨터:{book.get(str(com))}:, 플레이어:{book.get(str(player))}: 비겼음')\n",
    "        print('\\n')\n",
    "    else:\n",
    "        print(f'컴퓨터:{book.get(str(com))}:, 플레이어:{book.get(str(player))}: player 승')\n",
    "        print('player 승 게임 종료')\n",
    "        print('\\n')\n",
    "        break\n"
   ]
  },
  {
   "cell_type": "code",
   "execution_count": 251,
   "id": "a34aa0ce",
   "metadata": {},
   "outputs": [
    {
     "name": "stdout",
     "output_type": "stream",
     "text": [
      "1: 3 \n",
      "2: 13 \n",
      "3: 23 \n",
      "4: 30 \n",
      "5: 31 \n",
      "6: 32 \n",
      "7: 33 \n",
      "8: 34 \n",
      "9: 35 \n",
      "10: 36 \n",
      "11: 37 \n",
      "12: 38 \n",
      "13: 39 \n",
      "14: 43 \n",
      "15: 53 \n",
      "16: 63 \n",
      "17: 73 \n",
      "18: 83 \n",
      "19: 93 \n",
      "3이 들어간 숫자 총 갯수:19\n"
     ]
    }
   ],
   "source": [
    "count = 0\n",
    "num = 0\n",
    "sol = ''\n",
    "while count < 100:\n",
    "    count+=1 \n",
    "    if('3' in str(count)):\n",
    "        sol = str(count)\n",
    "        num+=1\n",
    "        print(f'{num}: {sol} ')\n",
    "        \n",
    "print('3이 들어간 숫자 총 갯수:%d' % (num))"
   ]
  },
  {
   "cell_type": "code",
   "execution_count": 268,
   "id": "8d50b0a6",
   "metadata": {},
   "outputs": [
    {
     "ename": "KeyboardInterrupt",
     "evalue": "Interrupted by user",
     "output_type": "error",
     "traceback": [
      "\u001b[1;31m---------------------------------------------------------------------------\u001b[0m",
      "\u001b[1;31mKeyboardInterrupt\u001b[0m                         Traceback (most recent call last)",
      "Cell \u001b[1;32mIn[268], line 10\u001b[0m\n\u001b[0;32m      1\u001b[0m \u001b[38;5;66;03m# 카드번호 맞추기\u001b[39;00m\n\u001b[0;32m      2\u001b[0m \u001b[38;5;66;03m# 기능 1 : 시작번호와 마지막번호를 입력한다.\u001b[39;00m\n\u001b[0;32m      3\u001b[0m \u001b[38;5;66;03m# • 기능 2 : 카드번호를 랜덤으로 추출한다.\u001b[39;00m\n\u001b[1;32m   (...)\u001b[0m\n\u001b[0;32m      7\u001b[0m \n\u001b[0;32m      8\u001b[0m \u001b[38;5;66;03m#잘못된 코드 예시\u001b[39;00m\n\u001b[0;32m      9\u001b[0m \u001b[38;5;28;01mimport\u001b[39;00m \u001b[38;5;21;01mrandom\u001b[39;00m\n\u001b[1;32m---> 10\u001b[0m 시작 \u001b[38;5;241m=\u001b[39m \u001b[38;5;28mint\u001b[39m(\u001b[38;5;28;43minput\u001b[39;49m\u001b[43m(\u001b[49m\u001b[43m)\u001b[49m)\n\u001b[0;32m     11\u001b[0m 마지막 \u001b[38;5;241m=\u001b[39m \u001b[38;5;28mint\u001b[39m(\u001b[38;5;28minput\u001b[39m())\n\u001b[0;32m     12\u001b[0m 카드번호 \u001b[38;5;241m=\u001b[39m random\u001b[38;5;241m.\u001b[39mrandint(시작, 마지막)\n",
      "File \u001b[1;32m~\\anaconda3\\lib\\site-packages\\ipykernel\\kernelbase.py:1175\u001b[0m, in \u001b[0;36mKernel.raw_input\u001b[1;34m(self, prompt)\u001b[0m\n\u001b[0;32m   1171\u001b[0m \u001b[38;5;28;01mif\u001b[39;00m \u001b[38;5;129;01mnot\u001b[39;00m \u001b[38;5;28mself\u001b[39m\u001b[38;5;241m.\u001b[39m_allow_stdin:\n\u001b[0;32m   1172\u001b[0m     \u001b[38;5;28;01mraise\u001b[39;00m StdinNotImplementedError(\n\u001b[0;32m   1173\u001b[0m         \u001b[38;5;124m\"\u001b[39m\u001b[38;5;124mraw_input was called, but this frontend does not support input requests.\u001b[39m\u001b[38;5;124m\"\u001b[39m\n\u001b[0;32m   1174\u001b[0m     )\n\u001b[1;32m-> 1175\u001b[0m \u001b[38;5;28;01mreturn\u001b[39;00m \u001b[38;5;28;43mself\u001b[39;49m\u001b[38;5;241;43m.\u001b[39;49m\u001b[43m_input_request\u001b[49m\u001b[43m(\u001b[49m\n\u001b[0;32m   1176\u001b[0m \u001b[43m    \u001b[49m\u001b[38;5;28;43mstr\u001b[39;49m\u001b[43m(\u001b[49m\u001b[43mprompt\u001b[49m\u001b[43m)\u001b[49m\u001b[43m,\u001b[49m\n\u001b[0;32m   1177\u001b[0m \u001b[43m    \u001b[49m\u001b[38;5;28;43mself\u001b[39;49m\u001b[38;5;241;43m.\u001b[39;49m\u001b[43m_parent_ident\u001b[49m\u001b[43m[\u001b[49m\u001b[38;5;124;43m\"\u001b[39;49m\u001b[38;5;124;43mshell\u001b[39;49m\u001b[38;5;124;43m\"\u001b[39;49m\u001b[43m]\u001b[49m\u001b[43m,\u001b[49m\n\u001b[0;32m   1178\u001b[0m \u001b[43m    \u001b[49m\u001b[38;5;28;43mself\u001b[39;49m\u001b[38;5;241;43m.\u001b[39;49m\u001b[43mget_parent\u001b[49m\u001b[43m(\u001b[49m\u001b[38;5;124;43m\"\u001b[39;49m\u001b[38;5;124;43mshell\u001b[39;49m\u001b[38;5;124;43m\"\u001b[39;49m\u001b[43m)\u001b[49m\u001b[43m,\u001b[49m\n\u001b[0;32m   1179\u001b[0m \u001b[43m    \u001b[49m\u001b[43mpassword\u001b[49m\u001b[38;5;241;43m=\u001b[39;49m\u001b[38;5;28;43;01mFalse\u001b[39;49;00m\u001b[43m,\u001b[49m\n\u001b[0;32m   1180\u001b[0m \u001b[43m\u001b[49m\u001b[43m)\u001b[49m\n",
      "File \u001b[1;32m~\\anaconda3\\lib\\site-packages\\ipykernel\\kernelbase.py:1217\u001b[0m, in \u001b[0;36mKernel._input_request\u001b[1;34m(self, prompt, ident, parent, password)\u001b[0m\n\u001b[0;32m   1214\u001b[0m             \u001b[38;5;28;01mbreak\u001b[39;00m\n\u001b[0;32m   1215\u001b[0m \u001b[38;5;28;01mexcept\u001b[39;00m \u001b[38;5;167;01mKeyboardInterrupt\u001b[39;00m:\n\u001b[0;32m   1216\u001b[0m     \u001b[38;5;66;03m# re-raise KeyboardInterrupt, to truncate traceback\u001b[39;00m\n\u001b[1;32m-> 1217\u001b[0m     \u001b[38;5;28;01mraise\u001b[39;00m \u001b[38;5;167;01mKeyboardInterrupt\u001b[39;00m(\u001b[38;5;124m\"\u001b[39m\u001b[38;5;124mInterrupted by user\u001b[39m\u001b[38;5;124m\"\u001b[39m) \u001b[38;5;28;01mfrom\u001b[39;00m \u001b[38;5;28mNone\u001b[39m\n\u001b[0;32m   1218\u001b[0m \u001b[38;5;28;01mexcept\u001b[39;00m \u001b[38;5;167;01mException\u001b[39;00m:\n\u001b[0;32m   1219\u001b[0m     \u001b[38;5;28mself\u001b[39m\u001b[38;5;241m.\u001b[39mlog\u001b[38;5;241m.\u001b[39mwarning(\u001b[38;5;124m\"\u001b[39m\u001b[38;5;124mInvalid Message:\u001b[39m\u001b[38;5;124m\"\u001b[39m, exc_info\u001b[38;5;241m=\u001b[39m\u001b[38;5;28;01mTrue\u001b[39;00m)\n",
      "\u001b[1;31mKeyboardInterrupt\u001b[0m: Interrupted by user"
     ]
    }
   ],
   "source": [
    "# 카드번호 맞추기\n",
    "# 기능 1 : 시작번호와 마지막번호를 입력한다.\n",
    "# • 기능 2 : 카드번호를 랜덤으로 추출한다.\n",
    "# • 기능 3 : 랜덤으로 추출된 카드번호는\n",
    "# 시작번호와 마지막 번호 사이의 숫자이어야 한다.\n",
    "# • 기능 4 : 카드번호를 맞힐 때까지 반복해서 숫자를 입력한다\n",
    "\n",
    "import random\n",
    "시작 = int(input())\n",
    "마지막 = int(input())\n",
    "카드번호 = random.randint(시작, 마지막)\n",
    "\n",
    "while True:\n",
    "    입력 = int(input())\n",
    "    if 입력 > 카드번호:\n",
    "        print('더 낮은 값을 입력해주세요')\n",
    "    elif 입력 < 카드번호:\n",
    "        print('더 높은 값을 입력해주세요')\n",
    "    else:\n",
    "        print(f'입력=>{입력}, 카드번호=>{카드번호}')\n",
    "\n"
   ]
  },
  {
   "cell_type": "code",
   "execution_count": null,
   "id": "268a12bf",
   "metadata": {},
   "outputs": [],
   "source": [
    "\n",
    "#중복되지 않는 1~45 사이의 번호 6개 생성하기\n",
    "#리스트 사용하면? ==> 중복요소 제거 고려해야함\n",
    "# 잘못된 코드예시\n",
    "import random\n",
    "로또번호 = list()\n",
    "n = 0\n",
    "while n < 6:\n",
    "    n+=1\n",
    "    로또번호.append(random.randint(1,45))\n",
    "로또번호"
   ]
  },
  {
   "cell_type": "code",
   "execution_count": 345,
   "id": "907f1bc5",
   "metadata": {},
   "outputs": [
    {
     "name": "stdout",
     "output_type": "stream",
     "text": [
      "현재 시도횟수: 1000000\n",
      "현재 시도횟수: 2000000\n",
      "2655996\n"
     ]
    }
   ],
   "source": [
    "#중복되지 않는 1~45 사이의 번호 6개 생성하기\n",
    "#리스트 중복요소 제거 고려하기 (Set 사용) Set 사용 후 리스트로 사용해야 사용 편함 \n",
    "# 잘된 코드\n",
    "#리스트 고려시 [2,1]  [1,2] 다르다고 뜸 => sort해야 비교 가능 (오름차순)\n",
    "\n",
    "import random\n",
    "당첨번호 = [6, 11, 16, 19, 21, 32]\n",
    "시도횟수 = 0\n",
    "while True:\n",
    "    시도횟수 += 1\n",
    "    #100만번마다 한번씩 시도횟수 출력\n",
    "    if 시도횟수 % 1000000 == 0:\n",
    "        print(f'현재 시도횟수: {시도횟수}')\n",
    "    로또번호 = set()\n",
    "    while True:\n",
    "        로또번호.add(random.randint(1,45))\n",
    "        if len(로또번호)==6:\n",
    "            break\n",
    "    로또번호 = list(로또번호)\n",
    "    로또번호.sort()\n",
    "    if 로또번호 == 당첨번호: break\n",
    "print(시도횟수)"
   ]
  },
  {
   "cell_type": "code",
   "execution_count": 353,
   "id": "8abf315d",
   "metadata": {},
   "outputs": [
    {
     "name": "stdout",
     "output_type": "stream",
     "text": [
      "6\n"
     ]
    }
   ],
   "source": [
    "# 거스름 돈\n",
    "# 당신은 음식점의 계산을 도와주는 점원입니다. 카운터에는 거스름 돈으로 사용할 500원,\n",
    "# 100원, 50원, 10원 짜리 동전이 무한히 존재한다고 가정합니다. 손님에게 거슬러 주어야\n",
    "# 할 돈이 N원일 때 거슬러 주어야 할 동전의 최소 개수를 구하세요. 단, 거슬러 줘야 할 돈\n",
    "# N은 항상 10의 배수입니다.\n",
    "\n",
    "거스름돈 = 1260\n",
    "동전 = 0\n",
    "while True:\n",
    "    if 거스름돈 - 500 >= 0:\n",
    "        동전 += 1\n",
    "        거스름돈 -= 500\n",
    "    elif 거스름돈 - 100 >=0:\n",
    "        동전 += 1\n",
    "        거스름돈 -= 100\n",
    "    elif 거스름돈 - 50 >=0:\n",
    "        동전 += 1\n",
    "        거스름돈 -= 50\n",
    "    elif 거스름돈 - 10 >=0:\n",
    "        동전 += 1\n",
    "        거스름돈 -= 10\n",
    "        \n",
    "    if 거스름돈 == 0: break\n",
    "print(동전)"
   ]
  },
  {
   "cell_type": "code",
   "execution_count": 357,
   "id": "da92a834",
   "metadata": {},
   "outputs": [
    {
     "name": "stdout",
     "output_type": "stream",
     "text": [
      "6\n"
     ]
    }
   ],
   "source": [
    "# 거스름 돈\n",
    "# 당신은 음식점의 계산을 도와주는 점원입니다. 카운터에는 거스름 돈으로 사용할 500원,\n",
    "# 100원, 50원, 10원 짜리 동전이 무한히 존재한다고 가정합니다. 손님에게 거슬러 주어야\n",
    "# 할 돈이 N원일 때 거슬러 주어야 할 동전의 최소 개수를 구하세요. 단, 거슬러 줘야 할 돈\n",
    "# N은 항상 10의 배수입니다.\n",
    "\n",
    "# 좀더 효율적인 코드 - 반복되는 횟수가 최소한임\n",
    "거스름돈 = 1260\n",
    "동전 = 0\n",
    "while True:\n",
    "    if 거스름돈 - 500 >= 0:\n",
    "        동전 += 거스름돈 // 500\n",
    "        거스름돈 %=  500\n",
    "    elif 거스름돈 - 100 >= 0:\n",
    "        동전 += 거스름돈 // 100\n",
    "        거스름돈 %=  100\n",
    "    elif 거스름돈 - 50 >= 0:\n",
    "        동전 += 거스름돈 // 50\n",
    "        거스름돈 %=  50         \n",
    "    elif 거스름돈 - 10 >= 0:\n",
    "        동전 += 거스름돈 // 10\n",
    "        거스름돈 %=  10 \n",
    "        \n",
    "    if 거스름돈 == 0: break\n",
    "print(동전)"
   ]
  },
  {
   "cell_type": "code",
   "execution_count": 361,
   "id": "78668588",
   "metadata": {},
   "outputs": [
    {
     "name": "stdout",
     "output_type": "stream",
     "text": [
      "1\n",
      "3\n",
      "5\n",
      "7\n",
      "9\n"
     ]
    }
   ],
   "source": [
    "num = 0\n",
    "while num < 10:\n",
    "    num = num + 1\n",
    "    if num % 2 == 0: # 짝수 (2 로 나누어서 떨어지는 경우) )\n",
    "        continue # 반복문의 맨 위로 이동\n",
    "    print(num) # 홀수만 출력"
   ]
  },
  {
   "cell_type": "code",
   "execution_count": 364,
   "id": "1db2902e",
   "metadata": {},
   "outputs": [
    {
     "name": "stdout",
     "output_type": "stream",
     "text": [
      "1\n",
      "3\n",
      "5\n",
      "7\n",
      "9\n"
     ]
    }
   ],
   "source": [
    "num = 0\n",
    "while num < 10:\n",
    "    num = num + 1\n",
    "    if num % 2 == 1:\n",
    "        print(num) "
   ]
  },
  {
   "cell_type": "code",
   "execution_count": 367,
   "id": "9fc7e45a",
   "metadata": {},
   "outputs": [
    {
     "name": "stdout",
     "output_type": "stream",
     "text": [
      "1~1000의 합은500500\n"
     ]
    }
   ],
   "source": [
    "num = 1 \n",
    "total = 0\n",
    "while num<=1000:\n",
    "    total += num\n",
    "    num += 1\n",
    "print(f'1~1000의 합은{total}')"
   ]
  },
  {
   "cell_type": "code",
   "execution_count": 371,
   "id": "1f3bcd4d",
   "metadata": {},
   "outputs": [
    {
     "name": "stdout",
     "output_type": "stream",
     "text": [
      "1 2\n",
      "3 4\n",
      "5 6\n"
     ]
    }
   ],
   "source": [
    "data = [ (1, 2), (3, 4), (5, 6) ]\n",
    "for a,b in data:\n",
    "    print(a, b)"
   ]
  },
  {
   "cell_type": "code",
   "execution_count": 379,
   "id": "37ebc482",
   "metadata": {},
   "outputs": [
    {
     "name": "stdout",
     "output_type": "stream",
     "text": [
      "(1, 2)\n",
      "(3, 4)\n",
      "(5, 6)\n",
      "1 2\n",
      "3 4\n",
      "5 6\n"
     ]
    }
   ],
   "source": [
    "#\n",
    "data = [ (1, 2), (3, 4), (5, 6) ]\n",
    "for a in data:\n",
    "    print(a)\n",
    "    \n",
    "for a in data:\n",
    "    print(a[0], a[1])"
   ]
  },
  {
   "cell_type": "code",
   "execution_count": 381,
   "id": "fb558625",
   "metadata": {},
   "outputs": [
    {
     "name": "stdout",
     "output_type": "stream",
     "text": [
      "합계 368 점\n"
     ]
    }
   ],
   "source": [
    "score = [ 90, 88, 54, 70, 66 ]\n",
    "total = 0\n",
    "\n",
    "for s in score:\n",
    "    total += s\n",
    "    \n",
    "print('합계', total, '점')\n"
   ]
  },
  {
   "cell_type": "code",
   "execution_count": 383,
   "id": "79d1a5d7",
   "metadata": {},
   "outputs": [
    {
     "name": "stdout",
     "output_type": "stream",
     "text": [
      "합계 368 점\n"
     ]
    }
   ],
   "source": [
    "score = [ 90, 88, 54, 70, 66 ]\n",
    "total = 0\n",
    "idx = 0\n",
    "while idx < len(score):\n",
    "    value = score[idx]\n",
    "    total+=value\n",
    "    idx+=1\n",
    "print('합계', total, '점')\n"
   ]
  },
  {
   "cell_type": "code",
   "execution_count": 386,
   "id": "1646c38b",
   "metadata": {},
   "outputs": [
    {
     "name": "stdout",
     "output_type": "stream",
     "text": [
      "range(0, 3)\n",
      "range(0, 3)\n",
      "range(0, 3)\n",
      "range(0, 10, 3)\n",
      "[0, 3, 6, 9]\n"
     ]
    }
   ],
   "source": [
    "print(range(3)) # 0, 1, 2\n",
    "print(range(0, 3)) #0,1,2\n",
    "print(range(0,3,1)) #0,1,2\n",
    "print(range(0,10,3)) #0,3,6,9\n",
    "\n",
    "#나열해서 보려면 리스트로 표현하면 됨\n",
    "print(list(range(0,10,3)))"
   ]
  },
  {
   "cell_type": "code",
   "execution_count": 388,
   "id": "9c06412f",
   "metadata": {},
   "outputs": [
    {
     "name": "stdout",
     "output_type": "stream",
     "text": [
      "1~100 까지의 합 5050\n"
     ]
    }
   ],
   "source": [
    "total = 0\n",
    "\n",
    "for idx in range(1,101):\n",
    "    total = total + idx\n",
    "    \n",
    "print('1~100 까지의 합',total)"
   ]
  },
  {
   "cell_type": "code",
   "execution_count": 527,
   "id": "8d068595",
   "metadata": {},
   "outputs": [],
   "source": [
    "import requests\n",
    "res = requests.get('http://ggoreb.com/api/idol.jsp')\n",
    "#dict + list = JSON \n",
    "data = res.json()"
   ]
  },
  {
   "cell_type": "code",
   "execution_count": 526,
   "id": "a2df2156",
   "metadata": {},
   "outputs": [
    {
     "name": "stdout",
     "output_type": "stream",
     "text": [
      "원더걸스 JYP 엔터테인먼트\n",
      "소녀시대 SM 엔터테인먼트\n",
      "샤이니 SM 엔터테인먼트\n",
      "2AM JYP 엔터테인먼트\n",
      "2PM JYP 엔터테인먼트\n",
      "2NE1 YG 엔터테인먼트\n",
      "f(x) SM 엔터테인먼트\n",
      "걸스데이 드림티 엔터테인먼트\n",
      "EXO SM 엔터테인먼트\n",
      "BTS 빅히트 엔터테인먼트\n",
      "레드벨벳 SM 엔터테인먼트\n",
      "엔플라잉 FNC 엔터테인먼트\n",
      "트와이스 JYP 엔터테인먼트\n"
     ]
    }
   ],
   "source": [
    "for d in data:\n",
    "    name = d.get('name')\n",
    "    agency = d.get('agency')\n",
    "    print(name, agency)"
   ]
  },
  {
   "cell_type": "code",
   "execution_count": 404,
   "id": "f5eddc6a",
   "metadata": {},
   "outputs": [
    {
     "name": "stdout",
     "output_type": "stream",
     "text": [
      "2 * 1 = 2\t3 * 1 = 3\t4 * 1 = 4\t5 * 1 = 5\t\n",
      "2 * 2 = 4\t3 * 2 = 6\t4 * 2 = 8\t5 * 2 = 10\t\n",
      "2 * 3 = 6\t3 * 3 = 9\t4 * 3 = 12\t5 * 3 = 15\t\n",
      "2 * 4 = 8\t3 * 4 = 12\t4 * 4 = 16\t5 * 4 = 20\t\n",
      "2 * 5 = 10\t3 * 5 = 15\t4 * 5 = 20\t5 * 5 = 25\t\n"
     ]
    }
   ],
   "source": [
    "    for a in range( 1, 6):\n",
    "        for b in range( 2, 6):\n",
    "            print(b, '*', a, '=', (a * b), end='\\t') #end=' ' 옆으로 펼쳐짐, end='\\t' 일정한 간격으로 띄어쓰기\n",
    "        print()"
   ]
  },
  {
   "cell_type": "code",
   "execution_count": 426,
   "id": "b9065758",
   "metadata": {},
   "outputs": [
    {
     "name": "stdout",
     "output_type": "stream",
     "text": [
      "*\n",
      "**\n",
      "***\n",
      "****\n",
      "*****\n",
      "    *\n",
      "   **\n",
      "  ***\n",
      " ****\n",
      "*****\n"
     ]
    }
   ],
   "source": [
    "##### 별찍기\n",
    "space = 0\n",
    "\n",
    "for row in range(5):\n",
    "    for col in range(row+1):\n",
    "        print('*', end='')\n",
    "    print()\n",
    "\n",
    "# 오른쪽으로 별찍기\n",
    "for row in range(5): \n",
    "    space = 5 - (row+1)\n",
    "    for col in range(5):\n",
    "        if col < space:\n",
    "            print(' ',end='')\n",
    "        else:\n",
    "            print('*',end='')\n",
    "    print()\n",
    "   "
   ]
  },
  {
   "cell_type": "code",
   "execution_count": 429,
   "id": "bf266513",
   "metadata": {},
   "outputs": [
    {
     "data": {
      "text/plain": [
       "'안촉촉한 초코칩 나라에 살던 안촉촉한 초코칩이 촉촉한 초코칩 나라의 촉촉한 초코칩을 보고 촉촉한 초코칩이 되고 싶어서 촉촉한 초코칩 나라에 갔는데 촉촉한 초코칩 나라의 촉촉한 초코칩 문지기가 넌 촉촉한 초코칩이 아니고 안촉촉한 초코칩이니까 안촉촉한 초코칩나라에서 살아 라고해서 안촉촉한 초코칩은 촉촉한 초코칩이 되는 것을 포기하고 안촉촉한 초코칩 나라로 돌아갔다.'"
      ]
     },
     "execution_count": 429,
     "metadata": {},
     "output_type": "execute_result"
    }
   ],
   "source": [
    "text = '안촉촉한 초코칩 나라에 살던 안촉촉한 초코칩이 촉촉한 초코칩 나라의 촉촉한 초코칩을 보고 촉촉한 초코칩이 되고 싶어서 촉촉한 초코칩 나라에 갔는데 촉촉한 초코칩 나라의 촉촉한 초코칩 문지기가 넌 촉촉한 초코칩이 아니고 안촉촉한 초코칩이니까 안촉촉한 초코칩나라에서 살아 라고해서 안촉촉한 초코칩은 촉촉한 초코칩이 되는 것을 포기하고 안촉촉한 초코칩 나라로 돌아갔다.'\n",
    "text"
   ]
  },
  {
   "cell_type": "code",
   "execution_count": 435,
   "id": "011f6617",
   "metadata": {},
   "outputs": [
    {
     "data": {
      "text/plain": [
       "{'안촉촉한': 6,\n",
       " '초코칩': 6,\n",
       " '나라에': 2,\n",
       " '살던': 1,\n",
       " '초코칩이': 4,\n",
       " '촉촉한': 8,\n",
       " '나라의': 2,\n",
       " '초코칩을': 1,\n",
       " '보고': 1,\n",
       " '되고': 1,\n",
       " '싶어서': 1,\n",
       " '갔는데': 1,\n",
       " '문지기가': 1,\n",
       " '넌': 1,\n",
       " '아니고': 1,\n",
       " '초코칩이니까': 1,\n",
       " '초코칩나라에서': 1,\n",
       " '살아': 1,\n",
       " '라고해서': 1,\n",
       " '초코칩은': 1,\n",
       " '되는': 1,\n",
       " '것을': 1,\n",
       " '포기하고': 1,\n",
       " '나라로': 1,\n",
       " '돌아갔다.': 1}"
      ]
     },
     "execution_count": 435,
     "metadata": {},
     "output_type": "execute_result"
    }
   ],
   "source": [
    "# 문자 split()-띄어쓰기 기준으로 분리, 반복문 for, 딕셔너리{} - 등장단어:횟수 세기\n",
    "# 초코칩 세기 \n",
    "words = text.split(' ')\n",
    "등장단어 = {}\n",
    "for word in words:\n",
    "    if word in 등장단어:\n",
    "        등장단어[word]+=1\n",
    "    else:\n",
    "        등장단어[word] = 1 #딕셔너리에 추가, 키 중복 허용 X \n",
    "등장단어"
   ]
  },
  {
   "cell_type": "code",
   "execution_count": 440,
   "id": "38d7f198",
   "metadata": {
    "scrolled": true
   },
   "outputs": [
    {
     "data": {
      "text/plain": [
       "Counter({'안촉촉한': 6,\n",
       "         '초코칩': 6,\n",
       "         '나라에': 2,\n",
       "         '살던': 1,\n",
       "         '초코칩이': 4,\n",
       "         '촉촉한': 8,\n",
       "         '나라의': 2,\n",
       "         '초코칩을': 1,\n",
       "         '보고': 1,\n",
       "         '되고': 1,\n",
       "         '싶어서': 1,\n",
       "         '갔는데': 1,\n",
       "         '문지기가': 1,\n",
       "         '넌': 1,\n",
       "         '아니고': 1,\n",
       "         '초코칩이니까': 1,\n",
       "         '초코칩나라에서': 1,\n",
       "         '살아': 1,\n",
       "         '라고해서': 1,\n",
       "         '초코칩은': 1,\n",
       "         '되는': 1,\n",
       "         '것을': 1,\n",
       "         '포기하고': 1,\n",
       "         '나라로': 1,\n",
       "         '돌아갔다.': 1})"
      ]
     },
     "execution_count": 440,
     "metadata": {},
     "output_type": "execute_result"
    }
   ],
   "source": [
    "#개수를 세어주는 도구\n",
    "#import collections.Counter\n",
    "words = text.split()\n",
    "from collections import Counter #많이 쓰는 방식\n",
    "Counter(words)"
   ]
  },
  {
   "cell_type": "code",
   "execution_count": 447,
   "id": "e629735e",
   "metadata": {},
   "outputs": [
    {
     "data": {
      "text/plain": [
       "((0, 1), (2, 3), (4, 5), (6, 7), (8, 9))"
      ]
     },
     "execution_count": 447,
     "metadata": {},
     "output_type": "execute_result"
    }
   ],
   "source": [
    "result = []\n",
    "for i in range(0, 10, 2):\n",
    "    result.append((i,i+1))\n",
    "tuple(result)"
   ]
  },
  {
   "cell_type": "code",
   "execution_count": 452,
   "id": "4b9ba768",
   "metadata": {},
   "outputs": [
    {
     "name": "stdout",
     "output_type": "stream",
     "text": [
      "['안녕', '안녕', '안녕', '안녕', '안녕', '안녕', '안녕', '안녕', '안녕', '안녕']\n",
      "[0, 1, 2, 3, 4, 5, 6, 7, 8, 9]\n"
     ]
    }
   ],
   "source": [
    "print([ '안녕' for a in range(0, 10)])\n",
    "print([ a for a in range(0,10) ])"
   ]
  },
  {
   "cell_type": "code",
   "execution_count": 460,
   "id": "5f11ca5b",
   "metadata": {},
   "outputs": [
    {
     "data": {
      "text/plain": [
       "[40, 45, 4, 26, 39, 2]"
      ]
     },
     "execution_count": 460,
     "metadata": {},
     "output_type": "execute_result"
    }
   ],
   "source": [
    "import random\n",
    "[ random.randint(1,45) for i in range(0,6)]"
   ]
  },
  {
   "cell_type": "code",
   "execution_count": 3,
   "id": "da2b8eb9",
   "metadata": {
    "scrolled": true
   },
   "outputs": [],
   "source": [
    "# #매장 데이터 통계 연습문제\n",
    "# 1. 받아온 JSON 데이터를 Dictionary 및 List 로 변환\n",
    "# 2. 업종별(kind) 매장 수 계산\n",
    "# 3. 주소별(address) 매장 수 계산\n",
    "# - 주소는 \"구\" 까지 slicing 하여 개수 확인\n",
    "# ex) 경기 용인시 처인구 원천로 ➔ 경기 용인시 처인구\n",
    "# 경기 용인시 수지구 광교중앙로 ➔ 경기 용인시 수지구\n",
    "\n",
    "# words = text.split(' ')\n",
    "# 등장단어 = {}\n",
    "# for word in words:\n",
    "#     if word in 등장단어:\n",
    "#         등장단어[word]+=1\n",
    "#     else:\n",
    "#         등장단어[word] = 1 #딕셔너리에 추가, 키 중복 허용 X \n",
    "# 등장단어\n",
    "\n",
    "# for d in data:\n",
    "#     name = d.get('name')\n",
    "#     agency = d.get('agency')\n",
    "#     print(name, agency)\n",
    "\n",
    "import requests as req\n",
    "res = req.get('http://ggoreb.com/quiz/shop.jsp')\n",
    "data = res.json()\n",
    "shop_list = data.get('list')"
   ]
  },
  {
   "cell_type": "code",
   "execution_count": 26,
   "id": "f2cd9e3a",
   "metadata": {},
   "outputs": [
    {
     "data": {
      "text/plain": [
       "{'경기 용인시 기흥구', '경기 용인시 수지구', '경기 용인시 처인구'}"
      ]
     },
     "execution_count": 26,
     "metadata": {},
     "output_type": "execute_result"
    }
   ],
   "source": [
    "# 리스트 컴프리헨션 작성방식\n",
    "shop_list = data.get('list')\n",
    "address_list = { shop.get('address')[0:address.find('구')+1] for shop in shop_list}\n",
    "address_list\n",
    "# kind_list = []\n",
    "# address_list = []\n",
    "# for shop in shop_list:\n",
    "#     kind = shop.get('kind')\n",
    "#     address = shop.get('address')\n",
    "#     kind_list.append(kind)\n",
    "#     address_list.append(address[0:address.find('구')+1])"
   ]
  },
  {
   "cell_type": "code",
   "execution_count": 31,
   "id": "1cc2722d",
   "metadata": {},
   "outputs": [],
   "source": [
    "kind_list = []\n",
    "address_list = []\n",
    "# \n",
    "for shop in shop_list:\n",
    "    kind = shop.get('kind')\n",
    "    address = shop.get('address')\n",
    "    kind_list.append(kind)\n",
    "    address_list.append(address[0:address.find('구')+1])\n"
   ]
  },
  {
   "cell_type": "code",
   "execution_count": 33,
   "id": "b7edc53e",
   "metadata": {
    "scrolled": false
   },
   "outputs": [
    {
     "name": "stdout",
     "output_type": "stream",
     "text": [
      "Counter({'가구-일반가구': 316,\n",
      "         '건축자재-기타건축자재': 262,\n",
      "         '건강식품-기타건강식품': 166,\n",
      "         '건축자재-목재•석재•철물': 98,\n",
      "         '건축자재-건축용 요업제품': 58,\n",
      "         '가구-기타가구': 53,\n",
      "         '건강식품-홍삼제품': 27,\n",
      "         '건강식품-인삼제품': 12,\n",
      "         '가구-철제가구': 3,\n",
      "         '일반휴게음식-일반한식': 2,\n",
      "         '신변잡화-기타잡화': 1,\n",
      "         '사무통신-통신기기': 1,\n",
      "         '학원-예•체능계학원': 1})\n",
      "Counter({'경기 용인시 처인구': 475, '경기 용인시 기흥구': 323, '경기 용인시 수지구': 202})\n"
     ]
    }
   ],
   "source": [
    "from collections import Counter\n",
    "from pprint import pprint #이쁘게 출력하기\n",
    "\n",
    "kind_list = Counter(kind_list)\n",
    "kind_list.most_common() #Counter이용해서 내림차순정렬하기 https://www.ebeb-blog.com/2021/08/06/%ED%8C%8C%EC%9D%B4%EC%8D%AC-%EB%A6%AC%EC%8A%A4%ED%8A%B8-%EC%B9%B4%EC%9A%B4%ED%8A%B8-%EC%A0%95%EB%A0%AC-counter-sort-with-aes-ddt/\n",
    "pprint(kind_list)\n",
    "\n",
    "address_list = Counter(address_list)\n",
    "address_list.most_common()\n",
    "pprint(address_list)"
   ]
  },
  {
   "cell_type": "code",
   "execution_count": 54,
   "id": "b1ba4b06",
   "metadata": {},
   "outputs": [
    {
     "data": {
      "text/plain": [
       "'abcdefghijklmnopqrstuvwxyz'"
      ]
     },
     "execution_count": 54,
     "metadata": {},
     "output_type": "execute_result"
    }
   ],
   "source": [
    "#리스트 컴프리헨션 활용\n",
    "# a~z까지 문자열 생성하기\n",
    "ord('a'), ord('z') #ord 도구를 이용해 숫자값 확인\n",
    "\n",
    "range(ord('a'),ord('z')+1) #range 끝범위 포함안해주므로 +1\n",
    "[ i for i in range(ord('a'),ord('z')+1)]\n",
    " \n",
    " #숫자를 문자로 바꿔주는 도구 =>chr\n",
    "[ chr(i) for i in range(ord('a'),ord('z')+1) ]\n",
    "\n",
    "#''.join () 을 이용하여 문자 한줄로정리\n",
    "''.join([ chr(i) for i in range(ord('a'),ord('z')+1) ])"
   ]
  },
  {
   "cell_type": "code",
   "execution_count": 56,
   "id": "bb2791cc",
   "metadata": {},
   "outputs": [
    {
     "name": "stdout",
     "output_type": "stream",
     "text": [
      "0시 0분\n",
      "1시 1분\n",
      "2시 2분\n",
      "3시 3분\n",
      "4시 4분\n",
      "5시 5분\n",
      "6시 6분\n",
      "7시 7분\n",
      "8시 8분\n",
      "9시 9분\n",
      "10시 10분\n",
      "11시 11분\n",
      "12시 12분\n",
      "13시 13분\n",
      "14시 14분\n",
      "15시 15분\n",
      "16시 16분\n",
      "17시 17분\n",
      "18시 18분\n",
      "19시 19분\n",
      "20시 20분\n",
      "21시 21분\n",
      "22시 22분\n",
      "23시 23분\n"
     ]
    }
   ],
   "source": [
    "# 중첩 2중 반복문\n",
    "# 시계에서 '시'와 '분'이 같은 모든 경우 표현하기\n",
    "# (단 시는 24시간으로 표기)\n",
    "# ex) 00시 00분\n",
    "#     00시 01분\n",
    "#     23시 23분\n",
    "\n",
    "for h in range(0,24):\n",
    "    for m in range(0, 60):\n",
    "        if h == m:\n",
    "            print(f'{h}시 {m}분')"
   ]
  },
  {
   "cell_type": "code",
   "execution_count": 58,
   "id": "4bb84015",
   "metadata": {},
   "outputs": [
    {
     "name": "stdout",
     "output_type": "stream",
     "text": [
      "[1, 2, 3, 4, 5]\n"
     ]
    }
   ],
   "source": [
    "items = [5,3,2,4,1]\n",
    "items.sort()\n",
    "print(items)\n",
    "\n"
   ]
  },
  {
   "cell_type": "code",
   "execution_count": 70,
   "id": "c9d30ffd",
   "metadata": {},
   "outputs": [
    {
     "name": "stdout",
     "output_type": "stream",
     "text": [
      "[3, 2, 4, 1, 5]\n",
      "[2, 3, 1, 4, 5]\n",
      "[2, 1, 3, 4, 5]\n",
      "[1, 2, 3, 4, 5]\n",
      "[1, 2, 3, 4, 5]\n"
     ]
    }
   ],
   "source": [
    "# 이럴땐 어떻게 정렬할지.\n",
    "# 버블 정렬\n",
    "# items = [5, 3, 2, 4, 1]  #두개씩 비교 하면서 바껴감\n",
    "#         [3, 5, 2, 4, 1]\n",
    "#         [3, 2, 5, 4, 1]\n",
    "#         [3, 2, 4, 1, 5]\n",
    "\n",
    "items = [5, 3, 2, 4, 1]\n",
    "\n",
    "def 정렬():\n",
    "    for j in range(len(items)):\n",
    "        for i in range(len(items)-1):\n",
    "            a = items[i]\n",
    "            b = items[i+1]\n",
    "            if a > b:\n",
    "                a,b = b,a #a와 b 위치 교환 문법 \n",
    "                items[i] = a\n",
    "                items[i+1] = b\n",
    "        print(items)"
   ]
  },
  {
   "cell_type": "code",
   "execution_count": null,
   "id": "06e88532",
   "metadata": {},
   "outputs": [],
   "source": []
  }
 ],
 "metadata": {
  "kernelspec": {
   "display_name": "Python 3 (ipykernel)",
   "language": "python",
   "name": "python3"
  },
  "language_info": {
   "codemirror_mode": {
    "name": "ipython",
    "version": 3
   },
   "file_extension": ".py",
   "mimetype": "text/x-python",
   "name": "python",
   "nbconvert_exporter": "python",
   "pygments_lexer": "ipython3",
   "version": "3.10.9"
  }
 },
 "nbformat": 4,
 "nbformat_minor": 5
}
