{
 "cells": [
  {
   "cell_type": "markdown",
   "id": "5a8a0ac7",
   "metadata": {
    "slideshow": {
     "slide_type": "slide"
    }
   },
   "source": [
    "+## Let's get started!\n",
    "\n",
    "- <font color=lightgrey>Understanding AI, ML and DL concepts</font>\n",
    "<br><br>\n",
    "- Understanding fundamentals of DL algorithm\n",
    "  - Regression and classification\n",
    "  - Neural networks and deep learning\n",
    "<br><br>\n",
    "- Only <font color=blue>**pure Python**</font> without any AI library\n",
    "  - Looking into the inside of <font color=red>**core**</font> DL algorithm"
   ]
  },
  {
   "cell_type": "markdown",
   "id": "ef9b83cf",
   "metadata": {
    "slideshow": {
     "slide_type": "slide"
    }
   },
   "source": [
    "# <center>CHAP 2. 신경망 (Neural Networks)</center>"
   ]
  },
  {
   "cell_type": "markdown",
   "id": "c339ec27",
   "metadata": {
    "slideshow": {
     "slide_type": "slide"
    }
   },
   "source": [
    "### 신경망이란...\n",
    "\n",
    "- 머신러닝을 구현하는 기술 중 하나\n",
    "\n",
    "- 딥러닝을 구현하는 기술 → 신경망의 중요성이 매우 커짐"
   ]
  },
  {
   "cell_type": "markdown",
   "id": "5268b37e",
   "metadata": {
    "slideshow": {
     "slide_type": "slide"
    }
   },
   "source": [
    "### 뇌의 정보 저장 방식\n",
    "\n",
    "- 컴퓨터는 정보를 메모리의 특정 위치에 저장\n",
    "\n",
    "- 뇌는 신경세포$^\\text{neuron}$의 <font color=blue>**연결 관계**</font>를 변경하는 방식으로 저장\n",
    "\n",
    "  - 신경세포는 단순히 다른 신경세포에서 오는 신호를<br>\n",
    "    받아 자신의 신호를 내보내는 역할\n",
    "\n",
    "  - 뇌는 이런 신경세포들이 연결된 거대한 네트워크로<br>\n",
    "    <font color='blue'>**신경세포들의 연결 상태**</font>가 뇌에 저장된 정보"
   ]
  },
  {
   "cell_type": "markdown",
   "id": "6a5108ab",
   "metadata": {
    "slideshow": {
     "slide_type": "slide"
    }
   },
   "source": [
    "### 뇌의 동작 메커니즘 모사\n",
    "<br>\n",
    "\n",
    "■ **인공**$^\\text{artificial}$신경망 : 뇌의 작동 원리를 본떠 만들어서...\n",
    "\n",
    "- 수많은 신경세포가 연결되어 뇌를 구성하는 것처럼<br>\n",
    "  노드$^\\text{node}$라는 작은 요소들을 연결해 만든 네트워크\n",
    "\n",
    "- 신경세포들의 <font color=blue>**연결 관계**</font>를 노드들의 <font color=red>**연결 가중치**</font>로 구현"
   ]
  },
  {
   "cell_type": "markdown",
   "id": "27b96603",
   "metadata": {
    "slideshow": {
     "slide_type": "slide"
    }
   },
   "source": [
    "■ **인공**$^\\text{artificial}$신경세포 : 신경세포의 작동 원리를 본떠 만들어서...\n",
    "- 인공신경세포(노드)의 동작 메커니즘\n",
    "<br>\n",
    "\n",
    "&nbsp;&nbsp;&nbsp;&nbsp;· 원 : 노드<br>\n",
    "&nbsp;&nbsp;&nbsp;&nbsp;· 화살표 : 신호의 흐름<br>\n",
    "&nbsp;&nbsp;&nbsp;&nbsp;· $x_1, x_2, x_3$ : 외부에서 들어오는 신호<br>\n",
    "&nbsp;&nbsp;&nbsp;&nbsp;· $w_1, w_2, w_3, b$ : 해당 신호의 연결 가중치와 바이어스<br>\n",
    "&nbsp;&nbsp;&nbsp;&nbsp;&nbsp;(신경망에서 <font color='red'>**정보는 연결 가중치와 바이어스의 형태**</font>로 저장)"
   ]
  },
  {
   "cell_type": "markdown",
   "id": "3731546c",
   "metadata": {
    "slideshow": {
     "slide_type": "slide"
    }
   },
   "source": [
    "- 외부에서 들어오는 신호는 해당 가중치가 곱해져 노드로 전달\n",
    "\n",
    "- 노드는 이 값들을 모두 더해서 가중합$^\\text{weighted sum}$을 계산\n",
    "\n",
    "$$\n",
    "\\begin{align}\n",
    "v &= w_1 x_1 + w_2 x_2 + w_3 x_3 + b \\\\[1ex]\n",
    "  &= \\sum_{i}{w_i x_i} + b\n",
    "\\end{align}\n",
    "$$"
   ]
  },
  {
   "cell_type": "markdown",
   "id": "b117af36",
   "metadata": {
    "slideshow": {
     "slide_type": "slide"
    }
   },
   "source": [
    "$$v = w_1 x_1 + w_2 x_2 + w_3 x_3 + b$$\n",
    "\n",
    "- 가중치가 크면 해당 신호가 크게 반영되고, 작으면 작게 반영\n",
    "\n",
    "- 만약 가중치 $w_1=0$이면, 신호 $x_1$은 전혀 전달되지 않게 됨<br>\n",
    "  → $x_1$을 내보내는 노드와 연결이 끊김\n",
    "\n",
    "- 이처럼 신경망은 <font color='red'>**가중치를 조정**</font>하는 방식으로<br>\n",
    "  뇌가 <font color='blue'>**신경세포들의 연결 관계를 변경**</font>하는 동작을 모사"
   ]
  },
  {
   "cell_type": "markdown",
   "id": "39608964",
   "metadata": {
    "slideshow": {
     "slide_type": "slide"
    }
   },
   "source": [
    "$$\n",
    "v = w_1 x_1 + w_2 x_2 + w_3 x_3 + b \\\\[3ex]\n",
    "\\iff\n",
    "\\begin{cases}\n",
    "v = \\mathbf{w}^T \\mathbf{x} + b \\\\[1ex]\n",
    "\\mathbf{w} = \\begin{bmatrix} w_1 \\\\ w_2 \\\\ w_3 \\end{bmatrix}, \\;\n",
    "\\mathbf{x} = \\begin{bmatrix} x_1 \\\\ x_2 \\\\ x_3 \\end{bmatrix}\n",
    "\\end{cases}\n",
    "$$"
   ]
  },
  {
   "cell_type": "markdown",
   "id": "147d3d16",
   "metadata": {
    "slideshow": {
     "slide_type": "slide"
    }
   },
   "source": [
    "- 마지막으로,<br>노드는 가중합을 활성함수에 입력해 얻은 값을 외부로 출력\n",
    "\n",
    "- 이 활성함수에 의해 노드의 동작 특성이 결정\n",
    "\n",
    "$$y = \\varphi(v) \\quad \\varphi(\\cdot):\\text{activation function}$$"
   ]
  },
  {
   "cell_type": "markdown",
   "id": "d57744b4",
   "metadata": {
    "slideshow": {
     "slide_type": "slide"
    }
   },
   "source": [
    "노드의 동작 과정을 요약하면,\n",
    "\n",
    "1. 입력 신호의 가중합을 구한다.\n",
    "\n",
    "$$v = w_1 x_1 + w_2 x_2 + w_3 x_3 + b = \\mathbf{w}^T \\mathbf{x} + b$$\n",
    "\n",
    "2. 활성함수에 가중합을 입력해 얻은 값을 외부로 출력한다.\n",
    "\n",
    "$$y = \\varphi(v) = \\varphi(\\mathbf{w}^T \\mathbf{x} + b)$$"
   ]
  },
  {
   "cell_type": "markdown",
   "id": "193c34cb",
   "metadata": {
    "slideshow": {
     "slide_type": "slide"
    }
   },
   "source": [
    "### 뇌를 모사한 (인공$^\\text{artificial}$)신경망\n",
    "\n",
    "- 뇌가 신경세포들의 거대한 네트워크인 것처럼\n",
    "\n",
    "- 신경망은 노드들을 연결하여 만든 네트워크"
   ]
  },
  {
   "cell_type": "markdown",
   "id": "e8b4d3b8",
   "metadata": {
    "slideshow": {
     "slide_type": "slide"
    }
   },
   "source": [
    "- 노드의 연결 방식에 따라 다양한 형태의 신경망이 존재<br>\n",
    "  → 노드들을 계층적으로 배치한 형태가 가장 많이 사용됨"
   ]
  },
  {
   "cell_type": "markdown",
   "id": "8bf933d6",
   "metadata": {
    "slideshow": {
     "slide_type": "slide"
    }
   },
   "source": [
    "- 입력층$^\\text{input layer}$: 들어온 신호를 그대로 다음 노드로 전달<br>→ 가중합이나 활성함수 계산을 하지 않음(사각형으로 구별)\n",
    "\n",
    "- 출력층$^\\text{output layer}$: 신경망의 최종 결과값 출력\n",
    "\n",
    "- 은닉층$^\\text{hidden layer}$: 외부와 차단되어 직접 접근 불가"
   ]
  },
  {
   "cell_type": "markdown",
   "id": "4528085c",
   "metadata": {
    "slideshow": {
     "slide_type": "slide"
    }
   },
   "source": [
    "### 뇌의 동작 메커니즘 모사\n",
    "\n",
    "- 신호는 입력층으로 들어가 은닉층을 거쳐 출력층으로 나옴\n",
    "\n",
    "- 신호는 층 단위로 이동<br>→ 같은 층 노드들은 신호를 동시에 입력받고<br>&nbsp;&nbsp;처리한 결과도 동시에 다음 층으로 내보냄\n",
    "<br><br>\n",
    "- 아래의 신경망으로 동작 메커니즘 확인(활성함수 $\\varphi(x)=x$)"
   ]
  },
  {
   "cell_type": "markdown",
   "id": "7b5efd1d",
   "metadata": {
    "slideshow": {
     "slide_type": "slide"
    }
   },
   "source": [
    "- 은닉층 노드의 출력\n",
    "\n",
    "- 첫 번째 노드 출력\n",
    "  - 가중합 : $v = (3 × 1) + (1 × 2) + 1 = 6$\n",
    "  - 출력 : $y = \\varphi(v) = v = 6$\n",
    "\n",
    "- 두 번째 노드 출력\n",
    "  - 가중합 : $v = (2 × 1) + (4 × 2) + 1 = 11$\n",
    "  - 출력 : $y = \\varphi(v) = v = 11$"
   ]
  },
  {
   "cell_type": "markdown",
   "id": "a3014dc5",
   "metadata": {
    "slideshow": {
     "slide_type": "slide"
    }
   },
   "source": [
    "- 가중합 계산식을 묶어 행렬로 나타내면\n",
    "\n",
    "$$\n",
    "\\mathbf{v} = \\begin{bmatrix} 3×1+1×2+1 \\\\ 2×1+4×2+1 \\end{bmatrix}\n",
    "           = \\begin{bmatrix} 3 & 1 \\\\ 2 & 4 \\end{bmatrix}\n",
    "             \\begin{bmatrix} 1 \\\\ 2 \\end{bmatrix}\n",
    "           + \\begin{bmatrix} 1 \\\\ 1 \\end{bmatrix}\n",
    "$$"
   ]
  },
  {
   "cell_type": "markdown",
   "id": "087597d6",
   "metadata": {
    "slideshow": {
     "slide_type": "slide"
    }
   },
   "source": [
    "$$\n",
    "\\mathbf{v} = \\begin{bmatrix} 3 & 1 \\\\ 2 & 4 \\end{bmatrix}\n",
    "             \\begin{bmatrix} 1 \\\\ 2 \\end{bmatrix}\n",
    "           + \\begin{bmatrix} 1 \\\\ 1 \\end{bmatrix}\n",
    "$$\n",
    "\n",
    "&nbsp;&nbsp;&nbsp;&nbsp;에서 $(2×2)$행렬의\n",
    "- 첫째 행 : 첫 번째 노드에 연결된 가중치\n",
    "- 둘째 행 : 두 번째 노드에 연결된 가중치"
   ]
  },
  {
   "cell_type": "markdown",
   "id": "8122b227",
   "metadata": {
    "slideshow": {
     "slide_type": "slide"
    }
   },
   "source": [
    "- 일반화하면 가중합 계산은 다음과 같이...\n",
    "<br><br>\n",
    "$$\\mathbf{v} = \\mathbf{W} \\mathbf{x} + \\mathbf{b} \\tag{2.1}$$<br>\n",
    "\n",
    "  - $\\mathbf{x}$는 입력 신호 벡터, $\\mathbf{b}$는 노드들의 바이어스 벡터\n",
    "\n",
    "  - $\\mathbf{W}$는 각 행마다 노드의 가중치들이 배치된 행렬\n",
    "\n",
    "$$\n",
    "\\mathbf{W} = \\begin{bmatrix}\n",
    "             \\text{--첫째 노드에 연결된 가중치들--} \\\\\n",
    "             \\text{--둘째 노드에 연결된 가중치들--}\n",
    "             \\end{bmatrix}\n",
    "$$"
   ]
  },
  {
   "cell_type": "markdown",
   "id": "58438cb3",
   "metadata": {
    "slideshow": {
     "slide_type": "slide"
    }
   },
   "source": [
    "- 출력층 노드의 출력\n",
    "\n",
    "- 행렬로 한 번에 계산\n",
    "\n",
    "  - 가중합 : $\\mathbf{v} = \\begin{bmatrix} 3 & 2 \\\\ 5 & 1 \\end{bmatrix}\n",
    "                           \\begin{bmatrix} 6 \\\\ 11 \\end{bmatrix}\n",
    "                         + \\begin{bmatrix} 1 \\\\ 1 \\end{bmatrix}\n",
    "                         = \\begin{bmatrix} 41 \\\\ 42 \\end{bmatrix}$\n",
    "\n",
    "  - 출력 : $\\mathbf{y} = \\varphi(\\mathbf{v}) = \\mathbf{v}\n",
    "                       = \\begin{bmatrix} 41 \\\\ 42 \\end{bmatrix}$"
   ]
  },
  {
   "cell_type": "markdown",
   "id": "e1a7d3ef",
   "metadata": {
    "slideshow": {
     "slide_type": "slide"
    }
   },
   "source": [
    "- 은닉층 활성함수가 선형함수이면 안 됨\n",
    "  - 은닉층 추가 효과가 사라져 단층 신경망과 동일해짐\n",
    "\n",
    "$$\n",
    "\\begin{align}\n",
    "\\mathbf{v}\n",
    "&= \\begin{bmatrix} 3 & 2 \\\\ 5 & 1 \\end{bmatrix}\n",
    "   \\begin{bmatrix} 6 \\\\ 11 \\end{bmatrix} +\n",
    "   \\begin{bmatrix} 1 \\\\ 1 \\end{bmatrix} \\\\\n",
    "&= \\begin{bmatrix} 3 & 2 \\\\ 5 & 1 \\end{bmatrix}\n",
    "   \\left(\n",
    "   \\begin{bmatrix} 3 & 1 \\\\ 2 & 4 \\end{bmatrix}\n",
    "   \\begin{bmatrix} 1 \\\\ 2 \\end{bmatrix} +\n",
    "   \\begin{bmatrix} 1 \\\\ 1 \\end{bmatrix}\n",
    "   \\right) +\n",
    "   \\begin{bmatrix} 1 \\\\ 1 \\end{bmatrix} \\\\\n",
    "&= \\begin{bmatrix} 3 & 2 \\\\ 5 & 1 \\end{bmatrix}\n",
    "   \\begin{bmatrix} 3 & 1 \\\\ 2 & 4 \\end{bmatrix}\n",
    "   \\begin{bmatrix} 1 \\\\ 2 \\end{bmatrix} +\n",
    "   \\begin{bmatrix} 3 & 2 \\\\ 5 & 1 \\end{bmatrix}\n",
    "   \\begin{bmatrix} 1 \\\\ 1 \\end{bmatrix} +\n",
    "   \\begin{bmatrix} 1 \\\\ 1 \\end{bmatrix} \\\\\n",
    "&= \\begin{bmatrix} 13 & 11 \\\\ 17 & 9 \\end{bmatrix}\n",
    "   \\begin{bmatrix} 1 \\\\ 2 \\end{bmatrix} +\n",
    "   \\begin{bmatrix} 6 \\\\ 7 \\end{bmatrix}\n",
    "\\end{align}\n",
    "$$\n"
   ]
  },
  {
   "cell_type": "markdown",
   "id": "145a9ac2",
   "metadata": {
    "slideshow": {
     "slide_type": "slide"
    }
   },
   "source": [
    "- 은닉층 활성함수가 선형이면 단층 신경망과 동등해짐"
   ]
  },
  {
   "cell_type": "markdown",
   "id": "1a6e3008",
   "metadata": {
    "slideshow": {
     "slide_type": "subslide"
    }
   },
   "source": [
    "- 출력층 활성함수를 선형함수로 사용하는 것은 괜찮음\n",
    "\n",
    "- 회귀분석처럼 출력층에 선형함수를 써야 하는 경우도 있음"
   ]
  },
  {
   "cell_type": "markdown",
   "id": "0560d0d9",
   "metadata": {
    "slideshow": {
     "slide_type": "slide"
    }
   },
   "source": [
    "### 뇌의 학습 메커니즘 모사\n",
    "<br>\n",
    "\n",
    "■ 신경망의 지도 학습\n",
    "\n",
    "1. 신경망의 가중치를 적당한 값으로 초기화\n",
    "\n",
    "2. 지도학습의 학습데이터 {입력, 정답}에서 '입력'을 신경망에<br>입력해 출력을 얻고, 해당 '정답'과 비교해 오차를 계산\n",
    "\n",
    "3. 오차가 줄어들도록 신경망의 가중치 조절\n",
    "\n",
    "4. 전체 학습데이터에 대해 2~3을 반복\n",
    "\n",
    "- 지도학습에서 학습이란,<br>모델의 출력과 정답의 차이를 줄이도록 모델을 수정하는 과정"
   ]
  },
  {
   "cell_type": "markdown",
   "id": "f9140dae",
   "metadata": {
    "slideshow": {
     "slide_type": "slide"
    }
   },
   "source": [
    "### 학습 규칙\n",
    "\n",
    "- 신경망의 지도 학습에서 <font color=blue>**'오차가 줄도록 가중치 조절'**</font>이 핵심\n",
    "\n",
    "- 가중치 조절을 체계적으로 수행하는 방법을 <font color=green>**학습 규칙**</font>이라 함\n",
    "\n",
    "- 신경망의 학습 규칙은 <font color=red>**델타 규칙**</font>$^\\text{(Frank Rosenblatt, 1957, “Perceptron”)}$<br>\n",
    "  을 근간으로 함"
   ]
  },
  {
   "cell_type": "markdown",
   "id": "7bb3d737",
   "metadata": {
    "slideshow": {
     "slide_type": "slide"
    }
   },
   "source": [
    "### 델타 규칙$^\\text{delta rule}$\n",
    "<br>\n",
    "\n",
    "&nbsp;&nbsp;\"어떤 입력 노드가 출력 노드의 오차에<br>\n",
    "&nbsp;&nbsp;&nbsp;기여했다면, 두 노드의 연결 가중치는<br>\n",
    "&nbsp;&nbsp;&nbsp;해당 입력노드 출력$(x_j)$과 출력노드의<br>\n",
    "&nbsp;&nbsp;&nbsp;오차$(e_i)$에 비례하여 조절한다\"\n",
    "<br><br>\n",
    "\n",
    "$$w_{ij} \\leftarrow w_{ij} + \\alpha \\, e_{i} \\, x_{j} \\tag{2.2}$$\n",
    "\n",
    "$$\n",
    "\\begin{align}\n",
    "x_{j}  &= 입력노드 \\, j의 \\, 출력 \\\\\n",
    "e_{i}  &= 출력노드 \\, i의 \\, 오차 \\\\\n",
    "w_{ij} &= 출력노드 \\, i와 \\, 입력노드 \\, j의 \\, 연결 가중치 \\\\\n",
    "\\alpha &= 학습률 \\; (0 < \\alpha \\le 1)\n",
    "\\end{align}\n",
    "$$"
   ]
  },
  {
   "cell_type": "markdown",
   "id": "b1274523",
   "metadata": {
    "slideshow": {
     "slide_type": "slide"
    }
   },
   "source": [
    "3개의 입력 노드와 1개의 출력 노드로 구성된 신경망이라면,\n",
    "<br><br>\n",
    "\n",
    "$$\n",
    "\\begin{cases}\n",
    "\\begin{align}\n",
    "w_{11} &\\leftarrow w_{11} + \\alpha \\, e_{1} \\, x_{1} \\\\[1ex]\n",
    "w_{12} &\\leftarrow w_{12} + \\alpha \\, e_{1} \\, x_{2} \\\\[1ex]\n",
    "w_{13} &\\leftarrow w_{13} + \\alpha \\, e_{1} \\, x_{3}\n",
    "\\end{align}\n",
    "\\end{cases}\n",
    "\\tag{2.3}\n",
    "$$"
   ]
  },
  {
   "cell_type": "markdown",
   "id": "0674a0cc",
   "metadata": {
    "slideshow": {
     "slide_type": "subslide"
    }
   },
   "source": [
    "**가중치 인덱스 표기 방법**\n",
    "\n",
    "- 신호가 전달되는 출력 노드 번호($y_1$의 '1')를 먼저 표기\n",
    "- 두 번째 입력 노드와 첫 번째 출력 노드의 연결 가중치 $→$ '$w_{12}$'\n",
    "- 가중치 행렬의 $i$ 행에 출력 노드 $i$에 연결되는 가중치들을 배치\n",
    "\n",
    "$$\n",
    "\\mathbf{W} = \\begin{bmatrix}\n",
    "             \\text{--첫 번째 출력 노드에 연결된 가중치들--} \\\\\n",
    "             \\cdots \\\\\n",
    "             \\text{--i 번째 출력 노드에 연결된 가중치들--} \\\\\n",
    "             \\cdots \\\\\n",
    "             \\text{--마지막 출력 노드에 연결된 가중치들--}\n",
    "             \\end{bmatrix}\n",
    "$$"
   ]
  },
  {
   "cell_type": "markdown",
   "id": "68d4d28d",
   "metadata": {
    "slideshow": {
     "slide_type": "slide"
    }
   },
   "source": [
    "델타 규칙의 지도 학습\n",
    "<br>\n",
    "\n",
    "&nbsp;&nbsp;1. 신경망의 가중치를 적당한 값으로 초기화\n",
    "\n",
    "&nbsp;&nbsp;2. 학습 데이터 {입력, 정답}에서 '입력'을<br>\n",
    "&nbsp;&nbsp;&nbsp;&nbsp;&nbsp;신경망에 입력해 출력$(y_i)$을 얻고, 해당<br>\n",
    "&nbsp;&nbsp;&nbsp;&nbsp;&nbsp;'정답$(d_i)$'과 비교해 오차$(e_i=d_i-y_i)$<br>\n",
    "&nbsp;&nbsp;&nbsp;&nbsp;&nbsp;를 계산\n",
    "\n",
    "&nbsp;&nbsp;3. 델타 규칙으로 가중치 갱신값$(\\Delta w_{ij}=\\alpha e_i x_j)$을 계산하고<br>\n",
    "&nbsp;&nbsp;&nbsp;&nbsp;&nbsp;가중치 조절$(w_{ij} \\leftarrow w_{ij} + \\Delta w_{ij})$\n",
    "\n",
    "&nbsp;&nbsp;4. 전체 학습 데이터에 대해 2~3을 반복\n",
    "\n",
    "&nbsp;&nbsp;<font color='blue'>**5. 신경망의 출력 오차가 충분히 줄어들 때까지 2~4를 반복**</font>"
   ]
  },
  {
   "cell_type": "markdown",
   "id": "161ff5cb",
   "metadata": {
    "slideshow": {
     "slide_type": "slide"
    }
   },
   "source": [
    "**5. 신경망의 출력 오차가 충분히 줄어들 때까지 2~4를 반복**\n",
    "\n",
    "- 전체 학습 데이터를 반복해서 재학습하라는 의미\n",
    "\n",
    "- 델타 규칙은 정답을 한 번에 찾을 수 있는 것이 아니라,<br>과정을 반복하면서 정답을 찾아가는 알고리즘\n",
    "  - 경사 하강법$^\\text{gradient descent}$에 의한 최적화 기법\n",
    "\n",
    "- 이미 학습한 데이터도 재학습하면 성능 개선이 이루어짐\n",
    "\n",
    "- 2~4에 걸쳐 **<font color='blue'>전체 학습 데이터를 한 번 학습 → '1 epoch'</font>**\n",
    "\n",
    "  - **'epoch = 10'**: 전체 학습 데이터 10번 반복 학습"
   ]
  },
  {
   "cell_type": "markdown",
   "id": "17128a46",
   "metadata": {
    "slideshow": {
     "slide_type": "slide"
    }
   },
   "source": [
    "### 임의의 활성함수에 대한 델타 규칙\n",
    "<br>\n",
    "\n",
    "$$w_{ij} \\leftarrow w_{ij} + \\alpha \\, \\delta_{i} \\, x_{j} \\tag{2.4}$$\n",
    "\n",
    "$$\\delta_{i} = \\varphi'(v_{i}) e_{i} \\tag{2.5}$$\n",
    "\n",
    "$$\n",
    "\\begin{align}\n",
    "e_{i} &= 출력노드 \\, i의 \\, 오차 \\\\\n",
    "v_{i} &= 출력노드 \\, i의 \\, 가중합 \\\\\n",
    "\\varphi' &= 출력노드 \\, i의 \\, 활성함수 \\, \\varphi의 \\, 도함수\n",
    "\\end{align}\n",
    "$$\n",
    "<br>\n",
    "\n",
    "- 앞에서 활성함수는 $\\varphi(x) = x$ 이었고, 이에 대한 델타 규칙은\n",
    "\n",
    "$$\\varphi'(x) = 1, \\quad \\therefore \\delta_{i} = e_{i}, \\quad \\therefore w_{ij} \\leftarrow w_{ij} + \\alpha \\, e_{i} \\, x_{j}$$"
   ]
  },
  {
   "cell_type": "markdown",
   "id": "b4e36d55",
   "metadata": {
    "slideshow": {
     "slide_type": "slide"
    }
   },
   "source": [
    "시그모이드$^\\text{sigmoid}$ 함수에 대한 델타 규칙\n",
    "\n",
    "&nbsp;&nbsp;■ 시그모이드 함수는,\n",
    "<br>\n",
    "\n",
    "$$\\varphi(x) = \\frac{1}{1+e^{-x}}$$\n",
    "\n",
    "- 활성함수로 많이 사용됨\n",
    "\n",
    "- 입력 $(-\\infty, \\infty)$, 출력 $(0, 1)$\n",
    "\n",
    "- 출력이 이미 정규화된 함수로 학습 데이터만 정규화하여<br>\n",
    "  실제의 다양한 문제에 적용 가능함\n",
    "\n",
    "- 출력이 논리값인 문제(ex. 분류$^\\text{classification}$문제)에 적합<br>\n",
    "    → 'logistic function'이라고도 불림\n",
    "\n",
    "- 출력이 확률을 나타내는 문제에도 쉽게 적용 가능함"
   ]
  },
  {
   "cell_type": "markdown",
   "id": "61aa1d56",
   "metadata": {
    "slideshow": {
     "slide_type": "slide"
    }
   },
   "source": [
    "- 시그모이드 함수 정의\n",
    "<br>\n",
    "\n",
    "$$\\varphi(x) = \\frac{1}{1+e^{-x}}$$"
   ]
  },
  {
   "cell_type": "code",
   "execution_count": 1,
   "id": "8ceb203a",
   "metadata": {
    "slideshow": {
     "slide_type": "-"
    }
   },
   "outputs": [],
   "source": [
    "def Sigmoid(x):\n",
    "    e = 2.7182818284\n",
    "    y = 1 / (1 + e**(-x))\n",
    "    return y"
   ]
  },
  {
   "cell_type": "markdown",
   "id": "49336deb",
   "metadata": {
    "slideshow": {
     "slide_type": "slide"
    }
   },
   "source": [
    "- 시그모이드 함수 시각화"
   ]
  },
  {
   "cell_type": "code",
   "execution_count": 2,
   "id": "3ad73d6d",
   "metadata": {
    "slideshow": {
     "slide_type": "-"
    }
   },
   "outputs": [],
   "source": [
    "import numpy as np\n",
    "import matplotlib.pyplot as plt\n",
    "\n",
    "def PlotSigmoid(np, plt):\n",
    "    x = np.linspace(-8, 8, 100)\n",
    "    plt.figure(figsize=(10, 6))\n",
    "    plt.plot(x, Sigmoid(x), label='φ(x) = 1 / [1 + exp(-x)]')\n",
    "    plt.xlabel('x')\n",
    "    plt.ylabel('φ(x)')\n",
    "    plt.xticks(np.arange(-8, 9, 1))\n",
    "    plt.yticks(np.arange(0, 1.1, 0.1))\n",
    "    plt.axhline(0.5, color='grey', ls='--')\n",
    "    plt.axvline(0.0, color='grey', ls='--')\n",
    "    plt.legend()\n",
    "    plt.show()"
   ]
  },
  {
   "cell_type": "code",
   "execution_count": 3,
   "id": "f14e1870",
   "metadata": {
    "scrolled": false,
    "slideshow": {
     "slide_type": "slide"
    }
   },
   "outputs": [
    {
     "data": {
      "image/png": "[encoded data removed]",
      "text/plain": [
       "<Figure size 720x432 with 1 Axes>"
      ]
     },
     "metadata": {
      "needs_background": "light"
     },
     "output_type": "display_data"
    }
   ],
   "source": [
    "PlotSigmoid(np, plt)"
   ]
  },
  {
   "cell_type": "markdown",
   "id": "0f504a2d",
   "metadata": {
    "slideshow": {
     "slide_type": "slide"
    }
   },
   "source": [
    "- 시그모이드 함수의 도함수\n",
    "<br>\n",
    "\n",
    "$$\n",
    "\\varphi'(x) = \\frac{d}{dx} \\left( \\frac{1}{1+e^{-x}} \\right) =\n",
    "\\cdots =\n",
    "\\varphi(x) (1- \\varphi(x))\n",
    "$$\n",
    "\n",
    "&nbsp;&nbsp;&nbsp;&nbsp;&nbsp;&nbsp;식 (2.5)에 대입하여\n",
    "\n",
    "$$\n",
    "\\delta_{i} = \\varphi'(v_{i}) e_{i} = \\varphi(v_{i}) (1- \\varphi(v_{i})) e_{i}\n",
    "$$\n",
    "\n",
    "&nbsp;&nbsp;&nbsp;&nbsp;&nbsp;&nbsp;따라서, 시그모이드 함수에 대한 델타 규칙은\n",
    "\n",
    "$$\n",
    "w_{ij} \\leftarrow w_{ij} + \\alpha \\, \\varphi(v_{i}) (1- \\varphi(v_{i})) \\, e_{i} \\, x_{j}\n",
    "\\tag{2.6}\n",
    "$$\n",
    "\n",
    "&nbsp;&nbsp;&nbsp;&nbsp;&nbsp;&nbsp;정리하면,\n",
    "$$\n",
    "w_{ij} \\leftarrow w_{ij} + \\alpha \\, \\delta_{i} \\, x_{j} \\\\\n",
    "\\delta_{i} = \\varphi(v_{i}) (1- \\varphi(v_{i})) e_{i}\n",
    "$$"
   ]
  },
  {
   "cell_type": "markdown",
   "id": "189db894",
   "metadata": {
    "slideshow": {
     "slide_type": "subslide"
    }
   },
   "source": [
    "$$\n",
    "w_{ij} \\leftarrow w_{ij} + \\alpha \\, \\varphi(v_{i}) (1- \\varphi(v_{i})) \\, e_{i} \\, x_{j}\n",
    "$$\n",
    "<br>\n",
    "\n",
    "가중치 갱신 수식이 다소 복잡해졌지만,\n",
    "- 출력 노드의 오차$(e_i)$와 입력 노드의 출력$(x_j)$에 비례해서<br>가중치를 변경한다는 델타 규칙의 기본 개념은 변함 없음"
   ]
  },
  {
   "cell_type": "markdown",
   "id": "bfabeb58",
   "metadata": {
    "slideshow": {
     "slide_type": "slide"
    }
   },
   "source": [
    "### 가중치 갱신값 계산 방식\n",
    "<br>\n",
    "\n",
    "신경망의 지도 학습에서 가중치의 갱신값을 계산하는 방식은...\n",
    "<br><br>\n",
    "\n",
    "- 스토캐스틱 경사 하강법$^\\text{(stochastic gradient descent, SGD 방법)}$<br><br>\n",
    "\n",
    "- 배치$^\\text{batch}$ 방법<br><br>\n",
    "\n",
    "- 미니 배치$^\\text{mini-batch}$ 방법"
   ]
  },
  {
   "cell_type": "markdown",
   "id": "a4837759",
   "metadata": {
    "slideshow": {
     "slide_type": "slide"
    }
   },
   "source": [
    "■ SGD 방법\n",
    "\n",
    "- 하나의 학습 데이터마다 오차를 계산해<br>\n",
    "  바로 가중치 갱신값 계산 및 가중치 조절\n",
    "\n",
    "$$\\Delta w_{ij} = \\alpha \\delta_i x_j$$"
   ]
  },
  {
   "cell_type": "markdown",
   "id": "cab2b1ba",
   "metadata": {
    "slideshow": {
     "slide_type": "subslide"
    }
   },
   "source": [
    "- 학습 데이터가 100개라면 1 epoch 중에<br>\n",
    "  SGD 방법은 가중치를 100번 갱신\n",
    "\n",
    "<br>\n",
    "\n",
    "- SGD는 하나의 학습 데이터마다 매번<br>\n",
    "  가중치를 갱신하므로 신경망의 성능이<br>\n",
    "  들쑥날쑥 변하면서 학습이 진행됨\n",
    "\n",
    "<br>\n",
    "\n",
    "- 이 과정이 무작위로 움직이는 것처럼<br>\n",
    "  보여서 '**stochastic**'이라고 명명"
   ]
  },
  {
   "cell_type": "markdown",
   "id": "0449d4da",
   "metadata": {
    "slideshow": {
     "slide_type": "slide"
    }
   },
   "source": [
    "■ Batch 방법\n",
    "<br><br>\n",
    "\n",
    "- 모든 학습 데이터의 오차에 대해 가중치<br>\n",
    "  갱신값을 계산한 뒤, 이들의 평균값으로<br>\n",
    "  가중치를 한 번만 갱신\n",
    "<br><br>\n",
    "\n",
    "$$\n",
    "\\Delta w_{ij} = \\frac{1}{N} \\sum_{k=1}^{N}{\\Delta w_{ij}(k)}\n",
    "\\tag{2.7}\n",
    "$$\n",
    "\n",
    "&nbsp;&nbsp;&nbsp;&nbsp;&nbsp;&nbsp;$\\Delta w_{ij}(k)$는 $k$번째 학습 데이터에 대한 가중치 갱신값,\n",
    "\n",
    "&nbsp;&nbsp;&nbsp;&nbsp;&nbsp;&nbsp;$N$은 학습 데이터의 총 개수"
   ]
  },
  {
   "cell_type": "markdown",
   "id": "4938cca7",
   "metadata": {
    "slideshow": {
     "slide_type": "subslide"
    }
   },
   "source": [
    "- 학습 데이터 개수에 상관없이 1 epoch에<br>\n",
    "  한 번만 갱신\n",
    "\n",
    "<br>\n",
    "\n",
    "- 학습 데이터 양이 많으면 가중치 갱신값<br>\n",
    "  평균 계산에 시간이 많이 들고 가중치의<br>\n",
    "  갱신도 느림 → 학습 시간이 오래 걸림"
   ]
  },
  {
   "cell_type": "markdown",
   "id": "48700fa0",
   "metadata": {
    "slideshow": {
     "slide_type": "slide"
    }
   },
   "source": [
    "■ Mini-batch 방법\n",
    "<br>\n",
    "\n",
    "- SGD와 배치 방식을 섞은 개념\n",
    "\n",
    "<br>\n",
    "\n",
    "- 학습 데이터의 일부를 선택해<br>\n",
    "  가중치의 갱신값을 계산하고<br>\n",
    "  이들의 평균으로 가중치 갱신"
   ]
  },
  {
   "cell_type": "markdown",
   "id": "f400a15a",
   "metadata": {
    "slideshow": {
     "slide_type": "subslide"
    }
   },
   "source": [
    "- 예를 들어, 전체 100개의 학습<br>\n",
    "  데이터에서 임의로 20개를 골라<br>\n",
    "  배치 방식으로 학습시키는 방법\n",
    "\n",
    "<br>\n",
    "\n",
    "- 이 경우 전체 데이터의 학습에<br>\n",
    "  필요한 가중치 갱신은 총 5번<br>\n",
    "  → 1 epoch에 5번 갱신\n",
    "\n",
    "<br>\n",
    "\n",
    "- 미니 배치의 크기가 적절하면 SGD의 속도와 배치 방식의<br>\n",
    "  안정성이라는 장점을 동시에 얻을 수 있음<br>\n",
    "  → 대량의 데이터를 학습시키는 딥러닝에 많이 적용\n"
   ]
  },
  {
   "cell_type": "markdown",
   "id": "ab6f5ffa",
   "metadata": {
    "slideshow": {
     "slide_type": "slide"
    }
   },
   "source": [
    "### 델타 규칙 프로그램 구현\n",
    "\n",
    "<br>\n",
    "\n",
    "■ 3개의 입력 노드와 1개의 출력 노드로<br>\n",
    "&nbsp;&nbsp;구성된 신경망"
   ]
  },
  {
   "cell_type": "code",
   "execution_count": 4,
   "id": "cacc3a4e",
   "metadata": {
    "slideshow": {
     "slide_type": "-"
    }
   },
   "outputs": [
    {
     "data": {
      "text/plain": [
       "[0.22933408950153078, 0.44559617334521107, 0.36859824937216046]"
      ]
     },
     "execution_count": 4,
     "metadata": {},
     "output_type": "execute_result"
    }
   ],
   "source": [
    "import random as rd\n",
    "rd.seed(777)            # 실행 결과의 재현성 확보\n",
    "M = 3\n",
    "W = [0]*M               # 가중치 리스트 생성\n",
    "for j in range(M):\n",
    "    W[j] = rd.random()  # 0~1 난수로 가중치 초기화\n",
    "W"
   ]
  },
  {
   "cell_type": "markdown",
   "id": "277de622",
   "metadata": {
    "slideshow": {
     "slide_type": "slide"
    }
   },
   "source": [
    "■ 학습 데이터는 총 4개\n",
    "\n",
    "- 지도 학습용으로 {입력, 정답}의 쌍\n",
    "- 굵은 글씨로 표시된 마지막 숫자가 '정답'"
   ]
  },
  {
   "cell_type": "code",
   "execution_count": 5,
   "id": "4c160a33",
   "metadata": {
    "slideshow": {
     "slide_type": "-"
    }
   },
   "outputs": [
    {
     "data": {
      "text/plain": [
       "([[0, 0, 1], [0, 1, 1], [1, 0, 1], [1, 1, 1]], [0, 0, 1, 1])"
      ]
     },
     "execution_count": 5,
     "metadata": {},
     "output_type": "execute_result"
    }
   ],
   "source": [
    "# 입력 데이터와 정답 데이터를 따로 준비\n",
    "X = [[0, 0, 1],\n",
    "     [0, 1, 1],\n",
    "     [1, 0, 1],\n",
    "     [1, 1, 1]]\n",
    "D = [0,\n",
    "     0,\n",
    "     1,\n",
    "     1]\n",
    "X, D"
   ]
  },
  {
   "cell_type": "markdown",
   "id": "e856c9d1",
   "metadata": {
    "slideshow": {
     "slide_type": "slide"
    }
   },
   "source": [
    "■ 출력 노드 활성함수는 시그모이드 함수\n",
    "\n",
    "- 람다 함수 적용으로 학습 속도 향상"
   ]
  },
  {
   "cell_type": "code",
   "execution_count": 6,
   "id": "6e3c96f1",
   "metadata": {
    "slideshow": {
     "slide_type": "-"
    }
   },
   "outputs": [],
   "source": [
    "Sigmoid = lambda x: 1/(1. + (2.7182818284)**(-x))"
   ]
  },
  {
   "cell_type": "markdown",
   "id": "11c65466",
   "metadata": {
    "slideshow": {
     "slide_type": "slide"
    }
   },
   "source": [
    "■ 출력 노드의 활성 함수가 시그모이드 함수이므로<br>\n",
    "&nbsp;&nbsp;이에 대한 델타 규칙을 학습에 적용<br>\n",
    "<br><br>\n",
    "$$\n",
    "\\begin{cases}\n",
    "\\begin{align}\n",
    "\\delta_{i} &= \\varphi(v_{i}) (1- \\varphi(v_{i})) e_{i} \\\\\n",
    "\\Delta w_{ij} &= \\alpha \\, \\delta_{i} \\, x_{j} \\\\\n",
    "w_{ij} &\\leftarrow w_{ij} + \\Delta w_{ij}\n",
    "\\end{align}\n",
    "\\tag{2.8}\n",
    "\\end{cases}\n",
    "$$\n",
    "<br><br>\n",
    "&nbsp;&nbsp;→ 델타 규칙 수행 함수로 구현"
   ]
  },
  {
   "cell_type": "markdown",
   "id": "70ad2c75",
   "metadata": {
    "slideshow": {
     "slide_type": "slide"
    }
   },
   "source": [
    "■ DeltaSGD(·): 델타 규칙 기반 SGD 방식 수행\n",
    "\n",
    "- 신경망의 가중치와 학습 데이터를 인자로 넘겨 받아<br>\n",
    "  새롭게 학습된 가중치를 반환하는 방식으로 실행\n",
    "<br><br>\n",
    "<center>W = DeltaSGD(W, X, D)</center>"
   ]
  },
  {
   "cell_type": "code",
   "execution_count": 7,
   "id": "0d1d7879",
   "metadata": {
    "slideshow": {
     "slide_type": "slide"
    }
   },
   "outputs": [],
   "source": [
    "def DeltaSGD(W, X, D):\n",
    "    alpha = 0.9   # 학습률(0~1)\n",
    "\n",
    "    M = len(W)    # 가중치 개수\n",
    "    N = len(X)    # 학습 데이터 개수\n",
    "    dW = [0]*M    # 가중치 갱신값 리스트 생성\n",
    "    for k in range(N):\n",
    "        x = X[k]  # 입력 데이터 하나 꺼냄\n",
    "        d = D[k]  # 정답 데이터 하나 꺼냄\n",
    "\n",
    "        v = 0\n",
    "        for j in range(M):\n",
    "            v += (W[j]*x[j])  # 입력층 신호에 대한 가중합 계산\n",
    "\n",
    "        y = Sigmoid(v)      # 활성 함수를 적용하여 출력값 계산\n",
    "        e = d - y           # 정답과 출력값의 차이인 오차 계산\n",
    "        delta = y*(1-y)*e   # 시그모이드 함수에 대한 델타 계산\n",
    "        for j in range(M):\n",
    "            dW[j] = alpha*delta*x[j]  # 델타 규칙으로 가중치 갱신값 계산\n",
    "            W[j] += dW[j]  # 하나의 학습 데이터마다 바로 가중치 갱신(SGD)\n",
    "\n",
    "    return W"
   ]
  },
  {
   "cell_type": "markdown",
   "id": "01fd7352",
   "metadata": {
    "slideshow": {
     "slide_type": "slide"
    }
   },
   "source": [
    "■ DeltaSGD(·) 호출 방식으로 10000 epoch 반복 학습 수행"
   ]
  },
  {
   "cell_type": "code",
   "execution_count": 8,
   "id": "49bcec95",
   "metadata": {
    "slideshow": {
     "slide_type": "-"
    }
   },
   "outputs": [],
   "source": [
    "for epoch in range(10000):\n",
    "    W = DeltaSGD(W, X, D)"
   ]
  },
  {
   "cell_type": "markdown",
   "id": "b81f40e1",
   "metadata": {
    "slideshow": {
     "slide_type": "slide"
    }
   },
   "source": [
    "■ 학습 결과 확인\n",
    "\n",
    "- 신경망의 출력값을 정답$\\left( D = \\begin{bmatrix} 0 & 0 & 1 & 1 \\end{bmatrix}^T \\right)$과 비교"
   ]
  },
  {
   "cell_type": "code",
   "execution_count": 9,
   "id": "cab727dd",
   "metadata": {
    "scrolled": true,
    "slideshow": {
     "slide_type": "-"
    }
   },
   "outputs": [
    {
     "name": "stdout",
     "output_type": "stream",
     "text": [
      "0.010198950082582571\n",
      "0.008295504367047495\n",
      "0.9932406780764541\n",
      "0.9916867624422694\n"
     ]
    }
   ],
   "source": [
    "for k in range(len(X)):\n",
    "    x = X[k]\n",
    "\n",
    "    v = 0\n",
    "    for j in range(M):\n",
    "        v += (W[j]*x[j]) # 입력층 신호에 대한 가중합 계산\n",
    "\n",
    "    y = Sigmoid(v)     # 활성 함수를 적용하여 출력값 계산\n",
    "    print(y)           # 출력값 print"
   ]
  },
  {
   "cell_type": "markdown",
   "id": "637c0aa9",
   "metadata": {
    "slideshow": {
     "slide_type": "subslide"
    }
   },
   "source": [
    "### Vectorization vs. Non-vectorization\n",
    "<br>\n",
    "\n",
    "$$\n",
    "v = w_1 x_1 + w_2 x_2 + w_3 x_3 + b \\\\[3ex]\n",
    "\\iff\n",
    "\\begin{cases}\n",
    "v = \\mathbf{w}^T \\mathbf{x} + b \\\\[1ex]\n",
    "\\mathbf{w} = \\begin{bmatrix} w_1 \\\\ w_2 \\\\ w_3 \\end{bmatrix}, \\;\n",
    "\\mathbf{x} = \\begin{bmatrix} x_1 \\\\ x_2 \\\\ x_3 \\end{bmatrix}\n",
    "\\end{cases}\n",
    "$$"
   ]
  },
  {
   "cell_type": "markdown",
   "id": "4b5bdd72",
   "metadata": {
    "slideshow": {
     "slide_type": "subslide"
    }
   },
   "source": [
    "- Non-vectorized code\n",
    "\n",
    "&nbsp;&nbsp;&nbsp;&nbsp;&nbsp;&nbsp;&nbsp;v = 0<br>\n",
    "&nbsp;&nbsp;&nbsp;&nbsp;&nbsp;&nbsp;&nbsp;<font color='blue'>**for i in range(len(x)):**</font><br>\n",
    "&nbsp;&nbsp;&nbsp;&nbsp;&nbsp;&nbsp;&nbsp;&nbsp;&nbsp;<font color='blue'>**v += w[i] * x[i]**</font><br>\n",
    "&nbsp;&nbsp;&nbsp;&nbsp;&nbsp;&nbsp;&nbsp;z += b\n",
    "\n",
    "- Vectorized code\n",
    "\n",
    "&nbsp;&nbsp;&nbsp;&nbsp;&nbsp;&nbsp;&nbsp;v = <font color='red'>**np.dot(w, x)**</font> + b"
   ]
  },
  {
   "cell_type": "code",
   "execution_count": 10,
   "id": "868b72ce",
   "metadata": {
    "slideshow": {
     "slide_type": "subslide"
    }
   },
   "outputs": [
    {
     "name": "stdout",
     "output_type": "stream",
     "text": [
      "Vectorized     : 249665.926 (6.203 ms)\n",
      "Non-vectorized : 249665.926 (195.959 ms)\n"
     ]
    }
   ],
   "source": [
    "import time as t\n",
    "\n",
    "a = np.random.rand(1000000)  # 0~1 난수로 백만차원 배열 생성\n",
    "b = np.random.rand(1000000)  # 0~1 난수로 백만차원 배열 생성\n",
    "\n",
    "tic = t.time()    # 시작 시간 측정\n",
    "c = np.dot(a, b)  # Vectorized calculation\n",
    "toc = t.time()    # 완료 시간 측정\n",
    "print(f'Vectorized     : {c:.3f} ({(toc-tic)*1000:.3f} ms)')\n",
    "\n",
    "c = 0\n",
    "tic = t.time()     # 시작 시간 측정\n",
    "for i in range(1000000):\n",
    "    c += a[i]*b[i] # Non-vectorizd calculation\n",
    "toc = t.time()     # 완료 시간 측정\n",
    "print(f'Non-vectorized : {c:.3f} ({(toc-tic)*1000:.3f} ms)')"
   ]
  },
  {
   "cell_type": "markdown",
   "id": "98fd1ede",
   "metadata": {
    "slideshow": {
     "slide_type": "subslide"
    }
   },
   "source": [
    "- 거의 300백배 차이 : 5시간 걸릴 것이 1분이면 된다는 뜻\n",
    "\n",
    "<br>\n",
    "\n",
    "- 병렬처리 명령어 SIMD$^\\text{Single Instruction Multiple Data}$ 덕택\n",
    "\n",
    "<br>\n",
    "\n",
    "- GPU는 SIMD에 탁월한 프로세서이나, CPU도 꽤 괜찮음\n",
    "\n",
    "<br>\n",
    "\n",
    "- 지금은 내부 커널을 직접 구현하기 위해 for-loop를 쓰지만<br>\n",
    "  실제 개발에서는 안 써야함(항상 NumPy vectorization 사용)"
   ]
  },
  {
   "cell_type": "markdown",
   "id": "79d86ff9",
   "metadata": {
    "slideshow": {
     "slide_type": "slide"
    }
   },
   "source": [
    "■ DeltaBatch(·): 델타 규칙 기반 배치 방식 수행\n",
    "\n",
    "- DeltaSGD(·)와 똑같이 가중치와 학습 데이터를 받아<br>\n",
    "  새롭게 학습된 가중치를 반환하는 방식으로 실행\n",
    "<br><br>\n",
    "<center>W = DeltaBatch(W, X, D)</center>"
   ]
  },
  {
   "cell_type": "code",
   "execution_count": 11,
   "id": "fafd5e88",
   "metadata": {
    "slideshow": {
     "slide_type": "slide"
    }
   },
   "outputs": [],
   "source": [
    "def DeltaBatch(W, X, D):\n",
    "    alpha = 0.9    # 학습률(0~1)\n",
    "\n",
    "    M = len(W)     # 가중치 개수\n",
    "    N = len(X)     # 학습 데이터 개수\n",
    "    dW = [0]*M     # 가중치 갱신값 리스트 생성\n",
    "    dWavg = [0]*M  # 가중치 갱신값의 평균값 리스트 생성\n",
    "    for k in range(N):\n",
    "        x = X[k]   # 입력 데이터 하나 꺼냄\n",
    "        d = D[k]   # 정답 데이터 하나 꺼냄\n",
    "\n",
    "        v = 0\n",
    "        for j in range(M):\n",
    "            v += (W[j]*x[j])  # 입력 층 신호에 대한 가중합 계산\n",
    "\n",
    "        y = Sigmoid(v)       # 활성 함수를 적용하여 출력값 계산\n",
    "        e = d - y            # 정답과 출력값의 차이인 오차 계산\n",
    "        delta = y*(1-y)*e    # 시그모이드 함수에 대한 델타 계산\n",
    "        for j in range(M):\n",
    "            dW[j] = alpha*delta*x[j]   # 델타 규칙으로 가중치 갱신값 계산\n",
    "            dWavg[j] += dW[j]  # 가중치 갱신값의 평균 계산을 위한 합 계산\n",
    "\n",
    "    for j in range(M):\n",
    "        dWavg[j] /= N     # 전체 학습 데이터에 대한 가중치 갱신값의 평균 계산\n",
    "        W[j] += dWavg[j]  # 계산된 평균으로 가중치 갱신(Batch)\n",
    "\n",
    "    return W"
   ]
  },
  {
   "cell_type": "markdown",
   "id": "59474f49",
   "metadata": {
    "slideshow": {
     "slide_type": "slide"
    }
   },
   "source": [
    "■ DeltaBatch(·) 호출 방식으로 40000 epoch 반복 학습 수행\n",
    "\n",
    "- SGD 방식보다 많은 반복 학습 수행($∵$ 학습 속도 느림)"
   ]
  },
  {
   "cell_type": "code",
   "execution_count": 12,
   "id": "6f445bd3",
   "metadata": {},
   "outputs": [
    {
     "data": {
      "text/plain": [
       "[0.22933408950153078, 0.44559617334521107, 0.36859824937216046]"
      ]
     },
     "execution_count": 12,
     "metadata": {},
     "output_type": "execute_result"
    }
   ],
   "source": [
    "# SGD로 기학습된 가중치를 무효화한 뒤 배치로 학습\n",
    "rd.seed(777)            # 실행 결과의 재현성 확보\n",
    "for j in range(M):\n",
    "    W[j] = rd.random() # 0~1 난수로 가중치 초기화\n",
    "W"
   ]
  },
  {
   "cell_type": "code",
   "execution_count": 13,
   "id": "4b812e05",
   "metadata": {},
   "outputs": [],
   "source": [
    "for epoch in range(40000):\n",
    "    W = DeltaBatch(W, X, D)"
   ]
  },
  {
   "cell_type": "markdown",
   "id": "dcab308b",
   "metadata": {
    "slideshow": {
     "slide_type": "slide"
    }
   },
   "source": [
    "■ 학습 결과 확인\n",
    "\n",
    "- 신경망의 출력값을 정답$\\left( D = \\begin{bmatrix} 0 & 0 & 1 & 1 \\end{bmatrix}^T \\right)$과 비교"
   ]
  },
  {
   "cell_type": "code",
   "execution_count": 14,
   "id": "7533aeb7",
   "metadata": {
    "scrolled": true
   },
   "outputs": [
    {
     "name": "stdout",
     "output_type": "stream",
     "text": [
      "0.010202559071401567\n",
      "0.008297695696612298\n",
      "0.9932375542634659\n",
      "0.9916821750110153\n"
     ]
    }
   ],
   "source": [
    "for k in range(len(X)):\n",
    "    x = X[k]\n",
    "\n",
    "    v = 0\n",
    "    for j in range(M):\n",
    "        v += (W[j]*x[j]) # 입력층 신호에 대한 가중합 계산\n",
    "\n",
    "    y = Sigmoid(v)     # 활성 함수를 적용하여 출력값 계산\n",
    "    print(y)           # 출력값 print"
   ]
  },
  {
   "cell_type": "markdown",
   "id": "85408a4e",
   "metadata": {
    "slideshow": {
     "slide_type": "slide"
    }
   },
   "source": [
    "■ SGD 방식과 배치 방식의 학습 속도 비교\n",
    "\n",
    "- DeltaSGD(·), DeltaBatch(·) 함수를 호출해 각 신명망을<br>\n",
    "  1000 epoch동안 재학습\n",
    "\n",
    "- 전체 데이터에 대한 학습이 한 번 완료된 시점 기준으로<br>\n",
    "  즉, 각 epoch마다 두 신경망에 학습 데이터를 입력하여<br>\n",
    "  출력 오차의 제곱합에 대한 평균을 계산\n",
    "\n",
    "- 공정한 비교를 위해 신경망의 가중치를 동일하게 초기화"
   ]
  },
  {
   "cell_type": "code",
   "execution_count": 15,
   "id": "3242d818",
   "metadata": {
    "slideshow": {
     "slide_type": "slide"
    }
   },
   "outputs": [
    {
     "data": {
      "text/plain": [
       "([0.22933408950153078, 0.44559617334521107, 0.36859824937216046],\n",
       " [0.22933408950153078, 0.44559617334521107, 0.36859824937216046])"
      ]
     },
     "execution_count": 15,
     "metadata": {},
     "output_type": "execute_result"
    }
   ],
   "source": [
    "rd.seed(777) # 실행 결과의 재현성 확보\n",
    "M = 3\n",
    "W1 = [0]*M   # SGD 방식에 대한 가중치 리스트 생성\n",
    "W2 = [0]*M   # 배치방식에 대한 가중치 리스트 생성\n",
    "for j in range(M):\n",
    "    W1[j] = rd.random()  # 0~1 난수로 가중치 초기화\n",
    "    W2[j] = W1[j]        # 동일한 값으로 가중치 초기화\n",
    "W1, W2"
   ]
  },
  {
   "cell_type": "code",
   "execution_count": 16,
   "id": "b9ff0098",
   "metadata": {
    "slideshow": {
     "slide_type": "slide"
    }
   },
   "outputs": [],
   "source": [
    "E1 = [0]*1000; E2 = [0]*1000  # 1000개 epoch에 대한 오차값 리스트 생성\n",
    "for epoch in range(1000):\n",
    "    W1 = DeltaSGD(W1, X, D)    # SGD 방식으로 학습 수행\n",
    "    W2 = DeltaBatch(W2, X, D)  # 배치 방식으로 학습 수행\n",
    "\n",
    "    es1 = 0; es2 = 0\n",
    "    for k in range(len(X)):\n",
    "        x = X[k]; d = D[k]\n",
    "        v1 = 0\n",
    "        for j in range(M):\n",
    "            v1 += (W1[j]*x[j])  # 입력층 신호에 대한 가중합 계산\n",
    "\n",
    "        y1 = Sigmoid(v1)      # 활성 함수를 적용하여 출력값 계산\n",
    "        es1 += (d - y1)**2    # 정답과 출력값 차이의 제곱합 계산\n",
    "        v2 = 0\n",
    "        for j in range(M):\n",
    "            v2 += (W2[j]*x[j])  # 입력층 신호에 대한 가중합 계산\n",
    "\n",
    "        y2 = Sigmoid(v2)      # 활성 함수를 적용하여 출력값 계산\n",
    "        es2 += (d - y2)**2    # 정답과 출력값 차이의 제곱합 계산\n",
    "\n",
    "    E1[epoch] = es1/len(X); E2[epoch] = es2/len(X)  # 출력 오차의 제곱합에 대한 평균 계산"
   ]
  },
  {
   "cell_type": "markdown",
   "id": "1a7da109",
   "metadata": {
    "slideshow": {
     "slide_type": "slide"
    }
   },
   "source": [
    "■ SGD와 배치 방식의 학습 이력 시각화"
   ]
  },
  {
   "cell_type": "code",
   "execution_count": 17,
   "id": "12add03b",
   "metadata": {
    "scrolled": true,
    "slideshow": {
     "slide_type": "-"
    }
   },
   "outputs": [],
   "source": [
    "def plotSGDvsBatch(plt):\n",
    "    plt.plot(E1, 'r', label = 'SGD')\n",
    "    plt.plot(E2, 'b--', label = 'Batch')\n",
    "    plt.legend()\n",
    "    plt.grid(linestyle=':')\n",
    "    plt.title('SGD vs Batch')\n",
    "    plt.xlabel('Epoch')\n",
    "    plt.ylabel('Average of Training Error')\n",
    "    plt.xlim(0, 1000)\n",
    "    plt.ylim(0, 0.25)\n",
    "    plt.show()"
   ]
  },
  {
   "cell_type": "code",
   "execution_count": 18,
   "id": "2ad9c141",
   "metadata": {
    "slideshow": {
     "slide_type": "slide"
    }
   },
   "outputs": [
    {
     "data": {
      "image/png": "[encoded data removed]",
      "text/plain": [
       "<Figure size 432x288 with 1 Axes>"
      ]
     },
     "metadata": {
      "needs_background": "light"
     },
     "output_type": "display_data"
    }
   ],
   "source": [
    "plotSGDvsBatch(plt)"
   ]
  },
  {
   "cell_type": "markdown",
   "id": "52315579",
   "metadata": {
    "slideshow": {
     "slide_type": "slide"
    }
   },
   "source": [
    "### 신경망이 단층에서 다층으로 발전했던 이유에 대해\n",
    "<br>\n",
    "\n",
    "■ 동일한 신경망 : 3개의 입력 노드와 1개의 출력 노드"
   ]
  },
  {
   "cell_type": "markdown",
   "id": "f9ec5e69",
   "metadata": {
    "slideshow": {
     "slide_type": "slide"
    }
   },
   "source": [
    "■ 학습 데이터에는 <font color='red'>**사소한**</font> 변화\n",
    "- 입력값은 기존과 동일\n",
    "- 두 번째와 네 번째 정답만 바뀜"
   ]
  },
  {
   "cell_type": "code",
   "execution_count": 19,
   "id": "6d6b5485",
   "metadata": {
    "slideshow": {
     "slide_type": "-"
    }
   },
   "outputs": [
    {
     "data": {
      "text/plain": [
       "([[0, 0, 1], [0, 1, 1], [1, 0, 1], [1, 1, 1]], [0, 1, 1, 0])"
      ]
     },
     "execution_count": 19,
     "metadata": {},
     "output_type": "execute_result"
    }
   ],
   "source": [
    "# 입력 데이터와 정답 데이터를 따로 준비\n",
    "X = [[0, 0, 1],\n",
    "     [0, 1, 1],\n",
    "     [1, 0, 1],\n",
    "     [1, 1, 1]]\n",
    "D = [0,\n",
    "     1, # 네 번째 정답과 바뀜\n",
    "     1,\n",
    "     0] # 두 번째 정답과 바뀜\n",
    "X, D"
   ]
  },
  {
   "cell_type": "markdown",
   "id": "71fd3714",
   "metadata": {
    "slideshow": {
     "slide_type": "slide"
    }
   },
   "source": [
    "■ DeltaSGD(·) 호출 방식으로 100000 epoch 반복 학습 수행"
   ]
  },
  {
   "cell_type": "code",
   "execution_count": 20,
   "id": "eb668616",
   "metadata": {
    "slideshow": {
     "slide_type": "-"
    }
   },
   "outputs": [
    {
     "data": {
      "text/plain": [
       "[0.22933408950153078, 0.44559617334521107, 0.36859824937216046]"
      ]
     },
     "execution_count": 20,
     "metadata": {},
     "output_type": "execute_result"
    }
   ],
   "source": [
    "# 기학습된 가중치를 무효화한 뒤 SGD로 학습\n",
    "rd.seed(777)            # 실행 결과의 재현성 확보\n",
    "for j in range(M):\n",
    "    W[j] = rd.random() # 0~1 난수로 가중치 초기화\n",
    "W"
   ]
  },
  {
   "cell_type": "code",
   "execution_count": 21,
   "id": "b8a6a8b0",
   "metadata": {
    "slideshow": {
     "slide_type": "-"
    }
   },
   "outputs": [],
   "source": [
    "for epoch in range(100000):\n",
    "    W = DeltaSGD(W, X, D)"
   ]
  },
  {
   "cell_type": "markdown",
   "id": "fd2b2115",
   "metadata": {
    "slideshow": {
     "slide_type": "slide"
    }
   },
   "source": [
    "■ 학습 결과 확인\n",
    "\n",
    "- 신경망의 출력값을 정답$\\left( D = \\begin{bmatrix} 0 & 1 & 1 & 0 \\end{bmatrix}^T \\right)$과 비교"
   ]
  },
  {
   "cell_type": "code",
   "execution_count": 22,
   "id": "15aeb598",
   "metadata": {
    "scrolled": true
   },
   "outputs": [
    {
     "name": "stdout",
     "output_type": "stream",
     "text": [
      "0.5296533714680731\n",
      "0.5\n",
      "0.47034662853192694\n",
      "0.4409011249318224\n"
     ]
    }
   ],
   "source": [
    "for k in range(len(X)):\n",
    "    x = X[k]\n",
    "\n",
    "    v = 0\n",
    "    for j in range(M):\n",
    "        v += (W[j]*x[j]) # 입력층 신호에 대한 가중합 계산\n",
    "\n",
    "    y = Sigmoid(v)     # 활성 함수를 적용하여 출력값 계산\n",
    "    print(y)           # 출력값 print"
   ]
  },
  {
   "cell_type": "markdown",
   "id": "54998469",
   "metadata": {
    "slideshow": {
     "slide_type": "slide"
    }
   },
   "source": [
    "결코, 학습이 완료되지 않는다ㅠㅠ.. 도대체, 왜???"
   ]
  },
  {
   "cell_type": "markdown",
   "id": "a4774cf9",
   "metadata": {
    "slideshow": {
     "slide_type": "slide"
    }
   },
   "source": [
    "■ 이전에 학습에 성공했던 학습 데이터\n",
    "\n",
    "- $Z$값은 모두 $1$이므로 영향 없음\n",
    "\n",
    "- $(0, 0)$과 $(0, 1)$은 $0$, $(1, 0)$과 $(1, 1)$은 $1$로 분류하는 문제"
   ]
  },
  {
   "cell_type": "markdown",
   "id": "ee8e54c9",
   "metadata": {
    "slideshow": {
     "slide_type": "slide"
    }
   },
   "source": [
    "■ 학습에 실패한 학습 데이터\n",
    "\n",
    "- $(0, 0)$과 $(1, 1)$은 $0$, $(1, 0)$과 $(0, 1)$은 $1$로 분류하는 문제\n",
    "\n",
    "- 두 범주를 나누는 선형 초평면$^\\text{hyperplane}$을 구할 수 없음"
   ]
  },
  {
   "cell_type": "markdown",
   "id": "541601b5",
   "metadata": {
    "slideshow": {
     "slide_type": "slide"
    }
   },
   "source": [
    "- 비선형 초평면으로 두 범주를 나눌 수 있음"
   ]
  },
  {
   "cell_type": "markdown",
   "id": "4c734029",
   "metadata": {
    "slideshow": {
     "slide_type": "slide"
    }
   },
   "source": [
    "&nbsp;&nbsp;단층 신경망의 수학적 모델은...\n",
    "\n",
    "$$\n",
    "\\begin{align}\n",
    "y &= \\varphi(v) = \\varphi(\\mathbf{w}^T \\mathbf{x} + b) \\\\[1ex]\n",
    "\\mathbf{w} &= \\begin{bmatrix} w_1 \\\\ \\vdots \\\\ w_n \\end{bmatrix} \\quad\n",
    "\\mathbf{x} = \\begin{bmatrix} x_1 \\\\ \\vdots \\\\ x_n \\end{bmatrix} \\\\[2.5ex]\n",
    "\\therefore\n",
    "y &= \\varphi(v) = \\varphi(w_1 x_1 + \\cdots + w_n x_n + b) \\\\[1ex]\n",
    "  &\\iff y \\propto v \\quad (\\because 시그모이드는 \\; 증가 \\; 함수) \\\\[1ex]\n",
    "  &\\iff y \\propto w_1 x_1 + \\cdots + w_n x_n + b \\\\[1ex]\n",
    "  &\\iff x에 \\; 따라 \\; y의 \\; 증가감소가 \\; 바뀌는 \\; 비선형성은 \\; 불가\n",
    "\\end{align}\n",
    "$$"
   ]
  },
  {
   "cell_type": "markdown",
   "id": "2a6e293e",
   "metadata": {
    "slideshow": {
     "slide_type": "slide"
    }
   },
   "source": [
    "- 신경망의 첫 번째 암흑기가<br>\n",
    "  시작되는 순간\n",
    "\n",
    "- Perceptrons (Minsky 1969)"
   ]
  }
 ],
 "metadata": {
  "celltoolbar": "Slideshow",
  "kernelspec": {
   "display_name": "Python 3 (ipykernel)",
   "language": "python",
   "name": "python3"
  },
  "language_info": {
   "codemirror_mode": {
    "name": "ipython",
    "version": 3
   },
   "file_extension": ".py",
   "mimetype": "text/x-python",
   "name": "python",
   "nbconvert_exporter": "python",
   "pygments_lexer": "ipython3",
   "version": "3.10.9"
  }
 },
 "nbformat": 4,
 "nbformat_minor": 5
}
