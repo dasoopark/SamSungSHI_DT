{
 "cells": [
  {
   "cell_type": "markdown",
   "id": "5a8a0ac7",
   "metadata": {
    "slideshow": {
     "slide_type": "slide"
    }
   },
   "source": [
    "## Let's get started!\n",
    "\n",
    "- <font color=lightgrey>Understanding AI, ML and DL concepts</font>\n",
    "<br><br>\n",
    "- Understanding fundamentals of DL algorithm\n",
    "  - Regression and classification\n",
    "  - Neural networks and deep learning\n",
    "<br><br>\n",
    "- Only <font color=blue>**pure Python**</font> without any AI library\n",
    "  - Looking into the inside of <font color=red>**core**</font> DL algorithm"
   ]
  },
  {
   "cell_type": "markdown",
   "id": "ef9b83cf",
   "metadata": {
    "slideshow": {
     "slide_type": "slide"
    }
   },
   "source": [
    "# <center>CHAP 3. 다층 신경망의 학습</center>"
   ]
  },
  {
   "cell_type": "markdown",
   "id": "c339ec27",
   "metadata": {
    "slideshow": {
     "slide_type": "slide"
    }
   },
   "source": [
    "### 다층 신경망...\n",
    "\n",
    "- 선형 분리 불가능이라는 단층 신경망의 근본적인 한계로<br>\n",
    "  신경망이 다층 구조로 발전한 것은 필연적인 일이었음\n",
    "\n",
    "- 신경망에 은닉층 하나 추가하는 데 무려 30여 년이 걸림\n",
    "\n",
    "- 다층 신경망의 학습 규칙을 찾아내지 못했기 때문\n",
    "\n",
    "- 학습은 신경망에 정보를 저장할 수 있는 유일한 방법으로<br>\n",
    "  학습이 안되는 신경망은 아무 쓸모가 없음"
   ]
  },
  {
   "cell_type": "markdown",
   "id": "584b7812",
   "metadata": {
    "slideshow": {
     "slide_type": "slide"
    }
   },
   "source": [
    "■ 기존의 델타 규칙...\n",
    "\n",
    "- 델타 규칙으로는 다층 신경망을 학습시킬 수 없음\n",
    "\n",
    "- 오차가 필요한데, 은닉층에서는 오차가 정의조차 안 됨\n",
    "  - 출력층에서는 정답과 출력의 차이로 정의되는데,\n",
    "  - 은닉층에는 정답이 주어지지 않아서...\n",
    "\n",
    "- 관건은 '은닉층의 오차를 어떻게 정의할 것인가?'\n",
    "\n",
    "- 이게 바로 역전파 알고리즘$^\\text{backpropagation}$이 집중한 부분"
   ]
  },
  {
   "cell_type": "markdown",
   "id": "83ae850b",
   "metadata": {
    "slideshow": {
     "slide_type": "slide"
    }
   },
   "source": [
    "■ 역전파 알고리즘...\n",
    "\n",
    "&nbsp;&nbsp;- **Learning representation by back-propagating**<br>\n",
    "&nbsp;&nbsp;&nbsp;&nbsp;**errors**, D. E. Rumelhart, <font color='blue'>**Geoffrey E. Hinton**</font><br>\n",
    "&nbsp;&nbsp;&nbsp;&nbsp;& Ronald J. Williams, Nature, 1986.\n",
    "\n",
    "&nbsp;&nbsp;- 은닉층 노드들의 오차를 결정하는 체계적인<br>\n",
    "&nbsp;&nbsp;&nbsp;&nbsp;방법을 제시\n",
    "\n",
    "&nbsp;&nbsp;- 은닉층 노드들의 오차를 결정하고 델타 규칙에<br>\n",
    "&nbsp;&nbsp;&nbsp;&nbsp;따라 가중치를 조절"
   ]
  },
  {
   "cell_type": "markdown",
   "id": "125a14f0",
   "metadata": {
    "slideshow": {
     "slide_type": "slide"
    }
   },
   "source": [
    "&nbsp;- 입력 데이터 → 입력층 → 은닉층$^{(1)}$ → $\\cdots$ → 은닉층$^{(n)}$ → 출력층\n",
    "\n",
    "&nbsp;- 역전파 알고리즘 : 오차 → 출력층 → 은닉층$^{(n)}$ → $\\cdots$ → 은닉층$^{(1)}$<br>\n",
    "\n",
    "&nbsp;- 신호들은 노드 간 연결선을 따라 흐르고, 해당 연결 가중치를<br>\n",
    "&nbsp;&nbsp;&nbsp;곱해준다는 점 등은 동일함"
   ]
  },
  {
   "cell_type": "markdown",
   "id": "6a5108ab",
   "metadata": {
    "slideshow": {
     "slide_type": "slide"
    }
   },
   "source": [
    "### 고려하는 다층 신경망...\n",
    "<br>\n",
    "\n",
    "- 입·출력 노드 2개, 은닉층 1개(노드 2개), 바이어스 없음\n",
    "\n",
    "- $w_{ij}^{(k)}$ : $k$층 $i$노드와 하위$^{(k-1)}$층 $j$노드 사이 연결 가중치"
   ]
  },
  {
   "cell_type": "markdown",
   "id": "39e65410",
   "metadata": {
    "slideshow": {
     "slide_type": "slide"
    }
   },
   "source": [
    "### 신경망 출력\n",
    "<br>\n",
    "\n",
    "- 신경망 오차를 구하려면 입력에 대한 출력값을 알아야 함\n",
    "\n",
    "<br>\n",
    "\n",
    "- 은닉층이 있으므로 두 단계의 데이터 처리로 출력값 계산"
   ]
  },
  {
   "cell_type": "markdown",
   "id": "8d5268c9",
   "metadata": {
    "slideshow": {
     "slide_type": "slide"
    }
   },
   "source": [
    "■ 은닉층 노드 출력\n",
    "\n",
    "- 가중합 :\n",
    "$\n",
    "\\begin{bmatrix} v_{1}^{(1)} \\\\ v_{2}^{(1)} \\end{bmatrix} =\n",
    "\\begin{bmatrix} w_{11}^{(1)} & w_{12}^{(1)} \\\\ w_{21}^{(1)} & w_{22}^{(1)} \\end{bmatrix}\n",
    "\\begin{bmatrix} x_{1} \\\\ x_{2} \\end{bmatrix} \\iff\n",
    "\\mathbf{v^{(1)}} = \\mathbf{W^{(1)}} \\mathbf{x} \\quad\\quad (3.1)\n",
    "$\n",
    "\n",
    "- 출력 :\n",
    "$\n",
    "\\begin{bmatrix} y_{1}^{(1)} \\\\ y_{2}^{(1)} \\end{bmatrix} =\n",
    "\\begin{bmatrix} \\varphi(v_{1}^{(1)}) \\\\ \\varphi(v_{2}^{(1)}) \\end{bmatrix}\n",
    "$"
   ]
  },
  {
   "cell_type": "markdown",
   "id": "7d78833b",
   "metadata": {
    "slideshow": {
     "slide_type": "slide"
    }
   },
   "source": [
    "■ 출력층 노드 출력\n",
    "\n",
    "- 가중합 :\n",
    "$\n",
    "\\begin{bmatrix} v_{1}^{(2)} \\\\ v_{2}^{(2)} \\end{bmatrix} =\n",
    "\\begin{bmatrix} w_{11}^{(2)} & w_{12}^{(2)} \\\\ w_{21}^{(2)} & w_{22}^{(2)} \\end{bmatrix}\n",
    "\\begin{bmatrix} y_{1}^{(1)} \\\\ y_{2}^{(1)} \\end{bmatrix} \\iff\n",
    "\\mathbf{v^{(2)}} = \\mathbf{W^{(2)}} \\mathbf{y^{(1)}} \\quad\\quad (3.2)\n",
    "$\n",
    "\n",
    "- 출력 :\n",
    "$\n",
    "\\begin{bmatrix} y_{1}^{(2)} \\\\ y_{2}^{(2)} \\end{bmatrix} =\n",
    "\\begin{bmatrix} \\varphi(v_{1}^{(2)}) \\\\ \\varphi(v_{2}^{(2)}) \\end{bmatrix} \\quad\n",
    "\\therefore\n",
    "\\begin{bmatrix} y_{1} \\\\ y_{2} \\end{bmatrix} =\n",
    "\\begin{bmatrix} y_{1}^{(2)} \\\\ y_{2}^{(2)} \\end{bmatrix}\n",
    "$"
   ]
  },
  {
   "cell_type": "markdown",
   "id": "4d596528",
   "metadata": {
    "slideshow": {
     "slide_type": "slide"
    }
   },
   "source": [
    "■ 출력층 오차 계산\n",
    "\n",
    "- 출력층의 값이 얻어졌으므로 정답과 비교하여 오차 계산\n",
    "\n",
    "$$\n",
    "\\begin{cases}\n",
    "e_{1}^{(2)} = e_{1} = d_{1} - y_{1} \\\\\n",
    "e_{2}^{(2)} = e_{2} = d_{2} - y_{2}\n",
    "\\end{cases}\n",
    "\\tag{3.3}\n",
    "$$"
   ]
  },
  {
   "cell_type": "markdown",
   "id": "88bac2dd",
   "metadata": {
    "slideshow": {
     "slide_type": "slide"
    }
   },
   "source": [
    "- 식(3.3)의 텐서$^\\text{tensor}$ 표현\n",
    "\n",
    "$$\n",
    "\\begin{cases}\n",
    "e_{1}^{(2)} = e_{1} = d_{1} - y_{1} \\\\\n",
    "e_{2}^{(2)} = e_{2} = d_{2} - y_{2}\n",
    "\\end{cases}\n",
    "$$\n",
    "\n",
    "$$\n",
    "\\iff\n",
    "\\begin{bmatrix} e_{1}^{(2)} \\\\ e_{2}^{(2)} \\end{bmatrix} =\n",
    "\\begin{bmatrix} e_{1} \\\\ e_{2} \\end{bmatrix} =\n",
    "\\begin{bmatrix} d_{1} \\\\ d_{2} \\end{bmatrix} -\n",
    "\\begin{bmatrix} y_{1} \\\\ y_{2} \\end{bmatrix}\n",
    "$$\n",
    "\n",
    "$$\n",
    "\\therefore\n",
    "\\mathbf{e^{(2)}} = \\mathbf{e} = \\mathbf{d} - \\mathbf{y}\n",
    "\\tag{3.4}\n",
    "$$"
   ]
  },
  {
   "cell_type": "markdown",
   "id": "75caa7c9",
   "metadata": {
    "slideshow": {
     "slide_type": "slide"
    }
   },
   "source": [
    "■ 출력층 델타 계산\n",
    "\n",
    "- 출력층 오차와 활성함수의 도함수를 이용하여<br>\n",
    "  출력층 노드들의 델타 계산\n",
    "\n",
    "$$\n",
    "\\begin{cases}\n",
    "\\delta_{1}^{(2)} = \\varphi'(v_{1}^{(2)}) \\, e_{1}^{(2)} \\\\\n",
    "\\delta_{2}^{(2)} = \\varphi'(v_{2}^{(2)}) \\, e_{2}^{(2)}\n",
    "\\end{cases}\n",
    "\\tag{3.5}\n",
    "$$"
   ]
  },
  {
   "cell_type": "markdown",
   "id": "cf5baced",
   "metadata": {
    "slideshow": {
     "slide_type": "slide"
    }
   },
   "source": [
    "- 식(3.4)의 텐서 표현\n",
    "\n",
    "$$\n",
    "\\begin{cases}\n",
    "\\delta_{1}^{(2)} = \\varphi'(v_{1}^{(2)}) \\, e_{1}^{(2)} \\\\\n",
    "\\delta_{2}^{(2)} = \\varphi'(v_{2}^{(2)}) \\, e_{2}^{(2)}\n",
    "\\end{cases}\n",
    "$$\n",
    "\n",
    "$$\n",
    "\\iff\n",
    "\\begin{bmatrix} \\delta_{1}^{(2)} \\\\ \\delta_{2}^{(2)} \\end{bmatrix} =\n",
    "\\begin{bmatrix} \\varphi'(v_{1}^{(2)}) \\\\ \\varphi'(v_{2}^{(2)}) \\end{bmatrix} \\circ\n",
    "\\begin{bmatrix} e_{1}^{(2)} \\\\ e_{2}^{(2)} \\end{bmatrix}\n",
    "$$\n",
    "\n",
    "$$\n",
    "\\begin{align}\n",
    "\\therefore\n",
    "\\boldsymbol{\\delta^{(2)}} \\, = \\; &\\boldsymbol{\\varphi}'(\\mathbf{v^{(2)}}) \\circ \\mathbf{e^{(2)}} \\quad (\\text{Hadamard product})\n",
    "\\tag{3.6} \\\\\n",
    "&\\boldsymbol{\\varphi}'(\\mathbf{v^{(2)}}) = \\begin{bmatrix} \\varphi'(v_{1}^{(2)}) \\\\ \\varphi'(v_{2}^{(2)}) \\end{bmatrix}\n",
    "\\end{align}\n",
    "$$"
   ]
  },
  {
   "cell_type": "markdown",
   "id": "86e02a7b",
   "metadata": {
    "slideshow": {
     "slide_type": "slide"
    }
   },
   "source": [
    "### 은닉층 오차\n",
    "<br>\n",
    "\n",
    "- 앞에서 <font color='magenta'>**'관건은 은닉층의 오차를 어떻게 정의할 것인가?'**</font>\n",
    "\n",
    "- 은닉층 노드 오차는 인접 상위 층의 델타들을 역전파시켜<br>\n",
    "  그 델타들과 연결 가중치들의 가중합으로 정의"
   ]
  },
  {
   "cell_type": "markdown",
   "id": "65d8af1f",
   "metadata": {
    "slideshow": {
     "slide_type": "slide"
    }
   },
   "source": [
    "■ 은닉층 오차의 정의\n",
    "\n",
    "- 인접 상위층의 델타들과<br>\n",
    "  연결 가중치들의 가중합\n",
    "<br><br>\n",
    "\n",
    "$$e_{i}^{(k)} = \\sum_{j}{w_{ji}^{(k+1)} \\delta_{j}^{(k+1)}}$$\n",
    "\n",
    "&nbsp;&nbsp;&nbsp;&nbsp;$e_{i}^{(k)} : 대상 \\, 노드(k층 \\, i노드)의 \\, 오차$\n",
    "\n",
    "&nbsp;&nbsp;&nbsp;&nbsp;$\\delta_{j}^{(k+1)} : 상위층 \\, 노드들(k+1층 \\, j노드, \\, j=1,2,\\cdots)의 \\, 델타$\n",
    "\n",
    "&nbsp;&nbsp;&nbsp;&nbsp;$w_{ji}^{(k+1)} : 상위층 \\, 노드들과 \\, 대상 \\, 노드 \\, 사이의 \\, 연결 \\, 가중치$"
   ]
  },
  {
   "cell_type": "markdown",
   "id": "c87e754d",
   "metadata": {
    "slideshow": {
     "slide_type": "slide"
    }
   },
   "source": [
    "■ 은닉층 오차 계산\n",
    "\n",
    "- 은닉 노드 오차의 정의에 따라 오차 계산\n",
    "\n",
    "$$\n",
    "\\begin{cases}\n",
    "e_{1}^{(1)} = w_{11}^{(2)} \\delta_{1}^{(2)} + w_{21}^{(2)} \\delta_{2}^{(2)} \\\\\n",
    "e_{2}^{(1)} = w_{12}^{(2)} \\delta_{1}^{(2)} + w_{22}^{(2)} \\delta_{2}^{(2)}\n",
    "\\end{cases}\n",
    "\\tag{3.7}\n",
    "$$"
   ]
  },
  {
   "cell_type": "markdown",
   "id": "c77cbbf9",
   "metadata": {
    "slideshow": {
     "slide_type": "slide"
    }
   },
   "source": [
    "- 식(3.7)의 텐서 표현\n",
    "\n",
    "$$\n",
    "\\begin{cases}\n",
    "e_{1}^{(1)} = w_{11}^{(2)} \\delta_{1}^{(2)} + w_{21}^{(2)} \\delta_{2}^{(2)} \\\\\n",
    "e_{2}^{(1)} = w_{12}^{(2)} \\delta_{1}^{(2)} + w_{22}^{(2)} \\delta_{2}^{(2)}\n",
    "\\end{cases}\n",
    "$$\n",
    "\n",
    "$$\n",
    "\\iff\n",
    "\\begin{bmatrix} e_{1}^{(1)} \\\\ e_{2}^{(1)} \\end{bmatrix} =\n",
    "\\begin{bmatrix} w_{11}^{(2)} & w_{21}^{(2)} \\\\ w_{12}^{(2)} & w_{22}^{(2)} \\end{bmatrix}\n",
    "\\begin{bmatrix} \\delta_{1}^{(2)} \\\\ \\delta_{2}^{(2)} \\end{bmatrix}\n",
    "$$\n",
    "\n",
    "$$\n",
    "\\therefore\n",
    "\\mathbf{e^{(1)}} = \\mathbf{{W^{(2)}}^{T}} \\boldsymbol{\\delta^{(2)}} \\tag{3.8}\n",
    "$$"
   ]
  },
  {
   "cell_type": "markdown",
   "id": "727cb2be",
   "metadata": {
    "slideshow": {
     "slide_type": "subslide"
    }
   },
   "source": [
    "- $\\mathbf{{W^{(2)}}^{T}}$: $\\mathbf{W^{(2)}}$의 전치행렬<br><br>\n",
    "  출력층 가중합 구하는 식(3.2)는\n",
    "\n",
    "$$\n",
    "\\begin{cases}\n",
    "\\mathbf{v^{(2)}} = \\mathbf{W^{(2)}} \\mathbf{y^{(1)}} \\\\[1ex]\n",
    "\\mathbf{v^{(2)}} = \\begin{bmatrix} v_{1}^{(2)} \\\\ v_{2}^{(2)} \\end{bmatrix}, \\;\n",
    "\\mathbf{W^{(2)}} = \\begin{bmatrix} w_{11}^{(2)} & w_{12}^{(2)} \\\\ w_{21}^{(2)} & w_{22}^{(2)} \\end{bmatrix}, \\;\n",
    "\\mathbf{y^{(1)}} = \\begin{bmatrix} y_{1}^{(1)} \\\\ y_{2}^{(1)} \\end{bmatrix}\n",
    "\\end{cases}\n",
    "$$\n",
    "\n",
    "$$\n",
    "\\therefore\n",
    "\\mathbf{{W^{(2)}}^{T}} =\n",
    "\\begin{bmatrix} w_{11}^{(2)} & w_{21}^{(2)} \\\\ w_{12}^{(2)} & w_{22}^{(2)} \\end{bmatrix}\n",
    "$$"
   ]
  },
  {
   "cell_type": "markdown",
   "id": "7f735579",
   "metadata": {
    "slideshow": {
     "slide_type": "slide"
    }
   },
   "source": [
    "■ 은닉층 델타 계산\n",
    "\n",
    "- 은닉층 오차와 활성함수의 도함수를 이용하여<br>\n",
    "  은닉층 노드들의 델타 계산\n",
    "\n",
    "$$\n",
    "\\begin{cases}\n",
    "\\delta_{1}^{(1)} = \\varphi'(v_{1}^{(1)}) \\, e_{1}^{(1)} \\\\\n",
    "\\delta_{2}^{(1)} = \\varphi'(v_{2}^{(1)}) \\, e_{2}^{(1)}\n",
    "\\end{cases}\n",
    "\\tag{3.9}\n",
    "$$"
   ]
  },
  {
   "cell_type": "markdown",
   "id": "bf8c8ad7",
   "metadata": {
    "slideshow": {
     "slide_type": "slide"
    }
   },
   "source": [
    "- 식(3.9)의 텐서 표현\n",
    "\n",
    "$$\n",
    "\\begin{cases}\n",
    "\\delta_{1}^{(1)} = \\varphi'(v_{1}^{(1)}) \\, e_{1}^{(1)} \\\\\n",
    "\\delta_{2}^{(1)} = \\varphi'(v_{2}^{(1)}) \\, e_{2}^{(1)}\n",
    "\\end{cases}\n",
    "$$\n",
    "\n",
    "$$\n",
    "\\iff\n",
    "\\begin{bmatrix} \\delta_{1}^{(1)} \\\\ \\delta_{2}^{(1)} \\end{bmatrix} =\n",
    "\\begin{bmatrix} \\varphi'(v_{1}^{(1)}) \\\\ \\varphi'(v_{2}^{(1)}) \\end{bmatrix} \\circ\n",
    "\\begin{bmatrix} e_{1}^{(1)} \\\\ e_{2}^{(1)} \\end{bmatrix}\n",
    "$$\n",
    "\n",
    "$$\n",
    "\\begin{align}\n",
    "\\therefore\n",
    "\\boldsymbol{\\delta^{(1)}} \\, = \\; &\\boldsymbol{\\varphi}'(\\mathbf{v^{(1)}}) \\circ \\mathbf{e^{(1)}} \\quad (\\text{Hadamard product})\n",
    "\\tag{3.10} \\\\\n",
    "&\\boldsymbol{\\varphi}'(\\mathbf{v^{(1)}}) = \\begin{bmatrix} \\varphi'(v_{1}^{(1)}) \\\\ \\varphi'(v_{2}^{(1)}) \\end{bmatrix}\n",
    "\\end{align}\n",
    "$$"
   ]
  },
  {
   "cell_type": "markdown",
   "id": "0ac11960",
   "metadata": {
    "slideshow": {
     "slide_type": "slide"
    }
   },
   "source": [
    "■ 활성함수의 역할\n",
    "\n",
    "- 연산자$^\\text{operator}$로서의 활성함수\n",
    "\n",
    "  - 순방향 신호 가중합($v$)을 활성화($\\varphi$) 시켜 출력($y$)\n",
    "\n",
    "  - 역방향 델타 가중합($e$)에 도함수($\\varphi'$) 곱해 출력($\\delta$)"
   ]
  },
  {
   "cell_type": "markdown",
   "id": "9115c719",
   "metadata": {
    "slideshow": {
     "slide_type": "slide"
    }
   },
   "source": [
    "### 델타가 모두 확보되었으므로...\n",
    "\n",
    "- 델타 규칙으로 가중치를 계층별로 조절\n",
    "\n",
    "$$\n",
    "\\begin{cases}\n",
    "\\begin{align}\n",
    "\\Delta w_{ij} &= \\alpha \\, \\delta_{i} \\, x_{j} \\\\\n",
    "w_{ij} &\\leftarrow w_{ij} + \\Delta w_{ij}\n",
    "\\end{align}\n",
    "\\tag{3.11}\n",
    "\\end{cases}\n",
    "$$\n",
    "\n",
    "&nbsp;&nbsp;&nbsp;&nbsp;&nbsp;&nbsp;&nbsp;&nbsp;&nbsp;&nbsp;$x_j$ : 해당 가중치의 입력 신호(입력층뿐만 아니라<br>\n",
    "&nbsp;&nbsp;&nbsp;&nbsp;&nbsp;&nbsp;&nbsp;&nbsp;&nbsp;&nbsp;&nbsp;&nbsp;&nbsp;&nbsp;&nbsp;은닉층으로부터 들어오는 입력 신호)"
   ]
  },
  {
   "cell_type": "markdown",
   "id": "6808ba64",
   "metadata": {
    "slideshow": {
     "slide_type": "slide"
    }
   },
   "source": [
    "■ 출력층 가중치 조절\n",
    "\n",
    "- 가중치 $w_{21}^{(2)}$를 예로 들면, 델타($\\delta_{2}^{(2)}$)와 입력값($y_{1}^{(1)}$)으로\n",
    "\n",
    "$$\n",
    "w_{21}^{(2)} \\leftarrow w_{21}^{(2)} + \\alpha \\, \\delta_{2}^{(2)} \\, y_{1}^{(1)}\n",
    "$$"
   ]
  },
  {
   "cell_type": "markdown",
   "id": "54e25a7f",
   "metadata": {
    "slideshow": {
     "slide_type": "slide"
    }
   },
   "source": [
    "- 모든 가중치들에 대해 구하면,\n",
    "\n",
    "$$\n",
    "\\begin{cases}\n",
    "w_{11}^{(2)} \\leftarrow w_{11}^{(2)} + \\alpha \\, \\delta_{1}^{(2)} \\, y_{1}^{(1)} \\\\\n",
    "w_{12}^{(2)} \\leftarrow w_{12}^{(2)} + \\alpha \\, \\delta_{1}^{(2)} \\, y_{2}^{(1)} \\\\\n",
    "w_{21}^{(2)} \\leftarrow w_{21}^{(2)} + \\alpha \\, \\delta_{2}^{(2)} \\, y_{1}^{(1)} \\\\\n",
    "w_{22}^{(2)} \\leftarrow w_{22}^{(2)} + \\alpha \\, \\delta_{2}^{(2)} \\, y_{2}^{(1)}\n",
    "\\end{cases}\n",
    "$$\n",
    "\n",
    "$$\n",
    "\\iff\n",
    "\\begin{bmatrix} w_{11}^{(2)} & w_{12}^{(2)} \\\\ w_{21}^{(2)} & w_{22}^{(2)} \\end{bmatrix} \\leftarrow\n",
    "\\begin{bmatrix} \" & \" \\\\ \" & \" \\end{bmatrix} + \\alpha\n",
    "\\begin{bmatrix} \\delta_{1}^{(2)} y_{1}^{(1)} & \\delta_{1}^{(2)} y_{2}^{(1)} \\\\ \\delta_{2}^{(2)} y_{1}^{(1)} & \\delta_{2}^{(2)} y_{2}^{(1)} \\end{bmatrix}\n",
    "$$\n",
    "\n",
    "$$\n",
    "\\iff\n",
    "\\begin{bmatrix} w_{11}^{(2)} & w_{12}^{(2)} \\\\ w_{21}^{(2)} & w_{22}^{(2)} \\end{bmatrix} \\leftarrow\n",
    "\\begin{bmatrix} \" & \" \\\\ \" & \" \\end{bmatrix} + \\alpha\n",
    "\\begin{bmatrix} \\delta_{1}^{(2)} \\\\ \\delta_{2}^{(2)} \\end{bmatrix}\n",
    "\\begin{bmatrix} y_{1}^{(1)} & y_{2}^{(1)} \\end{bmatrix}\n",
    "$$\n",
    "\n",
    "$$\n",
    "\\therefore\n",
    "\\mathbf{W^{(2)}} \\leftarrow \\mathbf{W^{(2)}} + \\alpha \\, \\boldsymbol{\\delta^{(2)}} \\, \\mathbf{{y^{(1)}}^{T}}\n",
    "\\tag{3.12}\n",
    "$$"
   ]
  },
  {
   "cell_type": "markdown",
   "id": "5cec62c2",
   "metadata": {
    "slideshow": {
     "slide_type": "slide"
    }
   },
   "source": [
    "■ 은닉층 가중치 조절\n",
    "\n",
    "- 가중치 $w_{11}^{(1)}$를 예로 들면, 델타($\\delta_{1}^{(1)}$)와 입력값($x_{1}$)으로\n",
    "\n",
    "$$\n",
    "w_{11}^{(1)} \\leftarrow w_{11}^{(1)} + \\alpha \\, \\delta_{1}^{(1)} \\, x_{1}\n",
    "$$"
   ]
  },
  {
   "cell_type": "markdown",
   "id": "8b0bf34a",
   "metadata": {
    "slideshow": {
     "slide_type": "slide"
    }
   },
   "source": [
    "- 모든 가중치들에 대해 구하면,\n",
    "\n",
    "$$\n",
    "\\begin{cases}\n",
    "w_{11}^{(1)} \\leftarrow w_{11}^{(1)} + \\alpha \\, \\delta_{1}^{(1)} \\, x_{1} \\\\\n",
    "w_{12}^{(1)} \\leftarrow w_{12}^{(1)} + \\alpha \\, \\delta_{1}^{(1)} \\, x_{2} \\\\\n",
    "w_{21}^{(1)} \\leftarrow w_{21}^{(1)} + \\alpha \\, \\delta_{2}^{(1)} \\, x_{1} \\\\\n",
    "w_{22}^{(1)} \\leftarrow w_{22}^{(1)} + \\alpha \\, \\delta_{2}^{(1)} \\, x_{2}\n",
    "\\end{cases}\n",
    "$$\n",
    "\n",
    "$$\n",
    "\\iff\n",
    "\\begin{bmatrix} w_{11}^{(1)} & w_{12}^{(1)} \\\\ w_{21}^{(1)} & w_{22}^{(1)} \\end{bmatrix} \\leftarrow\n",
    "\\begin{bmatrix} \" & \" \\\\ \" & \" \\end{bmatrix} + \\alpha\n",
    "\\begin{bmatrix} \\delta_{1}^{(1)} x_{1} & \\delta_{1}^{(1)} x_{2} \\\\ \\delta_{2}^{(1)} x_{1} & \\delta_{2}^{(1)} x_{2}\n",
    "\\end{bmatrix}\n",
    "$$\n",
    "\n",
    "$$\n",
    "\\iff\n",
    "\\begin{bmatrix} w_{11}^{(1)} & w_{12}^{(1)} \\\\ w_{21}^{(1)} & w_{22}^{(1)} \\end{bmatrix} \\leftarrow\n",
    "\\begin{bmatrix} \" & \" \\\\ \" & \" \\end{bmatrix} + \\alpha\n",
    "\\begin{bmatrix} \\delta_{1}^{(1)} \\\\ \\delta_{2}^{(1)} \\end{bmatrix}\n",
    "\\begin{bmatrix} x_{1} & x_{2} \\end{bmatrix}\n",
    "$$\n",
    "\n",
    "$$\n",
    "\\therefore\n",
    "\\mathbf{W^{(1)}} \\leftarrow \\mathbf{W^{(1)}} + \\alpha \\, \\boldsymbol{\\delta^{(1)}} \\, \\mathbf{x^{T}}\n",
    "\\tag{3.13}\n",
    "$$"
   ]
  },
  {
   "cell_type": "markdown",
   "id": "705d1a56",
   "metadata": {
    "slideshow": {
     "slide_type": "slide"
    }
   },
   "source": [
    "### 역전파 알고리즘을 단순·깔끔하게...\n",
    "<br>\n",
    "\n",
    "■ 앞에서 텐서로 표현한 식을 모으면\n",
    "\n",
    "- 출력층 : \n",
    "$\\begin{cases}\n",
    "\\mathbf{e^{(2)}} = \\mathbf{d} - \\mathbf{y} \\\\\n",
    "\\boldsymbol{\\delta^{(2)}} = \\boldsymbol{\\varphi}'(\\mathbf{v^{(2)}}) \\circ \\mathbf{e^{(2)}} \\\\\n",
    "\\mathbf{W^{(2)}} \\leftarrow \\mathbf{W^{(2)}} + \\alpha \\, \\boldsymbol{\\delta^{(2)}} \\, \\mathbf{{y^{(1)}}^{T}}\n",
    "\\end{cases}$\n",
    "<br><br>\n",
    "- 은닉층 : \n",
    "$\\begin{cases}\n",
    "\\mathbf{e^{(1)}} = \\mathbf{{W^{(2)}}^{T}} \\boldsymbol{\\delta^{(2)}} \\\\\n",
    "\\boldsymbol{\\delta^{(1)}} = \\boldsymbol{\\varphi}'(\\mathbf{v^{(1)}}) \\circ \\mathbf{e^{(1)}} \\\\\n",
    "\\mathbf{W^{(1)}} \\leftarrow \\mathbf{W^{(1)}} + \\alpha \\, \\boldsymbol{\\delta^{(1)}} \\, \\mathbf{x^{T}}\n",
    "\\end{cases}$\n",
    "<br><br>\n",
    "$\\rightarrow$ $\\mathbf{x} = \\mathbf{y^{(0)}}$라고 하면"
   ]
  },
  {
   "cell_type": "markdown",
   "id": "aa82f18d",
   "metadata": {
    "slideshow": {
     "slide_type": "slide"
    }
   },
   "source": [
    "- 출력층 : \n",
    "$\\begin{cases}\n",
    "\\mathbf{e^{(2)}} = \\mathbf{d} - \\mathbf{y} \\\\\n",
    "\\boldsymbol{\\delta^{(2)}} = \\boldsymbol{\\varphi}'(\\mathbf{v^{(2)}}) \\circ \\mathbf{e^{(2)}} \\\\\n",
    "\\mathbf{W^{(2)}} \\leftarrow \\mathbf{W^{(2)}} + \\alpha \\, \\boldsymbol{\\delta^{(2)}} \\, \\mathbf{{y^{(1)}}^{T}}\n",
    "\\end{cases}$\n",
    "<br><br>\n",
    "- 은닉층 : \n",
    "$\\begin{cases}\n",
    "\\mathbf{e^{(1)}} = \\mathbf{{W^{(2)}}^{T}} \\boldsymbol{\\delta^{(2)}} \\\\\n",
    "\\boldsymbol{\\delta^{(1)}} = \\boldsymbol{\\varphi}'(\\mathbf{v^{(1)}}) \\circ \\mathbf{e^{(1)}} \\\\\n",
    "\\mathbf{W^{(1)}} \\leftarrow \\mathbf{W^{(1)}} + \\alpha \\, \\boldsymbol{\\delta^{(1)}} \\, \\mathbf{{y^{(0)}}^{T}} \\; \\; (\\mathbf{y^{(0)}} = \\mathbf{x})\n",
    "\\end{cases}$\n",
    "<br><br>\n",
    "$\\rightarrow$ $\\mathbf{e^{(1)}}$, $\\mathbf{e^{(2)}}$만 빼고 동일한 식이므로 일반화 가능"
   ]
  },
  {
   "cell_type": "markdown",
   "id": "6f806fc3",
   "metadata": {
    "slideshow": {
     "slide_type": "slide"
    }
   },
   "source": [
    "- 따라서, 출력층$^{(\\mathbf{k} = \\mathbf{n})}$으로부터 모든 은닉층$^{(\\mathbf{k} = \\mathbf{n}-\\mathbf{1}, \\cdots, \\mathbf{1})}$으로의<br>\n",
    "  역전파 알고리즘을 다음과 같은 하나의 식으로 적용 가능함\n",
    "\n",
    "$$\n",
    "\\begin{align}\n",
    "\\mathbf{e^{(k)}} &=\n",
    "\\begin{cases}\n",
    "\\mathbf{d} - \\mathbf{y} &(\\text{if} \\; \\mathbf{k} = \\mathbf{n}) \\\\\n",
    "\\mathbf{{W^{(k+1)}}^{T}} \\boldsymbol{\\delta^{(\\mathbf{k}+1)}} &(\\text{otherwise})\n",
    "\\end{cases} \\\\\n",
    "\\boldsymbol{\\delta^{(\\mathbf{k})}} &= \\boldsymbol{\\varphi}'(\\mathbf{v^{(k)}}) \\circ \\mathbf{e^{(k)}} \\\\\n",
    "\\mathbf{W^{(k)}} &\\leftarrow \\mathbf{W^{(k)}} + \\alpha \\, \\boldsymbol{\\delta^{(\\mathbf{k})}} \\, \\mathbf{{y^{(k-1)}}^{T}} \\; \\; (\\mathbf{y^{(0)}} = \\mathbf{x})\n",
    "\\end{align}\n",
    "\\tag{3.14}\n",
    "$$"
   ]
  },
  {
   "cell_type": "markdown",
   "id": "14137f43",
   "metadata": {
    "slideshow": {
     "slide_type": "slide"
    }
   },
   "source": [
    "역전파 알고리즘의 지도 학습\n",
    "\n",
    "&nbsp;&nbsp;1. 신경망의 가중치를 적당한 값으로 초기화\n",
    "\n",
    "&nbsp;&nbsp;2. 학습 데이터 {입력, 정답}에서 '입력'을<br>\n",
    "&nbsp;&nbsp;&nbsp;&nbsp;&nbsp;신경망에 입력해 출력$(\\mathbf{y})$을 얻고, 해당<br>\n",
    "&nbsp;&nbsp;&nbsp;&nbsp;&nbsp;'정답$(\\mathbf{d})$'과 비교해 오차$(\\mathbf{e^{(n)}}=\\mathbf{d}-\\mathbf{y})$<br>\n",
    "&nbsp;&nbsp;&nbsp;&nbsp;&nbsp;구하고 델타$(\\boldsymbol{\\delta^{(\\mathbf{n})}} = \\boldsymbol{\\varphi}'(\\mathbf{v^{(n)}}) \\circ \\mathbf{e^{(n)}})$를 계산\n",
    "\n",
    "&nbsp;&nbsp;3. 델타를 역전파시켜 바로 아래 은닉층 노드<br>\n",
    "&nbsp;&nbsp;&nbsp;&nbsp;&nbsp;델타 계산$(\\mathbf{e^{(k)}} = \\mathbf{{W^{(k+1)}}^{T}} \\boldsymbol{\\delta^{(\\mathbf{k}+1)}}, \\;\\;\n",
    "\\boldsymbol{\\delta^{(\\mathbf{k})}} = \\boldsymbol{\\varphi}'(\\mathbf{v^{(k)}}) \\circ \\mathbf{e^{(k)}})$<br>\n",
    "&nbsp;&nbsp;4. 단계 3을 입력층 바로 위까지 모든 은닉층에 차례로 반복<br>\n",
    "\n",
    "&nbsp;&nbsp;5. 델타 규칙으로 가중치 조절$(\\mathbf{W^{(k)}} \\leftarrow \\mathbf{W^{(k)}} + \\alpha \\boldsymbol{\\delta^{(\\mathbf{k})}} \\mathbf{{y^{(k-1)}}^{T}})$<br>\n",
    "\n",
    "&nbsp;&nbsp;6. 전체 학습 데이터에 대해 2\\~5를 반복<br>\n",
    "&nbsp;&nbsp;7. 신경망의 출력 오차가 충분히 줄어들 때까지 2\\~6을 반복"
   ]
  },
  {
   "cell_type": "markdown",
   "id": "5c1b00d2",
   "metadata": {
    "slideshow": {
     "slide_type": "slide"
    }
   },
   "source": [
    "### Again XOR!!!<br>powered by backpropagation"
   ]
  },
  {
   "cell_type": "markdown",
   "id": "aaf002d0",
   "metadata": {
    "slideshow": {
     "slide_type": "slide"
    }
   },
   "source": [
    "### 역전파 알고리즘 구현\n",
    "\n",
    "<br>\n",
    "\n",
    "■ 3개의 입력 노드와 1개의 출력 노드 및<br>\n",
    "&nbsp;&nbsp;4개의 은닉 노드가 있는 은닉층 1개로<br>\n",
    "&nbsp;&nbsp;구성된 신경망\n",
    "\n",
    "- 먼저 난수 시드 생성"
   ]
  },
  {
   "cell_type": "code",
   "execution_count": 1,
   "id": "d1808158",
   "metadata": {
    "slideshow": {
     "slide_type": "-"
    }
   },
   "outputs": [],
   "source": [
    "import random as rd\n",
    "rd.seed(777)  # 실행 결과의 재현성 확보"
   ]
  },
  {
   "cell_type": "markdown",
   "id": "4ed06926",
   "metadata": {
    "slideshow": {
     "slide_type": "slide"
    }
   },
   "source": [
    "- 은닉층 자료구조 셋업"
   ]
  },
  {
   "cell_type": "code",
   "execution_count": 2,
   "id": "fd6e3e2f",
   "metadata": {
    "slideshow": {
     "slide_type": "-"
    }
   },
   "outputs": [
    {
     "data": {
      "text/plain": [
       "([[0.22933408950153078, 0.44559617334521107, 0.36859824937216046],\n",
       "  [0.269835098321503, 0.3361436466700177, 0.7523163560031157],\n",
       "  [0.9226950812763804, 0.9122532879410743, 0.6222433339601738],\n",
       "  [0.3895915642491937, 0.28896643129516897, 0.9931563744011908]],\n",
       " [0, 0, 0, 0],\n",
       " [0, 0, 0, 0])"
      ]
     },
     "execution_count": 2,
     "metadata": {},
     "output_type": "execute_result"
    }
   ],
   "source": [
    "l =  3 # 입력층 노드 수\n",
    "m =  4 # 은닉층 노드 수\n",
    "W1 = [[0 for i in range(l)] for j in range(m)]  # 은닉층 가중치 2차원 리스트(행렬) 생성\n",
    "v1 = [ 0 for j in range(m)]  # 은닉층 가중합 리스트 생성\n",
    "y1 = [ 0 for j in range(m)]  # 은닉층 출력값 리스트 생성\n",
    "for i in range(m):\n",
    "    for j in range(l):\n",
    "        W1[i][j] = rd.random()  # 0~1 난수로 가중치 초기화\n",
    "W1, v1, y1"
   ]
  },
  {
   "cell_type": "markdown",
   "id": "bb10e0c4",
   "metadata": {
    "slideshow": {
     "slide_type": "slide"
    }
   },
   "source": [
    "- 출력층 자료구조 셋업"
   ]
  },
  {
   "cell_type": "code",
   "execution_count": 3,
   "id": "1b241b13",
   "metadata": {
    "slideshow": {
     "slide_type": "-"
    }
   },
   "outputs": [
    {
     "data": {
      "text/plain": [
       "[0.9292201929855926,\n",
       " 0.6919591432659481,\n",
       " 0.8881824637439067,\n",
       " 0.10358232898131614]"
      ]
     },
     "execution_count": 3,
     "metadata": {},
     "output_type": "execute_result"
    }
   ],
   "source": [
    "#n = 1 # 출력층 노드 수\n",
    "W2 = [ 0 for j in range(m)]  # 출력층 가중치 리스트 생성\n",
    "#v = 0\n",
    "#y = 0\n",
    "for j in range(m):\n",
    "    W2[j] = rd.random()  # 0~1 난수로 가중치 초기화\n",
    "W2"
   ]
  },
  {
   "cell_type": "markdown",
   "id": "078ba77d",
   "metadata": {
    "slideshow": {
     "slide_type": "slide"
    }
   },
   "source": [
    "■ 학습 데이터는 총 4개\n",
    "\n",
    "- 지도 학습용으로 {입력, 정답}의 쌍\n",
    "- 굵은 글씨로 표시된 마지막 숫자가 '정답'\n",
    "- <font color='red'>단층 신경망이 학습에 실패했던 XOR 문제</font>"
   ]
  },
  {
   "cell_type": "code",
   "execution_count": 4,
   "id": "7efef8e4",
   "metadata": {
    "slideshow": {
     "slide_type": "-"
    }
   },
   "outputs": [
    {
     "data": {
      "text/plain": [
       "([[0, 0, 1], [0, 1, 1], [1, 0, 1], [1, 1, 1]], [0, 1, 1, 0])"
      ]
     },
     "execution_count": 4,
     "metadata": {},
     "output_type": "execute_result"
    }
   ],
   "source": [
    "# 입력 데이터와 정답 데이터를 따로 준비\n",
    "X = [[0, 0, 1],\n",
    "     [0, 1, 1],\n",
    "     [1, 0, 1],\n",
    "     [1, 1, 1]]\n",
    "D = [0,\n",
    "     1, # 네 번째 정답과 바뀜\n",
    "     1,\n",
    "     0] # 두 번째 정답과 바뀜\n",
    "X, D"
   ]
  },
  {
   "cell_type": "markdown",
   "id": "72978d6f",
   "metadata": {
    "slideshow": {
     "slide_type": "slide"
    }
   },
   "source": [
    "■ 은닉·출력층 활성함수는 시그모이드 함수\n",
    "\n",
    "- 람다 함수 적용으로 학습 속도 향상"
   ]
  },
  {
   "cell_type": "code",
   "execution_count": 5,
   "id": "525521d2",
   "metadata": {
    "slideshow": {
     "slide_type": "-"
    }
   },
   "outputs": [],
   "source": [
    "Sigmoid = lambda x: 1/(1. + (2.7182818284)**(-x))"
   ]
  },
  {
   "cell_type": "markdown",
   "id": "4947b0fb",
   "metadata": {
    "slideshow": {
     "slide_type": "slide"
    }
   },
   "source": [
    "■ 은닉·출력층 활성 함수가 시그모이드 함수이므로<br>\n",
    "&nbsp;&nbsp;이에 대한 델타 규칙을 학습에 적용<br>\n",
    "<br><br>\n",
    "$$\n",
    "\\begin{cases}\n",
    "\\begin{align}\n",
    "\\delta_{i} &= \\varphi(v_{i}) (1- \\varphi(v_{i})) e_{i} \\\\\n",
    "\\Delta w_{ij} &= \\alpha \\, \\delta_{i} \\, x_{j} \\\\\n",
    "w_{ij} &\\leftarrow w_{ij} + \\Delta w_{ij}\n",
    "\\end{align}\n",
    "\\end{cases}\n",
    "$$\n",
    "<br><br>\n",
    "&nbsp;&nbsp;→ 역전파 기반 델타 규칙 수행 함수로 구현"
   ]
  },
  {
   "cell_type": "markdown",
   "id": "73488666",
   "metadata": {
    "slideshow": {
     "slide_type": "slide"
    }
   },
   "source": [
    "■ BackpropSGD(·)<br>\n",
    "&nbsp;&nbsp;: 역전파 기반 델타 규칙에 따른 SGD 수행\n",
    "\n",
    "- 신경망의 가중치와 학습 데이터를 인자로 넘겨 받아<br>\n",
    "  새롭게 학습된 가중치를 반환하는 방식으로 실행\n",
    "<br><br>\n",
    "<center>W1, W2 = BackpropSGD(W1, W2, X, D)</center>\n",
    "<br>\n",
    "- 은닉·출력층 가중치(W1, W2), 학습 데이터(X, D)를 받아<br>\n",
    "  역전파 기반의 델타 규칙에 따라 SGD 방식으로 가중치를<br>\n",
    "  새롭게 갱신하고 갱신된 가중치를 반환"
   ]
  },
  {
   "cell_type": "markdown",
   "id": "3f37a304",
   "metadata": {
    "slideshow": {
     "slide_type": "slide"
    }
   },
   "source": [
    "&nbsp;- 크게 두 부분<br><br>\n",
    "\n",
    "&nbsp;&nbsp;· 자료구조 정의 부분<br><br>\n",
    "\n",
    "&nbsp;&nbsp;· 학습 수행하는 부분<br><br>\n",
    "&nbsp;&nbsp;&nbsp;&nbsp;→ 다시 세 부분으로 나눔"
   ]
  },
  {
   "cell_type": "markdown",
   "id": "5733c2a4",
   "metadata": {
    "slideshow": {
     "slide_type": "slide"
    }
   },
   "source": [
    "&nbsp;- 학습 수행 부분<br><br>\n",
    "\n",
    "&nbsp;&nbsp;· 신경망 출력 부분<br><br>\n",
    "\n",
    "&nbsp;&nbsp;· 델타 역전파 부분<br><br>\n",
    "\n",
    "&nbsp;&nbsp;· 가중치 조절 부분"
   ]
  },
  {
   "attachments": {
    "image.png": {
     "image/png": "[encoded data removed]"
    }
   },
   "cell_type": "markdown",
   "id": "1ee1b7d8",
   "metadata": {
    "slideshow": {
     "slide_type": "slide"
    }
   },
   "source": [
    "- 신경망 출력 (forward propagation)\n",
    "\n",
    "<center><img src='attachment:image.png' width='1100'></center>"
   ]
  },
  {
   "attachments": {
    "image.png": {
     "image/png": "[encoded data removed]"
    }
   },
   "cell_type": "markdown",
   "id": "19a3a9e5",
   "metadata": {
    "slideshow": {
     "slide_type": "slide"
    }
   },
   "source": [
    "- 델타 역전파 (backward propagation)\n",
    "\n",
    "<center><img src='attachment:image.png' width='1100'></center>"
   ]
  },
  {
   "attachments": {
    "image.png": {
     "image/png": "[encoded data removed]"
    }
   },
   "cell_type": "markdown",
   "id": "fbf75cc7",
   "metadata": {
    "slideshow": {
     "slide_type": "slide"
    }
   },
   "source": [
    "- 가중치 조절 (weight update)\n",
    "\n",
    "<center><img src='attachment:image.png' width='1100'></center>"
   ]
  },
  {
   "cell_type": "markdown",
   "id": "593dba2d",
   "metadata": {
    "slideshow": {
     "slide_type": "slide"
    }
   },
   "source": [
    "- BackpropSGD(·) 실행"
   ]
  },
  {
   "cell_type": "code",
   "execution_count": 6,
   "id": "c970333d",
   "metadata": {
    "slideshow": {
     "slide_type": "-"
    }
   },
   "outputs": [],
   "source": [
    "def BackpropSGD(W1, W2, X, D):\n",
    "    alpha = 0.9     # 학습률(0~1)\n",
    "\n",
    "    m = len(W1)     # 은닉층 가중치 행렬 W1의 행의 수 = 은닉층 노드 수\n",
    "    l = len(W1[0])  # 은닉층 가중치 행렬 W1의 열의 수 = 입력층 노드 수\n",
    "\n",
    "    v1     = [ 0 for j in range(m)]  # 은닉층 가중합 리스트 생성\n",
    "    y1     = [ 0 for j in range(m)]  # 은닉층 출력값 리스트 생성\n",
    "    e1     = [ 0 for j in range(m)]  # 은닉층 오차값 리스트 생성\n",
    "    delta1 = [ 0 for j in range(m)]  # 은닉층 델타값 리스트 생성\n",
    "    dW1    = [[0 for i in range(l)] for j in range(m)]  # 은닉층 가중치 갱신값 2차원 리스트(행렬) 생성\n",
    "    dW2    = [ 0 for j in range(m)]  # 출력층 가중치 갱신값 리스트 생성\n",
    "\n",
    "    for k in range(len(X)):\n",
    "\n",
    "        # 신경망 출력(forward propagation)\n",
    "        x = X[k]  # 입력 데이터 하나 꺼냄\n",
    "        for i in range(m):  # 은닉층 노드에 대한 반복문\n",
    "            v1[i] = 0\n",
    "            for j in range(l):  # 입력층 노드에 대한 반복문\n",
    "                v1[i] += (W1[i][j]*x[j])  # 입력층 신호에 은닉층 가중치를 곱하여 가중합 계산\n",
    "            y1[i] = Sigmoid(v1[i])        # 활성 함수를 적용하여 은닉층 출력값 계산\n",
    "\n",
    "        v = 0\n",
    "        for j in range(m):  # 은닉층 노드에 대한 반복문\n",
    "            v += (W2[j]*y1[j])  # 은닉층 신호에 출력층 가중치를 곱하여 가중합 계산\n",
    "        y = Sigmoid(v)          # 활성 함수를  적용하여 출력층 출력값 계산\n",
    "\n",
    "        # 델타 역전파(backward propagation)\n",
    "        d = D[k]           # 정답 데이터 하나 꺼냄\n",
    "        e = d - y          # 출력층 오차(정답과 출력값의 차이) 계산\n",
    "        delta = y*(1-y)*e  # 출력층 델타(시그모이드의 도함수 적용) 계산\n",
    "        for i in range(m):  # 은닉층 노드에 대한 반복문\n",
    "            e1[i] = W2[i]*delta                # 은닉층 오차(출력층 델타 역전파 수행) 계산\n",
    "            delta1[i] = y1[i]*(1-y1[i])*e1[i]  # 은닉층 델타(시그모이드의 도함수 적용) 계산\n",
    "\n",
    "        # 은닉층 가중치 조절(hidden layer weight update)\n",
    "        for i in range(m):  # 은닉층 노드에 대한 반복문\n",
    "            for j in range(l):  # 입력층 노드에 대한 반복문\n",
    "                dW1[i][j] = alpha*delta1[i]*x[j]  # 델타 규칙으로 가중치 갱신값 계산\n",
    "                W1[i][j] += dW1[i][j]  # 하나의 학습 데이터마다 바로 가중치 갱신(SGD)\n",
    "\n",
    "        # 출력층 가중치 조절(output layer weight update)\n",
    "        for j in range(m):  # 은닉층 노드에 대한 반복문\n",
    "            dW2[j] = alpha*delta*y1[j]  # 델타 규칙으로 가중치 갱신값 계산\n",
    "            W2[j] += dW2[j]  # 하나의 학습 데이터마다 바로 가중치 갱신(SGD)\n",
    "\n",
    "    return W1, W2"
   ]
  },
  {
   "cell_type": "markdown",
   "id": "35b05872",
   "metadata": {
    "slideshow": {
     "slide_type": "slide"
    }
   },
   "source": [
    "■ BackpropSGD(·) 호출 방식으로 10000 epoch 반복 학습 수행"
   ]
  },
  {
   "cell_type": "code",
   "execution_count": 7,
   "id": "2d09f6b2",
   "metadata": {
    "slideshow": {
     "slide_type": "-"
    }
   },
   "outputs": [],
   "source": [
    "for epoch in range(10000):\n",
    "    W1, W2 = BackpropSGD(W1, W2, X, D)"
   ]
  },
  {
   "cell_type": "markdown",
   "id": "ab0336b1",
   "metadata": {
    "slideshow": {
     "slide_type": "slide"
    }
   },
   "source": [
    "■ 학습 결과 확인\n",
    "\n",
    "- 신경망의 출력값을 정답$\\left( D = \\begin{bmatrix} 0 & 1 & 1 & 0 \\end{bmatrix}^T \\right)$과 비교"
   ]
  },
  {
   "cell_type": "code",
   "execution_count": 8,
   "id": "2789a0d0",
   "metadata": {
    "slideshow": {
     "slide_type": "-"
    }
   },
   "outputs": [
    {
     "name": "stdout",
     "output_type": "stream",
     "text": [
      "0.006595055397241246\n",
      "0.986233984967254\n",
      "0.9878299745509225\n",
      "0.015358938457338584\n"
     ]
    }
   ],
   "source": [
    "for k in range(len(X)):\n",
    "    x = X[k]  # 입력 데이터 하나 꺼냄\n",
    "    for i in range(m):  # 은닉층 노드에 대한 반복문\n",
    "        v1[i] = 0\n",
    "        for j in range(l):  # 입력층 노드에 대한 반복문\n",
    "            v1[i] += (W1[i][j]*x[j])  # 입력층 신호에 은닉층 가중치를 곱하여 가중합 계산\n",
    "        y1[i] = Sigmoid(v1[i])        # 활성 함수를 적용하여 은닉층 출력값 계산\n",
    "\n",
    "    v = 0\n",
    "    for j in range(m):  # 은닉층 노드에 대한 반복문\n",
    "        v += (W2[j]*y1[j])  # 은닉층 신호에 출력층 가중치를 곱하여 가중합 계산\n",
    "    y = Sigmoid(v)          # 활성 함수를  적용하여 신경망(출력층) 출력값 계산\n",
    "\n",
    "    print(y)  # 출력값 print"
   ]
  },
  {
   "cell_type": "markdown",
   "id": "51c4df83",
   "metadata": {
    "slideshow": {
     "slide_type": "slide"
    }
   },
   "source": [
    "### 비용함수\n",
    "<br>\n",
    "\n",
    "■ 최적화 문제\n",
    "\n",
    "$$\n",
    "\\begin{align}\n",
    "\\text{Find} \\quad\n",
    "&\\mathbf{x^{*}} = \\underset{\\mathbf{x} \\in \\mathbb{D}}{\\text{argmin}} f(\\mathbf{x}) \\\\\n",
    "\\text{subject to} \\quad\n",
    "&g_i(\\mathbf{x}) \\le 0, \\; i = 1, \\cdots, m \\; (m \\ge 0) \\\\\n",
    "&h_j(\\mathbf{x}) = 0, \\; j = 1, \\cdots, n \\; (n \\ge 0)\n",
    "\\end{align}\n",
    "\\tag{3.15}\n",
    "$$\n",
    "\n",
    "- $f(\\mathbf{x})$ : 비용함수$^\\text{cost function}$(목적함수$^\\text{objective function}$)\n",
    "- $g(\\mathbf{x})$, $h(\\mathbf{x})$ : 구속조건$^\\text{constraints}$\n",
    "- $\\mathbf{x}$ : 설계 변수$^\\text{design variable}$\n",
    "- $\\mathbf{x^{*}}$ : 최적 해$^\\text{optimal solution}$\n",
    "<br>\n",
    "\n",
    "&nbsp;&nbsp;&nbsp;&nbsp;→ 구속조건을 만족하면서 <font color='blue'>**$f(\\mathbf{x})$를 최소화하는 $\\mathbf{x^{*}}$**</font>를 구하라"
   ]
  },
  {
   "cell_type": "markdown",
   "id": "08d414bc",
   "metadata": {
    "slideshow": {
     "slide_type": "slide"
    }
   },
   "source": [
    "&nbsp;&nbsp;신경망의 지도 학습은<br>\n",
    "&nbsp;&nbsp;<font color='blue'>\"**출력층 오차를 최소화하는 연결가중치**\"</font><br>\n",
    "&nbsp;&nbsp;를 구하는 최적화 문제\n",
    "\n",
    "&nbsp;&nbsp;이때,\n",
    "- 설계 변수는 연결가중치 : $w_{ij}$\n",
    "<br><br>\n",
    "- 비용함수는 출력층 오차의 제곱합(모든 학습 데이터가<br>\n",
    "  적용된 것으로 가정) :\n",
    "$$\n",
    "\\sum_{n=1}^{N}{\\frac{1}{2} e_n(w_{ij})^2} = \\sum_{n=1}^{N}{\\frac{1}{2} \\{d_n - y_n(w_{ij})\\}^{2}}\n",
    "\\tag{3.16}\n",
    "$$\n",
    "<br>\n",
    "- 구속조건은 없음 : 비제약 최적화$^\\text{unconstrained optimization}$ 문제"
   ]
  },
  {
   "cell_type": "markdown",
   "id": "e1e065c5",
   "metadata": {
    "slideshow": {
     "slide_type": "slide"
    }
   },
   "source": [
    "&nbsp;&nbsp;따라서, 신경망의 지도 학습은<br>\n",
    "&nbsp;&nbsp;다음의 비제약 최적화 문제로 정식화<br>\n",
    "<br>\n",
    "\n",
    "$$\n",
    "\\text{Find} \\;\n",
    "w_{ij}^{*} = \\underset{w_{ij} \\in \\mathbb{D}}{\\text{argmin}} \\left( \\sum_{n=1}^{N}{\\frac{1}{2} \\{d_n - y_n(w_{ij})\\}^2} \\right) \\\\\n",
    "\\tag{3.17}\n",
    "$$\n",
    "\n",
    "- 본 최적화 문제에 대해 최적화 알고리즘으로 설계 변수를<br>\n",
    "  변경시키면서 비용함수를 줄여 최적 해를 찾아가는 과정이,\n",
    "\n",
    "<br>\n",
    "\n",
    "- 다층 신경망에서 역전파 기반 델타 규칙으로 연결 가중치를<br>\n",
    "  조절하면서 출력층 오차를 줄여 학습을 수행하는 과정으로<br>\n",
    "  구현된 것임"
   ]
  },
  {
   "cell_type": "markdown",
   "id": "941c0566",
   "metadata": {
    "slideshow": {
     "slide_type": "slide"
    }
   },
   "source": [
    "- 최적화 문제에서 경사하강법 등 최적화기법으로 설계변수를<br>\n",
    "  변경시키면서 비용함수를 줄여 최적 해를 찾아가는 과정\n",
    "\n",
    "$$\n",
    "\\mathbf{x}\n",
    "\\leftarrow \\mathbf{x} + \\boldsymbol{\\Delta} \\mathbf{x}, \\quad\n",
    "\\boldsymbol{\\Delta} \\mathbf{x}\n",
    "= \\alpha \\, \\Big[ -\\frac{\\partial f}{\\partial \\mathbf{x}} \\Big]\n",
    "$$\n",
    "\n",
    "&nbsp;&nbsp;&nbsp;&nbsp;&nbsp;&nbsp;$-\\partial f / \\partial \\mathbf{x}$ : 비용함수의 최대 경사하강 방향(음의 구배$^\\text{gradient}$)\n",
    "\n",
    "<br>\n",
    "\n",
    "- 다층 신경망에서 역전파 기반 델타 규칙으로 연결 가중치를<br>\n",
    "  조절하면서 출력층 오차를 줄여 학습을 수행하는 과정\n",
    "\n",
    "$$\n",
    "\\mathbf{W}\n",
    "\\leftarrow \\mathbf{W} + \\boldsymbol{\\Delta} \\mathbf{W}, \\quad\n",
    "\\boldsymbol{\\Delta} \\mathbf{W}\n",
    "= \\alpha \\, \\big[ \\boldsymbol{\\delta} \\, \\mathbf{y^{T}} \\big]\n",
    "$$\n",
    "\n",
    "\n",
    "&nbsp;&nbsp;&nbsp;&nbsp;&nbsp;&nbsp;$\\boldsymbol{\\delta} \\, \\mathbf{y^{T}}$ : 출력층 오차의 최대 경사하강 방향(음의 구배에 해당)"
   ]
  },
  {
   "cell_type": "markdown",
   "id": "e3dacb0d",
   "metadata": {
    "slideshow": {
     "slide_type": "slide"
    }
   },
   "source": [
    "■ 기존 비용함수 : 오차의 제곱합$^\\text{sum of squared error}$\n",
    "\n",
    "$$\\sum_{n=1}^{N}{\\frac{1}{2} (d_n - y_n)^{2}} \\tag{3.18}$$\n",
    "\n",
    "- 오차의 제곱 $\\text{SE} = \\frac{1}{2} (d - y)^{2}$\n",
    "\n",
    "  - 신경망 출력$(y)$이 정답$(d)$와 같으면 0\n",
    "\n",
    "  - 두 값의 차이가 커지면 제곱의 비율로 커짐\n",
    "\n",
    "<br>\n",
    "\n",
    "- 신경망 연구 초기에 사용했고, 회귀 문제는 여전히 사용"
   ]
  },
  {
   "cell_type": "markdown",
   "id": "76f6b60b",
   "metadata": {
    "slideshow": {
     "slide_type": "slide"
    }
   },
   "source": [
    "- 오차의 제곱을 그려보면,"
   ]
  },
  {
   "cell_type": "code",
   "execution_count": 9,
   "id": "95269a36",
   "metadata": {
    "slideshow": {
     "slide_type": "-"
    }
   },
   "outputs": [],
   "source": [
    "import numpy as np\n",
    "import matplotlib.pyplot as plt\n",
    "\n",
    "def PlotSE(np, plt):\n",
    "    e = np.linspace(-3, 3, 100)\n",
    "    plt.figure(figsize=(10, 6))\n",
    "    plt.plot(e, 0.5*e**2, label='SE = ½(d-y)²')\n",
    "    plt.xlabel('d-y')\n",
    "    plt.ylabel('SE (squared error)')\n",
    "    plt.axhline(0.0, color='grey', ls='--')\n",
    "    plt.axvline(0.0, color='grey', ls='--')\n",
    "    plt.axis('equal')\n",
    "    plt.legend()\n",
    "    plt.show()"
   ]
  },
  {
   "cell_type": "code",
   "execution_count": 10,
   "id": "a2a50a62",
   "metadata": {
    "slideshow": {
     "slide_type": "slide"
    }
   },
   "outputs": [
    {
     "data": {
      "image/png": "[encoded data removed]",
      "text/plain": [
       "<Figure size 720x432 with 1 Axes>"
      ]
     },
     "metadata": {
      "needs_background": "light"
     },
     "output_type": "display_data"
    }
   ],
   "source": [
    "PlotSE(np, plt)"
   ]
  },
  {
   "cell_type": "markdown",
   "id": "775cb236",
   "metadata": {
    "slideshow": {
     "slide_type": "slide"
    }
   },
   "source": [
    "■ 새로운 비용함수 : 교차 엔트로피$^\\text{cross entropy}$ 합\n",
    "\n",
    "$$\n",
    "\\sum_{n=1}^{N}{ \\{-d_{n} \\ln(y_{n}) - (1 - d_{n}) \\ln(1 - y_{n}) \\} }\n",
    "\\tag{3.19}\n",
    "$$\n",
    "\n",
    "<br>\n",
    "\n",
    "- 교차 엔트로피\n",
    "\n",
    "$$\\text{CE} = -d \\ln(y) - (1 - d) \\ln(1 - y)$$\n",
    "\n",
    "\n",
    "\n",
    "&nbsp;&nbsp;&nbsp;&nbsp;&nbsp;&nbsp;무슨 말?????"
   ]
  },
  {
   "cell_type": "markdown",
   "id": "d84fe46a",
   "metadata": {
    "slideshow": {
     "slide_type": "slide"
    }
   },
   "source": [
    "- $d$에 따라 두 식으로 풀어 쓰면\n",
    "\n",
    "$$\n",
    "\\begin{align}\n",
    "\\text{CE} &=\n",
    "-d \\ln(y) - (1 - d) \\ln(1 - y) \\\\[1.5ex] &=\n",
    "\\begin{cases}\n",
    "-\\ln(y) &(d = 1) \\\\[1ex]\n",
    "-\\ln(1 - y) &(d = 0)\n",
    "\\end{cases}\n",
    "\\end{align}\n",
    "\\tag{3.20}\n",
    "$$\n",
    "\n",
    "- 비용함수로서 교차 엔트로피는\n",
    "\n",
    "  - 신경망 출력이 $0 < y < 1$이고 $\\bigl( \\because \\ln(y), \\; \\ln(1-y) \\bigl)$\n",
    "\n",
    "  - 정답 $d$가 $d = 0 \\; \\text{or} \\; 1$인 분류 문제에 적용"
   ]
  },
  {
   "cell_type": "markdown",
   "id": "df5fb101",
   "metadata": {
    "slideshow": {
     "slide_type": "slide"
    }
   },
   "source": [
    "- $d = 1$의 교차 엔트로피 $\\text{CE} = -\\ln(y)$를 그려보면,"
   ]
  },
  {
   "cell_type": "code",
   "execution_count": 11,
   "id": "2ddf8f35",
   "metadata": {
    "slideshow": {
     "slide_type": "-"
    }
   },
   "outputs": [],
   "source": [
    "def PlotCE1(np, plt):\n",
    "    y = np.linspace(0.00001, 1, 1000)\n",
    "    plt.figure(figsize=(10, 6))\n",
    "    plt.plot(y, -np.log(y), label='CE = -ln(y),     d = 1')\n",
    "    plt.xlabel('y')\n",
    "    plt.ylabel('CE (cross entropy)')\n",
    "    plt.axhline(0.0, color='grey', ls='--')\n",
    "    plt.axvline(0.0, color='grey', ls='--')\n",
    "    plt.axvline(1.0, color='grey', ls='--')\n",
    "    plt.legend()\n",
    "    plt.show()"
   ]
  },
  {
   "cell_type": "code",
   "execution_count": 12,
   "id": "6bcd7072",
   "metadata": {
    "slideshow": {
     "slide_type": "slide"
    }
   },
   "outputs": [
    {
     "data": {
      "image/png": "[encoded data removed]",
      "text/plain": [
       "<Figure size 720x432 with 1 Axes>"
      ]
     },
     "metadata": {
      "needs_background": "light"
     },
     "output_type": "display_data"
    }
   ],
   "source": [
    "PlotCE1(np, plt)"
   ]
  },
  {
   "cell_type": "markdown",
   "id": "ff8c379e",
   "metadata": {
    "slideshow": {
     "slide_type": "slide"
    }
   },
   "source": [
    "- $d = 0$의 교차 엔트로피 $\\text{CE} = -\\ln(1-y)$를 그려보면,"
   ]
  },
  {
   "cell_type": "code",
   "execution_count": 13,
   "id": "d128888a",
   "metadata": {
    "slideshow": {
     "slide_type": "-"
    }
   },
   "outputs": [],
   "source": [
    "def PlotCE0(np, plt):\n",
    "    y = np.linspace(0, 0.99999, 1000)\n",
    "    plt.figure(figsize=(10, 6))\n",
    "    plt.plot(y, -np.log(1-y), label='CE = -ln(1-y),     d = 0')\n",
    "    plt.xlabel('y')\n",
    "    plt.ylabel('CE (cross entropy)')\n",
    "    plt.axhline(0.0, color='grey', ls='--')\n",
    "    plt.axvline(0.0, color='grey', ls='--')\n",
    "    plt.axvline(1.0, color='grey', ls='--')\n",
    "    plt.legend()\n",
    "    plt.show()"
   ]
  },
  {
   "cell_type": "code",
   "execution_count": 14,
   "id": "13896098",
   "metadata": {
    "scrolled": false,
    "slideshow": {
     "slide_type": "slide"
    }
   },
   "outputs": [
    {
     "data": {
      "image/png": "[encoded data removed]",
      "text/plain": [
       "<Figure size 720x432 with 1 Axes>"
      ]
     },
     "metadata": {
      "needs_background": "light"
     },
     "output_type": "display_data"
    }
   ],
   "source": [
    "PlotCE0(np, plt)"
   ]
  },
  {
   "cell_type": "markdown",
   "id": "b376f3c6",
   "metadata": {
    "slideshow": {
     "slide_type": "slide"
    }
   },
   "source": [
    "- 왼쪽$(d = 1)$의 교차 엔트로피는\n",
    "  - 신경망 출력$(y)$이 정답$(d = 1)$과 같으면 0\n",
    "  - 두 값의 차이가 커지면$(y \\rightarrow 0)$ 급격히 증가\n",
    "\n",
    "- 오른쪽$(d = 0)$의 교차 엔트로피도\n",
    "  - 신경망 출력$(y)$이 정답$(d = 0)$과 같으면 0\n",
    "  - 두 값의 차이가 커지면$(y \\rightarrow 1)$ 급격히 증가"
   ]
  },
  {
   "cell_type": "markdown",
   "id": "9f139440",
   "metadata": {
    "slideshow": {
     "slide_type": "slide"
    }
   },
   "source": [
    "- $d = 1$일 때, 교차 엔트로피와 오차의 제곱을 같이 그려보면,"
   ]
  },
  {
   "cell_type": "code",
   "execution_count": 15,
   "id": "7a7bdbdb",
   "metadata": {
    "slideshow": {
     "slide_type": "-"
    }
   },
   "outputs": [],
   "source": [
    "def PlotCE1SE1(np, plt):\n",
    "    y = np.linspace(0.00001, 1, 1000)\n",
    "    plt.figure(figsize=(10, 6))\n",
    "    plt.plot(y, -np.log(y), label='CE = -ln(y),     d = 1')\n",
    "    plt.plot(y, 0.5*(1-y)**2, label='SE = ½(d-y)²,  d = 1')\n",
    "    plt.xlabel('y')\n",
    "    plt.ylabel('CE & SE')\n",
    "    plt.axhline(0.0, color='grey', ls='--')\n",
    "    plt.axvline(0.0, color='grey', ls='--')\n",
    "    plt.axvline(1.0, color='grey', ls='--')\n",
    "    plt.legend()\n",
    "    plt.show()"
   ]
  },
  {
   "cell_type": "code",
   "execution_count": 16,
   "id": "7584b801",
   "metadata": {
    "slideshow": {
     "slide_type": "slide"
    }
   },
   "outputs": [
    {
     "data": {
      "image/png": "[encoded data removed]",
      "text/plain": [
       "<Figure size 720x432 with 1 Axes>"
      ]
     },
     "metadata": {
      "needs_background": "light"
     },
     "output_type": "display_data"
    }
   ],
   "source": [
    "PlotCE1SE1(np, plt)"
   ]
  },
  {
   "cell_type": "markdown",
   "id": "7a863191",
   "metadata": {
    "slideshow": {
     "slide_type": "slide"
    }
   },
   "source": [
    "- $d = 0$일 때, 교차 엔트로피와 오차의 제곱을 같이 그려보면,"
   ]
  },
  {
   "cell_type": "code",
   "execution_count": 17,
   "id": "73b9902f",
   "metadata": {
    "slideshow": {
     "slide_type": "-"
    }
   },
   "outputs": [],
   "source": [
    "def PlotCE0SE0(np, plt):\n",
    "    y = np.linspace(0, 0.99999, 1000)\n",
    "    plt.figure(figsize=(10, 6))\n",
    "    plt.plot(y, -np.log(1-y), label='CE = -ln(1-y),     d = 0')\n",
    "    plt.plot(y, 0.5*(0-y)**2, label='SE = ½(d-y)²,  d = 0')\n",
    "    plt.xlabel('y')\n",
    "    plt.ylabel('CE & SE')\n",
    "    plt.axhline(0.0, color='grey', ls='--')\n",
    "    plt.axvline(0.0, color='grey', ls='--')\n",
    "    plt.axvline(1.0, color='grey', ls='--')\n",
    "    plt.legend()\n",
    "    plt.show()"
   ]
  },
  {
   "cell_type": "code",
   "execution_count": 18,
   "id": "c0a27982",
   "metadata": {
    "scrolled": false,
    "slideshow": {
     "slide_type": "slide"
    }
   },
   "outputs": [
    {
     "data": {
      "image/png": "[encoded data removed]",
      "text/plain": [
       "<Figure size 720x432 with 1 Axes>"
      ]
     },
     "metadata": {
      "needs_background": "light"
     },
     "output_type": "display_data"
    }
   ],
   "source": [
    "PlotCE0SE0(np, plt)"
   ]
  },
  {
   "cell_type": "markdown",
   "id": "ec62a951",
   "metadata": {
    "slideshow": {
     "slide_type": "slide"
    }
   },
   "source": [
    "- 교차 엔트로피\n",
    "  - 오차가 크면 급격한 경사 : 오차가 빨리 줄도록 유도\n",
    "  - 오차가 작으면 완만한 경사 : 안정적 수렴 성능 확보\n",
    "\n",
    "- 오차의 제곱은 상대적으로 학습 성능이 떨어짐\n",
    "\n",
    "- 출력$(y)$이 0~1(소속 확률), 정답$(d)$이 0(범주A)/1(범주B)인<br>\n",
    "  분류 문제는 반드시 교차 엔트로피로 구현한 비용함수 적용"
   ]
  },
  {
   "cell_type": "markdown",
   "id": "afaaea22",
   "metadata": {
    "slideshow": {
     "slide_type": "slide"
    }
   },
   "source": [
    "- 비용함수가 변경되면 역전파 알고리즘의 수식도 변경됨\n",
    "\n",
    "- 오차의 제곱 대신 교차엔트로피를 적용하면 다음과 같이<br>\n",
    "  딱 한 부분만 역전파 알고리즘이 수정됨\n",
    "\n",
    "$\n",
    "\\begin{align}\n",
    "&\\text{Squared Error} \\\\\\\\\n",
    "\\mathbf{e^{(k)}} &=\n",
    "\\begin{cases}\n",
    "\\mathbf{d} - \\mathbf{y} \\\\\n",
    "\\mathbf{{W^{(k+1)}}^{T}} \\boldsymbol{\\delta^{(\\mathbf{k}+1)}}\n",
    "\\end{cases} \\\\\n",
    "\\boldsymbol{\\delta^{(\\mathbf{k})}} &= \\boldsymbol{\\varphi}'(\\mathbf{v^{(k)}}) \\circ \\mathbf{e^{(k)}} \\\\\n",
    "\\mathbf{W^{(k)}} &\\leftarrow \\mathbf{W^{(k)}} + \\alpha \\, \\boldsymbol{\\delta^{(\\mathbf{k})}} \\, \\mathbf{{y^{(k-1)}}^{T}}\n",
    "\\end{align}\n",
    "\\quad \\quad\n",
    "$\n",
    "$\n",
    "\\begin{align}\n",
    "&\\text{Cross Entropy} \\\\\n",
    "\\mathbf{e^{(k)}} &=\n",
    "\\begin{cases}\n",
    "\\mathbf{d} - \\mathbf{y} \\\\\n",
    "\\mathbf{{W^{(k+1)}}^{T}} \\boldsymbol{\\delta^{(\\mathbf{k}+1)}}\n",
    "\\end{cases} \\\\\n",
    "\\boldsymbol{\\delta^{(\\mathbf{k})}} &=\n",
    "\\begin{cases}\n",
    "\\mathbf{\\color{Blue}e^{\\color{Blue}(\\color{Blue}k\\color{Blue})}} \\\\\n",
    "\\boldsymbol{\\varphi}'(\\mathbf{v^{(k)}}) \\circ \\mathbf{e^{(k)}}\n",
    "\\end{cases} \\\\\n",
    "\\mathbf{W^{(k)}} &\\leftarrow \\mathbf{W^{(k)}} + \\alpha \\, \\boldsymbol{\\delta^{(\\mathbf{k})}} \\, \\mathbf{{y^{(k-1)}}^{T}}\n",
    "\\end{align}\n",
    "$"
   ]
  },
  {
   "cell_type": "markdown",
   "id": "2ebe68d8",
   "metadata": {
    "slideshow": {
     "slide_type": "slide"
    }
   },
   "source": [
    "&nbsp;&nbsp;- 출력층 델타를 구할 때 에러를<br>\n",
    "&nbsp;&nbsp;&nbsp;&nbsp;바로 사용(도함수 안 곱함)\n",
    "<br><br>\n",
    "$$\\delta = \\varphi'(v) \\, e \\; \\longrightarrow \\; \\delta = e$$\n",
    "\n",
    "- 출력층에서 코딩이 오히려 간편해짐\n",
    "\n",
    "<br>\n",
    "\n",
    "- 겉으로는 사소한 차이지만, 속을 들여다 보면<br>\n",
    "  비용함수 차이에 따른 최적화 알고리즘의 변화라는<br>\n",
    "  최적화 이론에 기반한 심오한 이론이 숨겨져 있음"
   ]
  },
  {
   "cell_type": "markdown",
   "id": "fece1083",
   "metadata": {
    "slideshow": {
     "slide_type": "slide"
    }
   },
   "source": [
    "■ 교차엔트로피 기반 역전파알고리즘 지도학습\n",
    "\n",
    "&nbsp;&nbsp;1. 신경망의 가중치를 적당한 값으로 초기화\n",
    "\n",
    "&nbsp;&nbsp;2. 학습 데이터 {입력, 정답}에서 '입력'을<br>\n",
    "&nbsp;&nbsp;&nbsp;&nbsp;&nbsp;신경망에 입력해 출력$(\\mathbf{y})$을 얻고, 해당<br>\n",
    "&nbsp;&nbsp;&nbsp;&nbsp;&nbsp;'정답$(\\mathbf{d})$'과 비교해 오차$(\\mathbf{e^{(n)}}=\\mathbf{d}-\\mathbf{y})$<br>\n",
    "&nbsp;&nbsp;&nbsp;&nbsp;&nbsp;구하고 델타<font color='blue'>$(\\boldsymbol{\\delta^{(\\mathbf{n})}} = \\mathbf{e^{(n)}})$</font>를 계산\n",
    "\n",
    "&nbsp;&nbsp;3. 델타를 역전파시켜 바로 아래 은닉층 노드들의 델타 계산<br>\n",
    "&nbsp;&nbsp;&nbsp;&nbsp;&nbsp;$(\\mathbf{e^{(k)}} = \\mathbf{{W^{(k+1)}}^{T}} \\boldsymbol{\\delta^{(\\mathbf{k}+1)}}, \\;\\;\n",
    "\\boldsymbol{\\delta^{(\\mathbf{k})}} = \\boldsymbol{\\varphi}'(\\mathbf{v^{(k)}}) \\circ \\mathbf{e^{(k)}})$<br>\n",
    "&nbsp;&nbsp;4. 단계 3을 입력층 바로 위까지 모든 은닉층에 차례로 반복<br>\n",
    "\n",
    "&nbsp;&nbsp;5. 델타 규칙으로 가중치 조절$(\\mathbf{W^{(k)}} \\leftarrow \\mathbf{W^{(k)}} + \\alpha \\boldsymbol{\\delta^{(\\mathbf{k})}} \\mathbf{{y^{(k-1)}}^{T}})$<br>\n",
    "\n",
    "&nbsp;&nbsp;6. 전체 학습 데이터에 대해 2\\~5를 반복<br>\n",
    "&nbsp;&nbsp;7. 신경망의 출력 오차가 충분히 줄어들 때까지 2\\~6을 반복"
   ]
  },
  {
   "cell_type": "markdown",
   "id": "b26915a0",
   "metadata": {
    "slideshow": {
     "slide_type": "slide"
    }
   },
   "source": [
    "### 교차 엔트로피 알고리즘 구현\n",
    "&nbsp;&nbsp;- 앞의 예제와 동일한 XOR 문제\n",
    "\n",
    "<br>\n",
    "\n",
    "■ 3개의 입력 노드와 1개의 출력 노드 및<br>\n",
    "&nbsp;&nbsp;4개의 은닉 노드가 있는 은닉층 1개로<br>\n",
    "&nbsp;&nbsp;구성된 신경망\n",
    "\n",
    "- 먼저 난수 시드 생성"
   ]
  },
  {
   "cell_type": "code",
   "execution_count": 19,
   "id": "f11999bd",
   "metadata": {
    "slideshow": {
     "slide_type": "-"
    }
   },
   "outputs": [],
   "source": [
    "rd.seed(777)  # 실행 결과의 재현성 확보"
   ]
  },
  {
   "cell_type": "markdown",
   "id": "3928ff51",
   "metadata": {
    "slideshow": {
     "slide_type": "slide"
    }
   },
   "source": [
    "- 은닉층 자료구조 셋업"
   ]
  },
  {
   "cell_type": "code",
   "execution_count": 20,
   "id": "95be73eb",
   "metadata": {
    "slideshow": {
     "slide_type": "-"
    }
   },
   "outputs": [
    {
     "data": {
      "text/plain": [
       "([[0.22933408950153078, 0.44559617334521107, 0.36859824937216046],\n",
       "  [0.269835098321503, 0.3361436466700177, 0.7523163560031157],\n",
       "  [0.9226950812763804, 0.9122532879410743, 0.6222433339601738],\n",
       "  [0.3895915642491937, 0.28896643129516897, 0.9931563744011908]],\n",
       " [0, 0, 0, 0],\n",
       " [0, 0, 0, 0])"
      ]
     },
     "execution_count": 20,
     "metadata": {},
     "output_type": "execute_result"
    }
   ],
   "source": [
    "l =  3 # 입력층 노드 수\n",
    "m =  4 # 은닉층 노드 수\n",
    "W1 = [[0 for i in range(l)] for j in range(m)]  # 은닉층 가중치 2차원 리스트(행렬) 생성\n",
    "v1 = [ 0 for j in range(m)]  # 은닉층 가중합 리스트 생성\n",
    "y1 = [ 0 for j in range(m)]  # 은닉층 출력값 리스트 생성\n",
    "for i in range(m):\n",
    "    for j in range(l):\n",
    "        W1[i][j] = rd.random()  # 0~1 난수로 가중치 초기화\n",
    "W1, v1, y1"
   ]
  },
  {
   "cell_type": "markdown",
   "id": "39d0be32",
   "metadata": {
    "slideshow": {
     "slide_type": "slide"
    }
   },
   "source": [
    "- 출력층 자료구조 셋업"
   ]
  },
  {
   "cell_type": "code",
   "execution_count": 21,
   "id": "02d91608",
   "metadata": {
    "slideshow": {
     "slide_type": "-"
    }
   },
   "outputs": [
    {
     "data": {
      "text/plain": [
       "[0.9292201929855926,\n",
       " 0.6919591432659481,\n",
       " 0.8881824637439067,\n",
       " 0.10358232898131614]"
      ]
     },
     "execution_count": 21,
     "metadata": {},
     "output_type": "execute_result"
    }
   ],
   "source": [
    "#n = 1 # 출력층 노드 수\n",
    "W2 = [ 0 for j in range(m)]  # 출력층 가중치 리스트 생성\n",
    "#v = 0\n",
    "#y = 0\n",
    "for j in range(m):\n",
    "    W2[j] = rd.random()  # 0~1 난수로 가중치 초기화\n",
    "W2"
   ]
  },
  {
   "cell_type": "markdown",
   "id": "2e1f5d01",
   "metadata": {
    "slideshow": {
     "slide_type": "slide"
    }
   },
   "source": [
    "■ 학습 데이터는 총 4개\n",
    "\n",
    "- 지도 학습용으로 {입력, 정답}의 쌍\n",
    "- 굵은 글씨로 표시된 마지막 숫자가 '정답'"
   ]
  },
  {
   "cell_type": "code",
   "execution_count": 22,
   "id": "bf91bdff",
   "metadata": {
    "slideshow": {
     "slide_type": "-"
    }
   },
   "outputs": [
    {
     "data": {
      "text/plain": [
       "([[0, 0, 1], [0, 1, 1], [1, 0, 1], [1, 1, 1]], [0, 1, 1, 0])"
      ]
     },
     "execution_count": 22,
     "metadata": {},
     "output_type": "execute_result"
    }
   ],
   "source": [
    "# 입력 데이터와 정답 데이터를 따로 준비\n",
    "X = [[0, 0, 1],\n",
    "     [0, 1, 1],\n",
    "     [1, 0, 1],\n",
    "     [1, 1, 1]]\n",
    "D = [0,\n",
    "     1, # 네 번째 정답과 바뀜\n",
    "     1,\n",
    "     0] # 두 번째 정답과 바뀜\n",
    "X, D"
   ]
  },
  {
   "cell_type": "markdown",
   "id": "1015a27a",
   "metadata": {
    "slideshow": {
     "slide_type": "slide"
    }
   },
   "source": [
    "■ 은닉·출력층 활성함수는 시그모이드 함수\n",
    "\n",
    "- 람다 함수 적용으로 학습 속도 향상"
   ]
  },
  {
   "cell_type": "code",
   "execution_count": 23,
   "id": "5c1f3bb3",
   "metadata": {
    "slideshow": {
     "slide_type": "-"
    }
   },
   "outputs": [],
   "source": [
    "Sigmoid = lambda x: 1/(1. + (2.7182818284)**(-x))"
   ]
  },
  {
   "cell_type": "markdown",
   "id": "166f9013",
   "metadata": {
    "slideshow": {
     "slide_type": "slide"
    }
   },
   "source": [
    "■ BackpropSgdCE(·)<br>\n",
    "&nbsp;&nbsp;: 교차 엔트로피 역전파 기반 델타 규칙에 따른 SGD 수행\n",
    "\n",
    "- 신경망의 가중치와 학습 데이터를 인자로 넘겨 받아<br>\n",
    "  새롭게 학습된 가중치를 반환하는 방식으로 실행\n",
    "<br><br>\n",
    "<center>W1, W2 = BackpropSgdCE(W1, W2, X, D)</center>"
   ]
  },
  {
   "attachments": {
    "image-4.png": {
     "image/png": "[encoded data removed]"
    }
   },
   "cell_type": "markdown",
   "id": "880efb78",
   "metadata": {
    "slideshow": {
     "slide_type": "slide"
    }
   },
   "source": [
    "- 델타 역전파 (backward propagation)\n",
    "\n",
    "<center><img src='attachment:image-4.png' width='1100'></center>"
   ]
  },
  {
   "cell_type": "markdown",
   "id": "16cbc45c",
   "metadata": {
    "slideshow": {
     "slide_type": "slide"
    }
   },
   "source": [
    "- BackpropSgdCE(·) 실행"
   ]
  },
  {
   "cell_type": "code",
   "execution_count": 24,
   "id": "782ab045",
   "metadata": {
    "slideshow": {
     "slide_type": "-"
    }
   },
   "outputs": [],
   "source": [
    "def BackpropSgdCE(W1, W2, X, D):\n",
    "    alpha = 0.9     # 학습률(0~1)\n",
    "\n",
    "    m = len(W1)     # 은닉층 가중치 행렬 W1의 행의 수 = 은닉층 노드 수\n",
    "    l = len(W1[0])  # 은닉층 가중치 행렬 W1의 열의 수 = 입력층 노드 수\n",
    "\n",
    "    v1     = [ 0 for j in range(m)]  # 은닉층 가중합 리스트 생성\n",
    "    y1     = [ 0 for j in range(m)]  # 은닉층 출력값 리스트 생성\n",
    "    e1     = [ 0 for j in range(m)]  # 은닉층 오차값 리스트 생성\n",
    "    delta1 = [ 0 for j in range(m)]  # 은닉층 델타값 리스트 생성\n",
    "    dW1    = [[0 for i in range(l)] for j in range(m)]  # 은닉층 가중치 갱신값 2차원 리스트(행렬) 생성\n",
    "    dW2    = [ 0 for j in range(m)]  # 출력층 가중치 갱신값 리스트 생성\n",
    "\n",
    "    for k in range(len(X)):\n",
    "\n",
    "        # 신경망 출력(forward propagation)\n",
    "        x = X[k]  # 입력 데이터 하나 꺼냄\n",
    "        for i in range(m):  # 은닉층 노드에 대한 반복문\n",
    "            v1[i] = 0\n",
    "            for j in range(l):  # 입력층 노드에 대한 반복문\n",
    "                v1[i] += (W1[i][j]*x[j])  # 입력층 신호에 은닉층 가중치를 곱하여 가중합 계산\n",
    "            y1[i] = Sigmoid(v1[i])        # 활성 함수를 적용하여 은닉층 출력값 계산\n",
    "\n",
    "        v = 0\n",
    "        for j in range(m):  # 은닉층 노드에 대한 반복문\n",
    "            v += (W2[j]*y1[j])  # 은닉층 신호에 출력층 가중치를 곱하여 가중합 계산\n",
    "        y = Sigmoid(v)          # 활성 함수를  적용하여 출력층 출력값 계산\n",
    "\n",
    "        # 델타 역전파(backward propagation)\n",
    "        d = D[k]           # 정답 데이터 하나 꺼냄\n",
    "        e = d - y          # 출력층 오차(정답과 출력값의 차이) 계산\n",
    "        delta = e          # 출력층 델타(도함수 적용하지 않음) 계산\n",
    "        for i in range(m):  # 은닉층 노드에 대한 반복문\n",
    "            e1[i] = W2[i]*delta                # 은닉층 오차(출력층 델타 역전파 수행) 계산\n",
    "            delta1[i] = y1[i]*(1-y1[i])*e1[i]  # 은닉층 델타(시그모이드의 도함수 적용) 계산\n",
    "\n",
    "        # 은닉층 가중치 조절(hidden layer weight update)\n",
    "        for i in range(m):  # 은닉층 노드에 대한 반복문\n",
    "            for j in range(l):  # 입력층 노드에 대한 반복문\n",
    "                dW1[i][j] = alpha*delta1[i]*x[j]  # 델타 규칙으로 가중치 갱신값 계산\n",
    "                W1[i][j] += dW1[i][j]  # 하나의 학습 데이터마다 바로 가중치 갱신(SGD)\n",
    "\n",
    "        # 출력층 가중치 조절(output layer weight update)\n",
    "        for j in range(m):  # 은닉층 노드에 대한 반복문\n",
    "            dW2[j] = alpha*delta*y1[j]  # 델타 규칙으로 가중치 갱신값 계산\n",
    "            W2[j] += dW2[j]  # 하나의 학습 데이터마다 바로 가중치 갱신(SGD)\n",
    "\n",
    "    return W1, W2"
   ]
  },
  {
   "cell_type": "markdown",
   "id": "a4953e89",
   "metadata": {
    "slideshow": {
     "slide_type": "slide"
    }
   },
   "source": [
    "■ BackpropSgdCE(·) 호출 방식으로 10000 epoch 반복 학습 수행"
   ]
  },
  {
   "cell_type": "code",
   "execution_count": 25,
   "id": "6f01e954",
   "metadata": {
    "slideshow": {
     "slide_type": "-"
    }
   },
   "outputs": [],
   "source": [
    "for epoch in range(10000):\n",
    "    W1, W2 = BackpropSgdCE(W1, W2, X, D)"
   ]
  },
  {
   "cell_type": "markdown",
   "id": "f183cbdb",
   "metadata": {
    "slideshow": {
     "slide_type": "slide"
    }
   },
   "source": [
    "■ 학습 결과 확인\n",
    "\n",
    "- 신경망의 출력값을 정답$\\left( D = \\begin{bmatrix} 0 & 1 & 1 & 0 \\end{bmatrix}^T \\right)$과 비교"
   ]
  },
  {
   "cell_type": "code",
   "execution_count": 26,
   "id": "a8129a54",
   "metadata": {
    "slideshow": {
     "slide_type": "-"
    }
   },
   "outputs": [
    {
     "name": "stdout",
     "output_type": "stream",
     "text": [
      "2.9422180913328654e-05\n",
      "0.9999175357991327\n",
      "0.9997577711470935\n",
      "0.0003651064631759981\n"
     ]
    }
   ],
   "source": [
    "for k in range(len(X)):\n",
    "    x = X[k]  # 입력 데이터 하나 꺼냄\n",
    "    for i in range(m):  # 은닉층 노드에 대한 반복문\n",
    "        v1[i] = 0\n",
    "        for j in range(l):  # 입력층 노드에 대한 반복문\n",
    "            v1[i] += (W1[i][j]*x[j])  # 입력층 신호에 은닉층 가중치를 곱하여 가중합 계산\n",
    "        y1[i] = Sigmoid(v1[i])        # 활성 함수를 적용하여 은닉층 출력값 계산\n",
    "\n",
    "    v = 0\n",
    "    for j in range(m):  # 은닉층 노드에 대한 반복문\n",
    "        v += (W2[j]*y1[j])  # 은닉층 신호에 출력층 가중치를 곱하여 가중합 계산\n",
    "    y = Sigmoid(v)          # 활성 함수를  적용하여 신경망(출력층) 출력값 계산\n",
    "\n",
    "    print(y)  # 출력값 print"
   ]
  },
  {
   "attachments": {
    "image-4.png": {
     "image/png": "[encoded data removed]"
    }
   },
   "cell_type": "markdown",
   "id": "936dbcdb",
   "metadata": {
    "slideshow": {
     "slide_type": "slide"
    }
   },
   "source": [
    "<figure><img src='attachment:image-4.png' width='700' align='right'></figure>\n",
    "\n",
    "■ 이전의 BackpropSGD(·)와<br>\n",
    "&nbsp;&nbsp;BackpropSgdCE(·)의 차이는<br>\n",
    "&nbsp;&nbsp;출력 노드의 델타 계산하는<br>\n",
    "&nbsp;&nbsp;부분말고는 없음\n",
    "\n",
    "- 이와 같은  사소한 차이가 학습 성능에 어떠한 영향을<br>\n",
    "  주는지 비교함\n",
    "- BackpropSGD(·)와 BackpropSgdCE(·) 함수를 호출하여<br>\n",
    "  각 신경망을 1000 epoch동안 반복 학습\n",
    "\n",
    "- 전체 데이터에 대한 학습이 한 번 완료된 시점 기준으로<br>\n",
    "  즉, 각 epoch마다 두 신경망에 학습 데이터를 입력하여<br>\n",
    "  출력 오차의 제곱합에 대한 평균을 계산\n",
    "\n",
    "- 공정한 비교를 위해 신경망의 가중치를 동일하게 초기화"
   ]
  },
  {
   "cell_type": "code",
   "execution_count": 27,
   "id": "117bf41e",
   "metadata": {
    "slideshow": {
     "slide_type": "-"
    }
   },
   "outputs": [],
   "source": [
    "rd.seed(777)  # 실행 결과의 재현성 확보"
   ]
  },
  {
   "cell_type": "code",
   "execution_count": 28,
   "id": "73a4d292",
   "metadata": {
    "slideshow": {
     "slide_type": "slide"
    }
   },
   "outputs": [],
   "source": [
    "l =  3 # 입력층 노드 수\n",
    "m =  4 # 은닉층 노드 수\n",
    "\n",
    "# Cross entropy\n",
    "W11 = [[0 for i in range(l)] for j in range(m)]  # 은닉층 가중치 2차원 리스트(행렬) 생성\n",
    "W12 = [ 0 for j in range(m)]  # 출력층 가중치 리스트 생성\n",
    "\n",
    "# Squared error\n",
    "W21 = [[0 for i in range(l)] for j in range(m)]  # 은닉층 가중치 2차원 리스트(행렬) 생성\n",
    "W22 = [ 0 for j in range(m)]  # 출력층 가중치 리스트 생성\n",
    "\n",
    "v1  = [ 0 for j in range(m)]  # 은닉층 가중합 리스트 생성\n",
    "y1  = [ 0 for j in range(m)]  # 은닉층 출력값 리스트 생성\n",
    "\n",
    "for i in range(m):\n",
    "    for j in range(l):\n",
    "        W11[i][j] = rd.uniform(-1, 1)   # -1~1 난수로 가중치 초기화\n",
    "        W21[i][j] = W11[i][j]           # 같은 값으로 가중치 초기화\n",
    "\n",
    "for j in range(m):\n",
    "    W12[j] = rd.uniform(-1, 1)  # -1~1 난수로 가중치 초기화\n",
    "    W22[j] = W12[j]             # 같은 값으로 가중치 초기화"
   ]
  },
  {
   "cell_type": "code",
   "execution_count": 29,
   "id": "0d646ab5",
   "metadata": {
    "slideshow": {
     "slide_type": "slide"
    }
   },
   "outputs": [],
   "source": [
    "E1 = [0]*1000; E2 = [0]*1000  # 1000개 epoch에 대한 오차값 리스트 생성\n",
    "for epoch in range(1000):\n",
    "    W11, W12 = BackpropSgdCE(W11, W12, X, D)  # 교차 엔트로피 방식으로 학습 수행\n",
    "    W21, W22 = BackpropSGD(W21, W22, X, D)    # 오차의 제곱 방식으로 학습 수행\n",
    "    es1 = 0; es2 = 0\n",
    "    for k in range(len(X)):\n",
    "        x = X[k]; d = D[k]\n",
    "        for i in range(m):\n",
    "            v1[i] = 0\n",
    "            for j in range(l):\n",
    "                v1[i] += (W11[i][j]*x[j])  # 입력층 신호에 대한 가중합 계산\n",
    "            y1[i] = Sigmoid(v1[i])         # 활성 함수를 적용하여 은닉층 출력값 계산\n",
    "        v = 0\n",
    "        for j in range(m):\n",
    "            v += (W12[j]*y1[j])  # 은닉층 신호에 대한 가중합 계산\n",
    "        y = Sigmoid(v)           # 활성 함수를 적용하여 신경망 출력값 계산\n",
    "        es1 += (d - y)**2        # 정답과 출력값 차이의 제곱합 계산\n",
    "        for i in range(m):\n",
    "            v1[i] = 0\n",
    "            for j in range(l):\n",
    "                v1[i] += (W21[i][j]*x[j])  # 입력층 신호에 대한 가중합 계산\n",
    "            y1[i] = Sigmoid(v1[i])         # 활성 함수를 적용하여 은닉층 출력값 계산\n",
    "        v = 0\n",
    "        for j in range(m):\n",
    "            v += (W22[j]*y1[j])  # 은닉층 신호에 대한 가중합 계산\n",
    "        y = Sigmoid(v)           # 활성 함수를 적용하여 신경망 출력값 계산\n",
    "        es2 += (d - y)**2        # 정답과 출력값 차이의 제곱합 계산\n",
    "    E1[epoch] = es1/len(X); E2[epoch] = es2/len(X)  # 출력 오차의 제곱합에 대한 평균 계산"
   ]
  },
  {
   "cell_type": "markdown",
   "id": "a0293c75",
   "metadata": {
    "slideshow": {
     "slide_type": "slide"
    }
   },
   "source": [
    "■ BackpropSGD(·)와 BackpropSgdCE(·)의 학습 이력 시각화"
   ]
  },
  {
   "cell_type": "code",
   "execution_count": 30,
   "id": "d09985c4",
   "metadata": {
    "slideshow": {
     "slide_type": "-"
    }
   },
   "outputs": [],
   "source": [
    "def PlotSEvsCE(plt):\n",
    "    plt.plot(E1, 'r', label = 'Cross Entropy')\n",
    "    plt.plot(E2, 'b--', label = 'Squared Error')\n",
    "    plt.legend()\n",
    "    plt.grid(linestyle=':')\n",
    "    plt.title('Cross Entropy vs Squared Error')\n",
    "    plt.xlabel('Epoch')\n",
    "    plt.ylabel('Average of Training Error')\n",
    "    plt.xlim(0, 1000)\n",
    "    plt.ylim(0, 0.25)\n",
    "    plt.show()"
   ]
  },
  {
   "cell_type": "code",
   "execution_count": 31,
   "id": "1a549722",
   "metadata": {
    "slideshow": {
     "slide_type": "slide"
    }
   },
   "outputs": [
    {
     "data": {
      "image/png": "[encoded data removed]",
      "text/plain": [
       "<Figure size 432x288 with 1 Axes>"
      ]
     },
     "metadata": {
      "needs_background": "light"
     },
     "output_type": "display_data"
    }
   ],
   "source": [
    "PlotSEvsCE(plt)"
   ]
  }
 ],
 "metadata": {
  "celltoolbar": "Slideshow",
  "kernelspec": {
   "display_name": "Python 3 (ipykernel)",
   "language": "python",
   "name": "python3"
  },
  "language_info": {
   "codemirror_mode": {
    "name": "ipython",
    "version": 3
   },
   "file_extension": ".py",
   "mimetype": "text/x-python",
   "name": "python",
   "nbconvert_exporter": "python",
   "pygments_lexer": "ipython3",
   "version": "3.10.9"
  }
 },
 "nbformat": 4,
 "nbformat_minor": 5
}
