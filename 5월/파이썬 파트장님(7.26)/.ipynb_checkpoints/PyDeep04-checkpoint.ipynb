{
 "cells": [
  {
   "cell_type": "markdown",
   "id": "5a8a0ac7",
   "metadata": {
    "slideshow": {
     "slide_type": "slide"
    }
   },
   "source": [
    "## Let's get started!\n",
    "\n",
    "- <font color=lightgrey>Understanding AI, ML and DL concepts</font>\n",
    "<br><br>\n",
    "- Understanding fundamentals of DL algorithm\n",
    "  - Regression and classification\n",
    "  - Neural networks and deep learning\n",
    "<br><br>\n",
    "- Only <font color=blue>**pure Python**</font> without any AI library\n",
    "  - Looking into the inside of <font color=red>**core**</font> DL algorithm"
   ]
  },
  {
   "cell_type": "markdown",
   "id": "ef9b83cf",
   "metadata": {
    "slideshow": {
     "slide_type": "slide"
    }
   },
   "source": [
    "# <center>CHAP 4. 신경망과 분류</center>"
   ]
  },
  {
   "cell_type": "markdown",
   "id": "83ae850b",
   "metadata": {
    "slideshow": {
     "slide_type": "slide"
    }
   },
   "source": [
    "### 지도 학습\n",
    "<br>\n",
    "\n",
    "■ 분류$^\\text{classification}$와 회귀$^\\text{regression}$\n",
    "\n",
    "- 분류 : 입력 데이터가 어느 범주에 속할지\n",
    "\n",
    "  - 스팸 메일 분류기, 문자 인식기 등\n",
    "\n",
    "<br>\n",
    "\n",
    "- 회귀 : 입력 데이터가 어떤 값을 나타낼지\n",
    "\n",
    "  - 교육 수준과 나이로 연봉을 예측"
   ]
  },
  {
   "cell_type": "markdown",
   "id": "584b7812",
   "metadata": {
    "slideshow": {
     "slide_type": "slide"
    }
   },
   "source": [
    "### 분류\n",
    "<br>\n",
    "\n",
    "- 데이터의 범주를 구분하는 초평면$^\\text{hyperplane}$을 구하는 문제\n",
    "\n",
    "\n",
    "- 신경망은 회귀보다 분류 문제에 많이 활용됨\n",
    "\n",
    "  - 성능이 떨어져서가 아니라, 대부분의 회귀 문제는<br>\n",
    "    신경망처럼 복잡한 모델을 사용하지 않아도 해결됨"
   ]
  },
  {
   "cell_type": "markdown",
   "id": "36fce586",
   "metadata": {
    "slideshow": {
     "slide_type": "slide"
    }
   },
   "source": [
    "■ 몇 개의 범주로 분류하는가에 따라\n",
    "\n",
    "- 신경망의 출력층을 다르게 구성(은닉층은 관계 없음)\n",
    "\n",
    "\n",
    "- 범주가 2개인지 그 이상인지에 따라\n",
    "\n",
    "  - 출력 노드의 개수와 활성함수가 달라짐\n",
    "\n",
    "\n",
    "- 이진$^\\text{binary class}$분류와 다범주$^\\text{multiple class}$분류"
   ]
  },
  {
   "cell_type": "markdown",
   "id": "6a5108ab",
   "metadata": {
    "slideshow": {
     "slide_type": "slide"
    }
   },
   "source": [
    "### 이진 분류 신경망\n",
    "<br>\n",
    "\n",
    "- 입력 데이터를 2개의 범주로 분류하는 신경망\n",
    "\n",
    "\n",
    "- 의외로 쓸모가 많음\n",
    "\n",
    "  - 스팸 판별(스팸/정상), 대출 심사(승인/거절) 등\n",
    "\n",
    "\n",
    "- 신경망 출력층 : 노드 - 1개 / 활성함수 - 시그모이드\n",
    "\n",
    "  - 출력$(y)$ : 0 ~ 1(범주에 속할 확률)\n",
    "\n",
    "  - 정답$(d)$ : 0(범주A) / 1(범주B) → 출력 0.5 기준\n",
    "  \n",
    "  \n",
    "- 비용함수 : 교차 엔트로피 적용"
   ]
  },
  {
   "cell_type": "markdown",
   "id": "e657544f",
   "metadata": {
    "slideshow": {
     "slide_type": "slide"
    }
   },
   "source": [
    "■ 학습 데이터\n",
    "\n",
    "- 오른쪽 그림과 같은 이진 분류 문제의<br>\n",
    "  학습 데이터는 입력·정답으로 처음 2개<br>\n",
    "  숫자는 $x$, $y$좌표, 세 번째 기호는 범주"
   ]
  },
  {
   "cell_type": "markdown",
   "id": "a9fdffcf",
   "metadata": {
    "slideshow": {
     "slide_type": "slide"
    }
   },
   "source": [
    "- 신경망은 0~1 값으로 각 범주에 속할 확률을 반환하는데<br>\n",
    "  정답은 '△'과 '●'의 기호로 주어져 오차 계산이 불가능\n",
    "\n",
    "<br>\n",
    "\n",
    "- 따라서, 학습 데이터의 범주 이름을 시그모이드 함수의<br>\n",
    "  최대(1)·최소값(0)으로 할당하여 정답 데이터 변환"
   ]
  },
  {
   "cell_type": "markdown",
   "id": "dfbfd1fe",
   "metadata": {
    "slideshow": {
     "slide_type": "slide"
    }
   },
   "source": [
    "■ 이진 분류 신경망의 지도학습\n",
    "\n",
    "1. <font color='blue'>출력층은 시그모이드 활성함수로 노드 1개 구성</font>\n",
    "2. <font color='blue'>학습 데이터의 범주 이름을 0과 1의 숫자로 할당 </font>\n",
    "3. 신경망의 가중치를 적당한 값으로 초기화\n",
    "4. 학습데이터 {입력, 정답}에서 '입력'을 신경망에 입력해<br>\n",
    "   출력$(\\mathbf{y})$을 얻고, '정답$(\\mathbf{d})$'과 비교해 오차$(\\mathbf{e^{(n)}}=\\mathbf{d}-\\mathbf{y})$<br>\n",
    "   구하고 델타$(\\boldsymbol{\\delta^{(\\mathbf{n})}} = \\mathbf{e^{(n)}})$를 계산\n",
    "5. 델타를 역전파시켜 바로 아래 은닉층 노드의 델타를 계산<br>\n",
    "$(\\mathbf{e^{(k)}} = \\mathbf{{W^{(k+1)}}^{T}} \\boldsymbol{\\delta^{(\\mathbf{k}+1)}}, \\;\\; \\boldsymbol{\\delta^{(\\mathbf{k})}} = \\boldsymbol{\\varphi}'(\\mathbf{v^{(k)}}) \\circ \\mathbf{e^{(k)}})$\n",
    "6. 단계 5를 입력층 바로 위까지 모든 은닉층에 차례로 반복\n",
    "7. 델타규칙으로 가중치 조절$(\\mathbf{W^{(k)}} \\leftarrow \\mathbf{W^{(k)}} + \\alpha \\boldsymbol{\\delta^{(\\mathbf{k})}} \\mathbf{{y^{(k-1)}}^{T}})$\n",
    "8. 전체 학습 데이터에 대해 4\\~7을 반복\n",
    "9. 신경망의 출력 오차가 충분히 줄어들 때까지 4\\~8을 반복"
   ]
  },
  {
   "cell_type": "markdown",
   "id": "164d57b5",
   "metadata": {
    "slideshow": {
     "slide_type": "slide"
    }
   },
   "source": [
    "- 1번과 2번의 준비 과정만 제외하면, 교차 엔트로피 기반<br>\n",
    "  역전파 알고리즘의 지도학습과 동일함\n",
    "\n",
    "<br>\n",
    "\n",
    "- 이전의 XOR 문제가 결국 이진 분류 문제임\n",
    "\n",
    "<br>\n",
    "\n",
    "- 예제는 SKIP..."
   ]
  },
  {
   "cell_type": "markdown",
   "id": "a5e26acc",
   "metadata": {
    "slideshow": {
     "slide_type": "slide"
    }
   },
   "source": [
    "### 다범주 분류 신경망\n",
    "<br>\n",
    "\n",
    "- 입력 데이터를 3개 이상의 범주로 분류하는 신경망\n",
    "\n",
    "<br>\n",
    "\n",
    "- 예 : 좌표 $(x, y)$ 입력으로 3개 범주를 판별하는 문제"
   ]
  },
  {
   "cell_type": "markdown",
   "id": "32571026",
   "metadata": {
    "slideshow": {
     "slide_type": "slide"
    }
   },
   "source": [
    "■ $(x, y)$ 좌표로 세 범주를 분류하는 신경망\n",
    "\n",
    "- 입력층 : 노드 2개(입력이 $x$, $y$ 2개)\n",
    "\n",
    "- 출력층 : 노드 3개(범주 3개 이상이면 범주 수와 같도록)\n",
    "\n",
    "- 은닉층 : 적당하게(여기서는 설명의 편의를 위해 무시)"
   ]
  },
  {
   "cell_type": "markdown",
   "id": "8d5268c9",
   "metadata": {
    "slideshow": {
     "slide_type": "slide"
    }
   },
   "source": [
    "■ 학습 데이터\n",
    "\n",
    "- 오른쪽과 같이 입력·정답으로 처음 2개 숫자는<br>\n",
    "  $x$, $y$ 좌표, 세 번째는 속하는 범주\n",
    "\n",
    "- 이진 분류와 같이 오차를 계산하려면 범주 이름을<br>\n",
    "  숫자로 바꿔줘야 함\n",
    "\n",
    "- 출력 노드가 3개 → 3차원 벡터 형태로 표현\n",
    "\n",
    "$$\n",
    "\\begin{align}\n",
    "\\text{범주1} \\; &\\Rightarrow \\; \\begin{bmatrix} 1 & 0 & 0 \\end{bmatrix} \\\\\n",
    "\\text{범주2} \\; &\\Rightarrow \\; \\begin{bmatrix} 0 & 1 & 0 \\end{bmatrix} \\\\\n",
    "\\text{범주3} \\; &\\Rightarrow \\; \\begin{bmatrix} 0 & 0 & 1 \\end{bmatrix}\n",
    "\\end{align}\n",
    "$$"
   ]
  },
  {
   "cell_type": "markdown",
   "id": "99487d90",
   "metadata": {
    "slideshow": {
     "slide_type": "slide"
    }
   },
   "source": [
    "- 출력 노드와 각 범주에 대한 벡터는 다음과 같이 대응\n",
    "\n",
    "<br>\n",
    "\n",
    "- 만일 입력 데이터가 범주2에 속한다면, 두 번째 출력만<br>\n",
    "  1이고 나머지 출력은 모두 0이어야 정답임\n",
    "\n",
    "<br>\n",
    "\n",
    "- 이러한 표현 기법을 원핫인코딩$^\\text{one-hot encodeing}$이라하고<br>\n",
    "  이를 적용하기 위해 출력 수와 범주 수를 같게 한 것임"
   ]
  },
  {
   "cell_type": "markdown",
   "id": "762234fe",
   "metadata": {
    "slideshow": {
     "slide_type": "slide"
    }
   },
   "source": [
    "- 원핫인코딩이 적용된 학습데이터는<br>\n",
    "  오른쪽과 같음"
   ]
  },
  {
   "cell_type": "markdown",
   "id": "e1d5f70f",
   "metadata": {
    "slideshow": {
     "slide_type": "slide"
    }
   },
   "source": [
    "■ 출력 노드의 활성함수\n",
    "\n",
    "- 원핫인코딩된 정답을 고려하면 각 출력 노드는 0~1 사이<br>\n",
    "  값을 출력해야 함\n",
    "\n",
    "<br>\n",
    "\n",
    "- 그러면 시그모이드 함수? No!! 왜냐하면 다음과 같이..."
   ]
  },
  {
   "cell_type": "markdown",
   "id": "56e3b106",
   "metadata": {
    "slideshow": {
     "slide_type": "slide"
    }
   },
   "source": [
    "- 소프트맥스$^\\text{softmax}$ 함수를 출력층 활성함수로 적용\n",
    "\n",
    "  - 시그모이드 등 보통의 활성함수는 자신의 노드에<br>\n",
    "    들어오는 신호의 가중합만으로 출력을 계산하지만,\n",
    "\n",
    "  - 소프트맥스는 다른 출력 노드들의 가중합도 고려\n",
    "\n",
    "$$\n",
    "\\mathbf{v} = \\begin{bmatrix} 2 \\\\ 1 \\\\ 0.1 \\end{bmatrix} \\quad \\Rightarrow \\quad\n",
    "\\boldsymbol{\\varphi}(\\mathbf{v}) =\n",
    "\\begin{bmatrix}\n",
    "\\frac{e^{2}}{e^{2}+e^{1}+e^{0.1}} \\\\\n",
    "\\frac{e^{1}}{e^{2}+e^{1}+e^{0.1}} \\\\\n",
    "\\frac{e^{0.1}}{e^{2}+e^{1}+e^{0.1}}\n",
    "\\end{bmatrix} =\n",
    "\\begin{bmatrix} 0.6590 \\\\ 0.2424 \\\\ 0.0986 \\end{bmatrix}\n",
    "$$"
   ]
  },
  {
   "cell_type": "markdown",
   "id": "6e2b6f45",
   "metadata": {
    "slideshow": {
     "slide_type": "slide"
    }
   },
   "source": [
    "- 앞의 예에서 소프트맥스는 다음과 같이 출력..."
   ]
  },
  {
   "cell_type": "markdown",
   "id": "c854d95b",
   "metadata": {
    "slideshow": {
     "slide_type": "slide"
    }
   },
   "source": [
    "- 소프트맥스는 각 출력 노드 출력값을 0~1로 제한하면서<br>\n",
    "  출력 노드의 출력을 모두 합한 값이 항상 1이 되도록 함\n",
    "\n",
    "<br>\n",
    "\n",
    "- 모든 출력값의 상대적인 크기를 고려한 값을 출력하므로<br>\n",
    "  입력 데이터가 어떤 범주에 속할 확률을 잘 표현함\n",
    "\n",
    "<br>\n",
    "\n",
    "- 소프트맥스 함수의 정의와 성질\n",
    "\n",
    "$$y_{n} = \\varphi(v_{n})\n",
    "= \\frac{e^{v_{n}}}{e^{v_{1}}+e^{v_{2}}+\\cdots+e^{v_{N}}}\n",
    "= \\frac{e^{v_{n}}}{\\sum_{i=1}^{N}{e^{v_{i}}}}$$\n",
    "\n",
    "$$\\varphi(v_{1})+\\varphi(v_{2})+\\cdots+\\varphi(v_{N}) = 1$$"
   ]
  },
  {
   "cell_type": "markdown",
   "id": "37170404",
   "metadata": {
    "slideshow": {
     "slide_type": "slide"
    }
   },
   "source": [
    "■ 비용함수와 학습 규칙\n",
    "\n",
    "- 출력값이 0~1의 확률이고 정답이 0/1인 분류 문제이므로<br>\n",
    "  다범주 문제도 비용함수로 교차 엔트로피 적용함\n",
    "\n",
    "<br>\n",
    "\n",
    "- 이진 분류 문제도 교차 엔트로피를 적용하지만 출력층의<br>\n",
    "  활성함수로 시그모이드를 사용하므로\n",
    "\n",
    "<br>\n",
    "\n",
    "- 소프트맥스를 사용하는 다범주 분류 문제와 학습 규칙이<br>\n",
    "  다를 것 같지만, 출력층 활성함수 이외에 완전히 동일함"
   ]
  },
  {
   "cell_type": "markdown",
   "id": "c29dccf5",
   "metadata": {
    "slideshow": {
     "slide_type": "slide"
    }
   },
   "source": [
    "■ 다범주 분류 신경망의 지도학습\n",
    "\n",
    "1. <font color='blue'>출력층은 소프트맥스 함수로 범주의 수만큼 노드를 구성</font>\n",
    "2. <font color='blue'>학습 데이터의 범주는 원핫인코딩을 적용해 벡터로 변환 </font>\n",
    "3. 신경망의 가중치를 적당한 값으로 초기화\n",
    "4. 학습데이터 {입력, 정답}에서 '입력'을 신경망에 입력해<br>\n",
    "   출력$(\\mathbf{y})$을 얻고, '정답$(\\mathbf{d})$'과 비교해 오차$(\\mathbf{e^{(n)}}=\\mathbf{d}-\\mathbf{y})$<br>\n",
    "   구하고 델타$(\\boldsymbol{\\delta^{(\\mathbf{n})}} = \\mathbf{e^{(n)}})$를 계산\n",
    "5. 델타를 역전파시켜 바로 아래 은닉층 노드의 델타를 계산<br>\n",
    "$(\\mathbf{e^{(k)}} = \\mathbf{{W^{(k+1)}}^{T}} \\boldsymbol{\\delta^{(\\mathbf{k}+1)}}, \\;\\; \\boldsymbol{\\delta^{(\\mathbf{k})}} = \\boldsymbol{\\varphi}'(\\mathbf{v^{(k)}}) \\circ \\mathbf{e^{(k)}})$\n",
    "6. 단계 5를 입력층 바로 위까지 모든 은닉층에 차례로 반복\n",
    "7. 델타규칙으로 가중치 조절$(\\mathbf{W^{(k)}} \\leftarrow \\mathbf{W^{(k)}} + \\alpha \\boldsymbol{\\delta^{(\\mathbf{k})}} \\mathbf{{y^{(k-1)}}^{T}})$\n",
    "8. 전체 학습 데이터에 대해 4\\~7을 반복\n",
    "9. 신경망의 출력 오차가 충분히 줄어들 때까지 4\\~8을 반복"
   ]
  },
  {
   "cell_type": "markdown",
   "id": "11046bc3",
   "metadata": {
    "slideshow": {
     "slide_type": "slide"
    }
   },
   "source": [
    "### 다범주 분류 알고리즘 구현\n",
    "<br>\n",
    "&nbsp;&nbsp;- $5×5$ 이미지를 입력 받아 그 안의 숫자를 판독\n",
    "\n",
    "- 먼저 난수 시드 생성"
   ]
  },
  {
   "cell_type": "code",
   "execution_count": 1,
   "id": "b25437a3",
   "metadata": {
    "slideshow": {
     "slide_type": "-"
    }
   },
   "outputs": [],
   "source": [
    "import random as rd\n",
    "rd.seed(777)  # 실행 결과의 재현성 확보"
   ]
  },
  {
   "cell_type": "markdown",
   "id": "a69fc934",
   "metadata": {
    "slideshow": {
     "slide_type": "slide"
    }
   },
   "source": [
    "■ 신경망 구성\n",
    "<br>\n",
    "\n",
    "&nbsp;- 입력 노드 25개($5×5$)\n",
    "\n",
    "&nbsp;- 은닉층 1개(노드 50개)\n",
    "\n",
    "&nbsp;- 출력 노드 5개(5 범주)"
   ]
  },
  {
   "cell_type": "markdown",
   "id": "569c6b5c",
   "metadata": {
    "slideshow": {
     "slide_type": "slide"
    }
   },
   "source": [
    "- 은닉층 자료구조 셋업"
   ]
  },
  {
   "cell_type": "code",
   "execution_count": 2,
   "id": "4b67dec7",
   "metadata": {
    "slideshow": {
     "slide_type": "-"
    }
   },
   "outputs": [],
   "source": [
    "I = 25  # 입력층 노드 수\n",
    "H = 50  # 은닉층 노드 수\n",
    "W1 = [[0 for j in range(I)] for i in range(H)]  # 은닉층 가중치 2차원 리스트(행렬) 생성\n",
    "v1 = [ 0 for i in range(H)]  # 은닉층 가중합 리스트 생성\n",
    "y1 = [ 0 for i in range(H)]  # 은닉층 출력값 리스트 생성\n",
    "for i in range(H):\n",
    "    for j in range(I):\n",
    "        W1[i][j] = rd.random()  # 0~1 난수로 가중치 초기화"
   ]
  },
  {
   "cell_type": "markdown",
   "id": "52854782",
   "metadata": {
    "slideshow": {
     "slide_type": "slide"
    }
   },
   "source": [
    "- 은닉층 활성함수는 시그모이드 함수"
   ]
  },
  {
   "cell_type": "code",
   "execution_count": 3,
   "id": "8f0ab09f",
   "metadata": {
    "slideshow": {
     "slide_type": "-"
    }
   },
   "outputs": [],
   "source": [
    "Sigmoid = lambda x: 1/(1. + (2.7182818284)**(-x))"
   ]
  },
  {
   "cell_type": "markdown",
   "id": "933faf93",
   "metadata": {
    "slideshow": {
     "slide_type": "slide"
    }
   },
   "source": [
    "- 출력층 자료구조 셋업"
   ]
  },
  {
   "cell_type": "code",
   "execution_count": 4,
   "id": "bb9e1b37",
   "metadata": {
    "slideshow": {
     "slide_type": "-"
    }
   },
   "outputs": [],
   "source": [
    "O = 5  # 출력층 노드 수\n",
    "W2 = [[0 for j in range(H)] for i in range(O)]  # 출력층 가중치 2차원 리스트(행렬) 생성\n",
    "v  = [ 0 for i in range(O)]  # 출력층 가중합 리스트 생성\n",
    "y  = [ 0 for i in range(O)]  # 출력층 출력값 리스트 생성\n",
    "for i in range(O):\n",
    "    for j in range(H):\n",
    "        W2[i][j] = rd.random()  # 0~1 난수로 가중치 초기화"
   ]
  },
  {
   "cell_type": "markdown",
   "id": "c17fa03f",
   "metadata": {
    "slideshow": {
     "slide_type": "slide"
    }
   },
   "source": [
    "- 출력층 활성함수는 소프트맥스 함수\n",
    "\n",
    "$$y_{n} = \\varphi(v_{n})\n",
    "= \\frac{e^{v_{n}}}{e^{v_{1}}+e^{v_{2}}+\\cdots+e^{v_{N}}}\n",
    "= \\frac{e^{v_{n}}}{\\sum_{i=1}^{N}{e^{v_{i}}}}$$"
   ]
  },
  {
   "cell_type": "code",
   "execution_count": 5,
   "id": "af4f994f",
   "metadata": {
    "slideshow": {
     "slide_type": "-"
    }
   },
   "outputs": [],
   "source": [
    "def Softmax(v):\n",
    "    N = len(v)  # v: 출력층 가중합 리스트, N: 출력층 노드 수\n",
    "    y = [0 for i in range(N)]\n",
    "    for i in range(N):\n",
    "        y[i] = 2.7182818284**v[i]\n",
    "\n",
    "    denominator = sum(y)\n",
    "    for i in range(N):\n",
    "        y[i] /=denominator\n",
    "\n",
    "    return y"
   ]
  },
  {
   "cell_type": "markdown",
   "id": "31360f88",
   "metadata": {
    "slideshow": {
     "slide_type": "slide"
    }
   },
   "source": [
    "■ 학습 데이터는 총 5개\n",
    "\n",
    "- 지도 학습용으로 {입력, 정답}의 쌍\n",
    "\n",
    "- 이미지가 '입력', 그 아래 숫자가 '정답'"
   ]
  },
  {
   "cell_type": "markdown",
   "id": "fb372ea0",
   "metadata": {
    "slideshow": {
     "slide_type": "slide"
    }
   },
   "source": [
    "&nbsp;&nbsp;- 첫 번째 데이터\n",
    "\n",
    "- 입력 : 숫자 '1'의 이미지($5×5$ 픽셀)<br>\n",
    "&nbsp;&nbsp;&nbsp;&nbsp;&nbsp;&nbsp;&nbsp;흰색 픽셀은 '0', 회색 픽셀은 '1'\n",
    "\n",
    "- 정답 : 원핫인코딩\n",
    "$\\begin{bmatrix} 1 & 0 & 0 & 0 & 0 \\end{bmatrix}$"
   ]
  },
  {
   "cell_type": "code",
   "execution_count": 6,
   "id": "1e086dfd",
   "metadata": {
    "slideshow": {
     "slide_type": "-"
    }
   },
   "outputs": [
    {
     "data": {
      "text/plain": [
       "([0, 1, 1, 0, 0, 0, 0, 1, 0, 0, 0, 0, 1, 0, 0, 0, 0, 1, 0, 0, 0, 1, 1, 1, 0],\n",
       " [1, 0, 0, 0, 0])"
      ]
     },
     "execution_count": 6,
     "metadata": {},
     "output_type": "execute_result"
    }
   ],
   "source": [
    "X1 = [0, 1, 1, 0, 0,\n",
    "      0, 0, 1, 0, 0,\n",
    "      0, 0, 1, 0, 0,\n",
    "      0, 0, 1, 0, 0,\n",
    "      0, 1, 1, 1, 0]\n",
    "\n",
    "D1 = [1, 0, 0, 0, 0]\n",
    "X1, D1"
   ]
  },
  {
   "cell_type": "markdown",
   "id": "02a3e21b",
   "metadata": {
    "slideshow": {
     "slide_type": "slide"
    }
   },
   "source": [
    "&nbsp;&nbsp;- 두 번째 데이터\n",
    "\n",
    "- 입력 : 숫자 '2'의 이미지($5×5$ 픽셀)<br>\n",
    "&nbsp;&nbsp;&nbsp;&nbsp;&nbsp;&nbsp;&nbsp;흰색 픽셀은 '0', 회색 픽셀은 '1'\n",
    "\n",
    "- 정답 : 원핫인코딩\n",
    "$\\begin{bmatrix} 0 & 1 & 0 & 0 & 0 \\end{bmatrix}$"
   ]
  },
  {
   "cell_type": "code",
   "execution_count": 7,
   "id": "b8768321",
   "metadata": {
    "slideshow": {
     "slide_type": "-"
    }
   },
   "outputs": [
    {
     "data": {
      "text/plain": [
       "([1, 1, 1, 1, 0, 0, 0, 0, 0, 1, 0, 1, 1, 1, 0, 1, 0, 0, 0, 0, 1, 1, 1, 1, 1],\n",
       " [0, 1, 0, 0, 0])"
      ]
     },
     "execution_count": 7,
     "metadata": {},
     "output_type": "execute_result"
    }
   ],
   "source": [
    "X2 = [1, 1, 1, 1, 0,\n",
    "      0, 0, 0, 0, 1,\n",
    "      0, 1, 1, 1, 0,\n",
    "      1, 0, 0, 0, 0,\n",
    "      1, 1, 1, 1, 1]\n",
    "\n",
    "D2 = [0, 1, 0, 0, 0]\n",
    "X2, D2"
   ]
  },
  {
   "cell_type": "markdown",
   "id": "dcac684e",
   "metadata": {
    "slideshow": {
     "slide_type": "slide"
    }
   },
   "source": [
    "&nbsp;&nbsp;- 세 번째 데이터\n",
    "\n",
    "- 입력 : 숫자 '3'의 이미지($5×5$ 픽셀)<br>\n",
    "&nbsp;&nbsp;&nbsp;&nbsp;&nbsp;&nbsp;&nbsp;흰색 픽셀은 '0', 회색 픽셀은 '1'\n",
    "\n",
    "- 정답 : 원핫인코딩\n",
    "$\\begin{bmatrix} 0 & 0 & 1 & 0 & 0 \\end{bmatrix}$"
   ]
  },
  {
   "cell_type": "code",
   "execution_count": 8,
   "id": "387a6b79",
   "metadata": {
    "slideshow": {
     "slide_type": "-"
    }
   },
   "outputs": [
    {
     "data": {
      "text/plain": [
       "([1, 1, 1, 1, 0, 0, 0, 0, 0, 1, 0, 1, 1, 1, 0, 0, 0, 0, 0, 1, 1, 1, 1, 1, 0],\n",
       " [0, 0, 1, 0, 0])"
      ]
     },
     "execution_count": 8,
     "metadata": {},
     "output_type": "execute_result"
    }
   ],
   "source": [
    "X3 = [1, 1, 1, 1, 0,\n",
    "      0, 0, 0, 0, 1,\n",
    "      0, 1, 1, 1, 0,\n",
    "      0, 0, 0, 0, 1,\n",
    "      1, 1, 1, 1, 0]\n",
    "\n",
    "D3 = [0, 0, 1, 0, 0]\n",
    "X3, D3"
   ]
  },
  {
   "cell_type": "markdown",
   "id": "756da503",
   "metadata": {
    "slideshow": {
     "slide_type": "slide"
    }
   },
   "source": [
    "&nbsp;&nbsp;- 네 번째 데이터\n",
    "\n",
    "- 입력 : 숫자 '4'의 이미지($5×5$ 픽셀)<br>\n",
    "&nbsp;&nbsp;&nbsp;&nbsp;&nbsp;&nbsp;&nbsp;흰색 픽셀은 '0', 회색 픽셀은 '1'\n",
    "\n",
    "- 정답 : 원핫인코딩\n",
    "$\\begin{bmatrix} 0 & 0 & 0 & 1 & 0 \\end{bmatrix}$"
   ]
  },
  {
   "cell_type": "code",
   "execution_count": 9,
   "id": "39ce34b5",
   "metadata": {
    "slideshow": {
     "slide_type": "-"
    }
   },
   "outputs": [
    {
     "data": {
      "text/plain": [
       "([0, 0, 0, 1, 0, 0, 0, 1, 1, 0, 0, 1, 0, 1, 0, 1, 1, 1, 1, 1, 0, 0, 0, 1, 0],\n",
       " [0, 0, 0, 1, 0])"
      ]
     },
     "execution_count": 9,
     "metadata": {},
     "output_type": "execute_result"
    }
   ],
   "source": [
    "X4 = [0, 0, 0, 1, 0,\n",
    "      0, 0, 1, 1, 0,\n",
    "      0, 1, 0, 1, 0,\n",
    "      1, 1, 1, 1, 1,\n",
    "      0, 0, 0, 1, 0]\n",
    "\n",
    "D4 = [0, 0, 0, 1, 0]\n",
    "X4, D4"
   ]
  },
  {
   "cell_type": "markdown",
   "id": "21b55a35",
   "metadata": {
    "slideshow": {
     "slide_type": "slide"
    }
   },
   "source": [
    "&nbsp;&nbsp;- 다섯 번째 데이터\n",
    "\n",
    "- 입력 : 숫자 '5'의 이미지($5×5$ 픽셀)<br>\n",
    "&nbsp;&nbsp;&nbsp;&nbsp;&nbsp;&nbsp;&nbsp;흰색 픽셀은 '0', 회색 픽셀은 '1'\n",
    "\n",
    "- 정답 : 원핫인코딩\n",
    "$\\begin{bmatrix} 0 & 0 & 0 & 0 & 1 \\end{bmatrix}$"
   ]
  },
  {
   "cell_type": "code",
   "execution_count": 10,
   "id": "334ef00c",
   "metadata": {
    "slideshow": {
     "slide_type": "-"
    }
   },
   "outputs": [
    {
     "data": {
      "text/plain": [
       "([1, 1, 1, 1, 1, 1, 0, 0, 0, 0, 1, 1, 1, 1, 0, 0, 0, 0, 0, 1, 1, 1, 1, 1, 0],\n",
       " [0, 0, 0, 0, 1])"
      ]
     },
     "execution_count": 10,
     "metadata": {},
     "output_type": "execute_result"
    }
   ],
   "source": [
    "X5 = [1, 1, 1, 1, 1,\n",
    "      1, 0, 0, 0, 0,\n",
    "      1, 1, 1, 1, 0,\n",
    "      0, 0, 0, 0, 1,\n",
    "      1, 1, 1, 1, 0]\n",
    "\n",
    "D5 = [0, 0, 0, 0, 1]\n",
    "X5, D5"
   ]
  },
  {
   "cell_type": "markdown",
   "id": "143f1020",
   "metadata": {
    "slideshow": {
     "slide_type": "slide"
    }
   },
   "source": [
    "- 학습 데이터 변수 정리\n",
    "\n",
    "  - 입력 데이터 변수 X\n",
    "  \n",
    "  - 정답 데이터 변수 D"
   ]
  },
  {
   "cell_type": "code",
   "execution_count": 11,
   "id": "c0994394",
   "metadata": {
    "scrolled": true,
    "slideshow": {
     "slide_type": "-"
    }
   },
   "outputs": [
    {
     "data": {
      "text/plain": [
       "([[0, 1, 1, 0, 0, 0, 0, 1, 0, 0, 0, 0, 1, 0, 0, 0, 0, 1, 0, 0, 0, 1, 1, 1, 0],\n",
       "  [1, 1, 1, 1, 0, 0, 0, 0, 0, 1, 0, 1, 1, 1, 0, 1, 0, 0, 0, 0, 1, 1, 1, 1, 1],\n",
       "  [1, 1, 1, 1, 0, 0, 0, 0, 0, 1, 0, 1, 1, 1, 0, 0, 0, 0, 0, 1, 1, 1, 1, 1, 0],\n",
       "  [0, 0, 0, 1, 0, 0, 0, 1, 1, 0, 0, 1, 0, 1, 0, 1, 1, 1, 1, 1, 0, 0, 0, 1, 0],\n",
       "  [1, 1, 1, 1, 1, 1, 0, 0, 0, 0, 1, 1, 1, 1, 0, 0, 0, 0, 0, 1, 1, 1, 1, 1, 0]],\n",
       " [[1, 0, 0, 0, 0],\n",
       "  [0, 1, 0, 0, 0],\n",
       "  [0, 0, 1, 0, 0],\n",
       "  [0, 0, 0, 1, 0],\n",
       "  [0, 0, 0, 0, 1]])"
      ]
     },
     "execution_count": 11,
     "metadata": {},
     "output_type": "execute_result"
    }
   ],
   "source": [
    "X = [X1, X2, X3, X4, X5]\n",
    "D = [D1, D2, D3, D4, D5]\n",
    "X, D"
   ]
  },
  {
   "cell_type": "markdown",
   "id": "a9de9f67",
   "metadata": {
    "slideshow": {
     "slide_type": "slide"
    }
   },
   "source": [
    "■ MultiClass(·)<br>\n",
    "&nbsp;&nbsp;: 교차 엔트로피 역전파 기반 델타 규칙에 따른 SGD 수행\n",
    "\n",
    "- 신경망의 가중치와 학습 데이터를 인자로 넘겨 받아<br>\n",
    "  새롭게 학습된 가중치를 반환하는 방식으로 실행\n",
    "<br><br>\n",
    "<center>W1, W2 = MultiClass(W1, W2, X, D)</center>"
   ]
  },
  {
   "attachments": {
    "image-5.png": {
     "image/png": "[encoded data removed]"
    }
   },
   "cell_type": "markdown",
   "id": "67e97031",
   "metadata": {
    "slideshow": {
     "slide_type": "slide"
    }
   },
   "source": [
    "- 신경망 출력 (forward propagation)\n",
    "\n",
    "<center><img src='attachment:image-5.png' width='1100'></center>"
   ]
  },
  {
   "cell_type": "markdown",
   "id": "077fcce1",
   "metadata": {
    "slideshow": {
     "slide_type": "slide"
    }
   },
   "source": [
    "- MultiClass(·) 실행"
   ]
  },
  {
   "cell_type": "code",
   "execution_count": 12,
   "id": "4111a30d",
   "metadata": {
    "slideshow": {
     "slide_type": "-"
    }
   },
   "outputs": [],
   "source": [
    "def MultiClass(W1, W2, X, D):\n",
    "    alpha = 0.9\n",
    "\n",
    "    I = len(W1[0]) # W1 is H×I matrix, 은닉층 가중치 행렬 W1의 열의 수 = 입력층 노드 수\n",
    "    H = len(W1)    # W1 is H×I matrix, 은닉층 가중치 행렬 W1의 행의 수 = 은닉층 노드 수\n",
    "    O = len(W2)    # W2 is O×H matrix, 출력층 가중치 행렬 W2의 행의 수 = 출력층 노드 수\n",
    "\n",
    "    v1     = [ 0 for i in range(H)]  # 은닉층 가중합 리스트 생성\n",
    "    y1     = [ 0 for i in range(H)]  # 은닉층 출력값 리스트 생성\n",
    "    e1     = [ 0 for i in range(H)]  # 은닉층 오차값 리스트 생성\n",
    "    delta1 = [ 0 for i in range(H)]  # 은닉층 델타값 리스트 생성\n",
    "    dW1    = [[0 for j in range(I)] for i in range(H)]  # 은닉층 가중치 갱신값 2차원 리스트(행렬) 생성\n",
    "\n",
    "    v      = [ 0 for i in range(O)]  # 출력층 가중합 리스트 생성\n",
    "    y      = [ 0 for i in range(O)]  # 출력층 출력값 리스트 생성\n",
    "    e      = [ 0 for i in range(O)]  # 출력층 오차값 리스트 생성\n",
    "    delta  = [ 0 for i in range(O)]  # 출력층 델타값 리스트 생성\n",
    "    dW2    = [[0 for j in range(H)] for i in range(O)]  # 출력층 가중치 갱신값 2차원 리스트(행렬) 생성\n",
    "\n",
    "    for k in range(len(X)):\n",
    "\n",
    "        # 신경망 출력(forward propagation)\n",
    "        x = X[k] #  입력 데이터 하나 꺼냄\n",
    "        for i in range(H):  # 은닉층 노드에 대한 반복문\n",
    "            v1[i] = 0\n",
    "            for j in range(I):  # 입력층 노드에 대한 반복문\n",
    "                v1[i] += (W1[i][j]*x[j])  # 입력층 신호에 은닉층 가중치를 곱하여 가중합 계산\n",
    "            y1[i] = Sigmoid(v1[i])        # 시그모이드 함수를 적용하여 은닉층 출력값 계산\n",
    "\n",
    "        for i in range(O):  # 출력층 노드에 대한 반복문\n",
    "            v[i] = 0\n",
    "            for j in range(H):  # 은닉층 노드에 대한 반복문\n",
    "                v[i] += (W2[i][j]*y1[j])  # 은닉층 신호에 출력층 가중치를 곱하여 가중합 계산\n",
    "        y = Softmax(v)                    # 소프트맥스 함수를 적용하여 출력층 출력값 계산\n",
    "\n",
    "        # 델타 역전파(backward propagation)\n",
    "        d = D[k]  # 정답 데이터 하나 꺼냄\n",
    "        for i in range(O):  # 출력층 노드에 대한 반복문\n",
    "            e[i]     = d[i] - y[i]  # 출력층 오차(정답과 출력값의 차이) 계산\n",
    "            delta[i] = e[i]         # 출력층 델타(도함수 적용하지 않음) 계산\n",
    "\n",
    "        for i in range(H):  # 은닉층 노드에 대한 반복문\n",
    "            e1[i] = 0\n",
    "            for j in range(O):  # 출력층 노드에 대한 반복문\n",
    "                e1[i] += W2[j][i]*delta[j]     # 은닉층 오차(출력층 델타 역전파 수행) 계산\n",
    "            delta1[i] = y1[i]*(1-y1[i])*e1[i]  # 은닉층 델타(시그모이드의 도함수 적용) 계산\n",
    "\n",
    "        # 은닉층 가중치 조절(hidden layer weight update)\n",
    "        for i in range(H):  # 은닉층 노드에 대한 반복문\n",
    "            for j in range(I):  # 입력층 노드에 대한 반복문\n",
    "                dW1[i][j] = alpha*delta1[i]*x[j]  # 델타 규칙으로 가중치 갱신값 계산\n",
    "                W1[i][j] += dW1[i][j]  # 하나의 학습 데이터마다 바로 가중치 갱신(SGD)\n",
    "\n",
    "        # 출력층 가중치 조절(output layer weight update)\n",
    "        for i in range(O):  # 출력층 노드에 대한 반복문\n",
    "            for j in range(H):  # 은닉층 노드에 대한 반복문\n",
    "                dW2[i][j] = alpha*delta[i]*y1[j]  # 델타 규칙으로 가중치 갱신값 계산\n",
    "                W2[i][j] += dW2[i][j]  # 하나의 학습 데이터마다 바로 가중치 갱신(SGD)\n",
    "\n",
    "    return W1, W2"
   ]
  },
  {
   "cell_type": "markdown",
   "id": "bcc454f7",
   "metadata": {
    "slideshow": {
     "slide_type": "slide"
    }
   },
   "source": [
    "■  MultiClass(·) 호출 방식으로 10000 epoch 반복 학습 수행"
   ]
  },
  {
   "cell_type": "code",
   "execution_count": 13,
   "id": "df2c0b6a",
   "metadata": {
    "slideshow": {
     "slide_type": "-"
    }
   },
   "outputs": [],
   "source": [
    "for epoch in range(10000):\n",
    "    W1, W2 =  MultiClass(W1, W2, X, D)"
   ]
  },
  {
   "cell_type": "markdown",
   "id": "8fd091b8",
   "metadata": {
    "slideshow": {
     "slide_type": "slide"
    }
   },
   "source": [
    "■ 학습 결과 확인\n",
    "\n",
    "- 신경망의 출력값을 정답과 비교"
   ]
  },
  {
   "cell_type": "code",
   "execution_count": 14,
   "id": "3c002c92",
   "metadata": {
    "scrolled": true,
    "slideshow": {
     "slide_type": "-"
    }
   },
   "outputs": [
    {
     "name": "stdout",
     "output_type": "stream",
     "text": [
      "0.9999927404524711\n",
      "0.9999922036969413\n",
      "0.9999947155270874\n",
      "0.9999932322769237\n",
      "0.9999998677751751\n"
     ]
    }
   ],
   "source": [
    "for k in range(len(X)):\n",
    "    x = X[k]  # 입력 데이터 하나 꺼냄\n",
    "    for i in range(H):  # 은닉층 노드에 대한 반복문\n",
    "        v1[i] = 0\n",
    "        for j in range(I):  # 입력층 노드에 대한 반복문\n",
    "            v1[i] += (W1[i][j]*x[j])  # 입력층 신호에 은닉층 가중치를 곱하여 가중합 계산\n",
    "        y1[i] = Sigmoid(v1[i])        # 시그모이드 함수를 적용하여 은닉층 출력값 계산\n",
    "    for i in range(O):  # 출력층 노드에 대한 반복문\n",
    "        v[i] = 0\n",
    "        for j in range(H):  # 은닉층 노드에 대한 반복문\n",
    "            v[i] += (W2[i][j]*y1[j])  # 은닉층 신호에 출력층 가중치를 곱하여 가중합 계산\n",
    "    y = Softmax(v)                    # 소프트맥스 함수를  적용하여 신경망(출력층) 출력값 계산\n",
    "    print(y[k])  # 출력값 print(원핫인코딩의 '1'에 해당하는 부분만 출력)"
   ]
  },
  {
   "cell_type": "markdown",
   "id": "68504c37",
   "metadata": {
    "slideshow": {
     "slide_type": "slide"
    }
   },
   "source": [
    "■ 현실 데이터\n",
    "\n",
    "- 실제 현장에서 들어오는 데이터는 학습 데이터와 다름\n",
    "\n",
    "- 다음과 같이 약간 오염된 이미지를 어떻게 분류하는지..."
   ]
  },
  {
   "cell_type": "markdown",
   "id": "43fdfe63",
   "metadata": {
    "slideshow": {
     "slide_type": "slide"
    }
   },
   "source": [
    "- 첫 번째 데이터"
   ]
  },
  {
   "cell_type": "code",
   "execution_count": 15,
   "id": "f62bbb3e",
   "metadata": {
    "slideshow": {
     "slide_type": "-"
    }
   },
   "outputs": [
    {
     "data": {
      "text/plain": [
       "[0, 0, 1, 1, 0, 0, 0, 1, 1, 0, 0, 1, 0, 1, 0, 0, 0, 0, 1, 0, 0, 1, 1, 1, 0]"
      ]
     },
     "execution_count": 15,
     "metadata": {},
     "output_type": "execute_result"
    }
   ],
   "source": [
    "R1 = [0, 0, 1, 1, 0,\n",
    "      0, 0, 1, 1, 0,\n",
    "      0, 1, 0, 1, 0,\n",
    "      0, 0, 0, 1, 0,\n",
    "      0, 1, 1, 1, 0]\n",
    "R1"
   ]
  },
  {
   "cell_type": "markdown",
   "id": "93445ffc",
   "metadata": {
    "slideshow": {
     "slide_type": "slide"
    }
   },
   "source": [
    "- 두 번째 데이터"
   ]
  },
  {
   "cell_type": "code",
   "execution_count": 16,
   "id": "f8fe82c6",
   "metadata": {
    "slideshow": {
     "slide_type": "-"
    }
   },
   "outputs": [
    {
     "data": {
      "text/plain": [
       "[1, 1, 1, 1, 0, 0, 0, 0, 0, 1, 0, 1, 1, 1, 0, 1, 0, 0, 0, 1, 1, 1, 1, 1, 1]"
      ]
     },
     "execution_count": 16,
     "metadata": {},
     "output_type": "execute_result"
    }
   ],
   "source": [
    "R2 = [1, 1, 1, 1, 0,\n",
    "      0, 0, 0, 0, 1,\n",
    "      0, 1, 1, 1, 0,\n",
    "      1, 0, 0, 0, 1,\n",
    "      1, 1, 1, 1, 1]\n",
    "R2"
   ]
  },
  {
   "cell_type": "markdown",
   "id": "1af6ac02",
   "metadata": {
    "slideshow": {
     "slide_type": "slide"
    }
   },
   "source": [
    "- 세 번째 데이터"
   ]
  },
  {
   "cell_type": "code",
   "execution_count": 17,
   "id": "c61c9ae1",
   "metadata": {
    "slideshow": {
     "slide_type": "-"
    }
   },
   "outputs": [
    {
     "data": {
      "text/plain": [
       "[1, 1, 1, 1, 0, 0, 0, 0, 0, 1, 0, 1, 1, 1, 0, 1, 0, 0, 0, 1, 1, 1, 1, 1, 0]"
      ]
     },
     "execution_count": 17,
     "metadata": {},
     "output_type": "execute_result"
    }
   ],
   "source": [
    "R3 = [1, 1, 1, 1, 0,\n",
    "      0, 0, 0, 0, 1,\n",
    "      0, 1, 1, 1, 0,\n",
    "      1, 0, 0, 0, 1,\n",
    "      1, 1, 1, 1, 0]\n",
    "R3"
   ]
  },
  {
   "cell_type": "markdown",
   "id": "ba90ffe3",
   "metadata": {
    "slideshow": {
     "slide_type": "slide"
    }
   },
   "source": [
    "- 네 번째 데이터"
   ]
  },
  {
   "cell_type": "code",
   "execution_count": 18,
   "id": "d9a22cf9",
   "metadata": {
    "slideshow": {
     "slide_type": "-"
    }
   },
   "outputs": [
    {
     "data": {
      "text/plain": [
       "[0, 1, 1, 1, 0, 0, 1, 0, 0, 0, 0, 1, 1, 1, 0, 0, 0, 0, 1, 0, 0, 1, 1, 1, 0]"
      ]
     },
     "execution_count": 18,
     "metadata": {},
     "output_type": "execute_result"
    }
   ],
   "source": [
    "R4 = [0, 1, 1, 1, 0,\n",
    "      0, 1, 0, 0, 0,\n",
    "      0, 1, 1, 1, 0,\n",
    "      0, 0, 0, 1, 0,\n",
    "      0, 1, 1, 1, 0]\n",
    "R4"
   ]
  },
  {
   "cell_type": "markdown",
   "id": "1a0ed4eb",
   "metadata": {
    "slideshow": {
     "slide_type": "slide"
    }
   },
   "source": [
    "- 다섯 번째 데이터"
   ]
  },
  {
   "cell_type": "code",
   "execution_count": 19,
   "id": "db999470",
   "metadata": {
    "slideshow": {
     "slide_type": "-"
    }
   },
   "outputs": [
    {
     "data": {
      "text/plain": [
       "[0, 1, 1, 1, 1, 0, 1, 0, 0, 0, 0, 1, 1, 1, 0, 0, 0, 0, 1, 0, 1, 1, 1, 1, 0]"
      ]
     },
     "execution_count": 19,
     "metadata": {},
     "output_type": "execute_result"
    }
   ],
   "source": [
    "R5 = [0, 1, 1, 1, 1,\n",
    "      0, 1, 0, 0, 0,\n",
    "      0, 1, 1, 1, 0,\n",
    "      0, 0, 0, 1, 0,\n",
    "      1, 1, 1, 1, 0]\n",
    "R5"
   ]
  },
  {
   "cell_type": "markdown",
   "id": "a7ff64ac",
   "metadata": {
    "slideshow": {
     "slide_type": "slide"
    }
   },
   "source": [
    "- 현실 데이터 정리\n",
    "\n",
    "  - 입력 데이터 변수 R"
   ]
  },
  {
   "cell_type": "code",
   "execution_count": 20,
   "id": "9bb27b85",
   "metadata": {
    "scrolled": false,
    "slideshow": {
     "slide_type": "-"
    }
   },
   "outputs": [
    {
     "data": {
      "text/plain": [
       "[[0, 0, 1, 1, 0, 0, 0, 1, 1, 0, 0, 1, 0, 1, 0, 0, 0, 0, 1, 0, 0, 1, 1, 1, 0],\n",
       " [1, 1, 1, 1, 0, 0, 0, 0, 0, 1, 0, 1, 1, 1, 0, 1, 0, 0, 0, 1, 1, 1, 1, 1, 1],\n",
       " [1, 1, 1, 1, 0, 0, 0, 0, 0, 1, 0, 1, 1, 1, 0, 1, 0, 0, 0, 1, 1, 1, 1, 1, 0],\n",
       " [0, 1, 1, 1, 0, 0, 1, 0, 0, 0, 0, 1, 1, 1, 0, 0, 0, 0, 1, 0, 0, 1, 1, 1, 0],\n",
       " [0, 1, 1, 1, 1, 0, 1, 0, 0, 0, 0, 1, 1, 1, 0, 0, 0, 0, 1, 0, 1, 1, 1, 1, 0]]"
      ]
     },
     "execution_count": 20,
     "metadata": {},
     "output_type": "execute_result"
    }
   ],
   "source": [
    "R = [R1, R2, R3, R4, R5]\n",
    "R"
   ]
  },
  {
   "cell_type": "markdown",
   "id": "8baa2e7f",
   "metadata": {
    "slideshow": {
     "slide_type": "slide"
    }
   },
   "source": [
    "■ 현실 데이터 결과 확인"
   ]
  },
  {
   "cell_type": "code",
   "execution_count": 21,
   "id": "5f2b1205",
   "metadata": {
    "scrolled": true,
    "slideshow": {
     "slide_type": "-"
    }
   },
   "outputs": [
    {
     "name": "stdout",
     "output_type": "stream",
     "text": [
      "[0.6825129375970248, 0.005938702944709067, 0.006595272909484372, 0.30408441412166515, 0.0008686724271165612]\n",
      "[1.727085783802531e-05, 0.8733457142165059, 0.1252030307725384, 0.0009584944969363466, 0.0004754896561813033]\n",
      "[1.0889155287379367e-05, 5.1521963406444416e-06, 0.9999766986333544, 3.865758742691995e-06, 3.394256274881982e-06]\n",
      "[0.22803827967554005, 0.002664966257053156, 0.7669614030293471, 0.00223773448342953, 9.761655463002132e-05]\n",
      "[0.0024666898743568467, 0.04350224070930299, 0.5478204112796353, 0.016237266323338533, 0.38997339181336643]\n"
     ]
    }
   ],
   "source": [
    "for k in range(len(X)):\n",
    "    x = R[k]  # 입력 데이터 하나 꺼냄\n",
    "    for i in range(H):  # 은닉층 노드에 대한 반복문\n",
    "        v1[i] = 0\n",
    "        for j in range(I):  # 입력층 노드에 대한 반복문\n",
    "            v1[i] += (W1[i][j]*x[j])  # 입력층 신호에 은닉층 가중치를 곱하여 가중합 계산\n",
    "        y1[i] = Sigmoid(v1[i])        # 시그모이드 함수를 적용하여 은닉층 출력값 계산\n",
    "    for i in range(O):  # 출력층 노드에 대한 반복문\n",
    "        v[i] = 0\n",
    "        for j in range(H):  # 은닉층 노드에 대한 반복문\n",
    "            v[i] += (W2[i][j]*y1[j])  # 은닉층 신호에 출력층 가중치를 곱하여 가중합 계산\n",
    "    y = Softmax(v)                    # 소프트맥스 함수를  적용하여 신경망(출력층) 출력값 계산\n",
    "    print(y)  # 출력값 print"
   ]
  }
 ],
 "metadata": {
  "celltoolbar": "Slideshow",
  "kernelspec": {
   "display_name": "Python 3 (ipykernel)",
   "language": "python",
   "name": "python3"
  },
  "language_info": {
   "codemirror_mode": {
    "name": "ipython",
    "version": 3
   },
   "file_extension": ".py",
   "mimetype": "text/x-python",
   "name": "python",
   "nbconvert_exporter": "python",
   "pygments_lexer": "ipython3",
   "version": "3.7.9"
  }
 },
 "nbformat": 4,
 "nbformat_minor": 5
}
