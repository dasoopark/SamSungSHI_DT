{
 "cells": [
  {
   "cell_type": "markdown",
   "id": "0b778ebd",
   "metadata": {},
   "source": [
    "# 튜플 자료형 \n",
    "\n",
    "튜플과 리스트는 비슷한 역할을 한다. 가장 큰 차이점은 요소를 변화시킬 수 있는지이다. 리스트의 요소는 프로그램 실행중에 변화가 가능하지만 튜플은 변경이 불가능하다. 그래서 튜플은 insert, remove와 같은 내장함수가 없다. 실제 튜플의 요소를 삭제하거나 변경하려고 하면 에러가 발생한다.\n",
    "\n",
    "그런데 튜플을 사용하는 이유는 메모리 용량을 아끼고 퍼포먼스 향상을 위해 도움이 되기 때문이다. 실제로 튜플이 리스트보다 빠르다."
   ]
  },
  {
   "cell_type": "markdown",
   "id": "27b51782",
   "metadata": {},
   "source": [
    "## 1. 튜플생성"
   ]
  },
  {
   "cell_type": "code",
   "execution_count": 1,
   "id": "e6458cb9",
   "metadata": {},
   "outputs": [],
   "source": [
    "a = ()\n",
    "b = (1,2,3)\n",
    "c = ('Life','is','too short')"
   ]
  },
  {
   "cell_type": "markdown",
   "id": "42f7f582",
   "metadata": {},
   "source": [
    "## 2. 튜플 인덱스 "
   ]
  },
  {
   "cell_type": "code",
   "execution_count": 2,
   "id": "3a451f42",
   "metadata": {},
   "outputs": [],
   "source": [
    "a = ((0,1,2),\n",
    "     (3,4,5),\n",
    "     (6,7,8))"
   ]
  },
  {
   "cell_type": "markdown",
   "id": "9da1d21f",
   "metadata": {},
   "source": [
    "문제. a[0][0] 의 값은 얼마인가?"
   ]
  },
  {
   "cell_type": "markdown",
   "id": "35cbbbc9",
   "metadata": {},
   "source": [
    "## 3. 튜플 슬라이싱"
   ]
  },
  {
   "cell_type": "markdown",
   "id": "6cfa5fa0",
   "metadata": {},
   "source": [
    "투플 슬라이싱은 리스트의 일정구간을 잘라서 가져온다."
   ]
  },
  {
   "cell_type": "code",
   "execution_count": 3,
   "id": "df52c204",
   "metadata": {},
   "outputs": [
    {
     "data": {
      "text/plain": [
       "[1, 2, 3, 4, 5]"
      ]
     },
     "execution_count": 3,
     "metadata": {},
     "output_type": "execute_result"
    }
   ],
   "source": [
    "a = [1,2,3,4,5]\n",
    "# a[0:5]는?\n",
    "a[:5]"
   ]
  },
  {
   "cell_type": "markdown",
   "id": "f01ee365",
   "metadata": {},
   "source": [
    "## 4. 튜플 연산"
   ]
  },
  {
   "cell_type": "code",
   "execution_count": 4,
   "id": "af29d311",
   "metadata": {},
   "outputs": [
    {
     "data": {
      "text/plain": [
       "4"
      ]
     },
     "execution_count": 4,
     "metadata": {},
     "output_type": "execute_result"
    }
   ],
   "source": [
    "# 튜플에서 특정 값의 인덱스 구하기\n",
    "\n",
    "a = (1,2,'a', 'b', 3,4,5)\n",
    "a.index(3)"
   ]
  },
  {
   "cell_type": "code",
   "execution_count": 5,
   "id": "c58044d7",
   "metadata": {},
   "outputs": [
    {
     "data": {
      "text/plain": [
       "4"
      ]
     },
     "execution_count": 5,
     "metadata": {},
     "output_type": "execute_result"
    }
   ],
   "source": [
    "# 특정값의 개수 구하기\n",
    "\n",
    "a = (1,2,2,3,3,3,3,4)\n",
    "a.count(3)"
   ]
  },
  {
   "cell_type": "code",
   "execution_count": 6,
   "id": "eaa929b7",
   "metadata": {},
   "outputs": [
    {
     "data": {
      "text/plain": [
       "True"
      ]
     },
     "execution_count": 6,
     "metadata": {},
     "output_type": "execute_result"
    }
   ],
   "source": [
    "# 값이 있는지 확인하기\n",
    "\n",
    "a = (1,2,3)\n",
    "3 in a"
   ]
  },
  {
   "cell_type": "code",
   "execution_count": 7,
   "id": "47b2855e",
   "metadata": {},
   "outputs": [
    {
     "name": "stdout",
     "output_type": "stream",
     "text": [
      "3 2 45 5 4 "
     ]
    }
   ],
   "source": [
    "a = (3,2,45,5,4)\n",
    "for i in a:\n",
    "    print(i, end =' ')"
   ]
  },
  {
   "cell_type": "markdown",
   "id": "fdbba880",
   "metadata": {},
   "source": [
    "## 5. zip 사용하기 "
   ]
  },
  {
   "cell_type": "code",
   "execution_count": 8,
   "id": "5e4f2dd2",
   "metadata": {},
   "outputs": [
    {
     "name": "stdout",
     "output_type": "stream",
     "text": [
      "('SN1111', 'COT')\n",
      "('SN1112', 'COT')\n",
      "('SN1113', 'CNT')\n"
     ]
    }
   ],
   "source": [
    "A = ['SN1111', 'SN1112', 'SN1113']\n",
    "B = ['COT', 'COT', 'CNT']\n",
    "\n",
    "for item in zip(A,B):\n",
    "    print(item)"
   ]
  },
  {
   "cell_type": "code",
   "execution_count": null,
   "id": "ea9f3d07",
   "metadata": {},
   "outputs": [],
   "source": []
  },
  {
   "cell_type": "code",
   "execution_count": 9,
   "id": "a83cd5b8",
   "metadata": {},
   "outputs": [
    {
     "data": {
      "text/plain": [
       "['SN1111', 'SN1112', 'SN1113']"
      ]
     },
     "execution_count": 9,
     "metadata": {},
     "output_type": "execute_result"
    }
   ],
   "source": [
    "A"
   ]
  },
  {
   "cell_type": "code",
   "execution_count": 10,
   "id": "becf393c",
   "metadata": {},
   "outputs": [
    {
     "data": {
      "text/plain": [
       "['COT', 'COT', 'CNT']"
      ]
     },
     "execution_count": 10,
     "metadata": {},
     "output_type": "execute_result"
    }
   ],
   "source": [
    "B"
   ]
  },
  {
   "cell_type": "code",
   "execution_count": 11,
   "id": "0f630a25",
   "metadata": {},
   "outputs": [
    {
     "name": "stdout",
     "output_type": "stream",
     "text": [
      "SN1111 COT\n",
      "SN1112 COT\n",
      "SN1113 CNT\n"
     ]
    }
   ],
   "source": [
    "for sn, shiptype in zip(A,B):\n",
    "    print(sn, shiptype)"
   ]
  },
  {
   "cell_type": "code",
   "execution_count": 12,
   "id": "fd0d2267",
   "metadata": {},
   "outputs": [],
   "source": [
    "x=['SN1111', 'COT']"
   ]
  },
  {
   "cell_type": "code",
   "execution_count": 13,
   "id": "313e2f49",
   "metadata": {},
   "outputs": [],
   "source": [
    "x1, x2 = x"
   ]
  },
  {
   "cell_type": "code",
   "execution_count": 14,
   "id": "41f68f04",
   "metadata": {},
   "outputs": [
    {
     "data": {
      "text/plain": [
       "'SN1111'"
      ]
     },
     "execution_count": 14,
     "metadata": {},
     "output_type": "execute_result"
    }
   ],
   "source": [
    "x1"
   ]
  },
  {
   "cell_type": "code",
   "execution_count": 15,
   "id": "1de12817",
   "metadata": {},
   "outputs": [
    {
     "data": {
      "text/plain": [
       "'COT'"
      ]
     },
     "execution_count": 15,
     "metadata": {},
     "output_type": "execute_result"
    }
   ],
   "source": [
    "x2"
   ]
  },
  {
   "cell_type": "code",
   "execution_count": 16,
   "id": "946d6a81",
   "metadata": {},
   "outputs": [
    {
     "data": {
      "text/plain": [
       "'SN1111'"
      ]
     },
     "execution_count": 16,
     "metadata": {},
     "output_type": "execute_result"
    }
   ],
   "source": [
    "#tuple은 update가 안됨\n",
    "A = ['SN1111', 'SN1112', 'SN1113']\n",
    "A[0]"
   ]
  },
  {
   "cell_type": "code",
   "execution_count": 17,
   "id": "2d26e2e1",
   "metadata": {},
   "outputs": [],
   "source": [
    "A[0]='TEST'"
   ]
  },
  {
   "cell_type": "code",
   "execution_count": 18,
   "id": "7f4780da",
   "metadata": {},
   "outputs": [
    {
     "data": {
      "text/plain": [
       "['TEST', 'SN1112', 'SN1113']"
      ]
     },
     "execution_count": 18,
     "metadata": {},
     "output_type": "execute_result"
    }
   ],
   "source": [
    "A"
   ]
  }
 ],
 "metadata": {
  "kernelspec": {
   "display_name": "Python 3 (ipykernel)",
   "language": "python",
   "name": "python3"
  },
  "language_info": {
   "codemirror_mode": {
    "name": "ipython",
    "version": 3
   },
   "file_extension": ".py",
   "mimetype": "text/x-python",
   "name": "python",
   "nbconvert_exporter": "python",
   "pygments_lexer": "ipython3",
   "version": "3.10.8"
  }
 },
 "nbformat": 4,
 "nbformat_minor": 5
}
