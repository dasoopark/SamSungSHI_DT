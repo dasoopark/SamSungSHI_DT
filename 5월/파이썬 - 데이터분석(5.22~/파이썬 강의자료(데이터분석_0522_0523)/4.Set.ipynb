{
 "cells": [
  {
   "cell_type": "markdown",
   "id": "d0a793d4",
   "metadata": {},
   "source": [
    "# 집합 자료형\n",
    "파이썬에서 집합은 set이라는 키워드를 이용하여 생성한다. set로 자료를 만들면 중복된 자료들은 제거하고, 중복되지 않은 자료들만 유지해 준다. set은 집합에 관련된 연산을 쉽게 처리하며 어떤 값이 있는지 확인하기 위해 해쉬테이블 인덱스를 활용하기 때문에 리스트에 비해 빠른 속도로 값을 찾아준다."
   ]
  },
  {
   "cell_type": "code",
   "execution_count": 1,
   "id": "ed8629e5",
   "metadata": {},
   "outputs": [
    {
     "data": {
      "text/plain": [
       "{'김', '박', '이'}"
      ]
     },
     "execution_count": 1,
     "metadata": {},
     "output_type": "execute_result"
    }
   ],
   "source": [
    "names =(set((\"김\",\"김\",\"이\",\"이\",\"이\",\"박\")))\n",
    "names"
   ]
  },
  {
   "cell_type": "markdown",
   "id": "f6d4cfcb",
   "metadata": {},
   "source": [
    "## 1. set 생성"
   ]
  },
  {
   "cell_type": "code",
   "execution_count": 2,
   "id": "f9cbb1a9",
   "metadata": {},
   "outputs": [
    {
     "data": {
      "text/plain": [
       "1"
      ]
     },
     "execution_count": 2,
     "metadata": {},
     "output_type": "execute_result"
    }
   ],
   "source": [
    "a = set([1,2,3,2,3])\n",
    "a = list({1,2,3})\n",
    "a[0]"
   ]
  },
  {
   "cell_type": "code",
   "execution_count": 3,
   "id": "dc285502",
   "metadata": {},
   "outputs": [],
   "source": [
    "#빈 set 생성은 다음과 같이 할수도 있다.\n",
    "\n",
    "a = set()"
   ]
  },
  {
   "cell_type": "markdown",
   "id": "ffd45ac7",
   "metadata": {},
   "source": [
    "## 2. set 인덱스"
   ]
  },
  {
   "cell_type": "code",
   "execution_count": 4,
   "id": "6bd486aa",
   "metadata": {},
   "outputs": [
    {
     "data": {
      "text/plain": [
       "1"
      ]
     },
     "execution_count": 4,
     "metadata": {},
     "output_type": "execute_result"
    }
   ],
   "source": [
    "# set는 인덱싱(인덱스를 만드는 것)이 되지 않는다. 그래서 list나 tuple로 변경해서 접근해야 한다.\n",
    "a = set([1,2,3])\n",
    "a = list(a)\n",
    "a[0]"
   ]
  },
  {
   "cell_type": "markdown",
   "id": "03863107",
   "metadata": {},
   "source": [
    "## 3. set 연산"
   ]
  },
  {
   "cell_type": "code",
   "execution_count": 5,
   "id": "0274c953",
   "metadata": {},
   "outputs": [
    {
     "data": {
      "text/plain": [
       "{4, 5, 6}"
      ]
     },
     "execution_count": 5,
     "metadata": {},
     "output_type": "execute_result"
    }
   ],
   "source": [
    "# 교집합\n",
    "s1 = set([1,2,3,4,5,6])\n",
    "s2 = set([4,5,6,7,8,9])\n",
    "s1.intersection(s2) "
   ]
  },
  {
   "cell_type": "code",
   "execution_count": 6,
   "id": "1f5b3719",
   "metadata": {},
   "outputs": [
    {
     "data": {
      "text/plain": [
       "{4, 5, 6}"
      ]
     },
     "execution_count": 6,
     "metadata": {},
     "output_type": "execute_result"
    }
   ],
   "source": [
    "s1 & s2 "
   ]
  },
  {
   "cell_type": "code",
   "execution_count": 7,
   "id": "5933b06c",
   "metadata": {},
   "outputs": [
    {
     "data": {
      "text/plain": [
       "{1, 2, 3, 4, 5, 6, 7, 8, 9}"
      ]
     },
     "execution_count": 7,
     "metadata": {},
     "output_type": "execute_result"
    }
   ],
   "source": [
    "# 합집합\n",
    "s1 = set([1,2,3,4,5,6])\n",
    "s2 = set([4,5,6,7,8,9])\n",
    "s1.union(s2) \n",
    "s1 | s2"
   ]
  },
  {
   "cell_type": "code",
   "execution_count": 8,
   "id": "d59feebb",
   "metadata": {},
   "outputs": [
    {
     "data": {
      "text/plain": [
       "{1, 2, 3}"
      ]
     },
     "execution_count": 8,
     "metadata": {},
     "output_type": "execute_result"
    }
   ],
   "source": [
    "# 차집합\n",
    "s1 = set([1,2,3,4,5,6])\n",
    "s2 = set([4,5,6,7,8,9])\n",
    "s1.difference(s2) \n",
    "s1 - s2"
   ]
  },
  {
   "cell_type": "markdown",
   "id": "b2777cde",
   "metadata": {},
   "source": [
    "## 4. set 조작"
   ]
  },
  {
   "cell_type": "code",
   "execution_count": 9,
   "id": "4e6958ee",
   "metadata": {},
   "outputs": [
    {
     "data": {
      "text/plain": [
       "True"
      ]
     },
     "execution_count": 9,
     "metadata": {},
     "output_type": "execute_result"
    }
   ],
   "source": [
    "# set 검색\n",
    "a = {1,2,3}\n",
    "2 in a"
   ]
  },
  {
   "cell_type": "code",
   "execution_count": 10,
   "id": "7069f1d6",
   "metadata": {},
   "outputs": [
    {
     "data": {
      "text/plain": [
       "{1, 3, 4, 5}"
      ]
     },
     "execution_count": 10,
     "metadata": {},
     "output_type": "execute_result"
    }
   ],
   "source": [
    "# set 요소 삭제\n",
    "a = set([1,2,3,4,5])\n",
    "a.remove(2)\n",
    "a"
   ]
  },
  {
   "cell_type": "code",
   "execution_count": 11,
   "id": "6af406b5",
   "metadata": {},
   "outputs": [
    {
     "data": {
      "text/plain": [
       "{1, 2, 3, 4, 5, 6}"
      ]
     },
     "execution_count": 11,
     "metadata": {},
     "output_type": "execute_result"
    }
   ],
   "source": [
    "#set 요소 추가\n",
    "a = {1,2,3,4,5}\n",
    "a.add(6)\n",
    "a"
   ]
  },
  {
   "cell_type": "code",
   "execution_count": 12,
   "id": "737c185d",
   "metadata": {},
   "outputs": [
    {
     "data": {
      "text/plain": [
       "{1, 2, 3, 4, 5, 6}"
      ]
     },
     "execution_count": 12,
     "metadata": {},
     "output_type": "execute_result"
    }
   ],
   "source": [
    "# set 여러요소 추가하기\n",
    "a = set([1,2,3])\n",
    "a.update([4,5,6])\n",
    "a"
   ]
  },
  {
   "cell_type": "code",
   "execution_count": 13,
   "id": "46f03f5a",
   "metadata": {},
   "outputs": [
    {
     "data": {
      "text/plain": [
       "{1, 3}"
      ]
     },
     "execution_count": 13,
     "metadata": {},
     "output_type": "execute_result"
    }
   ],
   "source": [
    "# set 특정값 제거하기\n",
    "s1 = set([1,2,3])\n",
    "s1.remove(2)\n",
    "s1"
   ]
  }
 ],
 "metadata": {
  "kernelspec": {
   "display_name": "Python 3 (ipykernel)",
   "language": "python",
   "name": "python3"
  },
  "language_info": {
   "codemirror_mode": {
    "name": "ipython",
    "version": 3
   },
   "file_extension": ".py",
   "mimetype": "text/x-python",
   "name": "python",
   "nbconvert_exporter": "python",
   "pygments_lexer": "ipython3",
   "version": "3.10.8"
  }
 },
 "nbformat": 4,
 "nbformat_minor": 5
}
