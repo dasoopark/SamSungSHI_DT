{
 "cells": [
  {
   "cell_type": "markdown",
   "id": "1bee7cdb",
   "metadata": {},
   "source": [
    "# 1. Numpy 구조\n",
    "\n",
    "Numpy 배열은 리스트와 유사하지만 배열의 규모가 커질수록 저장 및 처리에 효율적이다.\n",
    "데이터 과학 도구로 전체 생태계의 핵심을 이루고 있기도 하다"
   ]
  },
  {
   "cell_type": "markdown",
   "id": "d98264eb",
   "metadata": {},
   "source": [
    "## 1.1 배열 데이터 생성"
   ]
  },
  {
   "cell_type": "code",
   "execution_count": 8,
   "id": "51c1a0f6",
   "metadata": {},
   "outputs": [
    {
     "data": {
      "text/plain": [
       "dtype('int64')"
      ]
     },
     "execution_count": 8,
     "metadata": {},
     "output_type": "execute_result"
    }
   ],
   "source": [
    "# numpy 패키지의 nd array 사용하기\n",
    "import numpy as np\n",
    "arr= np.array([1,2,3,4,5])\n",
    "arr.dtype"
   ]
  },
  {
   "cell_type": "code",
   "execution_count": 9,
   "id": "3c94fe3f",
   "metadata": {},
   "outputs": [
    {
     "data": {
      "text/plain": [
       "4"
      ]
     },
     "execution_count": 9,
     "metadata": {},
     "output_type": "execute_result"
    }
   ],
   "source": [
    "arr[3]"
   ]
  },
  {
   "cell_type": "code",
   "execution_count": 10,
   "id": "edf2d8c1",
   "metadata": {},
   "outputs": [
    {
     "data": {
      "text/plain": [
       "array([1., 2., 3., 4.], dtype=float32)"
      ]
     },
     "execution_count": 10,
     "metadata": {},
     "output_type": "execute_result"
    }
   ],
   "source": [
    "#type을 사용해서 array 정의하기\n",
    "np.array([1,2,3,4], dtype='float32')"
   ]
  },
  {
   "cell_type": "code",
   "execution_count": 11,
   "id": "d509ad9a",
   "metadata": {},
   "outputs": [
    {
     "data": {
      "text/plain": [
       "array([[2, 3, 4],\n",
       "       [4, 5, 6],\n",
       "       [6, 7, 8]])"
      ]
     },
     "execution_count": 11,
     "metadata": {},
     "output_type": "execute_result"
    }
   ],
   "source": [
    "#리스트를 중첩하기\n",
    "np.array([range(i,i+3) for i in [2,4,6]])"
   ]
  },
  {
   "cell_type": "code",
   "execution_count": 12,
   "id": "1bd89b36",
   "metadata": {},
   "outputs": [],
   "source": [
    "#백터로 만들기\n",
    "v=np.zeros(10, dtype=int)"
   ]
  },
  {
   "cell_type": "code",
   "execution_count": 13,
   "id": "ed8dd041",
   "metadata": {},
   "outputs": [
    {
     "data": {
      "text/plain": [
       "array([[1, 1, 1, 1, 1],\n",
       "       [1, 1, 1, 1, 1],\n",
       "       [1, 1, 1, 1, 1]])"
      ]
     },
     "execution_count": 13,
     "metadata": {},
     "output_type": "execute_result"
    }
   ],
   "source": [
    "#행렬로 만들기\n",
    "np.ones((3,5), dtype=int)"
   ]
  },
  {
   "cell_type": "code",
   "execution_count": 14,
   "id": "0505b318",
   "metadata": {},
   "outputs": [
    {
     "data": {
      "text/plain": [
       "array([0.  , 0.25, 0.5 , 0.75, 1.  ])"
      ]
     },
     "execution_count": 14,
     "metadata": {},
     "output_type": "execute_result"
    }
   ],
   "source": [
    "#균일하게 쪼개서 만들기\n",
    "np.linspace(0,1,5)"
   ]
  },
  {
   "cell_type": "markdown",
   "id": "ba8d8132",
   "metadata": {},
   "source": [
    "## 1.2 Numpy 배열 속성"
   ]
  },
  {
   "cell_type": "code",
   "execution_count": 15,
   "id": "d21722ee",
   "metadata": {},
   "outputs": [],
   "source": [
    "# Numpy 배열의 속성 지정\n",
    "x1 = np.random.randint(10, size=6)       #1차원 배열\n",
    "x2 = np.random.randint(10, size=(3,4))   #2차원배열\n",
    "x3 = np.random.randint(10, size=(3,4,5)) #3차원배열"
   ]
  },
  {
   "cell_type": "code",
   "execution_count": 16,
   "id": "c2f9ef99",
   "metadata": {},
   "outputs": [
    {
     "data": {
      "text/plain": [
       "3"
      ]
     },
     "execution_count": 16,
     "metadata": {},
     "output_type": "execute_result"
    }
   ],
   "source": [
    "x3.ndim"
   ]
  },
  {
   "cell_type": "code",
   "execution_count": 17,
   "id": "e54a6120",
   "metadata": {},
   "outputs": [
    {
     "data": {
      "text/plain": [
       "(3, 4, 5)"
      ]
     },
     "execution_count": 17,
     "metadata": {},
     "output_type": "execute_result"
    }
   ],
   "source": [
    "x3.shape"
   ]
  },
  {
   "cell_type": "code",
   "execution_count": 18,
   "id": "156fda48",
   "metadata": {},
   "outputs": [
    {
     "data": {
      "text/plain": [
       "dtype('int64')"
      ]
     },
     "execution_count": 18,
     "metadata": {},
     "output_type": "execute_result"
    }
   ],
   "source": [
    "x3.dtype"
   ]
  },
  {
   "cell_type": "markdown",
   "id": "2ad1f5d6",
   "metadata": {},
   "source": [
    "## 1.3 인덱스"
   ]
  },
  {
   "cell_type": "code",
   "execution_count": 19,
   "id": "b52ebdbe",
   "metadata": {},
   "outputs": [
    {
     "data": {
      "text/plain": [
       "array([3, 7, 2, 6, 8, 3])"
      ]
     },
     "execution_count": 19,
     "metadata": {},
     "output_type": "execute_result"
    }
   ],
   "source": [
    "x1"
   ]
  },
  {
   "cell_type": "code",
   "execution_count": 20,
   "id": "05f607bd",
   "metadata": {},
   "outputs": [
    {
     "data": {
      "text/plain": [
       "3"
      ]
     },
     "execution_count": 20,
     "metadata": {},
     "output_type": "execute_result"
    }
   ],
   "source": [
    "x1[0]"
   ]
  },
  {
   "cell_type": "code",
   "execution_count": 21,
   "id": "c10458ef",
   "metadata": {},
   "outputs": [
    {
     "data": {
      "text/plain": [
       "array([[5, 8, 2, 9],\n",
       "       [8, 9, 5, 4],\n",
       "       [9, 2, 4, 8]])"
      ]
     },
     "execution_count": 21,
     "metadata": {},
     "output_type": "execute_result"
    }
   ],
   "source": [
    "x2"
   ]
  },
  {
   "cell_type": "code",
   "execution_count": 22,
   "id": "052c54d5",
   "metadata": {},
   "outputs": [
    {
     "data": {
      "text/plain": [
       "8"
      ]
     },
     "execution_count": 22,
     "metadata": {},
     "output_type": "execute_result"
    }
   ],
   "source": [
    "x2[1,0]"
   ]
  },
  {
   "cell_type": "code",
   "execution_count": 23,
   "id": "85674c18",
   "metadata": {},
   "outputs": [
    {
     "data": {
      "text/plain": [
       "5"
      ]
     },
     "execution_count": 23,
     "metadata": {},
     "output_type": "execute_result"
    }
   ],
   "source": [
    "x2[0][0]"
   ]
  },
  {
   "cell_type": "markdown",
   "id": "cb182a18",
   "metadata": {},
   "source": [
    "## 1.4 슬라이싱"
   ]
  },
  {
   "cell_type": "code",
   "execution_count": 24,
   "id": "426b38d6",
   "metadata": {},
   "outputs": [
    {
     "data": {
      "text/plain": [
       "array([0, 1, 2, 3, 4, 5])"
      ]
     },
     "execution_count": 24,
     "metadata": {},
     "output_type": "execute_result"
    }
   ],
   "source": [
    "x = np.arange(10)\n",
    "x[:6]"
   ]
  },
  {
   "cell_type": "markdown",
   "id": "30dfae73",
   "metadata": {},
   "source": [
    "## 1.5 재구조화"
   ]
  },
  {
   "cell_type": "code",
   "execution_count": 25,
   "id": "fd980f2e",
   "metadata": {},
   "outputs": [
    {
     "data": {
      "text/plain": [
       "array([[[2, 3, 6],\n",
       "        [8, 4, 2],\n",
       "        [2, 5, 7],\n",
       "        [3, 2, 6]],\n",
       "\n",
       "       [[9, 7, 9],\n",
       "        [3, 5, 0],\n",
       "        [6, 3, 6],\n",
       "        [8, 8, 4]]])"
      ]
     },
     "execution_count": 25,
     "metadata": {},
     "output_type": "execute_result"
    }
   ],
   "source": [
    "x = np.random.randint(10, size=(2,4,3))\n",
    "x"
   ]
  },
  {
   "cell_type": "code",
   "execution_count": 26,
   "id": "609f511d",
   "metadata": {},
   "outputs": [
    {
     "data": {
      "text/plain": [
       "array([[2, 3],\n",
       "       [6, 8],\n",
       "       [4, 2],\n",
       "       [2, 5],\n",
       "       [7, 3],\n",
       "       [2, 6],\n",
       "       [9, 7],\n",
       "       [9, 3],\n",
       "       [5, 0],\n",
       "       [6, 3],\n",
       "       [6, 8],\n",
       "       [8, 4]])"
      ]
     },
     "execution_count": 26,
     "metadata": {},
     "output_type": "execute_result"
    }
   ],
   "source": [
    "x.reshape(12,2)"
   ]
  },
  {
   "cell_type": "code",
   "execution_count": 27,
   "id": "9e32ed9f",
   "metadata": {},
   "outputs": [
    {
     "data": {
      "text/plain": [
       "array([[1, 2, 3],\n",
       "       [4, 5, 6],\n",
       "       [7, 8, 9]])"
      ]
     },
     "execution_count": 27,
     "metadata": {},
     "output_type": "execute_result"
    }
   ],
   "source": [
    "grid = np.arange(1,10).reshape(3,3)\n",
    "grid"
   ]
  },
  {
   "cell_type": "code",
   "execution_count": 28,
   "id": "9f133700",
   "metadata": {},
   "outputs": [
    {
     "name": "stdout",
     "output_type": "stream",
     "text": [
      "(3,)\n",
      "1\n"
     ]
    }
   ],
   "source": [
    "x = np.array([1,2,3])\n",
    "print(x.shape)\n",
    "print(x.ndim)"
   ]
  },
  {
   "cell_type": "code",
   "execution_count": 29,
   "id": "d849a849",
   "metadata": {},
   "outputs": [
    {
     "name": "stdout",
     "output_type": "stream",
     "text": [
      "(3, 1)\n",
      "2\n"
     ]
    },
    {
     "data": {
      "text/plain": [
       "array([[1],\n",
       "       [2],\n",
       "       [3]])"
      ]
     },
     "execution_count": 29,
     "metadata": {},
     "output_type": "execute_result"
    }
   ],
   "source": [
    "y=x[:,np.newaxis]\n",
    "print(y.shape)\n",
    "print(y.ndim)\n",
    "y"
   ]
  },
  {
   "cell_type": "code",
   "execution_count": 30,
   "id": "f82c802b",
   "metadata": {},
   "outputs": [
    {
     "data": {
      "text/plain": [
       "(3,)"
      ]
     },
     "execution_count": 30,
     "metadata": {},
     "output_type": "execute_result"
    }
   ],
   "source": [
    "x.shape"
   ]
  },
  {
   "cell_type": "code",
   "execution_count": 31,
   "id": "95ce825a",
   "metadata": {},
   "outputs": [
    {
     "data": {
      "text/plain": [
       "array([[1],\n",
       "       [2],\n",
       "       [3]])"
      ]
     },
     "execution_count": 31,
     "metadata": {},
     "output_type": "execute_result"
    }
   ],
   "source": [
    "x.reshape(3,1)"
   ]
  },
  {
   "cell_type": "markdown",
   "id": "eb962a9a",
   "metadata": {},
   "source": [
    "# 2. Numpy 배열 연산 \n",
    "* 엑셀처럼 연산을 하게 하면서도 속도가 굉장히 빠르다\n",
    "* numpy 연산의 핵심은 백터화!!\n",
    "* numpy의 universial function을 통해 구현된다.\n",
    "* 파이썬의 타입은 유연하다\n",
    "* 이 사실은 효율적인 머신 코드로 컴파일 될 수 없다는 의미\n",
    "* 연산을 할때마다 함수의 타입을 확인하고 그에 맞는 적절한 함수를 매칭하는데 많은 시간이 소요된다."
   ]
  },
  {
   "cell_type": "markdown",
   "id": "e7184e16",
   "metadata": {},
   "source": [
    "## 2.1 백터화 연산\n",
    "* 배열을 한번에 계산한다.\n",
    "* 속도가 빠른 장점이 있다."
   ]
  },
  {
   "cell_type": "code",
   "execution_count": 32,
   "id": "35701118",
   "metadata": {},
   "outputs": [
    {
     "data": {
      "text/plain": [
       "array([ 2,  2, 13, ..., 58, 56, 54])"
      ]
     },
     "execution_count": 32,
     "metadata": {},
     "output_type": "execute_result"
    }
   ],
   "source": [
    "big_array = np.random.randint(1,100, size=1000000)\n",
    "big_array"
   ]
  },
  {
   "cell_type": "code",
   "execution_count": 33,
   "id": "3062d11b",
   "metadata": {},
   "outputs": [],
   "source": [
    "big_list = list(big_array)"
   ]
  },
  {
   "cell_type": "code",
   "execution_count": 34,
   "id": "52bd1fda",
   "metadata": {},
   "outputs": [],
   "source": [
    "reciprocal = list()\n",
    "for item in big_list:\n",
    "    reciprocal.append(1/item)"
   ]
  },
  {
   "cell_type": "code",
   "execution_count": 35,
   "id": "c9cb058c",
   "metadata": {},
   "outputs": [
    {
     "data": {
      "text/plain": [
       "1000000"
      ]
     },
     "execution_count": 35,
     "metadata": {},
     "output_type": "execute_result"
    }
   ],
   "source": [
    "len(reciprocal)"
   ]
  },
  {
   "cell_type": "code",
   "execution_count": 36,
   "id": "f05e9c3a",
   "metadata": {},
   "outputs": [
    {
     "data": {
      "text/plain": [
       "array([0.5       , 0.5       , 0.07692308, ..., 0.01724138, 0.01785714,\n",
       "       0.01851852])"
      ]
     },
     "execution_count": 36,
     "metadata": {},
     "output_type": "execute_result"
    }
   ],
   "source": [
    "1/big_array"
   ]
  },
  {
   "cell_type": "code",
   "execution_count": 37,
   "id": "3eb8a0ef",
   "metadata": {},
   "outputs": [
    {
     "data": {
      "text/plain": [
       "[2,\n",
       " 2,\n",
       " 13,\n",
       " 18,\n",
       " 71,\n",
       " 76,\n",
       " 18,\n",
       " 32,\n",
       " 53,\n",
       " 77,\n",
       " 65,\n",
       " 57,\n",
       " 99,\n",
       " 66,\n",
       " 91,\n",
       " 62,\n",
       " 39,\n",
       " 65,\n",
       " 41,\n",
       " 67,\n",
       " 71,\n",
       " 2,\n",
       " 62,\n",
       " 69,\n",
       " 65,\n",
       " 32,\n",
       " 39,\n",
       " 84,\n",
       " 57,\n",
       " 67,\n",
       " 73,\n",
       " 74,\n",
       " 15,\n",
       " 20,\n",
       " 99,\n",
       " 89,\n",
       " 80,\n",
       " 8,\n",
       " 39,\n",
       " 8,\n",
       " 27,\n",
       " 33,\n",
       " 43,\n",
       " 71,\n",
       " 58,\n",
       " 74,\n",
       " 26,\n",
       " 76,\n",
       " 24,\n",
       " 70,\n",
       " 36,\n",
       " 31,\n",
       " 25,\n",
       " 64,\n",
       " 69,\n",
       " 49,\n",
       " 25,\n",
       " 11,\n",
       " 8,\n",
       " 94,\n",
       " 13,\n",
       " 56,\n",
       " 26,\n",
       " 29,\n",
       " 75,\n",
       " 41,\n",
       " 57,\n",
       " 31,\n",
       " 26,\n",
       " 90,\n",
       " 50,\n",
       " 93,\n",
       " 11,\n",
       " 36,\n",
       " 84,\n",
       " 66,\n",
       " 44,\n",
       " 80,\n",
       " 8,\n",
       " 37,\n",
       " 20,\n",
       " 25,\n",
       " 64,\n",
       " 31,\n",
       " 97,\n",
       " 51,\n",
       " 31,\n",
       " 78,\n",
       " 88,\n",
       " 68,\n",
       " 16,\n",
       " 49,\n",
       " 95,\n",
       " 91,\n",
       " 9,\n",
       " 38,\n",
       " 16,\n",
       " 28,\n",
       " 36,\n",
       " 22,\n",
       " 10,\n",
       " 55,\n",
       " 75,\n",
       " 76,\n",
       " 88,\n",
       " 80,\n",
       " 86,\n",
       " 92,\n",
       " 58,\n",
       " 80,\n",
       " 75,\n",
       " 77,\n",
       " 15,\n",
       " 3,\n",
       " 90,\n",
       " 79,\n",
       " 6,\n",
       " 89,\n",
       " 68,\n",
       " 33,\n",
       " 93,\n",
       " 96,\n",
       " 98,\n",
       " 24,\n",
       " 69,\n",
       " 38,\n",
       " 68,\n",
       " 58,\n",
       " 73,\n",
       " 87,\n",
       " 59,\n",
       " 28,\n",
       " 88,\n",
       " 93,\n",
       " 38,\n",
       " 14,\n",
       " 29,\n",
       " 22,\n",
       " 91,\n",
       " 75,\n",
       " 20,\n",
       " 10,\n",
       " 20,\n",
       " 84,\n",
       " 70,\n",
       " 30,\n",
       " 99,\n",
       " 75,\n",
       " 51,\n",
       " 88,\n",
       " 14,\n",
       " 44,\n",
       " 7,\n",
       " 88,\n",
       " 90,\n",
       " 15,\n",
       " 2,\n",
       " 69,\n",
       " 68,\n",
       " 11,\n",
       " 69,\n",
       " 12,\n",
       " 81,\n",
       " 80,\n",
       " 27,\n",
       " 6,\n",
       " 60,\n",
       " 6,\n",
       " 77,\n",
       " 94,\n",
       " 39,\n",
       " 97,\n",
       " 66,\n",
       " 80,\n",
       " 47,\n",
       " 55,\n",
       " 12,\n",
       " 8,\n",
       " 46,\n",
       " 81,\n",
       " 59,\n",
       " 99,\n",
       " 47,\n",
       " 62,\n",
       " 49,\n",
       " 59,\n",
       " 52,\n",
       " 91,\n",
       " 14,\n",
       " 56,\n",
       " 45,\n",
       " 77,\n",
       " 95,\n",
       " 10,\n",
       " 80,\n",
       " 30,\n",
       " 78,\n",
       " 5,\n",
       " 39,\n",
       " 32,\n",
       " 1,\n",
       " 54,\n",
       " 10,\n",
       " 41,\n",
       " 35,\n",
       " 57,\n",
       " 35,\n",
       " 93,\n",
       " 87,\n",
       " 56,\n",
       " 36,\n",
       " 50,\n",
       " 3,\n",
       " 71,\n",
       " 76,\n",
       " 52,\n",
       " 55,\n",
       " 19,\n",
       " 80,\n",
       " 19,\n",
       " 82,\n",
       " 37,\n",
       " 18,\n",
       " 4,\n",
       " 62,\n",
       " 67,\n",
       " 48,\n",
       " 71,\n",
       " 90,\n",
       " 49,\n",
       " 5,\n",
       " 7,\n",
       " 49,\n",
       " 53,\n",
       " 96,\n",
       " 88,\n",
       " 44,\n",
       " 37,\n",
       " 48,\n",
       " 94,\n",
       " 83,\n",
       " 45,\n",
       " 10,\n",
       " 56,\n",
       " 68,\n",
       " 68,\n",
       " 97,\n",
       " 12,\n",
       " 86,\n",
       " 28,\n",
       " 78,\n",
       " 48,\n",
       " 82,\n",
       " 26,\n",
       " 94,\n",
       " 81,\n",
       " 53,\n",
       " 28,\n",
       " 18,\n",
       " 24,\n",
       " 42,\n",
       " 39,\n",
       " 53,\n",
       " 42,\n",
       " 99,\n",
       " 57,\n",
       " 18,\n",
       " 85,\n",
       " 55,\n",
       " 3,\n",
       " 83,\n",
       " 23,\n",
       " 39,\n",
       " 86,\n",
       " 79,\n",
       " 74,\n",
       " 37,\n",
       " 16,\n",
       " 64,\n",
       " 71,\n",
       " 83,\n",
       " 78,\n",
       " 40,\n",
       " 58,\n",
       " 86,\n",
       " 92,\n",
       " 11,\n",
       " 99,\n",
       " 33,\n",
       " 2,\n",
       " 40,\n",
       " 90,\n",
       " 11,\n",
       " 47,\n",
       " 9,\n",
       " 42,\n",
       " 84,\n",
       " 82,\n",
       " 59,\n",
       " 52,\n",
       " 27,\n",
       " 63,\n",
       " 71,\n",
       " 89,\n",
       " 66,\n",
       " 45,\n",
       " 47,\n",
       " 49,\n",
       " 99,\n",
       " 33,\n",
       " 98,\n",
       " 23,\n",
       " 29,\n",
       " 12,\n",
       " 10,\n",
       " 95,\n",
       " 23,\n",
       " 81,\n",
       " 39,\n",
       " 76,\n",
       " 47,\n",
       " 95,\n",
       " 99,\n",
       " 43,\n",
       " 76,\n",
       " 57,\n",
       " 87,\n",
       " 1,\n",
       " 70,\n",
       " 70,\n",
       " 92,\n",
       " 85,\n",
       " 28,\n",
       " 24,\n",
       " 48,\n",
       " 56,\n",
       " 91,\n",
       " 25,\n",
       " 21,\n",
       " 80,\n",
       " 46,\n",
       " 41,\n",
       " 90,\n",
       " 41,\n",
       " 96,\n",
       " 82,\n",
       " 60,\n",
       " 16,\n",
       " 22,\n",
       " 8,\n",
       " 15,\n",
       " 13,\n",
       " 96,\n",
       " 6,\n",
       " 60,\n",
       " 75,\n",
       " 93,\n",
       " 3,\n",
       " 35,\n",
       " 64,\n",
       " 94,\n",
       " 41,\n",
       " 1,\n",
       " 75,\n",
       " 16,\n",
       " 34,\n",
       " 26,\n",
       " 91,\n",
       " 56,\n",
       " 64,\n",
       " 46,\n",
       " 82,\n",
       " 35,\n",
       " 56,\n",
       " 19,\n",
       " 69,\n",
       " 3,\n",
       " 70,\n",
       " 97,\n",
       " 14,\n",
       " 74,\n",
       " 60,\n",
       " 17,\n",
       " 77,\n",
       " 45,\n",
       " 52,\n",
       " 51,\n",
       " 87,\n",
       " 9,\n",
       " 64,\n",
       " 24,\n",
       " 17,\n",
       " 8,\n",
       " 30,\n",
       " 98,\n",
       " 76,\n",
       " 70,\n",
       " 13,\n",
       " 91,\n",
       " 77,\n",
       " 20,\n",
       " 80,\n",
       " 93,\n",
       " 64,\n",
       " 31,\n",
       " 37,\n",
       " 21,\n",
       " 96,\n",
       " 69,\n",
       " 32,\n",
       " 93,\n",
       " 95,\n",
       " 57,\n",
       " 80,\n",
       " 17,\n",
       " 24,\n",
       " 67,\n",
       " 91,\n",
       " 20,\n",
       " 47,\n",
       " 32,\n",
       " 26,\n",
       " 56,\n",
       " 50,\n",
       " 42,\n",
       " 40,\n",
       " 2,\n",
       " 54,\n",
       " 96,\n",
       " 43,\n",
       " 41,\n",
       " 5,\n",
       " 39,\n",
       " 48,\n",
       " 78,\n",
       " 38,\n",
       " 80,\n",
       " 47,\n",
       " 18,\n",
       " 75,\n",
       " 26,\n",
       " 61,\n",
       " 28,\n",
       " 80,\n",
       " 77,\n",
       " 7,\n",
       " 21,\n",
       " 46,\n",
       " 94,\n",
       " 47,\n",
       " 8,\n",
       " 42,\n",
       " 78,\n",
       " 20,\n",
       " 44,\n",
       " 79,\n",
       " 79,\n",
       " 76,\n",
       " 50,\n",
       " 96,\n",
       " 19,\n",
       " 75,\n",
       " 84,\n",
       " 8,\n",
       " 98,\n",
       " 57,\n",
       " 13,\n",
       " 80,\n",
       " 62,\n",
       " 34,\n",
       " 92,\n",
       " 65,\n",
       " 33,\n",
       " 95,\n",
       " 24,\n",
       " 44,\n",
       " 59,\n",
       " 78,\n",
       " 4,\n",
       " 1,\n",
       " 95,\n",
       " 32,\n",
       " 63,\n",
       " 75,\n",
       " 56,\n",
       " 20,\n",
       " 56,\n",
       " 39,\n",
       " 23,\n",
       " 79,\n",
       " 52,\n",
       " 45,\n",
       " 80,\n",
       " 78,\n",
       " 58,\n",
       " 77,\n",
       " 39,\n",
       " 60,\n",
       " 80,\n",
       " 80,\n",
       " 51,\n",
       " 36,\n",
       " 76,\n",
       " 84,\n",
       " 98,\n",
       " 5,\n",
       " 18,\n",
       " 21,\n",
       " 92,\n",
       " 10,\n",
       " 75,\n",
       " 8,\n",
       " 28,\n",
       " 48,\n",
       " 4,\n",
       " 87,\n",
       " 10,\n",
       " 84,\n",
       " 2,\n",
       " 63,\n",
       " 65,\n",
       " 60,\n",
       " 38,\n",
       " 9,\n",
       " 29,\n",
       " 3,\n",
       " 42,\n",
       " 52,\n",
       " 57,\n",
       " 64,\n",
       " 95,\n",
       " 21,\n",
       " 88,\n",
       " 10,\n",
       " 17,\n",
       " 11,\n",
       " 69,\n",
       " 34,\n",
       " 27,\n",
       " 78,\n",
       " 18,\n",
       " 36,\n",
       " 20,\n",
       " 74,\n",
       " 91,\n",
       " 72,\n",
       " 52,\n",
       " 94,\n",
       " 11,\n",
       " 71,\n",
       " 40,\n",
       " 2,\n",
       " 45,\n",
       " 23,\n",
       " 28,\n",
       " 12,\n",
       " 47,\n",
       " 56,\n",
       " 81,\n",
       " 32,\n",
       " 20,\n",
       " 13,\n",
       " 21,\n",
       " 17,\n",
       " 21,\n",
       " 6,\n",
       " 44,\n",
       " 22,\n",
       " 79,\n",
       " 86,\n",
       " 11,\n",
       " 40,\n",
       " 62,\n",
       " 48,\n",
       " 29,\n",
       " 85,\n",
       " 6,\n",
       " 25,\n",
       " 53,\n",
       " 47,\n",
       " 54,\n",
       " 98,\n",
       " 77,\n",
       " 65,\n",
       " 19,\n",
       " 45,\n",
       " 83,\n",
       " 35,\n",
       " 24,\n",
       " 55,\n",
       " 47,\n",
       " 76,\n",
       " 36,\n",
       " 2,\n",
       " 17,\n",
       " 26,\n",
       " 57,\n",
       " 74,\n",
       " 52,\n",
       " 26,\n",
       " 66,\n",
       " 16,\n",
       " 89,\n",
       " 61,\n",
       " 65,\n",
       " 60,\n",
       " 39,\n",
       " 51,\n",
       " 95,\n",
       " 33,\n",
       " 54,\n",
       " 16,\n",
       " 37,\n",
       " 72,\n",
       " 66,\n",
       " 67,\n",
       " 38,\n",
       " 87,\n",
       " 89,\n",
       " 80,\n",
       " 89,\n",
       " 70,\n",
       " 29,\n",
       " 22,\n",
       " 7,\n",
       " 5,\n",
       " 24,\n",
       " 19,\n",
       " 62,\n",
       " 97,\n",
       " 76,\n",
       " 39,\n",
       " 38,\n",
       " 6,\n",
       " 61,\n",
       " 40,\n",
       " 44,\n",
       " 21,\n",
       " 94,\n",
       " 8,\n",
       " 25,\n",
       " 6,\n",
       " 90,\n",
       " 83,\n",
       " 45,\n",
       " 24,\n",
       " 7,\n",
       " 36,\n",
       " 10,\n",
       " 10,\n",
       " 59,\n",
       " 63,\n",
       " 76,\n",
       " 60,\n",
       " 80,\n",
       " 68,\n",
       " 15,\n",
       " 67,\n",
       " 14,\n",
       " 49,\n",
       " 99,\n",
       " 27,\n",
       " 39,\n",
       " 24,\n",
       " 51,\n",
       " 27,\n",
       " 26,\n",
       " 64,\n",
       " 47,\n",
       " 36,\n",
       " 31,\n",
       " 83,\n",
       " 15,\n",
       " 22,\n",
       " 24,\n",
       " 24,\n",
       " 73,\n",
       " 68,\n",
       " 36,\n",
       " 46,\n",
       " 4,\n",
       " 62,\n",
       " 70,\n",
       " 89,\n",
       " 96,\n",
       " 19,\n",
       " 98,\n",
       " 82,\n",
       " 90,\n",
       " 8,\n",
       " 29,\n",
       " 84,\n",
       " 1,\n",
       " 60,\n",
       " 16,\n",
       " 43,\n",
       " 89,\n",
       " 33,\n",
       " 38,\n",
       " 74,\n",
       " 13,\n",
       " 20,\n",
       " 55,\n",
       " 73,\n",
       " 25,\n",
       " 94,\n",
       " 14,\n",
       " 99,\n",
       " 42,\n",
       " 78,\n",
       " 79,\n",
       " 41,\n",
       " 58,\n",
       " 57,\n",
       " 26,\n",
       " 26,\n",
       " 78,\n",
       " 11,\n",
       " 42,\n",
       " 23,\n",
       " 2,\n",
       " 10,\n",
       " 67,\n",
       " 92,\n",
       " 71,\n",
       " 58,\n",
       " 18,\n",
       " 10,\n",
       " 50,\n",
       " 34,\n",
       " 75,\n",
       " 40,\n",
       " 90,\n",
       " 99,\n",
       " 2,\n",
       " 40,\n",
       " 24,\n",
       " 71,\n",
       " 59,\n",
       " 14,\n",
       " 42,\n",
       " 39,\n",
       " 20,\n",
       " 71,\n",
       " 76,\n",
       " 58,\n",
       " 48,\n",
       " 49,\n",
       " 19,\n",
       " 39,\n",
       " 14,\n",
       " 62,\n",
       " 21,\n",
       " 46,\n",
       " 34,\n",
       " 67,\n",
       " 52,\n",
       " 11,\n",
       " 73,\n",
       " 89,\n",
       " 7,\n",
       " 25,\n",
       " 20,\n",
       " 2,\n",
       " 55,\n",
       " 25,\n",
       " 95,\n",
       " 85,\n",
       " 62,\n",
       " 62,\n",
       " 77,\n",
       " 97,\n",
       " 9,\n",
       " 14,\n",
       " 97,\n",
       " 79,\n",
       " 39,\n",
       " 93,\n",
       " 84,\n",
       " 15,\n",
       " 4,\n",
       " 19,\n",
       " 2,\n",
       " 52,\n",
       " 10,\n",
       " 91,\n",
       " 79,\n",
       " 9,\n",
       " 69,\n",
       " 89,\n",
       " 52,\n",
       " 78,\n",
       " 62,\n",
       " 68,\n",
       " 7,\n",
       " 8,\n",
       " 6,\n",
       " 16,\n",
       " 36,\n",
       " 13,\n",
       " 9,\n",
       " 63,\n",
       " 39,\n",
       " 73,\n",
       " 53,\n",
       " 69,\n",
       " 96,\n",
       " 80,\n",
       " 44,\n",
       " 71,\n",
       " 34,\n",
       " 14,\n",
       " 70,\n",
       " 80,\n",
       " 24,\n",
       " 65,\n",
       " 42,\n",
       " 46,\n",
       " 62,\n",
       " 32,\n",
       " 54,\n",
       " 73,\n",
       " 98,\n",
       " 23,\n",
       " 3,\n",
       " 70,\n",
       " 85,\n",
       " 24,\n",
       " 33,\n",
       " 63,\n",
       " 80,\n",
       " 70,\n",
       " 9,\n",
       " 78,\n",
       " 89,\n",
       " 50,\n",
       " 52,\n",
       " 26,\n",
       " 97,\n",
       " 85,\n",
       " 31,\n",
       " 67,\n",
       " 49,\n",
       " 68,\n",
       " 44,\n",
       " 22,\n",
       " 20,\n",
       " 54,\n",
       " 94,\n",
       " 62,\n",
       " 65,\n",
       " 92,\n",
       " 65,\n",
       " 11,\n",
       " 95,\n",
       " 95,\n",
       " 21,\n",
       " 78,\n",
       " 58,\n",
       " 87,\n",
       " 91,\n",
       " 46,\n",
       " 26,\n",
       " 59,\n",
       " 32,\n",
       " 33,\n",
       " 38,\n",
       " 96,\n",
       " 95,\n",
       " 74,\n",
       " 73,\n",
       " 75,\n",
       " 49,\n",
       " 71,\n",
       " 9,\n",
       " 44,\n",
       " 9,\n",
       " 87,\n",
       " 48,\n",
       " 4,\n",
       " 56,\n",
       " 5,\n",
       " 26,\n",
       " 98,\n",
       " 97,\n",
       " 91,\n",
       " 41,\n",
       " 30,\n",
       " 10,\n",
       " 29,\n",
       " 39,\n",
       " 27,\n",
       " 24,\n",
       " 81,\n",
       " 79,\n",
       " 93,\n",
       " 14,\n",
       " 71,\n",
       " 95,\n",
       " 51,\n",
       " 45,\n",
       " 69,\n",
       " 75,\n",
       " 21,\n",
       " 6,\n",
       " 89,\n",
       " 72,\n",
       " 29,\n",
       " 31,\n",
       " 51,\n",
       " 53,\n",
       " 51,\n",
       " 58,\n",
       " 92,\n",
       " 79,\n",
       " 47,\n",
       " 30,\n",
       " 31,\n",
       " 37,\n",
       " 46,\n",
       " 38,\n",
       " 56,\n",
       " 52,\n",
       " 70,\n",
       " 16,\n",
       " 98,\n",
       " 3,\n",
       " 7,\n",
       " 76,\n",
       " 51,\n",
       " 29,\n",
       " 58,\n",
       " 53,\n",
       " 40,\n",
       " 70,\n",
       " 34,\n",
       " 45,\n",
       " 65,\n",
       " 80,\n",
       " 64,\n",
       " 87,\n",
       " 92,\n",
       " 69,\n",
       " 58,\n",
       " 67,\n",
       " 90,\n",
       " 39,\n",
       " 21,\n",
       " 27,\n",
       " 77,\n",
       " 27,\n",
       " 53,\n",
       " 18,\n",
       " 38,\n",
       " 68,\n",
       " 91,\n",
       " 92,\n",
       " 65,\n",
       " 1,\n",
       " 95,\n",
       " 47,\n",
       " 23,\n",
       " 73,\n",
       " 14,\n",
       " 60,\n",
       " 39,\n",
       " 69,\n",
       " 33,\n",
       " 73,\n",
       " 38,\n",
       " 88,\n",
       " 39,\n",
       " 88,\n",
       " 44,\n",
       " 3,\n",
       " 25,\n",
       " 91,\n",
       " 29,\n",
       " 23,\n",
       " 48,\n",
       " 74,\n",
       " 94,\n",
       " 44,\n",
       " 71,\n",
       " 25,\n",
       " 66,\n",
       " 31,\n",
       " 50,\n",
       " 26,\n",
       " 28,\n",
       " 88,\n",
       " 58,\n",
       " 49,\n",
       " 34,\n",
       " 53,\n",
       " 46,\n",
       " 3,\n",
       " 67,\n",
       " 76,\n",
       " 33,\n",
       " ...]"
      ]
     },
     "execution_count": 37,
     "metadata": {},
     "output_type": "execute_result"
    }
   ],
   "source": [
    "#리스트에서는 제공하지 않는 연산이다.\n",
    "big_list=list(big_array)\n",
    "big_list"
   ]
  },
  {
   "cell_type": "code",
   "execution_count": 38,
   "id": "577df059",
   "metadata": {},
   "outputs": [
    {
     "data": {
      "text/plain": [
       "array([[0, 1, 2],\n",
       "       [3, 4, 5],\n",
       "       [6, 7, 8]])"
      ]
     },
     "execution_count": 38,
     "metadata": {},
     "output_type": "execute_result"
    }
   ],
   "source": [
    "# 다차원 배열에서도 백터화 연산이 동작한다.\n",
    "x=np.arange(9).reshape((3,3))\n",
    "x"
   ]
  },
  {
   "cell_type": "code",
   "execution_count": 39,
   "id": "173d8bc8",
   "metadata": {},
   "outputs": [
    {
     "data": {
      "text/plain": [
       "array([[  1,   2,   4],\n",
       "       [  8,  16,  32],\n",
       "       [ 64, 128, 256]])"
      ]
     },
     "execution_count": 39,
     "metadata": {},
     "output_type": "execute_result"
    }
   ],
   "source": [
    "2**x"
   ]
  },
  {
   "cell_type": "code",
   "execution_count": 40,
   "id": "f63899a2",
   "metadata": {},
   "outputs": [
    {
     "data": {
      "text/plain": [
       "array([0.        , 1.57079633, 3.14159265])"
      ]
     },
     "execution_count": 40,
     "metadata": {},
     "output_type": "execute_result"
    }
   ],
   "source": [
    "# 삼각함수\n",
    "theta = np.linspace(0,np.pi, 3)\n",
    "theta"
   ]
  },
  {
   "cell_type": "code",
   "execution_count": 41,
   "id": "4316418c",
   "metadata": {},
   "outputs": [
    {
     "data": {
      "text/plain": [
       "array([0.0000000e+00, 1.0000000e+00, 1.2246468e-16])"
      ]
     },
     "execution_count": 41,
     "metadata": {},
     "output_type": "execute_result"
    }
   ],
   "source": [
    "np.sin(theta)"
   ]
  },
  {
   "cell_type": "markdown",
   "id": "8e08c158",
   "metadata": {},
   "source": [
    "## 2.2 집계"
   ]
  },
  {
   "cell_type": "code",
   "execution_count": 42,
   "id": "c3ebcde9",
   "metadata": {},
   "outputs": [
    {
     "data": {
      "text/plain": [
       "array([0.69408673, 0.56772049, 0.27385059, ..., 0.20667889, 0.90759611,\n",
       "       0.71074269])"
      ]
     },
     "execution_count": 42,
     "metadata": {},
     "output_type": "execute_result"
    }
   ],
   "source": [
    "#numpy에 대해서 np연산이 훨씬 빠르다\n",
    "L = np.random.random(10000000)\n",
    "L"
   ]
  },
  {
   "cell_type": "code",
   "execution_count": 43,
   "id": "c6486d7a",
   "metadata": {},
   "outputs": [
    {
     "data": {
      "text/plain": [
       "4999778.758470686"
      ]
     },
     "execution_count": 43,
     "metadata": {},
     "output_type": "execute_result"
    }
   ],
   "source": [
    "np.sum(L)"
   ]
  },
  {
   "cell_type": "code",
   "execution_count": 44,
   "id": "2671f38f",
   "metadata": {},
   "outputs": [
    {
     "data": {
      "text/plain": [
       "1.6386829304604333e-07"
      ]
     },
     "execution_count": 44,
     "metadata": {},
     "output_type": "execute_result"
    }
   ],
   "source": [
    "np.min(L)"
   ]
  },
  {
   "cell_type": "code",
   "execution_count": 45,
   "id": "2ca3d46f",
   "metadata": {},
   "outputs": [
    {
     "data": {
      "text/html": [
       "<div>\n",
       "<style scoped>\n",
       "    .dataframe tbody tr th:only-of-type {\n",
       "        vertical-align: middle;\n",
       "    }\n",
       "\n",
       "    .dataframe tbody tr th {\n",
       "        vertical-align: top;\n",
       "    }\n",
       "\n",
       "    .dataframe thead th {\n",
       "        text-align: right;\n",
       "    }\n",
       "</style>\n",
       "<table border=\"1\" class=\"dataframe\">\n",
       "  <thead>\n",
       "    <tr style=\"text-align: right;\">\n",
       "      <th></th>\n",
       "      <th>order</th>\n",
       "      <th>name</th>\n",
       "      <th>height(cm)</th>\n",
       "    </tr>\n",
       "  </thead>\n",
       "  <tbody>\n",
       "    <tr>\n",
       "      <th>0</th>\n",
       "      <td>1</td>\n",
       "      <td>George Washington</td>\n",
       "      <td>189</td>\n",
       "    </tr>\n",
       "    <tr>\n",
       "      <th>1</th>\n",
       "      <td>2</td>\n",
       "      <td>John Adams</td>\n",
       "      <td>170</td>\n",
       "    </tr>\n",
       "    <tr>\n",
       "      <th>2</th>\n",
       "      <td>3</td>\n",
       "      <td>Thomas Jefferson</td>\n",
       "      <td>189</td>\n",
       "    </tr>\n",
       "    <tr>\n",
       "      <th>3</th>\n",
       "      <td>4</td>\n",
       "      <td>James Madison</td>\n",
       "      <td>163</td>\n",
       "    </tr>\n",
       "    <tr>\n",
       "      <th>4</th>\n",
       "      <td>5</td>\n",
       "      <td>James Monroe</td>\n",
       "      <td>183</td>\n",
       "    </tr>\n",
       "    <tr>\n",
       "      <th>5</th>\n",
       "      <td>6</td>\n",
       "      <td>John Quincy Adams</td>\n",
       "      <td>171</td>\n",
       "    </tr>\n",
       "    <tr>\n",
       "      <th>6</th>\n",
       "      <td>7</td>\n",
       "      <td>Andrew Jackson</td>\n",
       "      <td>185</td>\n",
       "    </tr>\n",
       "    <tr>\n",
       "      <th>7</th>\n",
       "      <td>8</td>\n",
       "      <td>Martin Van Buren</td>\n",
       "      <td>168</td>\n",
       "    </tr>\n",
       "    <tr>\n",
       "      <th>8</th>\n",
       "      <td>9</td>\n",
       "      <td>William Henry Harrison</td>\n",
       "      <td>173</td>\n",
       "    </tr>\n",
       "    <tr>\n",
       "      <th>9</th>\n",
       "      <td>10</td>\n",
       "      <td>John Tyler</td>\n",
       "      <td>183</td>\n",
       "    </tr>\n",
       "    <tr>\n",
       "      <th>10</th>\n",
       "      <td>11</td>\n",
       "      <td>James K. Polk</td>\n",
       "      <td>173</td>\n",
       "    </tr>\n",
       "    <tr>\n",
       "      <th>11</th>\n",
       "      <td>12</td>\n",
       "      <td>Zachary Taylor</td>\n",
       "      <td>173</td>\n",
       "    </tr>\n",
       "    <tr>\n",
       "      <th>12</th>\n",
       "      <td>13</td>\n",
       "      <td>Millard Fillmore</td>\n",
       "      <td>175</td>\n",
       "    </tr>\n",
       "    <tr>\n",
       "      <th>13</th>\n",
       "      <td>14</td>\n",
       "      <td>Franklin Pierce</td>\n",
       "      <td>178</td>\n",
       "    </tr>\n",
       "    <tr>\n",
       "      <th>14</th>\n",
       "      <td>15</td>\n",
       "      <td>James Buchanan</td>\n",
       "      <td>183</td>\n",
       "    </tr>\n",
       "    <tr>\n",
       "      <th>15</th>\n",
       "      <td>16</td>\n",
       "      <td>Abraham Lincoln</td>\n",
       "      <td>193</td>\n",
       "    </tr>\n",
       "    <tr>\n",
       "      <th>16</th>\n",
       "      <td>17</td>\n",
       "      <td>Andrew Johnson</td>\n",
       "      <td>178</td>\n",
       "    </tr>\n",
       "    <tr>\n",
       "      <th>17</th>\n",
       "      <td>18</td>\n",
       "      <td>Ulysses S. Grant</td>\n",
       "      <td>173</td>\n",
       "    </tr>\n",
       "    <tr>\n",
       "      <th>18</th>\n",
       "      <td>19</td>\n",
       "      <td>Rutherford B. Hayes</td>\n",
       "      <td>174</td>\n",
       "    </tr>\n",
       "    <tr>\n",
       "      <th>19</th>\n",
       "      <td>20</td>\n",
       "      <td>James A. Garfield</td>\n",
       "      <td>183</td>\n",
       "    </tr>\n",
       "    <tr>\n",
       "      <th>20</th>\n",
       "      <td>21</td>\n",
       "      <td>Chester A. Arthur</td>\n",
       "      <td>183</td>\n",
       "    </tr>\n",
       "    <tr>\n",
       "      <th>21</th>\n",
       "      <td>23</td>\n",
       "      <td>Benjamin Harrison</td>\n",
       "      <td>168</td>\n",
       "    </tr>\n",
       "    <tr>\n",
       "      <th>22</th>\n",
       "      <td>25</td>\n",
       "      <td>William McKinley</td>\n",
       "      <td>170</td>\n",
       "    </tr>\n",
       "    <tr>\n",
       "      <th>23</th>\n",
       "      <td>26</td>\n",
       "      <td>Theodore Roosevelt</td>\n",
       "      <td>178</td>\n",
       "    </tr>\n",
       "    <tr>\n",
       "      <th>24</th>\n",
       "      <td>27</td>\n",
       "      <td>William Howard Taft</td>\n",
       "      <td>182</td>\n",
       "    </tr>\n",
       "    <tr>\n",
       "      <th>25</th>\n",
       "      <td>28</td>\n",
       "      <td>Woodrow Wilson</td>\n",
       "      <td>180</td>\n",
       "    </tr>\n",
       "    <tr>\n",
       "      <th>26</th>\n",
       "      <td>29</td>\n",
       "      <td>Warren G. Harding</td>\n",
       "      <td>183</td>\n",
       "    </tr>\n",
       "    <tr>\n",
       "      <th>27</th>\n",
       "      <td>30</td>\n",
       "      <td>Calvin Coolidge</td>\n",
       "      <td>178</td>\n",
       "    </tr>\n",
       "    <tr>\n",
       "      <th>28</th>\n",
       "      <td>31</td>\n",
       "      <td>Herbert Hoover</td>\n",
       "      <td>182</td>\n",
       "    </tr>\n",
       "    <tr>\n",
       "      <th>29</th>\n",
       "      <td>32</td>\n",
       "      <td>Franklin D. Roosevelt</td>\n",
       "      <td>188</td>\n",
       "    </tr>\n",
       "    <tr>\n",
       "      <th>30</th>\n",
       "      <td>33</td>\n",
       "      <td>Harry S. Truman</td>\n",
       "      <td>175</td>\n",
       "    </tr>\n",
       "    <tr>\n",
       "      <th>31</th>\n",
       "      <td>34</td>\n",
       "      <td>Dwight D. Eisenhower</td>\n",
       "      <td>179</td>\n",
       "    </tr>\n",
       "    <tr>\n",
       "      <th>32</th>\n",
       "      <td>35</td>\n",
       "      <td>John F. Kennedy</td>\n",
       "      <td>183</td>\n",
       "    </tr>\n",
       "    <tr>\n",
       "      <th>33</th>\n",
       "      <td>36</td>\n",
       "      <td>Lyndon B. Johnson</td>\n",
       "      <td>193</td>\n",
       "    </tr>\n",
       "    <tr>\n",
       "      <th>34</th>\n",
       "      <td>37</td>\n",
       "      <td>Richard Nixon</td>\n",
       "      <td>182</td>\n",
       "    </tr>\n",
       "    <tr>\n",
       "      <th>35</th>\n",
       "      <td>38</td>\n",
       "      <td>Gerald Ford</td>\n",
       "      <td>183</td>\n",
       "    </tr>\n",
       "    <tr>\n",
       "      <th>36</th>\n",
       "      <td>39</td>\n",
       "      <td>Jimmy Carter</td>\n",
       "      <td>177</td>\n",
       "    </tr>\n",
       "    <tr>\n",
       "      <th>37</th>\n",
       "      <td>40</td>\n",
       "      <td>Ronald Reagan</td>\n",
       "      <td>185</td>\n",
       "    </tr>\n",
       "    <tr>\n",
       "      <th>38</th>\n",
       "      <td>41</td>\n",
       "      <td>George H. W. Bush</td>\n",
       "      <td>188</td>\n",
       "    </tr>\n",
       "    <tr>\n",
       "      <th>39</th>\n",
       "      <td>42</td>\n",
       "      <td>Bill Clinton</td>\n",
       "      <td>188</td>\n",
       "    </tr>\n",
       "    <tr>\n",
       "      <th>40</th>\n",
       "      <td>43</td>\n",
       "      <td>George W. Bush</td>\n",
       "      <td>182</td>\n",
       "    </tr>\n",
       "    <tr>\n",
       "      <th>41</th>\n",
       "      <td>44</td>\n",
       "      <td>Barack Obama</td>\n",
       "      <td>185</td>\n",
       "    </tr>\n",
       "  </tbody>\n",
       "</table>\n",
       "</div>"
      ],
      "text/plain": [
       "    order                    name  height(cm)\n",
       "0       1       George Washington         189\n",
       "1       2              John Adams         170\n",
       "2       3        Thomas Jefferson         189\n",
       "3       4           James Madison         163\n",
       "4       5            James Monroe         183\n",
       "5       6       John Quincy Adams         171\n",
       "6       7          Andrew Jackson         185\n",
       "7       8        Martin Van Buren         168\n",
       "8       9  William Henry Harrison         173\n",
       "9      10              John Tyler         183\n",
       "10     11           James K. Polk         173\n",
       "11     12          Zachary Taylor         173\n",
       "12     13        Millard Fillmore         175\n",
       "13     14         Franklin Pierce         178\n",
       "14     15          James Buchanan         183\n",
       "15     16         Abraham Lincoln         193\n",
       "16     17          Andrew Johnson         178\n",
       "17     18        Ulysses S. Grant         173\n",
       "18     19     Rutherford B. Hayes         174\n",
       "19     20       James A. Garfield         183\n",
       "20     21       Chester A. Arthur         183\n",
       "21     23       Benjamin Harrison         168\n",
       "22     25        William McKinley         170\n",
       "23     26      Theodore Roosevelt         178\n",
       "24     27     William Howard Taft         182\n",
       "25     28          Woodrow Wilson         180\n",
       "26     29       Warren G. Harding         183\n",
       "27     30         Calvin Coolidge         178\n",
       "28     31          Herbert Hoover         182\n",
       "29     32   Franklin D. Roosevelt         188\n",
       "30     33         Harry S. Truman         175\n",
       "31     34    Dwight D. Eisenhower         179\n",
       "32     35         John F. Kennedy         183\n",
       "33     36       Lyndon B. Johnson         193\n",
       "34     37           Richard Nixon         182\n",
       "35     38             Gerald Ford         183\n",
       "36     39            Jimmy Carter         177\n",
       "37     40           Ronald Reagan         185\n",
       "38     41       George H. W. Bush         188\n",
       "39     42            Bill Clinton         188\n",
       "40     43          George W. Bush         182\n",
       "41     44            Barack Obama         185"
      ]
     },
     "execution_count": 45,
     "metadata": {},
     "output_type": "execute_result"
    }
   ],
   "source": [
    "# 집계 예제\n",
    "import pandas as pd\n",
    "data = pd.read_csv('data/president_heights.csv')\n",
    "data"
   ]
  },
  {
   "cell_type": "code",
   "execution_count": 46,
   "id": "e37db9cc",
   "metadata": {},
   "outputs": [
    {
     "data": {
      "text/plain": [
       "array([189, 170, 189, 163, 183, 171, 185, 168, 173, 183, 173, 173, 175,\n",
       "       178, 183, 193, 178, 173, 174, 183, 183, 168, 170, 178, 182, 180,\n",
       "       183, 178, 182, 188, 175, 179, 183, 193, 182, 183, 177, 185, 188,\n",
       "       188, 182, 185])"
      ]
     },
     "execution_count": 46,
     "metadata": {},
     "output_type": "execute_result"
    }
   ],
   "source": [
    "heights = data['height(cm)']\n",
    "heights = heights.values\n",
    "heights"
   ]
  },
  {
   "cell_type": "code",
   "execution_count": 47,
   "id": "6bf6e4d4",
   "metadata": {},
   "outputs": [
    {
     "data": {
      "text/plain": [
       "179.73809523809524"
      ]
     },
     "execution_count": 47,
     "metadata": {},
     "output_type": "execute_result"
    }
   ],
   "source": [
    "heights.mean()"
   ]
  },
  {
   "cell_type": "code",
   "execution_count": 48,
   "id": "852aa628",
   "metadata": {},
   "outputs": [
    {
     "data": {
      "text/plain": [
       "174.25"
      ]
     },
     "execution_count": 48,
     "metadata": {},
     "output_type": "execute_result"
    }
   ],
   "source": [
    "#percentile\n",
    "np.percentile(heights, 25)"
   ]
  },
  {
   "cell_type": "code",
   "execution_count": 49,
   "id": "318b11c1",
   "metadata": {},
   "outputs": [
    {
     "data": {
      "text/plain": [
       "Text(0, 0.5, 'number')"
      ]
     },
     "execution_count": 49,
     "metadata": {},
     "output_type": "execute_result"
    },
    {
     "data": {
      "image/png": "[encoded data removed]",
      "text/plain": [
       "<Figure size 640x480 with 1 Axes>"
      ]
     },
     "metadata": {},
     "output_type": "display_data"
    }
   ],
   "source": [
    "#가시화\n",
    "import matplotlib.pyplot as plt\n",
    "import seaborn\n",
    "seaborn.set()\n",
    "\n",
    "plt.hist(heights)\n",
    "plt.title('Heights Distribution of US President')\n",
    "plt.xlabel('height (cm)')\n",
    "plt.ylabel('number')"
   ]
  },
  {
   "cell_type": "markdown",
   "id": "eb3391a8",
   "metadata": {},
   "source": [
    "## 2.3 부울연산"
   ]
  },
  {
   "cell_type": "code",
   "execution_count": 50,
   "id": "580c5dcf",
   "metadata": {},
   "outputs": [
    {
     "data": {
      "text/plain": [
       "365"
      ]
     },
     "execution_count": 50,
     "metadata": {},
     "output_type": "execute_result"
    }
   ],
   "source": [
    "len(pd.read_csv('data/Seattle2014.csv')['PRCP'].values)"
   ]
  },
  {
   "cell_type": "code",
   "execution_count": 51,
   "id": "e57592d0",
   "metadata": {},
   "outputs": [
    {
     "data": {
      "text/plain": [
       "array([  0,  41,  15,   0,   0,   3, 122,  97,  58,  43, 213,  15,   0,\n",
       "         0,   0,   0,   0,   0,   0,   0,   0,   5,   0,   0,   0,   0,\n",
       "         0,  89, 216,   0,  23,  20,   0,   0,   0,   0,   0,   0,  51,\n",
       "         5, 183, 170,  46,  18,  94, 117, 264, 145, 152,  10,  30,  28,\n",
       "        25,  61, 130,   3,   0,   0,   0,   5, 191, 107, 165, 467,  30,\n",
       "         0, 323,  43, 188,   0,   0,   5,  69,  81, 277,   3,   0,   5,\n",
       "         0,   0,   0,   0,   0,  41,  36,   3, 221, 140,   0,   0,   0,\n",
       "         0,  25,   0,  46,   0,   0,  46,   0,   0,   0,   0,   0,   0,\n",
       "         5, 109, 185,   0, 137,   0,  51, 142,  89, 124,   0,  33,  69,\n",
       "         0,   0,   0,   0,   0, 333, 160,  51,   0,   0, 137,  20,   5,\n",
       "         0,   0,   0,   0,   0,   0,   0,   0,   0,   0,   0,   0,  38,\n",
       "         0,  56,   0,   0,   0,   0,   0,   0,   0,   0,   0,   0,   0,\n",
       "         0,   0,   0,   0,   0,   0,  18,  64,   0,   5,  36,  13,   0,\n",
       "         8,   3,   0,   0,   0,   0,   0,   0,  18,  23,   0,   0,   0,\n",
       "         0,   0,   0,   0,   0,   0,   0,   0,   0,   0,   0,   0,   0,\n",
       "         0,   0,   0,   0,   0,   0,   0,   3, 193,   0,   0,   0,   0,\n",
       "         0,   0,   0,   0,   0,   5,   0,   0,   0,   0,   0,   0,   0,\n",
       "         0,   5, 127, 216,   0,  10,   0,   0,   0,   0,   0,   0,   0,\n",
       "         0,   0,   0,   0,   0,   0,   0,  84,  13,   0,  30,   0,   0,\n",
       "         0,   0,   0,   0,   0,   0,   0,   0,   0,   0,   0,   0,   5,\n",
       "         3,   0,   0,   0,   3, 183, 203,  43,  89,   0,   0,   8,   0,\n",
       "         0,   0,   0,   0,   0,   0,   0,   0,   0,   3,  74,   0,  76,\n",
       "        71,  86,   0,  33, 150,   0, 117,  10, 320,  94,  41,  61,  15,\n",
       "         8, 127,   5, 254, 170,   0,  18, 109,  41,  48,  41,   0,   0,\n",
       "        51,   0,   0,   0,   0,   0,   0,   0,   0,   0,   0,  36, 152,\n",
       "         5, 119,  13, 183,   3,  33, 343,  36,   0,   0,   0,   0,   8,\n",
       "        30,  74,   0,  91,  99, 130,  69,   0,   0,   0,   0,   0,  28,\n",
       "       130,  30, 196,   0,   0, 206,  53,   0,   0,  33,  41,   0,   0,\n",
       "         0])"
      ]
     },
     "execution_count": 51,
     "metadata": {},
     "output_type": "execute_result"
    }
   ],
   "source": [
    "rainfall = pd.read_csv('data/Seattle2014.csv')['PRCP'].values\n",
    "rainfall"
   ]
  },
  {
   "cell_type": "code",
   "execution_count": 52,
   "id": "f6c1858c",
   "metadata": {},
   "outputs": [
    {
     "data": {
      "text/plain": [
       "(365,)"
      ]
     },
     "execution_count": 52,
     "metadata": {},
     "output_type": "execute_result"
    }
   ],
   "source": [
    "inches = rainfall/254\n",
    "inches.shape"
   ]
  },
  {
   "cell_type": "code",
   "execution_count": 53,
   "id": "1def4f30",
   "metadata": {},
   "outputs": [
    {
     "data": {
      "text/plain": [
       "0.011811023622047244"
      ]
     },
     "execution_count": 53,
     "metadata": {},
     "output_type": "execute_result"
    }
   ],
   "source": [
    "index = (inches>0)&(inches<0.2)\n",
    "np.min(inches[index])"
   ]
  },
  {
   "cell_type": "code",
   "execution_count": 54,
   "id": "2304254a",
   "metadata": {},
   "outputs": [
    {
     "name": "stdout",
     "output_type": "stream",
     "text": [
      "Number days without rain 215\n"
     ]
    }
   ],
   "source": [
    "#부울연산자 활용\n",
    "print('Number days without rain', np.sum(inches==0))"
   ]
  },
  {
   "cell_type": "code",
   "execution_count": 55,
   "id": "6874c65e",
   "metadata": {},
   "outputs": [
    {
     "name": "stdout",
     "output_type": "stream",
     "text": [
      "number days with day 150\n",
      "Days with more than 0.5 inches 37\n",
      "Rainy days with < 0.1 inches 75\n"
     ]
    }
   ],
   "source": [
    "print('number days with day', np.sum(inches>0))\n",
    "print('Days with more than 0.5 inches', np.sum(inches>0.5))\n",
    "print('Rainy days with < 0.1 inches', np.sum((inches>0) & (inches <0.2)))"
   ]
  },
  {
   "cell_type": "code",
   "execution_count": 56,
   "id": "90013655",
   "metadata": {},
   "outputs": [
    {
     "name": "stdout",
     "output_type": "stream",
     "text": [
      "0.19488188976377951\n",
      "0.0\n",
      "0.8503937007874016\n",
      "0.20078740157480315\n"
     ]
    }
   ],
   "source": [
    "#마스킹 연산\n",
    "#부울 배열을 마스크로 사용해 데이터의 특정 부분집합을 선택한다.\n",
    "rainy = (inches > 0)\n",
    "summer = (np.arange(365) - 172 <90) & (np.arange(365) - 172 >0)\n",
    "print(np.median(inches[rainy]))\n",
    "print(np.median(inches[summer]))\n",
    "print(np.max(inches[summer]))\n",
    "print(np.median(inches[rainy & ~summer]))"
   ]
  },
  {
   "cell_type": "markdown",
   "id": "398d7720",
   "metadata": {},
   "source": [
    "## 2.4 정렬"
   ]
  },
  {
   "cell_type": "code",
   "execution_count": 57,
   "id": "e7a2058c",
   "metadata": {},
   "outputs": [],
   "source": [
    "import numpy as np"
   ]
  },
  {
   "cell_type": "code",
   "execution_count": 58,
   "id": "c6f51d62",
   "metadata": {},
   "outputs": [
    {
     "data": {
      "text/plain": [
       "array([3, 2, 3, 4, 1, 2])"
      ]
     },
     "execution_count": 58,
     "metadata": {},
     "output_type": "execute_result"
    }
   ],
   "source": [
    "x = np.array([3,2,3,4,1,2])\n",
    "x"
   ]
  },
  {
   "cell_type": "code",
   "execution_count": 59,
   "id": "b29657d0",
   "metadata": {},
   "outputs": [
    {
     "name": "stdout",
     "output_type": "stream",
     "text": [
      "[1 2 2 3 3 4]\n"
     ]
    }
   ],
   "source": [
    "print(np.sort(x))"
   ]
  },
  {
   "cell_type": "code",
   "execution_count": 60,
   "id": "2cb41815",
   "metadata": {},
   "outputs": [
    {
     "name": "stdout",
     "output_type": "stream",
     "text": [
      "[3 2 3 4 1 2]\n",
      "[4 1 5 0 2 3]\n",
      "[1 2 2]\n"
     ]
    }
   ],
   "source": [
    " #인덱스를 반환하고자 하는 경우\n",
    "x = np.array([3,2,3,4,1,2])\n",
    "i = np.argsort(x)\n",
    "print(x)\n",
    "print(i)\n",
    "print(x[i[:3]])"
   ]
  },
  {
   "cell_type": "markdown",
   "id": "8942edbb",
   "metadata": {},
   "source": [
    "## 2.5 구조화된 배열"
   ]
  },
  {
   "cell_type": "code",
   "execution_count": 61,
   "id": "6c293d95",
   "metadata": {},
   "outputs": [
    {
     "data": {
      "text/plain": [
       "array([('', 0, 0.), ('', 0, 0.), ('', 0, 0.), ('', 0, 0.)],\n",
       "      dtype=[('name', '<U10'), ('age', '<i4'), ('weight', '<f8')])"
      ]
     },
     "execution_count": 61,
     "metadata": {},
     "output_type": "execute_result"
    }
   ],
   "source": [
    "name = ['Alice', 'Bob', 'Cathy', 'Doug']\n",
    "age=[25,45,37,19]\n",
    "weight =[55.0, 85.5, 68.0, 61.5]\n",
    "\n",
    "# 구조화된 데이터 타입 만들기\n",
    "data=np.zeros(4,dtype={'names':('name','age','weight'),'formats':('U10','i4','f8')})\n",
    "data"
   ]
  },
  {
   "cell_type": "code",
   "execution_count": 62,
   "id": "8ff0199c",
   "metadata": {},
   "outputs": [
    {
     "data": {
      "text/plain": [
       "array([('Alice', 25, 55. ), ('Bob', 45, 85.5), ('Cathy', 37, 68. ),\n",
       "       ('Doug', 19, 61.5)],\n",
       "      dtype=[('name', '<U10'), ('age', '<i4'), ('weight', '<f8')])"
      ]
     },
     "execution_count": 62,
     "metadata": {},
     "output_type": "execute_result"
    }
   ],
   "source": [
    "data['name']=name\n",
    "data['age']=age\n",
    "data['weight']=weight\n",
    "data"
   ]
  },
  {
   "cell_type": "code",
   "execution_count": 63,
   "id": "24e0d158",
   "metadata": {},
   "outputs": [
    {
     "data": {
      "text/plain": [
       "array(['Alice', 'Bob', 'Cathy', 'Doug'], dtype='<U10')"
      ]
     },
     "execution_count": 63,
     "metadata": {},
     "output_type": "execute_result"
    }
   ],
   "source": [
    "# 값을 인덱스나 이름으로 참조하기\n",
    "data['name']"
   ]
  },
  {
   "cell_type": "code",
   "execution_count": 64,
   "id": "e932bbfd",
   "metadata": {},
   "outputs": [
    {
     "data": {
      "text/plain": [
       "('Alice', 25, 55.)"
      ]
     },
     "execution_count": 64,
     "metadata": {},
     "output_type": "execute_result"
    }
   ],
   "source": [
    "data[0]"
   ]
  },
  {
   "cell_type": "code",
   "execution_count": 65,
   "id": "c8eb008a",
   "metadata": {},
   "outputs": [
    {
     "data": {
      "text/plain": [
       "array(['Bob', 'Cathy'], dtype='<U10')"
      ]
     },
     "execution_count": 65,
     "metadata": {},
     "output_type": "execute_result"
    }
   ],
   "source": [
    "data[data['age']>30]['name']"
   ]
  },
  {
   "cell_type": "code",
   "execution_count": 66,
   "id": "72f11bd5",
   "metadata": {},
   "outputs": [
    {
     "data": {
      "text/plain": [
       "array(['Alice', 'Doug'], dtype='<U10')"
      ]
     },
     "execution_count": 66,
     "metadata": {},
     "output_type": "execute_result"
    }
   ],
   "source": [
    "data[data['age']<30]['name']"
   ]
  },
  {
   "cell_type": "code",
   "execution_count": 67,
   "id": "eb71c904",
   "metadata": {},
   "outputs": [
    {
     "ename": "AttributeError",
     "evalue": "'numpy.ndarray' object has no attribute 'age'",
     "output_type": "error",
     "traceback": [
      "\u001b[0;31m---------------------------------------------------------------------------\u001b[0m",
      "\u001b[0;31mAttributeError\u001b[0m                            Traceback (most recent call last)",
      "Cell \u001b[0;32mIn[67], line 2\u001b[0m\n\u001b[1;32m      1\u001b[0m \u001b[38;5;66;03m# 안된다\u001b[39;00m\n\u001b[0;32m----> 2\u001b[0m \u001b[43mdata\u001b[49m\u001b[38;5;241;43m.\u001b[39;49m\u001b[43mage\u001b[49m\n",
      "\u001b[0;31mAttributeError\u001b[0m: 'numpy.ndarray' object has no attribute 'age'"
     ]
    }
   ],
   "source": [
    "# 안된다\n",
    "data.age"
   ]
  },
  {
   "cell_type": "code",
   "execution_count": 69,
   "id": "eae922f3",
   "metadata": {},
   "outputs": [
    {
     "data": {
      "text/plain": [
       "array([25, 45, 37, 19], dtype=int32)"
      ]
     },
     "execution_count": 69,
     "metadata": {},
     "output_type": "execute_result"
    }
   ],
   "source": [
    "# 된다\n",
    "data_rec = data.view(np.recarray)\n",
    "data_rec.age"
   ]
  },
  {
   "cell_type": "code",
   "execution_count": null,
   "id": "3de05a79",
   "metadata": {},
   "outputs": [],
   "source": []
  }
 ],
 "metadata": {
  "kernelspec": {
   "display_name": "Python 3 (ipykernel)",
   "language": "python",
   "name": "python3"
  },
  "language_info": {
   "codemirror_mode": {
    "name": "ipython",
    "version": 3
   },
   "file_extension": ".py",
   "mimetype": "text/x-python",
   "name": "python",
   "nbconvert_exporter": "python",
   "pygments_lexer": "ipython3",
   "version": "3.10.8"
  }
 },
 "nbformat": 4,
 "nbformat_minor": 5
}
