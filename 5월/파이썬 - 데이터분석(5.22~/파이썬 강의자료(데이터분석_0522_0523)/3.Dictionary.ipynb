{
 "cells": [
  {
   "cell_type": "markdown",
   "id": "d1aeae2f",
   "metadata": {},
   "source": [
    "# Dictionary\n",
    "\n",
    "Key, value 매핑 구조를 갖는 자료형.\n",
    "\n",
    "가장 큰 장점은 key에 대한 value를 바로 가져온다는 것이다. List나 Tuple은 해당 값을 찾기 위해 일반적으로 순회를 한다.\n",
    "Dictionary의 key는 중복을 허용하지 않는다. 주의하기 바람."
   ]
  },
  {
   "cell_type": "markdown",
   "id": "28978cbf",
   "metadata": {},
   "source": [
    "## 1. Dictionary 생성"
   ]
  },
  {
   "cell_type": "code",
   "execution_count": 1,
   "id": "9f0be0a5",
   "metadata": {},
   "outputs": [],
   "source": [
    "a = {'name':'kkw', 'phone':'010-0000-1111'}\n",
    "b = {'a':[1,2,3]}"
   ]
  },
  {
   "cell_type": "code",
   "execution_count": 2,
   "id": "bef1e729",
   "metadata": {},
   "outputs": [],
   "source": [
    "#빈 Dictionary 만들기\n",
    "\n",
    "x = dict()"
   ]
  },
  {
   "cell_type": "markdown",
   "id": "14b10a04",
   "metadata": {},
   "source": [
    "## 2. Dictionary 검색"
   ]
  },
  {
   "cell_type": "code",
   "execution_count": 3,
   "id": "f69a6959",
   "metadata": {},
   "outputs": [
    {
     "data": {
      "text/plain": [
       "10"
      ]
     },
     "execution_count": 3,
     "metadata": {},
     "output_type": "execute_result"
    }
   ],
   "source": [
    "grade = {'kkw': 10, 'bbb': 99}\n",
    "grade['kkw']"
   ]
  },
  {
   "cell_type": "code",
   "execution_count": 4,
   "id": "a3ba7b3a",
   "metadata": {},
   "outputs": [
    {
     "data": {
      "text/plain": [
       "99"
      ]
     },
     "execution_count": 4,
     "metadata": {},
     "output_type": "execute_result"
    }
   ],
   "source": [
    "grade['bbb']"
   ]
  },
  {
   "cell_type": "markdown",
   "id": "636b88e0",
   "metadata": {},
   "source": [
    "## 3. Dictionary 조작"
   ]
  },
  {
   "cell_type": "code",
   "execution_count": 5,
   "id": "f60ccb09",
   "metadata": {},
   "outputs": [
    {
     "data": {
      "text/plain": [
       "{1: 'a', 3: 'c'}"
      ]
     },
     "execution_count": 5,
     "metadata": {},
     "output_type": "execute_result"
    }
   ],
   "source": [
    "#Dictionary에 key-value 추가하기\n",
    "a = {1: 'a', 3:'b'}\n",
    "a[3] = 'c'\n",
    "a"
   ]
  },
  {
   "cell_type": "code",
   "execution_count": 6,
   "id": "2652cc57",
   "metadata": {},
   "outputs": [
    {
     "data": {
      "text/plain": [
       "{1: 'a', 2: 'b'}"
      ]
     },
     "execution_count": 6,
     "metadata": {},
     "output_type": "execute_result"
    }
   ],
   "source": [
    "# Dictionary 요소 삭제\n",
    "a = {1:'a', 2:'b', 3:['a','b','c']}\n",
    "del a[3]\n",
    "a"
   ]
  },
  {
   "cell_type": "markdown",
   "id": "2a821ab9",
   "metadata": {},
   "source": [
    "## 4. Dictionary 순회"
   ]
  },
  {
   "cell_type": "code",
   "execution_count": 7,
   "id": "8fe80d85",
   "metadata": {},
   "outputs": [
    {
     "name": "stdout",
     "output_type": "stream",
     "text": [
      "a b c d "
     ]
    }
   ],
   "source": [
    "# (1) key만 순회하거나 (2) value만 순회하거나 (3)key-value 동시 순회\n",
    "\n",
    "# key 만 순회하기\n",
    "x = {'a':10, 'b':20, 'c': 30, 'd':40}\n",
    "for i in x.keys():\n",
    "    print(i, end=' ')"
   ]
  },
  {
   "cell_type": "code",
   "execution_count": 8,
   "id": "f2146da9",
   "metadata": {},
   "outputs": [
    {
     "name": "stdout",
     "output_type": "stream",
     "text": [
      "10 20 30 40 "
     ]
    }
   ],
   "source": [
    "# value만 순회하기\n",
    "x = {'a':10, 'b':20, 'c': 30, 'd':40}\n",
    "for i in x.values():\n",
    "    print(i, end=' ')"
   ]
  },
  {
   "cell_type": "code",
   "execution_count": 9,
   "id": "91b429a0",
   "metadata": {},
   "outputs": [],
   "source": [
    "# key-value 한번에 순회하기\n",
    "x = {'김':[10,60,170], '이':[20,60,180], '박': [30,50,150], '최':[40,60,176]}"
   ]
  },
  {
   "cell_type": "code",
   "execution_count": 10,
   "id": "48cc2855",
   "metadata": {},
   "outputs": [
    {
     "name": "stdout",
     "output_type": "stream",
     "text": [
      "이름: 김 나이: 10 몸무게: 60 키: 170\n",
      "이름: 이 나이: 20 몸무게: 60 키: 180\n",
      "이름: 박 나이: 30 몸무게: 50 키: 150\n",
      "이름: 최 나이: 40 몸무게: 60 키: 176\n"
     ]
    }
   ],
   "source": [
    "for key, value in x.items():\n",
    "    print(\"이름:\", key, \"나이:\",value[0], \"몸무게:\", value[1], \"키:\", value[2])"
   ]
  },
  {
   "cell_type": "code",
   "execution_count": 11,
   "id": "72f7c96a",
   "metadata": {},
   "outputs": [
    {
     "name": "stdout",
     "output_type": "stream",
     "text": [
      "김\n",
      "이\n",
      "박\n",
      "최\n"
     ]
    }
   ],
   "source": [
    "for key, value in x.items():\n",
    "    print(key)"
   ]
  }
 ],
 "metadata": {
  "kernelspec": {
   "display_name": "Python 3 (ipykernel)",
   "language": "python",
   "name": "python3"
  },
  "language_info": {
   "codemirror_mode": {
    "name": "ipython",
    "version": 3
   },
   "file_extension": ".py",
   "mimetype": "text/x-python",
   "name": "python",
   "nbconvert_exporter": "python",
   "pygments_lexer": "ipython3",
   "version": "3.10.8"
  }
 },
 "nbformat": 4,
 "nbformat_minor": 5
}
