{
 "cells": [
  {
   "cell_type": "markdown",
   "id": "4ddfc6a1",
   "metadata": {},
   "source": [
    "# 리스트 자료형\n",
    "리스트는 파이썬에서 자주 사용하는 자료형이다. 여러개의 자료들을 담아놓는 배열 형태이며, 요소를 추가, 변경, 제거하는 것이 용이하다."
   ]
  },
  {
   "cell_type": "markdown",
   "id": "96dbb211",
   "metadata": {},
   "source": [
    "## 1. 리스트 생성"
   ]
  },
  {
   "cell_type": "code",
   "execution_count": 1,
   "id": "4d0d8207",
   "metadata": {},
   "outputs": [],
   "source": [
    "a = []\n",
    "b = [1,2,3]\n",
    "c = ['Life', 'is', 'too', 'short']\n",
    "\n",
    "# 빈 리스트 생성은 다음과 같이 할수도 있다.\n",
    "\n",
    "a = list()"
   ]
  },
  {
   "cell_type": "markdown",
   "id": "539e7cff",
   "metadata": {},
   "source": [
    "## 2. 리스트 인덱스\n",
    "리스트의 값은 인덱스를 통해 접근이 가능하다"
   ]
  },
  {
   "cell_type": "code",
   "execution_count": 2,
   "id": "1503d126",
   "metadata": {},
   "outputs": [
    {
     "data": {
      "text/plain": [
       "2"
      ]
     },
     "execution_count": 2,
     "metadata": {},
     "output_type": "execute_result"
    }
   ],
   "source": [
    "a = [1,2,3]\n",
    "a[1]\n",
    "#a[0] 의 값은? a[1] 의 값은?"
   ]
  },
  {
   "cell_type": "code",
   "execution_count": 3,
   "id": "5512186d",
   "metadata": {},
   "outputs": [
    {
     "data": {
      "text/plain": [
       "1"
      ]
     },
     "execution_count": 3,
     "metadata": {},
     "output_type": "execute_result"
    }
   ],
   "source": [
    "#중첩리스트의 인덱싱\n",
    "\n",
    "a = [[0,1,2],\n",
    "     [3,4,5],\n",
    "     [6,7,8]]\n",
    "\n",
    "a[0][1]\n",
    "# a[0][0] 의 값은 얼마인가?"
   ]
  },
  {
   "cell_type": "code",
   "execution_count": 4,
   "id": "beaf16d0",
   "metadata": {},
   "outputs": [
    {
     "name": "stdout",
     "output_type": "stream",
     "text": [
      "0\n",
      "1\n",
      "2\n",
      "3\n",
      "4\n",
      "5\n",
      "6\n",
      "7\n",
      "8\n"
     ]
    }
   ],
   "source": [
    "for i in range(3):\n",
    "    for j in range(3):\n",
    "        print(a[i][j])"
   ]
  },
  {
   "cell_type": "markdown",
   "id": "934cba76",
   "metadata": {},
   "source": [
    "## 3. 리스트 슬라이싱\n",
    "\n",
    "리스트 슬라이싱은 리스트의 일정구간을 잘라서 가져온다."
   ]
  },
  {
   "cell_type": "code",
   "execution_count": 5,
   "id": "7b6df049",
   "metadata": {},
   "outputs": [
    {
     "name": "stdout",
     "output_type": "stream",
     "text": [
      "1\n",
      "2\n",
      "3\n",
      "4\n",
      "5\n"
     ]
    }
   ],
   "source": [
    "a = [1,2,3,4,5]\n",
    "for item in a[:]:\n",
    "    print(item)\n",
    "#a[0:5]는?"
   ]
  },
  {
   "cell_type": "markdown",
   "id": "777190d9",
   "metadata": {},
   "source": [
    "## 4. 리스트 순회"
   ]
  },
  {
   "cell_type": "code",
   "execution_count": 6,
   "id": "59a53ae5",
   "metadata": {},
   "outputs": [
    {
     "name": "stdout",
     "output_type": "stream",
     "text": [
      "apple\n",
      "kiwi\n",
      "banana\n",
      "blueberry\n"
     ]
    }
   ],
   "source": [
    "fruits = ['apple', 'kiwi', 'banana', 'blueberry']\n",
    "\n",
    "for fruit in fruits:\n",
    "    print(fruit)"
   ]
  },
  {
   "cell_type": "markdown",
   "id": "93af91c2",
   "metadata": {},
   "source": [
    "## 5. 리스트 조작"
   ]
  },
  {
   "cell_type": "code",
   "execution_count": 7,
   "id": "b2ec4320",
   "metadata": {},
   "outputs": [
    {
     "data": {
      "text/plain": [
       "[1, 2, 3, 4, 5]"
      ]
     },
     "execution_count": 7,
     "metadata": {},
     "output_type": "execute_result"
    }
   ],
   "source": [
    "#리스트 요소 수정\n",
    "a = [1,2,3,4,5]\n",
    "a"
   ]
  },
  {
   "cell_type": "code",
   "execution_count": 8,
   "id": "df8df669",
   "metadata": {},
   "outputs": [],
   "source": [
    "a[2] = a[2]*10"
   ]
  },
  {
   "cell_type": "code",
   "execution_count": 9,
   "id": "fa077e9f",
   "metadata": {},
   "outputs": [
    {
     "data": {
      "text/plain": [
       "[1, 2, 30, 4, 5]"
      ]
     },
     "execution_count": 9,
     "metadata": {},
     "output_type": "execute_result"
    }
   ],
   "source": [
    "a"
   ]
  },
  {
   "cell_type": "code",
   "execution_count": 10,
   "id": "490872a3",
   "metadata": {},
   "outputs": [
    {
     "data": {
      "text/plain": [
       "[1, 3, 4, 5]"
      ]
     },
     "execution_count": 10,
     "metadata": {},
     "output_type": "execute_result"
    }
   ],
   "source": [
    "# 리스트 요소 삭제\n",
    "a = [1,2,3,4,5]\n",
    "del a[1]\n",
    "a"
   ]
  },
  {
   "cell_type": "code",
   "execution_count": 11,
   "id": "495cf4d8",
   "metadata": {},
   "outputs": [
    {
     "data": {
      "text/plain": [
       "[1, 2, 3, 4, 5, 6]"
      ]
     },
     "execution_count": 11,
     "metadata": {},
     "output_type": "execute_result"
    }
   ],
   "source": [
    "# 리스트 요소 추가\n",
    "a = [1,2,3,4,5]\n",
    "a.append(6)\n",
    "a"
   ]
  },
  {
   "cell_type": "code",
   "execution_count": 12,
   "id": "2f315c30",
   "metadata": {},
   "outputs": [
    {
     "data": {
      "text/plain": [
       "[1, 2, 3, 4, 5, 6, 7]"
      ]
     },
     "execution_count": 12,
     "metadata": {},
     "output_type": "execute_result"
    }
   ],
   "source": [
    "a = [1,2,3,4,5]\n",
    "b =[6,7]\n",
    "a.extend(b)\n",
    "a"
   ]
  },
  {
   "cell_type": "code",
   "execution_count": 13,
   "id": "43b82107",
   "metadata": {},
   "outputs": [
    {
     "data": {
      "text/plain": [
       "[1, 2, 3, 4]"
      ]
     },
     "execution_count": 13,
     "metadata": {},
     "output_type": "execute_result"
    }
   ],
   "source": [
    "# 리스트 정렬\n",
    "a = [1,4,3,2]\n",
    "a.sort()\n",
    "a"
   ]
  },
  {
   "cell_type": "code",
   "execution_count": 14,
   "id": "33105dc3",
   "metadata": {},
   "outputs": [
    {
     "data": {
      "text/plain": [
       "[1, 2, 3, 4, 5]"
      ]
     },
     "execution_count": 14,
     "metadata": {},
     "output_type": "execute_result"
    }
   ],
   "source": [
    "# 리스트 추가\n",
    "\n",
    "a = [1,2,3]\n",
    "b = [4,5]\n",
    "a.extend(b)\n",
    "a"
   ]
  },
  {
   "cell_type": "code",
   "execution_count": 15,
   "id": "ab52d31f",
   "metadata": {},
   "outputs": [
    {
     "data": {
      "text/plain": [
       "[1, 2, 3, 4, 5, [4, 5]]"
      ]
     },
     "execution_count": 15,
     "metadata": {},
     "output_type": "execute_result"
    }
   ],
   "source": [
    "#리스트 추가2\n",
    "a.append(b)\n",
    "a"
   ]
  },
  {
   "cell_type": "markdown",
   "id": "c41b4eef",
   "metadata": {},
   "source": [
    "## 6. 리스트 연산"
   ]
  },
  {
   "cell_type": "code",
   "execution_count": 16,
   "id": "9b1987d2",
   "metadata": {},
   "outputs": [
    {
     "data": {
      "text/plain": [
       "[1, 2, 3, 'test', 'aaa']"
      ]
     },
     "execution_count": 16,
     "metadata": {},
     "output_type": "execute_result"
    }
   ],
   "source": [
    "#리스트 요소 존재 여부 확인\n",
    "a = [1,2,3,\"test\",\"aaa\"]\n",
    "a"
   ]
  },
  {
   "cell_type": "code",
   "execution_count": 17,
   "id": "7639f906",
   "metadata": {},
   "outputs": [],
   "source": [
    "def findstrinlist(findstr):\n",
    "    check=findstr in a\n",
    "    if check:\n",
    "        print(f\"{findstr}가 있습니다.\")\n",
    "    else:\n",
    "        print(f\"{findstr}가 없습니다.\")"
   ]
  },
  {
   "cell_type": "code",
   "execution_count": 18,
   "id": "d7d70265",
   "metadata": {},
   "outputs": [
    {
     "data": {
      "text/plain": [
       "'박'"
      ]
     },
     "execution_count": 18,
     "metadata": {},
     "output_type": "execute_result"
    }
   ],
   "source": [
    "# 리스트 요소 위치 찾기\n",
    "tel = [1,2,3]\n",
    "name =[\"김\",\"이\",\"박\"]\n",
    "position=a.index(3)\n",
    "name[position]"
   ]
  }
 ],
 "metadata": {
  "kernelspec": {
   "display_name": "Python 3 (ipykernel)",
   "language": "python",
   "name": "python3"
  },
  "language_info": {
   "codemirror_mode": {
    "name": "ipython",
    "version": 3
   },
   "file_extension": ".py",
   "mimetype": "text/x-python",
   "name": "python",
   "nbconvert_exporter": "python",
   "pygments_lexer": "ipython3",
   "version": "3.10.8"
  }
 },
 "nbformat": 4,
 "nbformat_minor": 5
}
