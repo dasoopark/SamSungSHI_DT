{
  "nbformat": 4,
  "nbformat_minor": 0,
  "metadata": {
    "colab": {
      "private_outputs": true,
      "provenance": [],
      "gpuType": "T4"
    },
    "kernelspec": {
      "name": "python3",
      "display_name": "Python 3"
    },
    "language_info": {
      "name": "python"
    },
    "gpuClass": "standard",
    "accelerator": "GPU"
  },
  "cells": [
    {
      "cell_type": "code",
      "execution_count": null,
      "metadata": {
        "id": "7LrRLap2ljuI"
      },
      "outputs": [],
      "source": [
        "# 1. 다음 리스트에서 두번째로 큰 숫자를 찾으시오 (sort를 쓰지마세요)\n",
        "arr = [3,2,5,4,3,21]\n",
        "maxnum = max(arr)\n",
        "print(maxnum) #첫번째로 큰 값\n",
        "arr.remove(maxnum)\n",
        "maxsec = max(arr)\n",
        "print(maxsec) #두번째로 큰 값"
      ]
    },
    {
      "cell_type": "code",
      "source": [
        "# 2. 다음 배열은 튜플을 엘리먼트로 갖는 리스트이다. 각 튜플의 최대값의 평균을 구하시오 \n",
        "arr =[(11,2), (3,41), (52,6), (4.7,8), (10,1.1)]\n",
        "max_arr = [max(t) for t in arr]\n",
        "print(max_arr) #최대값 리스트\n",
        "max_aver = sum(max_arr) / len(max_arr)\n",
        "print(max_aver) "
      ],
      "metadata": {
        "id": "zv-dVb8PoC9w"
      },
      "execution_count": null,
      "outputs": []
    },
    {
      "cell_type": "code",
      "source": [
        "#3. 다음 리스트의 각각의 수에 대한 빈도수를 dictionary로 만들어 보세요\n",
        "arr = [1,1,1,2,2,2,3,3,4,6,6,9,9,1,2,4,5,3,4,5,3,2,3,45,3,4,3,88,88,88,7,6,5,3]\n",
        "# 결과가 다음가 같이 나오면 됨\n",
        "# {1: 4, 2: 5, 3: 8, 4: 4, 5: 3, 6: 3, 7: 1, 9: 2, 45: 1, 88: 3}\n",
        "\n",
        "arr_dict = {}\n",
        "for i in arr:\n",
        "  if i in arr_dict:\n",
        "    arr_dict[i]+=1\n",
        "  else:\n",
        "    arr_dict[i]=1\n",
        "print(arr_dict)"
      ],
      "metadata": {
        "id": "4kx0kO8amBBH"
      },
      "execution_count": null,
      "outputs": []
    },
    {
      "cell_type": "code",
      "source": [],
      "metadata": {
        "id": "NEoDyZ_00UVm"
      },
      "execution_count": null,
      "outputs": []
    },
    {
      "cell_type": "code",
      "source": [
        "#4.다음 리스트를 이용하여 4*3 행렬을 만들고 5보다 크면 10을, 5보다 작거나 같으면 -10을 곱한 값이 되도록 만드시오\n",
        "import numpy as np\n",
        "arr= [1,2,3,4,5,6,7,8,9,10,11,12]\n",
        "result =[]\n",
        "nparr = np.array(arr).reshape(4,3)\n",
        "\n",
        "result = 10*nparr*(nparr>5) -10*nparr*(nparr<=5)\n",
        "print(result)"
      ],
      "metadata": {
        "id": "jyC-3JjLmJYB"
      },
      "execution_count": null,
      "outputs": []
    },
    {
      "cell_type": "code",
      "source": [
        "#5. 위에서 만든 행렬에서 절대값이 30이하면 0으로 변화하시오\n",
        "# 힌트: 절대값은 np.abs() 함수를 활용할 것\n",
        "print(result)\n",
        "abs_result = np.abs(result)<=30\n"
      ],
      "metadata": {
        "id": "fHmdjZlUuiR4"
      },
      "execution_count": null,
      "outputs": []
    },
    {
      "cell_type": "code",
      "source": [
        "#6. 위에서 만든 행렬의 두번째 열에 2를 곱하시오"
      ],
      "metadata": {
        "id": "joi-_uI7xCvP"
      },
      "execution_count": null,
      "outputs": []
    },
    {
      "cell_type": "code",
      "source": [
        "#7. 위에서 만든 행렬의 모든 각 행별 합계를 구하시오"
      ],
      "metadata": {
        "id": "cHNPmeYTx2v4"
      },
      "execution_count": null,
      "outputs": []
    },
    {
      "cell_type": "code",
      "source": [
        "#8. 위에서 만든 행렬의 각 열별 합계를 구하시오\n",
        "#힌트:arr.T는 arr을 옆으로 뒤집은 행렬임"
      ],
      "metadata": {
        "id": "TSvCxxWcybqA"
      },
      "execution_count": null,
      "outputs": []
    },
    {
      "cell_type": "code",
      "source": [
        "#9. 다음행렬에서 각 행의 평균으로 벗어난 정도를 나타내는 행렬을 만드시오\n",
        "arr = np.array([[1,2,3],[4,5,6],[7,8,9]])"
      ],
      "metadata": {
        "id": "BySa4vVwz4Ml"
      },
      "execution_count": null,
      "outputs": []
    },
    {
      "cell_type": "code",
      "source": [
        "#10. 다음행렬에서 각 열의 평균으로 벗어난 정도를 나타내는 행렬을 만드시오\n",
        "arr = np.array([[1,2,3],[4,5,6],[7,8,9]])"
      ],
      "metadata": {
        "id": "-7TlHoGZ1dFA"
      },
      "execution_count": null,
      "outputs": []
    }
  ]
}